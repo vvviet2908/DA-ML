{
  "nbformat": 4,
  "nbformat_minor": 0,
  "metadata": {
    "kernelspec": {
      "display_name": "Python 3",
      "language": "python",
      "name": "python3"
    },
    "language_info": {
      "codemirror_mode": {
        "name": "ipython",
        "version": 3
      },
      "file_extension": ".py",
      "mimetype": "text/x-python",
      "name": "python",
      "nbconvert_exporter": "python",
      "pygments_lexer": "ipython3",
      "version": "3.6.3"
    },
    "colab": {
      "name": "Real_Estate.ipynb",
      "provenance": [],
      "collapsed_sections": [
        "oX57rYucwpdE"
      ],
      "include_colab_link": true
    }
  },
  "cells": [
    {
      "cell_type": "markdown",
      "metadata": {
        "id": "view-in-github",
        "colab_type": "text"
      },
      "source": [
        "<a href=\"https://colab.research.google.com/github/vvviet2908/EDA/blob/main/Real_Estate.ipynb\" target=\"_parent\"><img src=\"https://colab.research.google.com/assets/colab-badge.svg\" alt=\"Open In Colab\"/></a>"
      ]
    },
    {
      "cell_type": "markdown",
      "metadata": {
        "id": "A_Tierx6ilwN"
      },
      "source": [
        "### Name: Võ Văn Việt\n",
        "\n",
        "## ID: ITDSIU18043"
      ]
    },
    {
      "cell_type": "markdown",
      "metadata": {
        "id": "17yOyLx_wpb3"
      },
      "source": [
        "# 1. The project description\n",
        "## 1.1 Problem Context\n",
        "\n",
        "* Real Estate Investment Trust (REIT) invests in houses, apartments, and condos(complex of buildings) within a small county in New York state.\n",
        "* They try to predict the fair transaction price of a property before it's sold.\n",
        "* They do so to calibrate their internal pricing models and keep a pulse on the market.\n",
        "\n",
        "## 1.2 Problem Statement\n",
        "Suppose that the REIT has hired you to find a data-driven approach to valuing properties.\n",
        "* They currently have an untapped dataset of transaction prices for previous properties on the market.\n",
        "* The data was collected in 2016.\n",
        "* Your task is to build a real-estate pricing model using that dataset.\n",
        "* If you can build a model to predict transaction prices with an average error of under US Dollars 70,000, the client will be very satisfied with the resultant model and continue to go with the project.\n",
        "\n",
        "## 1.3 Objectives and Constraints\n",
        "* Deliverable: Trained model file\n",
        "* Win condition: Avg. prediction error < \\$70,000\n",
        "* Model Interpretability will be useful\n",
        "* No latency requirement"
      ]
    },
    {
      "cell_type": "markdown",
      "metadata": {
        "id": "RY68wcN4wpcC"
      },
      "source": [
        "# 2. Machine Learning Problem\n",
        "## 2.1 Data Overview\n",
        "\n",
        "For this project:\n",
        "1. The dataset has 1883 observations in the county where the REIT operates.\n",
        "2. Each observation is for the transaction of one property only.\n",
        "3. Each transaction was between \\$200,000 and \\$800,000.\n",
        "\n",
        "#### Target Variable\n",
        "* 'tx_price' - Transaction price in USD\n",
        "\n",
        "#### Features of the data:\n",
        "\n",
        "Public records:\n",
        "* 'tx_year' - Year the transaction took place\n",
        "* 'property_tax' - Monthly property tax\n",
        "* 'insurance' - Cost of monthly homeowner's insurance\n",
        "\n",
        "Property characteristics:\n",
        "* 'beds' - Number of bedrooms\n",
        "* 'baths' - Number of bathrooms\n",
        "* 'sqft' - Total floor area in squared feet\n",
        "* 'lot_size' - Total outside area in squared feet\n",
        "* 'year_built' - Year property was built\n",
        "* 'active_life' - Number of gyms, yoga studios, and sports venues within 1 mile\n",
        "* 'basement' - Does the property have a basement?\n",
        "* 'exterior_walls' - The material used for constructing walls of the house\n",
        "* 'roof' - The material used for constructing the roof\n",
        "\n",
        "Location convenience scores:\n",
        "* 'restaurants' - Number of restaurants within 1 mile\n",
        "* 'groceries' - Number of grocery stores within 1 mile\n",
        "* 'nightlife' - Number of nightlife venues within 1 mile\n",
        "* 'cafes' - Number of cafes within 1 mile\n",
        "* 'shopping' - Number of stores within 1 mile\n",
        "* 'arts_entertainment' - Number of arts and entertainment venues within 1 mile\n",
        "* 'beauty_spas' - Number of beauty and spa locations within 1 mile\n",
        "* 'active_life' - Number of gyms, yoga studios, and sports venues within 1 mile\n",
        "\n",
        "Neighborhood demographics:\n",
        "* 'median_age' - Median age of the neighborhood\n",
        "* 'married' - Percent of neighborhood who are married\n",
        "* 'college_grad' - Percent of neighborhood who graduated college\n",
        "\n",
        "Schools:\n",
        "* 'num_schools' - Number of public schools within district\n",
        "* 'median_school' - Median score of the public schools within district, on the range 1 - 10\n",
        "\n",
        "## 2.2 Mapping project statement to ML problem\n",
        "### 2.2.1 Type of Machine Learning Problem\n",
        "First, we can easily see that is a regression problem, where given the above set of features, we need to predict the transaction price of the house.\n",
        "\n",
        "### 2.2.2 Performance Metric (KPI)\n",
        "**Since it is a regression problem, we will use the following regression metrics:**\n",
        "#### 2.2.2.1 Root Mean Squared Error (RMSE)"
      ]
    },
    {
      "cell_type": "markdown",
      "metadata": {
        "id": "Sw1lUKVywpcE"
      },
      "source": [
        "#### 2.2.2.2 R-squared\n",
        "\n",
        "\n",
        "Just remember the value of R suared must be at least greater than 0 and 1 in the best case"
      ]
    },
    {
      "cell_type": "markdown",
      "metadata": {
        "id": "3ATaIHAcwpcE"
      },
      "source": [
        "#### 2.2.2.3 Mean Absolute Error (MAE):\n",
        "\n",
        "* Remember, our win-condition for this project is predicting within \\$70,000 of true transaction prices, on average.\n",
        "* Mean absolute error (or MAE) is the average absolute difference between predicted and actual values for our target variable. That exactly aligns with the terms of our win condition!\n",
        "* So we're aiming to get MAE below 70,000"
      ]
    },
    {
      "cell_type": "markdown",
      "metadata": {
        "id": "3srXOj2awpcF"
      },
      "source": [
        "## Train-Test Splits\n",
        "**80-20**"
      ]
    },
    {
      "cell_type": "markdown",
      "metadata": {
        "id": "JToV93LswpcF"
      },
      "source": [
        "# 1. Exploratory data analysis"
      ]
    },
    {
      "cell_type": "markdown",
      "metadata": {
        "id": "0qOMD0cGwpcG"
      },
      "source": [
        "#### Import the libraries"
      ]
    },
    {
      "cell_type": "code",
      "metadata": {
        "id": "exmOaoahwpcG"
      },
      "source": [
        "# for numerical computing\n",
        "import numpy as np\n",
        "\n",
        "# for dataframes\n",
        "import pandas as pd\n",
        "\n",
        "# for easier visualization\n",
        "import seaborn as sns\n",
        "\n",
        "# for visualization and to display plots\n",
        "from matplotlib import pyplot as plt\n",
        "%matplotlib inline\n",
        "\n",
        "# import color maps\n",
        "from matplotlib.colors import ListedColormap\n",
        "\n",
        "# Ignore Warnings\n",
        "import warnings\n",
        "warnings.filterwarnings(\"ignore\")\n",
        "\n",
        "from math import sqrt\n",
        "\n",
        "# to split train and test set\n",
        "from sklearn.model_selection import train_test_split\n",
        "\n",
        "# to perform hyperparameter tuning\n",
        "from sklearn.model_selection import GridSearchCV\n",
        "from sklearn.model_selection import RandomizedSearchCV\n",
        "\n",
        "from sklearn.linear_model import Ridge  # Linear Regression + L2 regularization\n",
        "from sklearn.linear_model import Lasso  # Linear Regression + L1 regularization\n",
        "from sklearn.svm import SVR # Support Vector Regressor\n",
        "from sklearn.ensemble import RandomForestRegressor\n",
        "from sklearn.neighbors import KNeighborsRegressor \n",
        "from sklearn.model_selection import cross_val_score\n",
        "from sklearn.tree import DecisionTreeRegressor\n",
        "\n",
        "# Evaluation Metrics\n",
        "from sklearn.metrics import mean_squared_error as mse\n",
        "from sklearn.metrics import r2_score\n",
        "from sklearn.metrics import mean_absolute_error as mae\n",
        "\n",
        "#import xgboost\n",
        "import os\n",
        "mingw_path = 'C:\\\\Program Files\\\\mingw-w64\\\\x86_64-7.2.0-posix-seh-rt_v5-rev0\\\\mingw64\\\\bin'\n",
        "os.environ['PATH'] = mingw_path + ';' + os.environ['PATH']\n",
        "from xgboost import XGBRegressor\n",
        "from xgboost import plot_importance  # to plot feature importance\n",
        "\n",
        "# to save the final model on disk\n",
        "from sklearn.externals import joblib\n",
        "\n",
        "import time"
      ],
      "execution_count": 1,
      "outputs": []
    },
    {
      "cell_type": "code",
      "metadata": {
        "collapsed": true,
        "id": "9App5WBnwpcI"
      },
      "source": [
        "np.set_printoptions(precision=2, suppress=True) #for printing floating point numbers upto  precision 2"
      ],
      "execution_count": 2,
      "outputs": []
    },
    {
      "cell_type": "markdown",
      "metadata": {
        "id": "VdmpIXoCwpcJ"
      },
      "source": [
        "1.1. Load real estate data from CSV in your Drive"
      ]
    },
    {
      "cell_type": "code",
      "metadata": {
        "id": "dzrN8MkyyR8e"
      },
      "source": [
        "df = pd.read_csv('/content/real_estate_data.csv')"
      ],
      "execution_count": 3,
      "outputs": []
    },
    {
      "cell_type": "markdown",
      "metadata": {
        "id": "tNOI77H-wpcJ"
      },
      "source": [
        "1.2. Display the dimensions of the dataset."
      ]
    },
    {
      "cell_type": "code",
      "metadata": {
        "id": "45UEN_78wpcK",
        "colab": {
          "base_uri": "https://localhost:8080/"
        },
        "outputId": "d6a5d713-4d98-4c3a-b010-a49b067ead21"
      },
      "source": [
        "df.shape"
      ],
      "execution_count": 4,
      "outputs": [
        {
          "output_type": "execute_result",
          "data": {
            "text/plain": [
              "(1883, 26)"
            ]
          },
          "metadata": {
            "tags": []
          },
          "execution_count": 4
        }
      ]
    },
    {
      "cell_type": "markdown",
      "metadata": {
        "id": "X3WmIhU-wpcL"
      },
      "source": [
        "1.3. Print out the columns of the dataset"
      ]
    },
    {
      "cell_type": "code",
      "metadata": {
        "id": "k_-CDEEywpcM",
        "colab": {
          "base_uri": "https://localhost:8080/"
        },
        "outputId": "3bbce16e-08ff-4b97-8f10-a233612adb68"
      },
      "source": [
        "df.columns"
      ],
      "execution_count": 5,
      "outputs": [
        {
          "output_type": "execute_result",
          "data": {
            "text/plain": [
              "Index(['tx_price', 'beds', 'baths', 'sqft', 'year_built', 'lot_size',\n",
              "       'property_type', 'exterior_walls', 'roof', 'basement', 'restaurants',\n",
              "       'groceries', 'nightlife', 'cafes', 'shopping', 'arts_entertainment',\n",
              "       'beauty_spas', 'active_life', 'median_age', 'married', 'college_grad',\n",
              "       'property_tax', 'insurance', 'median_school', 'num_schools', 'tx_year'],\n",
              "      dtype='object')"
            ]
          },
          "metadata": {
            "tags": []
          },
          "execution_count": 5
        }
      ]
    },
    {
      "cell_type": "markdown",
      "metadata": {
        "id": "68tagtAVwpcM"
      },
      "source": [
        "1.4. Display the first 5 rows to see example observations."
      ]
    },
    {
      "cell_type": "code",
      "metadata": {
        "id": "_RGkEJiiwpcM",
        "colab": {
          "base_uri": "https://localhost:8080/",
          "height": 391
        },
        "outputId": "fc8d5ecf-5159-4906-9ff5-a9d6455cc248"
      },
      "source": [
        "df.head()"
      ],
      "execution_count": 6,
      "outputs": [
        {
          "output_type": "execute_result",
          "data": {
            "text/html": [
              "<div>\n",
              "<style scoped>\n",
              "    .dataframe tbody tr th:only-of-type {\n",
              "        vertical-align: middle;\n",
              "    }\n",
              "\n",
              "    .dataframe tbody tr th {\n",
              "        vertical-align: top;\n",
              "    }\n",
              "\n",
              "    .dataframe thead th {\n",
              "        text-align: right;\n",
              "    }\n",
              "</style>\n",
              "<table border=\"1\" class=\"dataframe\">\n",
              "  <thead>\n",
              "    <tr style=\"text-align: right;\">\n",
              "      <th></th>\n",
              "      <th>tx_price</th>\n",
              "      <th>beds</th>\n",
              "      <th>baths</th>\n",
              "      <th>sqft</th>\n",
              "      <th>year_built</th>\n",
              "      <th>lot_size</th>\n",
              "      <th>property_type</th>\n",
              "      <th>exterior_walls</th>\n",
              "      <th>roof</th>\n",
              "      <th>basement</th>\n",
              "      <th>restaurants</th>\n",
              "      <th>groceries</th>\n",
              "      <th>nightlife</th>\n",
              "      <th>cafes</th>\n",
              "      <th>shopping</th>\n",
              "      <th>arts_entertainment</th>\n",
              "      <th>beauty_spas</th>\n",
              "      <th>active_life</th>\n",
              "      <th>median_age</th>\n",
              "      <th>married</th>\n",
              "      <th>college_grad</th>\n",
              "      <th>property_tax</th>\n",
              "      <th>insurance</th>\n",
              "      <th>median_school</th>\n",
              "      <th>num_schools</th>\n",
              "      <th>tx_year</th>\n",
              "    </tr>\n",
              "  </thead>\n",
              "  <tbody>\n",
              "    <tr>\n",
              "      <th>0</th>\n",
              "      <td>295850</td>\n",
              "      <td>1</td>\n",
              "      <td>1</td>\n",
              "      <td>584</td>\n",
              "      <td>2013</td>\n",
              "      <td>0</td>\n",
              "      <td>Apartment / Condo / Townhouse</td>\n",
              "      <td>Wood Siding</td>\n",
              "      <td>NaN</td>\n",
              "      <td>NaN</td>\n",
              "      <td>107</td>\n",
              "      <td>9</td>\n",
              "      <td>30</td>\n",
              "      <td>19</td>\n",
              "      <td>89</td>\n",
              "      <td>6</td>\n",
              "      <td>47</td>\n",
              "      <td>58</td>\n",
              "      <td>33.0</td>\n",
              "      <td>65.0</td>\n",
              "      <td>84.0</td>\n",
              "      <td>234.0</td>\n",
              "      <td>81.0</td>\n",
              "      <td>9.0</td>\n",
              "      <td>3.0</td>\n",
              "      <td>2013</td>\n",
              "    </tr>\n",
              "    <tr>\n",
              "      <th>1</th>\n",
              "      <td>216500</td>\n",
              "      <td>1</td>\n",
              "      <td>1</td>\n",
              "      <td>612</td>\n",
              "      <td>1965</td>\n",
              "      <td>0</td>\n",
              "      <td>Apartment / Condo / Townhouse</td>\n",
              "      <td>Brick</td>\n",
              "      <td>Composition Shingle</td>\n",
              "      <td>1.0</td>\n",
              "      <td>105</td>\n",
              "      <td>15</td>\n",
              "      <td>6</td>\n",
              "      <td>13</td>\n",
              "      <td>87</td>\n",
              "      <td>2</td>\n",
              "      <td>26</td>\n",
              "      <td>14</td>\n",
              "      <td>39.0</td>\n",
              "      <td>73.0</td>\n",
              "      <td>69.0</td>\n",
              "      <td>169.0</td>\n",
              "      <td>51.0</td>\n",
              "      <td>3.0</td>\n",
              "      <td>3.0</td>\n",
              "      <td>2006</td>\n",
              "    </tr>\n",
              "    <tr>\n",
              "      <th>2</th>\n",
              "      <td>279900</td>\n",
              "      <td>1</td>\n",
              "      <td>1</td>\n",
              "      <td>615</td>\n",
              "      <td>1963</td>\n",
              "      <td>0</td>\n",
              "      <td>Apartment / Condo / Townhouse</td>\n",
              "      <td>Wood Siding</td>\n",
              "      <td>NaN</td>\n",
              "      <td>NaN</td>\n",
              "      <td>183</td>\n",
              "      <td>13</td>\n",
              "      <td>31</td>\n",
              "      <td>30</td>\n",
              "      <td>101</td>\n",
              "      <td>10</td>\n",
              "      <td>74</td>\n",
              "      <td>62</td>\n",
              "      <td>28.0</td>\n",
              "      <td>15.0</td>\n",
              "      <td>86.0</td>\n",
              "      <td>216.0</td>\n",
              "      <td>74.0</td>\n",
              "      <td>8.0</td>\n",
              "      <td>3.0</td>\n",
              "      <td>2012</td>\n",
              "    </tr>\n",
              "    <tr>\n",
              "      <th>3</th>\n",
              "      <td>379900</td>\n",
              "      <td>1</td>\n",
              "      <td>1</td>\n",
              "      <td>618</td>\n",
              "      <td>2000</td>\n",
              "      <td>33541</td>\n",
              "      <td>Apartment / Condo / Townhouse</td>\n",
              "      <td>Wood Siding</td>\n",
              "      <td>NaN</td>\n",
              "      <td>NaN</td>\n",
              "      <td>198</td>\n",
              "      <td>9</td>\n",
              "      <td>38</td>\n",
              "      <td>25</td>\n",
              "      <td>127</td>\n",
              "      <td>11</td>\n",
              "      <td>72</td>\n",
              "      <td>83</td>\n",
              "      <td>36.0</td>\n",
              "      <td>25.0</td>\n",
              "      <td>91.0</td>\n",
              "      <td>265.0</td>\n",
              "      <td>92.0</td>\n",
              "      <td>9.0</td>\n",
              "      <td>3.0</td>\n",
              "      <td>2005</td>\n",
              "    </tr>\n",
              "    <tr>\n",
              "      <th>4</th>\n",
              "      <td>340000</td>\n",
              "      <td>1</td>\n",
              "      <td>1</td>\n",
              "      <td>634</td>\n",
              "      <td>1992</td>\n",
              "      <td>0</td>\n",
              "      <td>Apartment / Condo / Townhouse</td>\n",
              "      <td>Brick</td>\n",
              "      <td>NaN</td>\n",
              "      <td>NaN</td>\n",
              "      <td>149</td>\n",
              "      <td>7</td>\n",
              "      <td>22</td>\n",
              "      <td>20</td>\n",
              "      <td>83</td>\n",
              "      <td>10</td>\n",
              "      <td>50</td>\n",
              "      <td>73</td>\n",
              "      <td>37.0</td>\n",
              "      <td>20.0</td>\n",
              "      <td>75.0</td>\n",
              "      <td>88.0</td>\n",
              "      <td>30.0</td>\n",
              "      <td>9.0</td>\n",
              "      <td>3.0</td>\n",
              "      <td>2002</td>\n",
              "    </tr>\n",
              "  </tbody>\n",
              "</table>\n",
              "</div>"
            ],
            "text/plain": [
              "   tx_price  beds  baths  sqft  ...  insurance  median_school num_schools tx_year\n",
              "0    295850     1      1   584  ...       81.0            9.0         3.0    2013\n",
              "1    216500     1      1   612  ...       51.0            3.0         3.0    2006\n",
              "2    279900     1      1   615  ...       74.0            8.0         3.0    2012\n",
              "3    379900     1      1   618  ...       92.0            9.0         3.0    2005\n",
              "4    340000     1      1   634  ...       30.0            9.0         3.0    2002\n",
              "\n",
              "[5 rows x 26 columns]"
            ]
          },
          "metadata": {
            "tags": []
          },
          "execution_count": 6
        }
      ]
    },
    {
      "cell_type": "markdown",
      "metadata": {
        "id": "k66tYGeSwpcN"
      },
      "source": [
        "1.5. Some features are numeric and some are categorical. Filtering the categorical features:"
      ]
    },
    {
      "cell_type": "code",
      "metadata": {
        "colab": {
          "base_uri": "https://localhost:8080/"
        },
        "id": "dRVcb8CUUhY3",
        "outputId": "78312c93-4d21-4477-f688-578786e8c71c"
      },
      "source": [
        "df.dtypes"
      ],
      "execution_count": 7,
      "outputs": [
        {
          "output_type": "execute_result",
          "data": {
            "text/plain": [
              "tx_price                int64\n",
              "beds                    int64\n",
              "baths                   int64\n",
              "sqft                    int64\n",
              "year_built              int64\n",
              "lot_size                int64\n",
              "property_type          object\n",
              "exterior_walls         object\n",
              "roof                   object\n",
              "basement              float64\n",
              "restaurants             int64\n",
              "groceries               int64\n",
              "nightlife               int64\n",
              "cafes                   int64\n",
              "shopping                int64\n",
              "arts_entertainment      int64\n",
              "beauty_spas             int64\n",
              "active_life             int64\n",
              "median_age            float64\n",
              "married               float64\n",
              "college_grad          float64\n",
              "property_tax          float64\n",
              "insurance             float64\n",
              "median_school         float64\n",
              "num_schools           float64\n",
              "tx_year                 int64\n",
              "dtype: object"
            ]
          },
          "metadata": {
            "tags": []
          },
          "execution_count": 7
        }
      ]
    },
    {
      "cell_type": "code",
      "metadata": {
        "id": "0yQGhH_QwpcR",
        "colab": {
          "base_uri": "https://localhost:8080/"
        },
        "outputId": "8cb9619e-5eda-428d-f646-1fb10549f834"
      },
      "source": [
        "df.dtypes[df.dtypes=='object']"
      ],
      "execution_count": 8,
      "outputs": [
        {
          "output_type": "execute_result",
          "data": {
            "text/plain": [
              "property_type     object\n",
              "exterior_walls    object\n",
              "roof              object\n",
              "dtype: object"
            ]
          },
          "metadata": {
            "tags": []
          },
          "execution_count": 8
        }
      ]
    },
    {
      "cell_type": "markdown",
      "metadata": {
        "id": "h2LS4w7fwpcR"
      },
      "source": [
        "## Distributions of numeric features\n",
        "1.6. One of the most enlightening data exploration tasks is plotting the distributions of your features. Plot all histograms"
      ]
    },
    {
      "cell_type": "code",
      "metadata": {
        "scrolled": true,
        "colab": {
          "base_uri": "https://localhost:8080/",
          "height": 809
        },
        "id": "GpFSwoKhwpcR",
        "outputId": "58a14bc9-596c-4b7b-a40a-dcae1e5c01ad"
      },
      "source": [
        "# Plot a histogram grid\n",
        "df.hist(figsize=(15,15), xrot=-10)\n",
        "\n",
        "# Clear the text \"residue\"\n",
        "plt.show()"
      ],
      "execution_count": 9,
      "outputs": [
        {
          "output_type": "display_data",
          "data": {
            "image/png": "[encoded data removed]",
            "text/plain": [
              "<Figure size 1080x1080 with 25 Axes>"
            ]
          },
          "metadata": {
            "tags": [],
            "needs_background": "light"
          }
        }
      ]
    },
    {
      "cell_type": "markdown",
      "metadata": {
        "id": "URl5j5pewpcS"
      },
      "source": [
        "**Observations:**\n",
        "We can make out quite a few observations:\n",
        "\n",
        "For example, consider the histogram for num_schools:\n",
        "* More than 1500 houses have 3 schools with a mile\n",
        "\n",
        "Consider the histogram for sqft:\n",
        "* More than 400 houses have area within 2000 sqft\n",
        "* Very few houses have area more than 5000 sqft\n",
        "\n",
        "Consider the histogram for beds:\n",
        "* Over 600 houses have 4 bedrooms, and similar number of houses have 3 bedrooms.\n",
        "* Less than 100 houses have one bedroom and so on.\n",
        "\n",
        "Also, look at the plot for the 'year_built' feature:\n",
        "* The last bin in the histogram represents the range 2010-2020.\n",
        "* Since this dataset was pulled in 2016, we should not have properties built in 2019.\n",
        "* A property built after 2016 would be a measurement error.\n",
        "* However, because of the 10-year bins, it's hard to tell if there's a measurement error just from the plot above."
      ]
    },
    {
      "cell_type": "markdown",
      "metadata": {
        "id": "X8VopsEqwpcS"
      },
      "source": [
        "1.7. Display summary statistics for the numerical features."
      ]
    },
    {
      "cell_type": "code",
      "metadata": {
        "id": "5mxsqzkLwpcT",
        "colab": {
          "base_uri": "https://localhost:8080/",
          "height": 308
        },
        "outputId": "d26915e0-b86e-4c76-9380-7a20df623bc9"
      },
      "source": [
        "df.describe()"
      ],
      "execution_count": 10,
      "outputs": [
        {
          "output_type": "execute_result",
          "data": {
            "text/html": [
              "<div>\n",
              "<style scoped>\n",
              "    .dataframe tbody tr th:only-of-type {\n",
              "        vertical-align: middle;\n",
              "    }\n",
              "\n",
              "    .dataframe tbody tr th {\n",
              "        vertical-align: top;\n",
              "    }\n",
              "\n",
              "    .dataframe thead th {\n",
              "        text-align: right;\n",
              "    }\n",
              "</style>\n",
              "<table border=\"1\" class=\"dataframe\">\n",
              "  <thead>\n",
              "    <tr style=\"text-align: right;\">\n",
              "      <th></th>\n",
              "      <th>tx_price</th>\n",
              "      <th>beds</th>\n",
              "      <th>baths</th>\n",
              "      <th>sqft</th>\n",
              "      <th>year_built</th>\n",
              "      <th>lot_size</th>\n",
              "      <th>basement</th>\n",
              "      <th>restaurants</th>\n",
              "      <th>groceries</th>\n",
              "      <th>nightlife</th>\n",
              "      <th>cafes</th>\n",
              "      <th>shopping</th>\n",
              "      <th>arts_entertainment</th>\n",
              "      <th>beauty_spas</th>\n",
              "      <th>active_life</th>\n",
              "      <th>median_age</th>\n",
              "      <th>married</th>\n",
              "      <th>college_grad</th>\n",
              "      <th>property_tax</th>\n",
              "      <th>insurance</th>\n",
              "      <th>median_school</th>\n",
              "      <th>num_schools</th>\n",
              "      <th>tx_year</th>\n",
              "    </tr>\n",
              "  </thead>\n",
              "  <tbody>\n",
              "    <tr>\n",
              "      <th>count</th>\n",
              "      <td>1883.000000</td>\n",
              "      <td>1883.000000</td>\n",
              "      <td>1883.000000</td>\n",
              "      <td>1883.000000</td>\n",
              "      <td>1883.000000</td>\n",
              "      <td>1.883000e+03</td>\n",
              "      <td>1657.0</td>\n",
              "      <td>1883.000000</td>\n",
              "      <td>1883.000000</td>\n",
              "      <td>1883.000000</td>\n",
              "      <td>1883.000000</td>\n",
              "      <td>1883.000000</td>\n",
              "      <td>1883.000000</td>\n",
              "      <td>1883.000000</td>\n",
              "      <td>1883.000000</td>\n",
              "      <td>1883.000000</td>\n",
              "      <td>1883.000000</td>\n",
              "      <td>1883.000000</td>\n",
              "      <td>1883.000000</td>\n",
              "      <td>1883.000000</td>\n",
              "      <td>1883.000000</td>\n",
              "      <td>1883.000000</td>\n",
              "      <td>1883.000000</td>\n",
              "    </tr>\n",
              "    <tr>\n",
              "      <th>mean</th>\n",
              "      <td>422839.807754</td>\n",
              "      <td>3.420605</td>\n",
              "      <td>2.579926</td>\n",
              "      <td>2329.398832</td>\n",
              "      <td>1982.963887</td>\n",
              "      <td>1.339262e+04</td>\n",
              "      <td>1.0</td>\n",
              "      <td>40.210303</td>\n",
              "      <td>4.505045</td>\n",
              "      <td>5.074881</td>\n",
              "      <td>5.325013</td>\n",
              "      <td>40.802443</td>\n",
              "      <td>3.394052</td>\n",
              "      <td>23.416888</td>\n",
              "      <td>15.835369</td>\n",
              "      <td>38.601168</td>\n",
              "      <td>69.091875</td>\n",
              "      <td>65.085502</td>\n",
              "      <td>466.777483</td>\n",
              "      <td>140.454063</td>\n",
              "      <td>6.502921</td>\n",
              "      <td>2.793415</td>\n",
              "      <td>2007.111524</td>\n",
              "    </tr>\n",
              "    <tr>\n",
              "      <th>std</th>\n",
              "      <td>151462.593276</td>\n",
              "      <td>1.068554</td>\n",
              "      <td>0.945576</td>\n",
              "      <td>1336.991858</td>\n",
              "      <td>20.295945</td>\n",
              "      <td>4.494930e+04</td>\n",
              "      <td>0.0</td>\n",
              "      <td>46.867012</td>\n",
              "      <td>4.491029</td>\n",
              "      <td>8.464668</td>\n",
              "      <td>7.539309</td>\n",
              "      <td>53.539296</td>\n",
              "      <td>4.699787</td>\n",
              "      <td>25.776916</td>\n",
              "      <td>17.667717</td>\n",
              "      <td>6.634110</td>\n",
              "      <td>19.659767</td>\n",
              "      <td>16.953165</td>\n",
              "      <td>231.656645</td>\n",
              "      <td>72.929765</td>\n",
              "      <td>1.996109</td>\n",
              "      <td>0.505358</td>\n",
              "      <td>5.196898</td>\n",
              "    </tr>\n",
              "    <tr>\n",
              "      <th>min</th>\n",
              "      <td>200000.000000</td>\n",
              "      <td>1.000000</td>\n",
              "      <td>1.000000</td>\n",
              "      <td>500.000000</td>\n",
              "      <td>1880.000000</td>\n",
              "      <td>0.000000e+00</td>\n",
              "      <td>1.0</td>\n",
              "      <td>0.000000</td>\n",
              "      <td>0.000000</td>\n",
              "      <td>0.000000</td>\n",
              "      <td>0.000000</td>\n",
              "      <td>0.000000</td>\n",
              "      <td>0.000000</td>\n",
              "      <td>0.000000</td>\n",
              "      <td>0.000000</td>\n",
              "      <td>22.000000</td>\n",
              "      <td>11.000000</td>\n",
              "      <td>5.000000</td>\n",
              "      <td>88.000000</td>\n",
              "      <td>30.000000</td>\n",
              "      <td>1.000000</td>\n",
              "      <td>1.000000</td>\n",
              "      <td>1993.000000</td>\n",
              "    </tr>\n",
              "    <tr>\n",
              "      <th>25%</th>\n",
              "      <td>300000.000000</td>\n",
              "      <td>3.000000</td>\n",
              "      <td>2.000000</td>\n",
              "      <td>1345.000000</td>\n",
              "      <td>1970.000000</td>\n",
              "      <td>1.542000e+03</td>\n",
              "      <td>1.0</td>\n",
              "      <td>7.000000</td>\n",
              "      <td>1.000000</td>\n",
              "      <td>0.000000</td>\n",
              "      <td>0.000000</td>\n",
              "      <td>6.000000</td>\n",
              "      <td>0.000000</td>\n",
              "      <td>4.000000</td>\n",
              "      <td>4.000000</td>\n",
              "      <td>33.000000</td>\n",
              "      <td>58.000000</td>\n",
              "      <td>54.000000</td>\n",
              "      <td>320.000000</td>\n",
              "      <td>94.000000</td>\n",
              "      <td>5.000000</td>\n",
              "      <td>3.000000</td>\n",
              "      <td>2004.000000</td>\n",
              "    </tr>\n",
              "    <tr>\n",
              "      <th>50%</th>\n",
              "      <td>392000.000000</td>\n",
              "      <td>3.000000</td>\n",
              "      <td>3.000000</td>\n",
              "      <td>1907.000000</td>\n",
              "      <td>1986.000000</td>\n",
              "      <td>6.098000e+03</td>\n",
              "      <td>1.0</td>\n",
              "      <td>23.000000</td>\n",
              "      <td>3.000000</td>\n",
              "      <td>2.000000</td>\n",
              "      <td>3.000000</td>\n",
              "      <td>22.000000</td>\n",
              "      <td>2.000000</td>\n",
              "      <td>15.000000</td>\n",
              "      <td>10.000000</td>\n",
              "      <td>38.000000</td>\n",
              "      <td>73.000000</td>\n",
              "      <td>66.000000</td>\n",
              "      <td>426.000000</td>\n",
              "      <td>125.000000</td>\n",
              "      <td>7.000000</td>\n",
              "      <td>3.000000</td>\n",
              "      <td>2007.000000</td>\n",
              "    </tr>\n",
              "    <tr>\n",
              "      <th>75%</th>\n",
              "      <td>525000.000000</td>\n",
              "      <td>4.000000</td>\n",
              "      <td>3.000000</td>\n",
              "      <td>3005.000000</td>\n",
              "      <td>2000.000000</td>\n",
              "      <td>1.176100e+04</td>\n",
              "      <td>1.0</td>\n",
              "      <td>58.000000</td>\n",
              "      <td>7.000000</td>\n",
              "      <td>6.000000</td>\n",
              "      <td>6.000000</td>\n",
              "      <td>51.000000</td>\n",
              "      <td>5.000000</td>\n",
              "      <td>35.000000</td>\n",
              "      <td>21.000000</td>\n",
              "      <td>43.000000</td>\n",
              "      <td>84.000000</td>\n",
              "      <td>78.000000</td>\n",
              "      <td>569.000000</td>\n",
              "      <td>169.000000</td>\n",
              "      <td>8.000000</td>\n",
              "      <td>3.000000</td>\n",
              "      <td>2011.000000</td>\n",
              "    </tr>\n",
              "    <tr>\n",
              "      <th>max</th>\n",
              "      <td>800000.000000</td>\n",
              "      <td>5.000000</td>\n",
              "      <td>6.000000</td>\n",
              "      <td>8450.000000</td>\n",
              "      <td>2015.000000</td>\n",
              "      <td>1.220551e+06</td>\n",
              "      <td>1.0</td>\n",
              "      <td>266.000000</td>\n",
              "      <td>24.000000</td>\n",
              "      <td>54.000000</td>\n",
              "      <td>47.000000</td>\n",
              "      <td>340.000000</td>\n",
              "      <td>35.000000</td>\n",
              "      <td>177.000000</td>\n",
              "      <td>94.000000</td>\n",
              "      <td>69.000000</td>\n",
              "      <td>100.000000</td>\n",
              "      <td>100.000000</td>\n",
              "      <td>4508.000000</td>\n",
              "      <td>1374.000000</td>\n",
              "      <td>10.000000</td>\n",
              "      <td>4.000000</td>\n",
              "      <td>2016.000000</td>\n",
              "    </tr>\n",
              "  </tbody>\n",
              "</table>\n",
              "</div>"
            ],
            "text/plain": [
              "            tx_price         beds  ...  num_schools      tx_year\n",
              "count    1883.000000  1883.000000  ...  1883.000000  1883.000000\n",
              "mean   422839.807754     3.420605  ...     2.793415  2007.111524\n",
              "std    151462.593276     1.068554  ...     0.505358     5.196898\n",
              "min    200000.000000     1.000000  ...     1.000000  1993.000000\n",
              "25%    300000.000000     3.000000  ...     3.000000  2004.000000\n",
              "50%    392000.000000     3.000000  ...     3.000000  2007.000000\n",
              "75%    525000.000000     4.000000  ...     3.000000  2011.000000\n",
              "max    800000.000000     5.000000  ...     4.000000  2016.000000\n",
              "\n",
              "[8 rows x 23 columns]"
            ]
          },
          "metadata": {
            "tags": []
          },
          "execution_count": 10
        }
      ]
    },
    {
      "cell_type": "markdown",
      "metadata": {
        "id": "ok1KtlSBwpcT"
      },
      "source": [
        "**Obeservation:**\n",
        "* Look at the 'year_built' column, we can see that its max value is 2015.\n",
        "* The 'basement' feature has some missing values, also its standard deviation is 0.0, while its min and max are both 1.0. Maybe this is a feature that should be binary consisting values 0 and 1."
      ]
    },
    {
      "cell_type": "markdown",
      "metadata": {
        "id": "EGS7RSXcwpcT"
      },
      "source": [
        "## Distributions of categorical features\n",
        "1.8. Display summary statistics for categorical features."
      ]
    },
    {
      "cell_type": "code",
      "metadata": {
        "colab": {
          "base_uri": "https://localhost:8080/",
          "height": 168
        },
        "id": "DZudftW5wpcU",
        "outputId": "c23b5493-2bf8-48b3-9560-c9269fd5104c"
      },
      "source": [
        "df.describe(include=['object'])"
      ],
      "execution_count": 11,
      "outputs": [
        {
          "output_type": "execute_result",
          "data": {
            "text/html": [
              "<div>\n",
              "<style scoped>\n",
              "    .dataframe tbody tr th:only-of-type {\n",
              "        vertical-align: middle;\n",
              "    }\n",
              "\n",
              "    .dataframe tbody tr th {\n",
              "        vertical-align: top;\n",
              "    }\n",
              "\n",
              "    .dataframe thead th {\n",
              "        text-align: right;\n",
              "    }\n",
              "</style>\n",
              "<table border=\"1\" class=\"dataframe\">\n",
              "  <thead>\n",
              "    <tr style=\"text-align: right;\">\n",
              "      <th></th>\n",
              "      <th>property_type</th>\n",
              "      <th>exterior_walls</th>\n",
              "      <th>roof</th>\n",
              "    </tr>\n",
              "  </thead>\n",
              "  <tbody>\n",
              "    <tr>\n",
              "      <th>count</th>\n",
              "      <td>1883</td>\n",
              "      <td>1660</td>\n",
              "      <td>1529</td>\n",
              "    </tr>\n",
              "    <tr>\n",
              "      <th>unique</th>\n",
              "      <td>2</td>\n",
              "      <td>16</td>\n",
              "      <td>16</td>\n",
              "    </tr>\n",
              "    <tr>\n",
              "      <th>top</th>\n",
              "      <td>Single-Family</td>\n",
              "      <td>Brick</td>\n",
              "      <td>Composition Shingle</td>\n",
              "    </tr>\n",
              "    <tr>\n",
              "      <th>freq</th>\n",
              "      <td>1080</td>\n",
              "      <td>687</td>\n",
              "      <td>1179</td>\n",
              "    </tr>\n",
              "  </tbody>\n",
              "</table>\n",
              "</div>"
            ],
            "text/plain": [
              "        property_type exterior_walls                 roof\n",
              "count            1883           1660                 1529\n",
              "unique              2             16                   16\n",
              "top     Single-Family          Brick  Composition Shingle\n",
              "freq             1080            687                 1179"
            ]
          },
          "metadata": {
            "tags": []
          },
          "execution_count": 11
        }
      ]
    },
    {
      "cell_type": "markdown",
      "metadata": {
        "id": "_47LpyPWwpcV"
      },
      "source": [
        "**Observation:**\n",
        "* 'exterior_walls' and 'roof' have missing values\n",
        "* There are 16 unique classes for 'exterior_walls' and 'roof'\n",
        "* The most frequent element for exterior_walls is 'Brick'and it has come 687 times."
      ]
    },
    {
      "cell_type": "markdown",
      "metadata": {
        "id": "iz2C4CRfwpcV"
      },
      "source": [
        "### Bar plots for categorical Features"
      ]
    },
    {
      "cell_type": "markdown",
      "metadata": {
        "id": "etf1XlfGwpcW"
      },
      "source": [
        "1.9. Plot bar plot for the `exterior_walls` feature."
      ]
    },
    {
      "cell_type": "code",
      "metadata": {
        "colab": {
          "base_uri": "https://localhost:8080/",
          "height": 623
        },
        "id": "-OnxpJciwpcW",
        "outputId": "32d8a86e-574e-412e-8f92-28ccff7b9e32"
      },
      "source": [
        "plt.figure(figsize=(6,10))\n",
        "sns.countplot(y='exterior_walls', data=df)"
      ],
      "execution_count": 12,
      "outputs": [
        {
          "output_type": "execute_result",
          "data": {
            "text/plain": [
              "<matplotlib.axes._subplots.AxesSubplot at 0x7f4e46e60c50>"
            ]
          },
          "metadata": {
            "tags": []
          },
          "execution_count": 12
        },
        {
          "output_type": "display_data",
          "data": {
            "image/png": "[encoded data removed]",
            "text/plain": [
              "<Figure size 432x720 with 1 Axes>"
            ]
          },
          "metadata": {
            "tags": [],
            "needs_background": "light"
          }
        }
      ]
    },
    {
      "cell_type": "markdown",
      "metadata": {
        "id": "Ij7819SjwpcW"
      },
      "source": [
        "**Observations:**\n",
        "Take a look at the frequencies of the classes.\n",
        "\n",
        "Several classes are quite prevalent in the dataset. They have long bars. Those include:\n",
        "* 'Brick' shows count of 687 as we get in features and is most frequent\n",
        "* 'Siding (Alum/Vinyl)'\n",
        "* 'Metal'\n",
        "* 'Combination'\n",
        "\n",
        "Some classes have really short bars. For example:\n",
        "* 'Concrete Block'\n",
        "* 'Concrete'\n",
        "* 'Block'\n",
        "* 'Wood Shingle'\n",
        "* others\n",
        "* These don't have many observations, and they are called sparse classes."
      ]
    },
    {
      "cell_type": "markdown",
      "metadata": {
        "id": "EL9yneS5wpcX"
      },
      "source": [
        "1.10. Similarly Plot bar plot for the 'roof' feature."
      ]
    },
    {
      "cell_type": "code",
      "metadata": {
        "colab": {
          "base_uri": "https://localhost:8080/",
          "height": 623
        },
        "id": "xJWcuqPWwpcX",
        "outputId": "77dbc089-1ab6-4c0c-d919-7a093488f764"
      },
      "source": [
        "plt.figure(figsize=(6,10))\n",
        "sns.countplot(y='roof', data=df)"
      ],
      "execution_count": 13,
      "outputs": [
        {
          "output_type": "execute_result",
          "data": {
            "text/plain": [
              "<matplotlib.axes._subplots.AxesSubplot at 0x7f4e44b06990>"
            ]
          },
          "metadata": {
            "tags": []
          },
          "execution_count": 13
        },
        {
          "output_type": "display_data",
          "data": {
            "image/png": "[encoded data removed]",
            "text/plain": [
              "<Figure size 432x720 with 1 Axes>"
            ]
          },
          "metadata": {
            "tags": [],
            "needs_background": "light"
          }
        }
      ]
    },
    {
      "cell_type": "markdown",
      "metadata": {
        "id": "OlqcjjyewpcX"
      },
      "source": [
        "**Observations:**\n",
        "\n",
        "* The class which has a lasrgest count is Composition Shingle\n",
        "\n",
        "Following are the sparse classes having very small bars/observations:\n",
        "* 'Metal'\n",
        "* 'shake-shingle'\n",
        "* 'composition'"
      ]
    },
    {
      "cell_type": "markdown",
      "metadata": {
        "id": "UlKlOuLaZh2o"
      },
      "source": [
        "1.11. Plot bar plot for the `property_type` feature."
      ]
    },
    {
      "cell_type": "code",
      "metadata": {
        "colab": {
          "base_uri": "https://localhost:8080/",
          "height": 296
        },
        "id": "4EdTy3ODwpcY",
        "outputId": "e3984b99-d9a8-4711-f02d-40c478e72b0e"
      },
      "source": [
        "plt.figure(figsize=(4,4))\n",
        "sns.countplot(y='property_type', data=df)"
      ],
      "execution_count": 14,
      "outputs": [
        {
          "output_type": "execute_result",
          "data": {
            "text/plain": [
              "<matplotlib.axes._subplots.AxesSubplot at 0x7f4e47a6d3d0>"
            ]
          },
          "metadata": {
            "tags": []
          },
          "execution_count": 14
        },
        {
          "output_type": "display_data",
          "data": {
            "image/png": "[encoded data removed]",
            "text/plain": [
              "<Figure size 288x288 with 1 Axes>"
            ]
          },
          "metadata": {
            "tags": [],
            "needs_background": "light"
          }
        }
      ]
    },
    {
      "cell_type": "markdown",
      "metadata": {
        "id": "ALtt9Y31wpcY"
      },
      "source": [
        "**Observation**:\n",
        "* Property_type having single family has maximum count greater than 1000\n",
        "* There is no sparse class in property_type"
      ]
    },
    {
      "cell_type": "markdown",
      "metadata": {
        "id": "xuMN7QVFwpcZ"
      },
      "source": [
        "## Sparse Classes\n",
        "Sparse classes are classes in categorical features that have a very small number of observations.\n",
        "\n",
        "They tend to be problematic when we get to building models.\n",
        "* In the best case, they don't influence the model much.\n",
        "* In the worst case, they can cause the model to be overfit.\n",
        "\n",
        "Let's make a mental note to combine or reassign some of these classes later."
      ]
    },
    {
      "cell_type": "markdown",
      "metadata": {
        "id": "H2LG71sMwpcZ"
      },
      "source": [
        "From the above bar plots:\n",
        "\n",
        "**Observations:** In both 'exterior_walls' and 'roof' as well we have many sparse classes"
      ]
    },
    {
      "cell_type": "markdown",
      "metadata": {
        "id": "gR3ULdvgwpcZ"
      },
      "source": [
        "##  Segmentations\n",
        "Segmentations are powerful ways to cut the data to observe the relationship between categorical features and numeric features."
      ]
    },
    {
      "cell_type": "markdown",
      "metadata": {
        "id": "USij9NwCwpcZ"
      },
      "source": [
        "1.11. Segmenting the target variable by key categorical features."
      ]
    },
    {
      "cell_type": "code",
      "metadata": {
        "colab": {
          "base_uri": "https://localhost:8080/",
          "height": 297
        },
        "id": "CrNhOrjBwpcZ",
        "outputId": "e615ca70-f17b-4f3b-c15b-b040ca65b353"
      },
      "source": [
        "sns.boxplot(x=df['tx_price'], y=df['property_type'])"
      ],
      "execution_count": 15,
      "outputs": [
        {
          "output_type": "execute_result",
          "data": {
            "text/plain": [
              "<matplotlib.axes._subplots.AxesSubplot at 0x7f4e475e4290>"
            ]
          },
          "metadata": {
            "tags": []
          },
          "execution_count": 15
        },
        {
          "output_type": "display_data",
          "data": {
            "image/png": "[encoded data removed]",
            "text/plain": [
              "<Figure size 432x288 with 1 Axes>"
            ]
          },
          "metadata": {
            "tags": [],
            "needs_background": "light"
          }
        }
      ]
    },
    {
      "cell_type": "markdown",
      "metadata": {
        "id": "UH13CSKjwpca"
      },
      "source": [
        "**Observation:** In general, it looks like single family homes are more expensive."
      ]
    },
    {
      "cell_type": "markdown",
      "metadata": {
        "id": "F8eVvamcwpca"
      },
      "source": [
        "1.12. Let's compare the two property types across other features as well"
      ]
    },
    {
      "cell_type": "code",
      "metadata": {
        "colab": {
          "base_uri": "https://localhost:8080/",
          "height": 193
        },
        "id": "HChQ5QhZwpcb",
        "outputId": "95392802-cde2-4d52-ba4f-a64f58aaf3bc"
      },
      "source": [
        "df.groupby('property_type').mean()"
      ],
      "execution_count": 16,
      "outputs": [
        {
          "output_type": "execute_result",
          "data": {
            "text/html": [
              "<div>\n",
              "<style scoped>\n",
              "    .dataframe tbody tr th:only-of-type {\n",
              "        vertical-align: middle;\n",
              "    }\n",
              "\n",
              "    .dataframe tbody tr th {\n",
              "        vertical-align: top;\n",
              "    }\n",
              "\n",
              "    .dataframe thead th {\n",
              "        text-align: right;\n",
              "    }\n",
              "</style>\n",
              "<table border=\"1\" class=\"dataframe\">\n",
              "  <thead>\n",
              "    <tr style=\"text-align: right;\">\n",
              "      <th></th>\n",
              "      <th>tx_price</th>\n",
              "      <th>beds</th>\n",
              "      <th>baths</th>\n",
              "      <th>sqft</th>\n",
              "      <th>year_built</th>\n",
              "      <th>lot_size</th>\n",
              "      <th>basement</th>\n",
              "      <th>restaurants</th>\n",
              "      <th>groceries</th>\n",
              "      <th>nightlife</th>\n",
              "      <th>cafes</th>\n",
              "      <th>shopping</th>\n",
              "      <th>arts_entertainment</th>\n",
              "      <th>beauty_spas</th>\n",
              "      <th>active_life</th>\n",
              "      <th>median_age</th>\n",
              "      <th>married</th>\n",
              "      <th>college_grad</th>\n",
              "      <th>property_tax</th>\n",
              "      <th>insurance</th>\n",
              "      <th>median_school</th>\n",
              "      <th>num_schools</th>\n",
              "      <th>tx_year</th>\n",
              "    </tr>\n",
              "    <tr>\n",
              "      <th>property_type</th>\n",
              "      <th></th>\n",
              "      <th></th>\n",
              "      <th></th>\n",
              "      <th></th>\n",
              "      <th></th>\n",
              "      <th></th>\n",
              "      <th></th>\n",
              "      <th></th>\n",
              "      <th></th>\n",
              "      <th></th>\n",
              "      <th></th>\n",
              "      <th></th>\n",
              "      <th></th>\n",
              "      <th></th>\n",
              "      <th></th>\n",
              "      <th></th>\n",
              "      <th></th>\n",
              "      <th></th>\n",
              "      <th></th>\n",
              "      <th></th>\n",
              "      <th></th>\n",
              "      <th></th>\n",
              "      <th></th>\n",
              "    </tr>\n",
              "  </thead>\n",
              "  <tbody>\n",
              "    <tr>\n",
              "      <th>Apartment / Condo / Townhouse</th>\n",
              "      <td>366614.034869</td>\n",
              "      <td>2.601494</td>\n",
              "      <td>2.200498</td>\n",
              "      <td>1513.727273</td>\n",
              "      <td>1988.936488</td>\n",
              "      <td>3944.239103</td>\n",
              "      <td>1.0</td>\n",
              "      <td>58.418431</td>\n",
              "      <td>5.919054</td>\n",
              "      <td>7.855542</td>\n",
              "      <td>8.037360</td>\n",
              "      <td>57.631382</td>\n",
              "      <td>4.840598</td>\n",
              "      <td>32.087173</td>\n",
              "      <td>22.410959</td>\n",
              "      <td>37.199253</td>\n",
              "      <td>57.534247</td>\n",
              "      <td>66.372354</td>\n",
              "      <td>346.261519</td>\n",
              "      <td>105.652553</td>\n",
              "      <td>6.382316</td>\n",
              "      <td>2.831880</td>\n",
              "      <td>2007.941469</td>\n",
              "    </tr>\n",
              "    <tr>\n",
              "      <th>Single-Family</th>\n",
              "      <td>464644.711111</td>\n",
              "      <td>4.029630</td>\n",
              "      <td>2.862037</td>\n",
              "      <td>2935.865741</td>\n",
              "      <td>1978.523148</td>\n",
              "      <td>20417.666667</td>\n",
              "      <td>1.0</td>\n",
              "      <td>26.672222</td>\n",
              "      <td>3.453704</td>\n",
              "      <td>3.007407</td>\n",
              "      <td>3.308333</td>\n",
              "      <td>28.289815</td>\n",
              "      <td>2.318519</td>\n",
              "      <td>16.970370</td>\n",
              "      <td>10.946296</td>\n",
              "      <td>39.643519</td>\n",
              "      <td>77.685185</td>\n",
              "      <td>64.128704</td>\n",
              "      <td>556.383333</td>\n",
              "      <td>166.329630</td>\n",
              "      <td>6.592593</td>\n",
              "      <td>2.764815</td>\n",
              "      <td>2006.494444</td>\n",
              "    </tr>\n",
              "  </tbody>\n",
              "</table>\n",
              "</div>"
            ],
            "text/plain": [
              "                                    tx_price  ...      tx_year\n",
              "property_type                                 ...             \n",
              "Apartment / Condo / Townhouse  366614.034869  ...  2007.941469\n",
              "Single-Family                  464644.711111  ...  2006.494444\n",
              "\n",
              "[2 rows x 23 columns]"
            ]
          },
          "metadata": {
            "tags": []
          },
          "execution_count": 16
        }
      ]
    },
    {
      "cell_type": "markdown",
      "metadata": {
        "id": "BF7rfJCAwpcb"
      },
      "source": [
        "**Observations**:\n",
        "* Property having single-family is larger in sqft area.It also has more bedrooms than other property-type.\n",
        "* Apartment/townhouse has larger lots than the property having single-family.\n",
        "* Apartmenr/condo/Townhouse type of property is in areas with more restaurants,nightlife options,more grocery stores,shopping stores,active_life(gym,sports,yoga studios)\n",
        "* Property_type such as apartments,Condo,Townhouse is more crowded and so have more fascilities but smaller in sqft area so have lesser price whereas property-type having single-family are generally large in size and has lesser fascilities as less crowded. "
      ]
    },
    {
      "cell_type": "markdown",
      "metadata": {
        "id": "2OI-7sInwpcb"
      },
      "source": [
        "1.13. Segment 'sqft' by 'property_type' and plot the boxplots."
      ]
    },
    {
      "cell_type": "code",
      "metadata": {
        "colab": {
          "base_uri": "https://localhost:8080/",
          "height": 296
        },
        "id": "Qmznd8Pzwpcb",
        "outputId": "c2f71365-b827-426a-94e4-b24f417237a4"
      },
      "source": [
        "sns.boxplot(x=df['sqft'],y=df['property_type'])"
      ],
      "execution_count": 17,
      "outputs": [
        {
          "output_type": "execute_result",
          "data": {
            "text/plain": [
              "<matplotlib.axes._subplots.AxesSubplot at 0x7f4e475ce510>"
            ]
          },
          "metadata": {
            "tags": []
          },
          "execution_count": 17
        },
        {
          "output_type": "display_data",
          "data": {
            "image/png": "[encoded data removed]",
            "text/plain": [
              "<Figure size 432x288 with 1 Axes>"
            ]
          },
          "metadata": {
            "tags": [],
            "needs_background": "light"
          }
        }
      ]
    },
    {
      "cell_type": "markdown",
      "metadata": {
        "id": "-WUBxHlQwpcc"
      },
      "source": [
        "After producing the plot, consider these questions:\n",
        "* property-type single family is larger, on average.\n",
        "* Property-type single family has greater variance in sizes.\n",
        "* Sqft area of Apartment type property lies between 1000 to 2000 and have no much variation.It always has area lesser than single-family houses"
      ]
    },
    {
      "cell_type": "markdown",
      "metadata": {
        "id": "mEt6WIP2wpcc"
      },
      "source": [
        "1.14. Segment by property_type and display the means and standard deviations within each class"
      ]
    },
    {
      "cell_type": "code",
      "metadata": {
        "colab": {
          "base_uri": "https://localhost:8080/",
          "height": 223
        },
        "id": "H-jAwk__wpcc",
        "outputId": "f61cb490-a98f-494a-f3dc-8952929b80f3"
      },
      "source": [
        "df.groupby('property_type').agg(['mean','std'])"
      ],
      "execution_count": 18,
      "outputs": [
        {
          "output_type": "execute_result",
          "data": {
            "text/html": [
              "<div>\n",
              "<style scoped>\n",
              "    .dataframe tbody tr th:only-of-type {\n",
              "        vertical-align: middle;\n",
              "    }\n",
              "\n",
              "    .dataframe tbody tr th {\n",
              "        vertical-align: top;\n",
              "    }\n",
              "\n",
              "    .dataframe thead tr th {\n",
              "        text-align: left;\n",
              "    }\n",
              "\n",
              "    .dataframe thead tr:last-of-type th {\n",
              "        text-align: right;\n",
              "    }\n",
              "</style>\n",
              "<table border=\"1\" class=\"dataframe\">\n",
              "  <thead>\n",
              "    <tr>\n",
              "      <th></th>\n",
              "      <th colspan=\"2\" halign=\"left\">tx_price</th>\n",
              "      <th colspan=\"2\" halign=\"left\">beds</th>\n",
              "      <th colspan=\"2\" halign=\"left\">baths</th>\n",
              "      <th colspan=\"2\" halign=\"left\">sqft</th>\n",
              "      <th colspan=\"2\" halign=\"left\">year_built</th>\n",
              "      <th colspan=\"2\" halign=\"left\">lot_size</th>\n",
              "      <th colspan=\"2\" halign=\"left\">basement</th>\n",
              "      <th colspan=\"2\" halign=\"left\">restaurants</th>\n",
              "      <th colspan=\"2\" halign=\"left\">groceries</th>\n",
              "      <th colspan=\"2\" halign=\"left\">nightlife</th>\n",
              "      <th colspan=\"2\" halign=\"left\">cafes</th>\n",
              "      <th colspan=\"2\" halign=\"left\">shopping</th>\n",
              "      <th colspan=\"2\" halign=\"left\">arts_entertainment</th>\n",
              "      <th colspan=\"2\" halign=\"left\">beauty_spas</th>\n",
              "      <th colspan=\"2\" halign=\"left\">active_life</th>\n",
              "      <th colspan=\"2\" halign=\"left\">median_age</th>\n",
              "      <th colspan=\"2\" halign=\"left\">married</th>\n",
              "      <th colspan=\"2\" halign=\"left\">college_grad</th>\n",
              "      <th colspan=\"2\" halign=\"left\">property_tax</th>\n",
              "      <th colspan=\"2\" halign=\"left\">insurance</th>\n",
              "      <th colspan=\"2\" halign=\"left\">median_school</th>\n",
              "      <th colspan=\"2\" halign=\"left\">num_schools</th>\n",
              "      <th colspan=\"2\" halign=\"left\">tx_year</th>\n",
              "    </tr>\n",
              "    <tr>\n",
              "      <th></th>\n",
              "      <th>mean</th>\n",
              "      <th>std</th>\n",
              "      <th>mean</th>\n",
              "      <th>std</th>\n",
              "      <th>mean</th>\n",
              "      <th>std</th>\n",
              "      <th>mean</th>\n",
              "      <th>std</th>\n",
              "      <th>mean</th>\n",
              "      <th>std</th>\n",
              "      <th>mean</th>\n",
              "      <th>std</th>\n",
              "      <th>mean</th>\n",
              "      <th>std</th>\n",
              "      <th>mean</th>\n",
              "      <th>std</th>\n",
              "      <th>mean</th>\n",
              "      <th>std</th>\n",
              "      <th>mean</th>\n",
              "      <th>std</th>\n",
              "      <th>mean</th>\n",
              "      <th>std</th>\n",
              "      <th>mean</th>\n",
              "      <th>std</th>\n",
              "      <th>mean</th>\n",
              "      <th>std</th>\n",
              "      <th>mean</th>\n",
              "      <th>std</th>\n",
              "      <th>mean</th>\n",
              "      <th>std</th>\n",
              "      <th>mean</th>\n",
              "      <th>std</th>\n",
              "      <th>mean</th>\n",
              "      <th>std</th>\n",
              "      <th>mean</th>\n",
              "      <th>std</th>\n",
              "      <th>mean</th>\n",
              "      <th>std</th>\n",
              "      <th>mean</th>\n",
              "      <th>std</th>\n",
              "      <th>mean</th>\n",
              "      <th>std</th>\n",
              "      <th>mean</th>\n",
              "      <th>std</th>\n",
              "      <th>mean</th>\n",
              "      <th>std</th>\n",
              "    </tr>\n",
              "    <tr>\n",
              "      <th>property_type</th>\n",
              "      <th></th>\n",
              "      <th></th>\n",
              "      <th></th>\n",
              "      <th></th>\n",
              "      <th></th>\n",
              "      <th></th>\n",
              "      <th></th>\n",
              "      <th></th>\n",
              "      <th></th>\n",
              "      <th></th>\n",
              "      <th></th>\n",
              "      <th></th>\n",
              "      <th></th>\n",
              "      <th></th>\n",
              "      <th></th>\n",
              "      <th></th>\n",
              "      <th></th>\n",
              "      <th></th>\n",
              "      <th></th>\n",
              "      <th></th>\n",
              "      <th></th>\n",
              "      <th></th>\n",
              "      <th></th>\n",
              "      <th></th>\n",
              "      <th></th>\n",
              "      <th></th>\n",
              "      <th></th>\n",
              "      <th></th>\n",
              "      <th></th>\n",
              "      <th></th>\n",
              "      <th></th>\n",
              "      <th></th>\n",
              "      <th></th>\n",
              "      <th></th>\n",
              "      <th></th>\n",
              "      <th></th>\n",
              "      <th></th>\n",
              "      <th></th>\n",
              "      <th></th>\n",
              "      <th></th>\n",
              "      <th></th>\n",
              "      <th></th>\n",
              "      <th></th>\n",
              "      <th></th>\n",
              "      <th></th>\n",
              "      <th></th>\n",
              "    </tr>\n",
              "  </thead>\n",
              "  <tbody>\n",
              "    <tr>\n",
              "      <th>Apartment / Condo / Townhouse</th>\n",
              "      <td>366614.034869</td>\n",
              "      <td>121784.490486</td>\n",
              "      <td>2.601494</td>\n",
              "      <td>0.810220</td>\n",
              "      <td>2.200498</td>\n",
              "      <td>0.815009</td>\n",
              "      <td>1513.727273</td>\n",
              "      <td>556.286650</td>\n",
              "      <td>1988.936488</td>\n",
              "      <td>15.513640</td>\n",
              "      <td>3944.239103</td>\n",
              "      <td>44284.168767</td>\n",
              "      <td>1.0</td>\n",
              "      <td>0.0</td>\n",
              "      <td>58.418431</td>\n",
              "      <td>54.343594</td>\n",
              "      <td>5.919054</td>\n",
              "      <td>4.645774</td>\n",
              "      <td>7.855542</td>\n",
              "      <td>10.643816</td>\n",
              "      <td>8.037360</td>\n",
              "      <td>9.077038</td>\n",
              "      <td>57.631382</td>\n",
              "      <td>61.852299</td>\n",
              "      <td>4.840598</td>\n",
              "      <td>5.234834</td>\n",
              "      <td>32.087173</td>\n",
              "      <td>26.910443</td>\n",
              "      <td>22.410959</td>\n",
              "      <td>21.058178</td>\n",
              "      <td>37.199253</td>\n",
              "      <td>6.906584</td>\n",
              "      <td>57.534247</td>\n",
              "      <td>20.372706</td>\n",
              "      <td>66.372354</td>\n",
              "      <td>17.095874</td>\n",
              "      <td>346.261519</td>\n",
              "      <td>142.292282</td>\n",
              "      <td>105.652553</td>\n",
              "      <td>47.118015</td>\n",
              "      <td>6.382316</td>\n",
              "      <td>1.941998</td>\n",
              "      <td>2.831880</td>\n",
              "      <td>0.455370</td>\n",
              "      <td>2007.941469</td>\n",
              "      <td>4.099487</td>\n",
              "    </tr>\n",
              "    <tr>\n",
              "      <th>Single-Family</th>\n",
              "      <td>464644.711111</td>\n",
              "      <td>157758.739013</td>\n",
              "      <td>4.029630</td>\n",
              "      <td>0.795639</td>\n",
              "      <td>2.862037</td>\n",
              "      <td>0.937551</td>\n",
              "      <td>2935.865741</td>\n",
              "      <td>1422.871169</td>\n",
              "      <td>1978.523148</td>\n",
              "      <td>22.210582</td>\n",
              "      <td>20417.666667</td>\n",
              "      <td>44165.529302</td>\n",
              "      <td>1.0</td>\n",
              "      <td>0.0</td>\n",
              "      <td>26.672222</td>\n",
              "      <td>34.726416</td>\n",
              "      <td>3.453704</td>\n",
              "      <td>4.067285</td>\n",
              "      <td>3.007407</td>\n",
              "      <td>5.543822</td>\n",
              "      <td>3.308333</td>\n",
              "      <td>5.325053</td>\n",
              "      <td>28.289815</td>\n",
              "      <td>42.292313</td>\n",
              "      <td>2.318519</td>\n",
              "      <td>3.929691</td>\n",
              "      <td>16.970370</td>\n",
              "      <td>22.872112</td>\n",
              "      <td>10.946296</td>\n",
              "      <td>12.599296</td>\n",
              "      <td>39.643519</td>\n",
              "      <td>6.225732</td>\n",
              "      <td>77.685185</td>\n",
              "      <td>13.868205</td>\n",
              "      <td>64.128704</td>\n",
              "      <td>16.790347</td>\n",
              "      <td>556.383333</td>\n",
              "      <td>244.351559</td>\n",
              "      <td>166.329630</td>\n",
              "      <td>77.816022</td>\n",
              "      <td>6.592593</td>\n",
              "      <td>2.031663</td>\n",
              "      <td>2.764815</td>\n",
              "      <td>0.537959</td>\n",
              "      <td>2006.494444</td>\n",
              "      <td>5.807059</td>\n",
              "    </tr>\n",
              "  </tbody>\n",
              "</table>\n",
              "</div>"
            ],
            "text/plain": [
              "                                    tx_price  ...   tx_year\n",
              "                                        mean  ...       std\n",
              "property_type                                 ...          \n",
              "Apartment / Condo / Townhouse  366614.034869  ...  4.099487\n",
              "Single-Family                  464644.711111  ...  5.807059\n",
              "\n",
              "[2 rows x 46 columns]"
            ]
          },
          "metadata": {
            "tags": []
          },
          "execution_count": 18
        }
      ]
    },
    {
      "cell_type": "markdown",
      "metadata": {
        "id": "aWPsbmMgwpcc"
      },
      "source": [
        "## Correlations\n",
        "* Finally, let's take a look at the relationships between numeric features and other numeric features.\n",
        "* ***Correlation*** is a value between -1 and 1 that represents how closely values for two separate features move in unison.\n",
        "* Positive correlation means that as one feature increases, the other increases; eg. a child's age and her height.\n",
        "* Negative correlation means that as one feature increases, the other decreases; eg. hours spent studying and number of parties attended.\n",
        "* Correlations near -1 or 1 indicate a strong relationship.\n",
        "* Those closer to 0 indicate a weak relationship.\n",
        "* 0 indicates no relationship."
      ]
    },
    {
      "cell_type": "markdown",
      "metadata": {
        "id": "y7vIFfV3TM_N"
      },
      "source": [
        "1.15. Print out the correlation of the data"
      ]
    },
    {
      "cell_type": "code",
      "metadata": {
        "colab": {
          "base_uri": "https://localhost:8080/",
          "height": 760
        },
        "id": "COFchqiJwpcd",
        "outputId": "6f4e7f3b-64b4-4408-e428-6db917846df9"
      },
      "source": [
        "df.corr()"
      ],
      "execution_count": 19,
      "outputs": [
        {
          "output_type": "execute_result",
          "data": {
            "text/html": [
              "<div>\n",
              "<style scoped>\n",
              "    .dataframe tbody tr th:only-of-type {\n",
              "        vertical-align: middle;\n",
              "    }\n",
              "\n",
              "    .dataframe tbody tr th {\n",
              "        vertical-align: top;\n",
              "    }\n",
              "\n",
              "    .dataframe thead th {\n",
              "        text-align: right;\n",
              "    }\n",
              "</style>\n",
              "<table border=\"1\" class=\"dataframe\">\n",
              "  <thead>\n",
              "    <tr style=\"text-align: right;\">\n",
              "      <th></th>\n",
              "      <th>tx_price</th>\n",
              "      <th>beds</th>\n",
              "      <th>baths</th>\n",
              "      <th>sqft</th>\n",
              "      <th>year_built</th>\n",
              "      <th>lot_size</th>\n",
              "      <th>basement</th>\n",
              "      <th>restaurants</th>\n",
              "      <th>groceries</th>\n",
              "      <th>nightlife</th>\n",
              "      <th>cafes</th>\n",
              "      <th>shopping</th>\n",
              "      <th>arts_entertainment</th>\n",
              "      <th>beauty_spas</th>\n",
              "      <th>active_life</th>\n",
              "      <th>median_age</th>\n",
              "      <th>married</th>\n",
              "      <th>college_grad</th>\n",
              "      <th>property_tax</th>\n",
              "      <th>insurance</th>\n",
              "      <th>median_school</th>\n",
              "      <th>num_schools</th>\n",
              "      <th>tx_year</th>\n",
              "    </tr>\n",
              "  </thead>\n",
              "  <tbody>\n",
              "    <tr>\n",
              "      <th>tx_price</th>\n",
              "      <td>1.000000</td>\n",
              "      <td>0.384046</td>\n",
              "      <td>0.389375</td>\n",
              "      <td>0.469573</td>\n",
              "      <td>0.033138</td>\n",
              "      <td>0.130558</td>\n",
              "      <td>NaN</td>\n",
              "      <td>-0.038027</td>\n",
              "      <td>-0.094314</td>\n",
              "      <td>0.009361</td>\n",
              "      <td>-0.001398</td>\n",
              "      <td>-0.038246</td>\n",
              "      <td>-0.021076</td>\n",
              "      <td>-0.054349</td>\n",
              "      <td>-0.001165</td>\n",
              "      <td>0.126335</td>\n",
              "      <td>0.200494</td>\n",
              "      <td>0.268577</td>\n",
              "      <td>0.535148</td>\n",
              "      <td>0.532947</td>\n",
              "      <td>0.175762</td>\n",
              "      <td>-0.014380</td>\n",
              "      <td>0.108782</td>\n",
              "    </tr>\n",
              "    <tr>\n",
              "      <th>beds</th>\n",
              "      <td>0.384046</td>\n",
              "      <td>1.000000</td>\n",
              "      <td>0.644572</td>\n",
              "      <td>0.691039</td>\n",
              "      <td>-0.011844</td>\n",
              "      <td>0.164399</td>\n",
              "      <td>NaN</td>\n",
              "      <td>-0.495834</td>\n",
              "      <td>-0.421412</td>\n",
              "      <td>-0.440844</td>\n",
              "      <td>-0.464289</td>\n",
              "      <td>-0.388670</td>\n",
              "      <td>-0.442168</td>\n",
              "      <td>-0.419832</td>\n",
              "      <td>-0.486957</td>\n",
              "      <td>0.133711</td>\n",
              "      <td>0.643240</td>\n",
              "      <td>-0.082354</td>\n",
              "      <td>0.547643</td>\n",
              "      <td>0.485776</td>\n",
              "      <td>0.137309</td>\n",
              "      <td>-0.124359</td>\n",
              "      <td>-0.174081</td>\n",
              "    </tr>\n",
              "    <tr>\n",
              "      <th>baths</th>\n",
              "      <td>0.389375</td>\n",
              "      <td>0.644572</td>\n",
              "      <td>1.000000</td>\n",
              "      <td>0.682060</td>\n",
              "      <td>0.206141</td>\n",
              "      <td>0.132976</td>\n",
              "      <td>NaN</td>\n",
              "      <td>-0.350210</td>\n",
              "      <td>-0.340024</td>\n",
              "      <td>-0.306686</td>\n",
              "      <td>-0.316836</td>\n",
              "      <td>-0.259603</td>\n",
              "      <td>-0.305885</td>\n",
              "      <td>-0.282008</td>\n",
              "      <td>-0.329736</td>\n",
              "      <td>0.095844</td>\n",
              "      <td>0.442225</td>\n",
              "      <td>0.016097</td>\n",
              "      <td>0.525776</td>\n",
              "      <td>0.475430</td>\n",
              "      <td>0.163365</td>\n",
              "      <td>-0.088299</td>\n",
              "      <td>-0.132110</td>\n",
              "    </tr>\n",
              "    <tr>\n",
              "      <th>sqft</th>\n",
              "      <td>0.469573</td>\n",
              "      <td>0.691039</td>\n",
              "      <td>0.682060</td>\n",
              "      <td>1.000000</td>\n",
              "      <td>0.254589</td>\n",
              "      <td>0.246016</td>\n",
              "      <td>NaN</td>\n",
              "      <td>-0.353759</td>\n",
              "      <td>-0.371167</td>\n",
              "      <td>-0.281540</td>\n",
              "      <td>-0.300969</td>\n",
              "      <td>-0.275586</td>\n",
              "      <td>-0.293402</td>\n",
              "      <td>-0.310465</td>\n",
              "      <td>-0.332663</td>\n",
              "      <td>0.109811</td>\n",
              "      <td>0.480167</td>\n",
              "      <td>0.065343</td>\n",
              "      <td>0.660264</td>\n",
              "      <td>0.594049</td>\n",
              "      <td>0.220669</td>\n",
              "      <td>-0.102032</td>\n",
              "      <td>-0.236190</td>\n",
              "    </tr>\n",
              "    <tr>\n",
              "      <th>year_built</th>\n",
              "      <td>0.033138</td>\n",
              "      <td>-0.011844</td>\n",
              "      <td>0.206141</td>\n",
              "      <td>0.254589</td>\n",
              "      <td>1.000000</td>\n",
              "      <td>0.000068</td>\n",
              "      <td>NaN</td>\n",
              "      <td>-0.106948</td>\n",
              "      <td>-0.222443</td>\n",
              "      <td>-0.080006</td>\n",
              "      <td>-0.102209</td>\n",
              "      <td>-0.121684</td>\n",
              "      <td>-0.195141</td>\n",
              "      <td>-0.163670</td>\n",
              "      <td>-0.134919</td>\n",
              "      <td>-0.237152</td>\n",
              "      <td>0.038208</td>\n",
              "      <td>-0.014204</td>\n",
              "      <td>-0.046504</td>\n",
              "      <td>-0.109521</td>\n",
              "      <td>0.155835</td>\n",
              "      <td>-0.188106</td>\n",
              "      <td>-0.043301</td>\n",
              "    </tr>\n",
              "    <tr>\n",
              "      <th>lot_size</th>\n",
              "      <td>0.130558</td>\n",
              "      <td>0.164399</td>\n",
              "      <td>0.132976</td>\n",
              "      <td>0.246016</td>\n",
              "      <td>0.000068</td>\n",
              "      <td>1.000000</td>\n",
              "      <td>NaN</td>\n",
              "      <td>-0.113887</td>\n",
              "      <td>-0.118574</td>\n",
              "      <td>-0.072224</td>\n",
              "      <td>-0.098182</td>\n",
              "      <td>-0.116560</td>\n",
              "      <td>-0.067189</td>\n",
              "      <td>-0.121075</td>\n",
              "      <td>-0.092668</td>\n",
              "      <td>0.099140</td>\n",
              "      <td>0.122028</td>\n",
              "      <td>-0.030725</td>\n",
              "      <td>0.165800</td>\n",
              "      <td>0.146579</td>\n",
              "      <td>0.096551</td>\n",
              "      <td>-0.031535</td>\n",
              "      <td>-0.048207</td>\n",
              "    </tr>\n",
              "    <tr>\n",
              "      <th>basement</th>\n",
              "      <td>NaN</td>\n",
              "      <td>NaN</td>\n",
              "      <td>NaN</td>\n",
              "      <td>NaN</td>\n",
              "      <td>NaN</td>\n",
              "      <td>NaN</td>\n",
              "      <td>NaN</td>\n",
              "      <td>NaN</td>\n",
              "      <td>NaN</td>\n",
              "      <td>NaN</td>\n",
              "      <td>NaN</td>\n",
              "      <td>NaN</td>\n",
              "      <td>NaN</td>\n",
              "      <td>NaN</td>\n",
              "      <td>NaN</td>\n",
              "      <td>NaN</td>\n",
              "      <td>NaN</td>\n",
              "      <td>NaN</td>\n",
              "      <td>NaN</td>\n",
              "      <td>NaN</td>\n",
              "      <td>NaN</td>\n",
              "      <td>NaN</td>\n",
              "      <td>NaN</td>\n",
              "    </tr>\n",
              "    <tr>\n",
              "      <th>restaurants</th>\n",
              "      <td>-0.038027</td>\n",
              "      <td>-0.495834</td>\n",
              "      <td>-0.350210</td>\n",
              "      <td>-0.353759</td>\n",
              "      <td>-0.106948</td>\n",
              "      <td>-0.113887</td>\n",
              "      <td>NaN</td>\n",
              "      <td>1.000000</td>\n",
              "      <td>0.701462</td>\n",
              "      <td>0.926675</td>\n",
              "      <td>0.937616</td>\n",
              "      <td>0.818815</td>\n",
              "      <td>0.726907</td>\n",
              "      <td>0.867829</td>\n",
              "      <td>0.881799</td>\n",
              "      <td>-0.063816</td>\n",
              "      <td>-0.615584</td>\n",
              "      <td>0.214260</td>\n",
              "      <td>-0.100821</td>\n",
              "      <td>-0.019925</td>\n",
              "      <td>-0.068425</td>\n",
              "      <td>0.251171</td>\n",
              "      <td>0.044739</td>\n",
              "    </tr>\n",
              "    <tr>\n",
              "      <th>groceries</th>\n",
              "      <td>-0.094314</td>\n",
              "      <td>-0.421412</td>\n",
              "      <td>-0.340024</td>\n",
              "      <td>-0.371167</td>\n",
              "      <td>-0.222443</td>\n",
              "      <td>-0.118574</td>\n",
              "      <td>NaN</td>\n",
              "      <td>0.701462</td>\n",
              "      <td>1.000000</td>\n",
              "      <td>0.565003</td>\n",
              "      <td>0.602857</td>\n",
              "      <td>0.526356</td>\n",
              "      <td>0.502837</td>\n",
              "      <td>0.626850</td>\n",
              "      <td>0.574532</td>\n",
              "      <td>-0.022377</td>\n",
              "      <td>-0.508793</td>\n",
              "      <td>-0.006025</td>\n",
              "      <td>-0.159506</td>\n",
              "      <td>-0.093974</td>\n",
              "      <td>-0.354553</td>\n",
              "      <td>0.272856</td>\n",
              "      <td>0.115674</td>\n",
              "    </tr>\n",
              "    <tr>\n",
              "      <th>nightlife</th>\n",
              "      <td>0.009361</td>\n",
              "      <td>-0.440844</td>\n",
              "      <td>-0.306686</td>\n",
              "      <td>-0.281540</td>\n",
              "      <td>-0.080006</td>\n",
              "      <td>-0.072224</td>\n",
              "      <td>NaN</td>\n",
              "      <td>0.926675</td>\n",
              "      <td>0.565003</td>\n",
              "      <td>1.000000</td>\n",
              "      <td>0.923901</td>\n",
              "      <td>0.743321</td>\n",
              "      <td>0.703038</td>\n",
              "      <td>0.777461</td>\n",
              "      <td>0.858836</td>\n",
              "      <td>-0.028611</td>\n",
              "      <td>-0.568811</td>\n",
              "      <td>0.253717</td>\n",
              "      <td>-0.054386</td>\n",
              "      <td>0.024551</td>\n",
              "      <td>-0.036948</td>\n",
              "      <td>0.196399</td>\n",
              "      <td>0.027495</td>\n",
              "    </tr>\n",
              "    <tr>\n",
              "      <th>cafes</th>\n",
              "      <td>-0.001398</td>\n",
              "      <td>-0.464289</td>\n",
              "      <td>-0.316836</td>\n",
              "      <td>-0.300969</td>\n",
              "      <td>-0.102209</td>\n",
              "      <td>-0.098182</td>\n",
              "      <td>NaN</td>\n",
              "      <td>0.937616</td>\n",
              "      <td>0.602857</td>\n",
              "      <td>0.923901</td>\n",
              "      <td>1.000000</td>\n",
              "      <td>0.837058</td>\n",
              "      <td>0.694575</td>\n",
              "      <td>0.822541</td>\n",
              "      <td>0.826648</td>\n",
              "      <td>0.026400</td>\n",
              "      <td>-0.581850</td>\n",
              "      <td>0.266652</td>\n",
              "      <td>-0.044410</td>\n",
              "      <td>0.036502</td>\n",
              "      <td>-0.027868</td>\n",
              "      <td>0.224312</td>\n",
              "      <td>0.013558</td>\n",
              "    </tr>\n",
              "    <tr>\n",
              "      <th>shopping</th>\n",
              "      <td>-0.038246</td>\n",
              "      <td>-0.388670</td>\n",
              "      <td>-0.259603</td>\n",
              "      <td>-0.275586</td>\n",
              "      <td>-0.121684</td>\n",
              "      <td>-0.116560</td>\n",
              "      <td>NaN</td>\n",
              "      <td>0.818815</td>\n",
              "      <td>0.526356</td>\n",
              "      <td>0.743321</td>\n",
              "      <td>0.837058</td>\n",
              "      <td>1.000000</td>\n",
              "      <td>0.653803</td>\n",
              "      <td>0.860987</td>\n",
              "      <td>0.678515</td>\n",
              "      <td>0.032339</td>\n",
              "      <td>-0.454072</td>\n",
              "      <td>0.177383</td>\n",
              "      <td>-0.040556</td>\n",
              "      <td>0.018846</td>\n",
              "      <td>-0.048058</td>\n",
              "      <td>0.228988</td>\n",
              "      <td>-0.000324</td>\n",
              "    </tr>\n",
              "    <tr>\n",
              "      <th>arts_entertainment</th>\n",
              "      <td>-0.021076</td>\n",
              "      <td>-0.442168</td>\n",
              "      <td>-0.305885</td>\n",
              "      <td>-0.293402</td>\n",
              "      <td>-0.195141</td>\n",
              "      <td>-0.067189</td>\n",
              "      <td>NaN</td>\n",
              "      <td>0.726907</td>\n",
              "      <td>0.502837</td>\n",
              "      <td>0.703038</td>\n",
              "      <td>0.694575</td>\n",
              "      <td>0.653803</td>\n",
              "      <td>1.000000</td>\n",
              "      <td>0.757860</td>\n",
              "      <td>0.800994</td>\n",
              "      <td>-0.014640</td>\n",
              "      <td>-0.554533</td>\n",
              "      <td>0.239129</td>\n",
              "      <td>-0.066346</td>\n",
              "      <td>0.015380</td>\n",
              "      <td>-0.138266</td>\n",
              "      <td>0.214163</td>\n",
              "      <td>0.034356</td>\n",
              "    </tr>\n",
              "    <tr>\n",
              "      <th>beauty_spas</th>\n",
              "      <td>-0.054349</td>\n",
              "      <td>-0.419832</td>\n",
              "      <td>-0.282008</td>\n",
              "      <td>-0.310465</td>\n",
              "      <td>-0.163670</td>\n",
              "      <td>-0.121075</td>\n",
              "      <td>NaN</td>\n",
              "      <td>0.867829</td>\n",
              "      <td>0.626850</td>\n",
              "      <td>0.777461</td>\n",
              "      <td>0.822541</td>\n",
              "      <td>0.860987</td>\n",
              "      <td>0.757860</td>\n",
              "      <td>1.000000</td>\n",
              "      <td>0.785920</td>\n",
              "      <td>-0.002961</td>\n",
              "      <td>-0.510331</td>\n",
              "      <td>0.177066</td>\n",
              "      <td>-0.057293</td>\n",
              "      <td>0.010980</td>\n",
              "      <td>-0.098727</td>\n",
              "      <td>0.262651</td>\n",
              "      <td>0.008066</td>\n",
              "    </tr>\n",
              "    <tr>\n",
              "      <th>active_life</th>\n",
              "      <td>-0.001165</td>\n",
              "      <td>-0.486957</td>\n",
              "      <td>-0.329736</td>\n",
              "      <td>-0.332663</td>\n",
              "      <td>-0.134919</td>\n",
              "      <td>-0.092668</td>\n",
              "      <td>NaN</td>\n",
              "      <td>0.881799</td>\n",
              "      <td>0.574532</td>\n",
              "      <td>0.858836</td>\n",
              "      <td>0.826648</td>\n",
              "      <td>0.678515</td>\n",
              "      <td>0.800994</td>\n",
              "      <td>0.785920</td>\n",
              "      <td>1.000000</td>\n",
              "      <td>-0.081159</td>\n",
              "      <td>-0.632052</td>\n",
              "      <td>0.323985</td>\n",
              "      <td>-0.057646</td>\n",
              "      <td>0.030911</td>\n",
              "      <td>0.007675</td>\n",
              "      <td>0.235246</td>\n",
              "      <td>0.028759</td>\n",
              "    </tr>\n",
              "    <tr>\n",
              "      <th>median_age</th>\n",
              "      <td>0.126335</td>\n",
              "      <td>0.133711</td>\n",
              "      <td>0.095844</td>\n",
              "      <td>0.109811</td>\n",
              "      <td>-0.237152</td>\n",
              "      <td>0.099140</td>\n",
              "      <td>NaN</td>\n",
              "      <td>-0.063816</td>\n",
              "      <td>-0.022377</td>\n",
              "      <td>-0.028611</td>\n",
              "      <td>0.026400</td>\n",
              "      <td>0.032339</td>\n",
              "      <td>-0.014640</td>\n",
              "      <td>-0.002961</td>\n",
              "      <td>-0.081159</td>\n",
              "      <td>1.000000</td>\n",
              "      <td>0.045555</td>\n",
              "      <td>0.169749</td>\n",
              "      <td>0.215435</td>\n",
              "      <td>0.232503</td>\n",
              "      <td>-0.002861</td>\n",
              "      <td>0.071455</td>\n",
              "      <td>-0.118490</td>\n",
              "    </tr>\n",
              "    <tr>\n",
              "      <th>married</th>\n",
              "      <td>0.200494</td>\n",
              "      <td>0.643240</td>\n",
              "      <td>0.442225</td>\n",
              "      <td>0.480167</td>\n",
              "      <td>0.038208</td>\n",
              "      <td>0.122028</td>\n",
              "      <td>NaN</td>\n",
              "      <td>-0.615584</td>\n",
              "      <td>-0.508793</td>\n",
              "      <td>-0.568811</td>\n",
              "      <td>-0.581850</td>\n",
              "      <td>-0.454072</td>\n",
              "      <td>-0.554533</td>\n",
              "      <td>-0.510331</td>\n",
              "      <td>-0.632052</td>\n",
              "      <td>0.045555</td>\n",
              "      <td>1.000000</td>\n",
              "      <td>-0.143461</td>\n",
              "      <td>0.305330</td>\n",
              "      <td>0.233701</td>\n",
              "      <td>0.169439</td>\n",
              "      <td>-0.212870</td>\n",
              "      <td>-0.134787</td>\n",
              "    </tr>\n",
              "    <tr>\n",
              "      <th>college_grad</th>\n",
              "      <td>0.268577</td>\n",
              "      <td>-0.082354</td>\n",
              "      <td>0.016097</td>\n",
              "      <td>0.065343</td>\n",
              "      <td>-0.014204</td>\n",
              "      <td>-0.030725</td>\n",
              "      <td>NaN</td>\n",
              "      <td>0.214260</td>\n",
              "      <td>-0.006025</td>\n",
              "      <td>0.253717</td>\n",
              "      <td>0.266652</td>\n",
              "      <td>0.177383</td>\n",
              "      <td>0.239129</td>\n",
              "      <td>0.177066</td>\n",
              "      <td>0.323985</td>\n",
              "      <td>0.169749</td>\n",
              "      <td>-0.143461</td>\n",
              "      <td>1.000000</td>\n",
              "      <td>0.287933</td>\n",
              "      <td>0.326057</td>\n",
              "      <td>0.400306</td>\n",
              "      <td>0.049756</td>\n",
              "      <td>-0.189932</td>\n",
              "    </tr>\n",
              "    <tr>\n",
              "      <th>property_tax</th>\n",
              "      <td>0.535148</td>\n",
              "      <td>0.547643</td>\n",
              "      <td>0.525776</td>\n",
              "      <td>0.660264</td>\n",
              "      <td>-0.046504</td>\n",
              "      <td>0.165800</td>\n",
              "      <td>NaN</td>\n",
              "      <td>-0.100821</td>\n",
              "      <td>-0.159506</td>\n",
              "      <td>-0.054386</td>\n",
              "      <td>-0.044410</td>\n",
              "      <td>-0.040556</td>\n",
              "      <td>-0.066346</td>\n",
              "      <td>-0.057293</td>\n",
              "      <td>-0.057646</td>\n",
              "      <td>0.215435</td>\n",
              "      <td>0.305330</td>\n",
              "      <td>0.287933</td>\n",
              "      <td>1.000000</td>\n",
              "      <td>0.984724</td>\n",
              "      <td>0.237455</td>\n",
              "      <td>0.037342</td>\n",
              "      <td>-0.257703</td>\n",
              "    </tr>\n",
              "    <tr>\n",
              "      <th>insurance</th>\n",
              "      <td>0.532947</td>\n",
              "      <td>0.485776</td>\n",
              "      <td>0.475430</td>\n",
              "      <td>0.594049</td>\n",
              "      <td>-0.109521</td>\n",
              "      <td>0.146579</td>\n",
              "      <td>NaN</td>\n",
              "      <td>-0.019925</td>\n",
              "      <td>-0.093974</td>\n",
              "      <td>0.024551</td>\n",
              "      <td>0.036502</td>\n",
              "      <td>0.018846</td>\n",
              "      <td>0.015380</td>\n",
              "      <td>0.010980</td>\n",
              "      <td>0.030911</td>\n",
              "      <td>0.232503</td>\n",
              "      <td>0.233701</td>\n",
              "      <td>0.326057</td>\n",
              "      <td>0.984724</td>\n",
              "      <td>1.000000</td>\n",
              "      <td>0.234889</td>\n",
              "      <td>0.056985</td>\n",
              "      <td>-0.254706</td>\n",
              "    </tr>\n",
              "    <tr>\n",
              "      <th>median_school</th>\n",
              "      <td>0.175762</td>\n",
              "      <td>0.137309</td>\n",
              "      <td>0.163365</td>\n",
              "      <td>0.220669</td>\n",
              "      <td>0.155835</td>\n",
              "      <td>0.096551</td>\n",
              "      <td>NaN</td>\n",
              "      <td>-0.068425</td>\n",
              "      <td>-0.354553</td>\n",
              "      <td>-0.036948</td>\n",
              "      <td>-0.027868</td>\n",
              "      <td>-0.048058</td>\n",
              "      <td>-0.138266</td>\n",
              "      <td>-0.098727</td>\n",
              "      <td>0.007675</td>\n",
              "      <td>-0.002861</td>\n",
              "      <td>0.169439</td>\n",
              "      <td>0.400306</td>\n",
              "      <td>0.237455</td>\n",
              "      <td>0.234889</td>\n",
              "      <td>1.000000</td>\n",
              "      <td>-0.145572</td>\n",
              "      <td>-0.167141</td>\n",
              "    </tr>\n",
              "    <tr>\n",
              "      <th>num_schools</th>\n",
              "      <td>-0.014380</td>\n",
              "      <td>-0.124359</td>\n",
              "      <td>-0.088299</td>\n",
              "      <td>-0.102032</td>\n",
              "      <td>-0.188106</td>\n",
              "      <td>-0.031535</td>\n",
              "      <td>NaN</td>\n",
              "      <td>0.251171</td>\n",
              "      <td>0.272856</td>\n",
              "      <td>0.196399</td>\n",
              "      <td>0.224312</td>\n",
              "      <td>0.228988</td>\n",
              "      <td>0.214163</td>\n",
              "      <td>0.262651</td>\n",
              "      <td>0.235246</td>\n",
              "      <td>0.071455</td>\n",
              "      <td>-0.212870</td>\n",
              "      <td>0.049756</td>\n",
              "      <td>0.037342</td>\n",
              "      <td>0.056985</td>\n",
              "      <td>-0.145572</td>\n",
              "      <td>1.000000</td>\n",
              "      <td>0.007361</td>\n",
              "    </tr>\n",
              "    <tr>\n",
              "      <th>tx_year</th>\n",
              "      <td>0.108782</td>\n",
              "      <td>-0.174081</td>\n",
              "      <td>-0.132110</td>\n",
              "      <td>-0.236190</td>\n",
              "      <td>-0.043301</td>\n",
              "      <td>-0.048207</td>\n",
              "      <td>NaN</td>\n",
              "      <td>0.044739</td>\n",
              "      <td>0.115674</td>\n",
              "      <td>0.027495</td>\n",
              "      <td>0.013558</td>\n",
              "      <td>-0.000324</td>\n",
              "      <td>0.034356</td>\n",
              "      <td>0.008066</td>\n",
              "      <td>0.028759</td>\n",
              "      <td>-0.118490</td>\n",
              "      <td>-0.134787</td>\n",
              "      <td>-0.189932</td>\n",
              "      <td>-0.257703</td>\n",
              "      <td>-0.254706</td>\n",
              "      <td>-0.167141</td>\n",
              "      <td>0.007361</td>\n",
              "      <td>1.000000</td>\n",
              "    </tr>\n",
              "  </tbody>\n",
              "</table>\n",
              "</div>"
            ],
            "text/plain": [
              "                    tx_price      beds  ...  num_schools   tx_year\n",
              "tx_price            1.000000  0.384046  ...    -0.014380  0.108782\n",
              "beds                0.384046  1.000000  ...    -0.124359 -0.174081\n",
              "baths               0.389375  0.644572  ...    -0.088299 -0.132110\n",
              "sqft                0.469573  0.691039  ...    -0.102032 -0.236190\n",
              "year_built          0.033138 -0.011844  ...    -0.188106 -0.043301\n",
              "lot_size            0.130558  0.164399  ...    -0.031535 -0.048207\n",
              "basement                 NaN       NaN  ...          NaN       NaN\n",
              "restaurants        -0.038027 -0.495834  ...     0.251171  0.044739\n",
              "groceries          -0.094314 -0.421412  ...     0.272856  0.115674\n",
              "nightlife           0.009361 -0.440844  ...     0.196399  0.027495\n",
              "cafes              -0.001398 -0.464289  ...     0.224312  0.013558\n",
              "shopping           -0.038246 -0.388670  ...     0.228988 -0.000324\n",
              "arts_entertainment -0.021076 -0.442168  ...     0.214163  0.034356\n",
              "beauty_spas        -0.054349 -0.419832  ...     0.262651  0.008066\n",
              "active_life        -0.001165 -0.486957  ...     0.235246  0.028759\n",
              "median_age          0.126335  0.133711  ...     0.071455 -0.118490\n",
              "married             0.200494  0.643240  ...    -0.212870 -0.134787\n",
              "college_grad        0.268577 -0.082354  ...     0.049756 -0.189932\n",
              "property_tax        0.535148  0.547643  ...     0.037342 -0.257703\n",
              "insurance           0.532947  0.485776  ...     0.056985 -0.254706\n",
              "median_school       0.175762  0.137309  ...    -0.145572 -0.167141\n",
              "num_schools        -0.014380 -0.124359  ...     1.000000  0.007361\n",
              "tx_year             0.108782 -0.174081  ...     0.007361  1.000000\n",
              "\n",
              "[23 rows x 23 columns]"
            ]
          },
          "metadata": {
            "tags": []
          },
          "execution_count": 19
        }
      ]
    },
    {
      "cell_type": "markdown",
      "metadata": {
        "id": "zEu1alzqwpcd"
      },
      "source": [
        "#### A lot of numbers make things difficult to read. So let's visualize this.\n",
        "But first, it's important to notice that the correlations for 'basement' all show as NaN. This is expected because right now that feature doesn't vary at all (its standard deviation is 0), as we saw all the way back in step 2. We'll fix this later."
      ]
    },
    {
      "cell_type": "markdown",
      "metadata": {
        "id": "xoM556SlTdpL"
      },
      "source": [
        "1.16. Show the heatmap of the correlation"
      ]
    },
    {
      "cell_type": "code",
      "metadata": {
        "colab": {
          "base_uri": "https://localhost:8080/",
          "height": 699
        },
        "id": "QsYB1N1Ewpcd",
        "outputId": "147f91db-4ac7-43b7-a244-3492b2cedaf3"
      },
      "source": [
        "plt.figure(figsize=(10,10))\n",
        "sns.heatmap(df.corr())"
      ],
      "execution_count": 20,
      "outputs": [
        {
          "output_type": "execute_result",
          "data": {
            "text/plain": [
              "<matplotlib.axes._subplots.AxesSubplot at 0x7f4e477f2050>"
            ]
          },
          "metadata": {
            "tags": []
          },
          "execution_count": 20
        },
        {
          "output_type": "display_data",
          "data": {
            "image/png": "[encoded data removed]",
            "text/plain": [
              "<Figure size 720x720 with 2 Axes>"
            ]
          },
          "metadata": {
            "tags": [],
            "needs_background": "light"
          }
        }
      ]
    },
    {
      "cell_type": "markdown",
      "metadata": {
        "id": "L9BGekvcwpcd"
      },
      "source": [
        "**What to look for?**\n",
        "* The colorbar on the right explains the meaning of the heatmap - Dark colors indicate **strong negative correlations** and light colors indicate **strong positive correlations**.\n",
        "* Perhaps the most helpful way to interpret this correlation heatmap is to first find features that are correlated with our target variable by scanning the first column.\n",
        "* In this case, it doesn't look like many features are strongly correlated with the target variable.\n",
        "\n",
        "* Example: there is a strong negative correlation between beds and restaurants, or gloceries and median_schools.\n",
        "* There is a weak positive correlation between 'tx_price' and 'property_tax'."
      ]
    },
    {
      "cell_type": "code",
      "metadata": {
        "colab": {
          "base_uri": "https://localhost:8080/",
          "height": 678
        },
        "id": "dq7Hj-yNwpce",
        "outputId": "ec31da47-3143-4e1f-a8be-93c421dc4dae"
      },
      "source": [
        "mask=np.zeros_like(df.corr())\n",
        "mask[np.triu_indices_from(mask)] = True\n",
        "plt.figure(figsize=(10,10))\n",
        "with sns.axes_style(\"white\"):\n",
        "    ax = sns.heatmap(df.corr()*100, mask=mask, fmt='.0f', annot=True, lw=1, cmap=ListedColormap(['green', 'yellow', 'red','blue']))"
      ],
      "execution_count": 21,
      "outputs": [
        {
          "output_type": "display_data",
          "data": {
            "image/png": "[encoded data removed]",
            "text/plain": [
              "<Figure size 720x720 with 2 Axes>"
            ]
          },
          "metadata": {
            "tags": [],
            "needs_background": "light"
          }
        }
      ]
    },
    {
      "cell_type": "markdown",
      "metadata": {
        "id": "9aVxipRwwpce"
      },
      "source": [
        "# Data Cleaning"
      ]
    },
    {
      "cell_type": "markdown",
      "metadata": {
        "id": "oi-6HxQOwpce"
      },
      "source": [
        "1.17. Dropping the duplicates (De-duplication)\n"
      ]
    },
    {
      "cell_type": "code",
      "metadata": {
        "id": "ydk--WtTwpcf",
        "colab": {
          "base_uri": "https://localhost:8080/"
        },
        "outputId": "d09f15eb-2c09-4986-e6bc-89b00fc5a11c"
      },
      "source": [
        "df = df.drop_duplicates()\n",
        "df.shape"
      ],
      "execution_count": 22,
      "outputs": [
        {
          "output_type": "execute_result",
          "data": {
            "text/plain": [
              "(1883, 26)"
            ]
          },
          "metadata": {
            "tags": []
          },
          "execution_count": 22
        }
      ]
    },
    {
      "cell_type": "markdown",
      "metadata": {
        "id": "B2eQVQguwpcf"
      },
      "source": [
        "It looks like we didn't have any duplicates in our original dataset. Even so, it's a good idea to check this as an easy first step for cleaning your dataset."
      ]
    },
    {
      "cell_type": "markdown",
      "metadata": {
        "id": "0gB7ov0Qwpcf"
      },
      "source": [
        "## Fix structural errors\n",
        "* The basement feature has some nan values, to handle them:"
      ]
    },
    {
      "cell_type": "code",
      "metadata": {
        "colab": {
          "base_uri": "https://localhost:8080/"
        },
        "id": "5rDnOPeowpcf",
        "outputId": "588d278f-80c5-4a45-bf62-56467a917e0e"
      },
      "source": [
        "df.basement.unique()"
      ],
      "execution_count": 23,
      "outputs": [
        {
          "output_type": "execute_result",
          "data": {
            "text/plain": [
              "array([nan,  1.])"
            ]
          },
          "metadata": {
            "tags": []
          },
          "execution_count": 23
        }
      ]
    },
    {
      "cell_type": "markdown",
      "metadata": {
        "id": "Js-CFy4cwpcg"
      },
      "source": [
        "* Even though NaN represents \"missing\" values, those are actually meant to indicate properties without basements.\n",
        "* Fill missing 'basement' values with the value 0 to turn 'basement' into a true indicator variable."
      ]
    },
    {
      "cell_type": "code",
      "metadata": {
        "collapsed": true,
        "id": "g3CLkAxpwpcg"
      },
      "source": [
        "df.basement.fillna(0, inplace=True)"
      ],
      "execution_count": 24,
      "outputs": []
    },
    {
      "cell_type": "code",
      "metadata": {
        "colab": {
          "base_uri": "https://localhost:8080/"
        },
        "id": "w8aVx6rvwpcg",
        "outputId": "083cd4d6-c4be-412d-f50a-0c0ce971af29"
      },
      "source": [
        "df.basement.unique()"
      ],
      "execution_count": 25,
      "outputs": [
        {
          "output_type": "execute_result",
          "data": {
            "text/plain": [
              "array([0., 1.])"
            ]
          },
          "metadata": {
            "tags": []
          },
          "execution_count": 25
        }
      ]
    },
    {
      "cell_type": "markdown",
      "metadata": {
        "id": "4u8kPPJ6wpcj"
      },
      "source": [
        "##  Typos and capitalization"
      ]
    },
    {
      "cell_type": "markdown",
      "metadata": {
        "id": "Qut-SrqGT9qe"
      },
      "source": [
        "1.18. Plot the Class distributions for `roof` (counter plot)"
      ]
    },
    {
      "cell_type": "code",
      "metadata": {
        "colab": {
          "base_uri": "https://localhost:8080/",
          "height": 296
        },
        "id": "88JL3YZpwpcj",
        "outputId": "9e7ce03d-754b-46cc-ec92-a5b74d62b5c9"
      },
      "source": [
        "# Class distributions for 'roof'\n",
        "sns.countplot(y='roof', data=df)"
      ],
      "execution_count": 26,
      "outputs": [
        {
          "output_type": "execute_result",
          "data": {
            "text/plain": [
              "<matplotlib.axes._subplots.AxesSubplot at 0x7f4e47dcaa10>"
            ]
          },
          "metadata": {
            "tags": []
          },
          "execution_count": 26
        },
        {
          "output_type": "display_data",
          "data": {
            "image/png": "[encoded data removed]",
            "text/plain": [
              "<Figure size 432x288 with 1 Axes>"
            ]
          },
          "metadata": {
            "tags": [],
            "needs_background": "light"
          }
        }
      ]
    },
    {
      "cell_type": "markdown",
      "metadata": {
        "id": "xmnAQaR7wpcj"
      },
      "source": [
        "Using this plot, we can easily catch typos and inconsistent capitalization. For example:\n",
        "* 'composition' should be 'Composition'\n",
        "* 'asphalt' should be 'Asphalt'\n",
        "* 'shake-shingle' should be 'Shake Shingle'\n",
        "* 'asphalt,shake-shingle' could probably just be 'Shake Shingle'"
      ]
    },
    {
      "cell_type": "code",
      "metadata": {
        "collapsed": true,
        "id": "Bwd-XCzhwpck"
      },
      "source": [
        "df.roof.replace('composition', 'Composition', inplace=True)\n",
        "df.roof.replace('asphalt', 'Asphalt', inplace=True)\n",
        "df.roof.replace(['shake-shingle', 'asphalt,shake-shingle'], 'Shake Shingle', inplace=True)"
      ],
      "execution_count": 27,
      "outputs": []
    },
    {
      "cell_type": "markdown",
      "metadata": {
        "id": "pQmQ6vgEUTZe"
      },
      "source": [
        "1.19. Plot the Class distributions for roof after the modifications (counter plot)"
      ]
    },
    {
      "cell_type": "code",
      "metadata": {
        "colab": {
          "base_uri": "https://localhost:8080/",
          "height": 296
        },
        "id": "PBDCfH-7wpck",
        "outputId": "7004a978-aedc-4359-c461-125e23e42d54"
      },
      "source": [
        "# Class distribution for 'roof' after the modifications\n",
        "sns.countplot(y='roof', data=df)"
      ],
      "execution_count": 28,
      "outputs": [
        {
          "output_type": "execute_result",
          "data": {
            "text/plain": [
              "<matplotlib.axes._subplots.AxesSubplot at 0x7f4e479080d0>"
            ]
          },
          "metadata": {
            "tags": []
          },
          "execution_count": 28
        },
        {
          "output_type": "display_data",
          "data": {
            "image/png": "[encoded data removed]",
            "text/plain": [
              "<Figure size 432x288 with 1 Axes>"
            ]
          },
          "metadata": {
            "tags": [],
            "needs_background": "light"
          }
        }
      ]
    },
    {
      "cell_type": "markdown",
      "metadata": {
        "id": "fN-J_ZTkwpcl"
      },
      "source": [
        "##  Mislabeled classes\n",
        "Finally, we'll check for classes that are labeled as separate classes when they should really be the same.\n",
        "* e.g. If 'N/A' and 'Not Applicable' appear as two separate classes, we should combine them.\n",
        "* let's plot the class distributions for 'exterior_walls':"
      ]
    },
    {
      "cell_type": "code",
      "metadata": {
        "colab": {
          "base_uri": "https://localhost:8080/",
          "height": 296
        },
        "id": "8X10wlNLwpcm",
        "outputId": "eff1bc9b-76a9-4c84-9c87-e680778744f0"
      },
      "source": [
        "sns.countplot(y='exterior_walls', data=df)"
      ],
      "execution_count": 29,
      "outputs": [
        {
          "output_type": "execute_result",
          "data": {
            "text/plain": [
              "<matplotlib.axes._subplots.AxesSubplot at 0x7f4e47bc85d0>"
            ]
          },
          "metadata": {
            "tags": []
          },
          "execution_count": 29
        },
        {
          "output_type": "display_data",
          "data": {
            "image/png": "[encoded data removed]",
            "text/plain": [
              "<Figure size 432x288 with 1 Axes>"
            ]
          },
          "metadata": {
            "tags": [],
            "needs_background": "light"
          }
        }
      ]
    },
    {
      "cell_type": "markdown",
      "metadata": {
        "id": "H-K75FF_wpcm"
      },
      "source": [
        "Using that chart, we can easily catch mislabeled classes. For example\n",
        "* 'Rock, Stone' should be 'Masonry'\n",
        "* 'Concrete' and 'Block' should both just be 'Concrete Block'"
      ]
    },
    {
      "cell_type": "code",
      "metadata": {
        "colab": {
          "base_uri": "https://localhost:8080/",
          "height": 296
        },
        "id": "AvHJhZL8wpcn",
        "outputId": "7472031d-41ad-45f6-d762-2aae06e30884"
      },
      "source": [
        "df.exterior_walls.replace(['Rock, Stone'], 'Masonry', inplace=True)\n",
        "df.exterior_walls.replace(['Concrete', 'Block'], 'Concrete Block', inplace=True)\n",
        "sns.countplot(y='exterior_walls', data=df)"
      ],
      "execution_count": 30,
      "outputs": [
        {
          "output_type": "execute_result",
          "data": {
            "text/plain": [
              "<matplotlib.axes._subplots.AxesSubplot at 0x7f4e4763b050>"
            ]
          },
          "metadata": {
            "tags": []
          },
          "execution_count": 30
        },
        {
          "output_type": "display_data",
          "data": {
            "image/png": "[encoded data removed]",
            "text/plain": [
              "<Figure size 432x288 with 1 Axes>"
            ]
          },
          "metadata": {
            "tags": [],
            "needs_background": "light"
          }
        }
      ]
    },
    {
      "cell_type": "markdown",
      "metadata": {
        "id": "kGzNf3WPwpcn"
      },
      "source": [
        "## Removing Outliers\n",
        "* Outliers can cause problems with certain types of models.\n",
        "* Boxplots are a nice way to detect outliers\n",
        "* Let's start with a box plot of your target variable, since that's what you're actually trying to predict."
      ]
    },
    {
      "cell_type": "code",
      "metadata": {
        "colab": {
          "base_uri": "https://localhost:8080/",
          "height": 297
        },
        "id": "IlJggMADwpcn",
        "outputId": "9f49dcb0-e07a-47ba-b9e9-0d6893420fa0"
      },
      "source": [
        "sns.boxplot(df.tx_price)"
      ],
      "execution_count": 31,
      "outputs": [
        {
          "output_type": "execute_result",
          "data": {
            "text/plain": [
              "<matplotlib.axes._subplots.AxesSubplot at 0x7f4e47811350>"
            ]
          },
          "metadata": {
            "tags": []
          },
          "execution_count": 31
        },
        {
          "output_type": "display_data",
          "data": {
            "image/png": "[encoded data removed]",
            "text/plain": [
              "<Figure size 432x288 with 1 Axes>"
            ]
          },
          "metadata": {
            "tags": [],
            "needs_background": "light"
          }
        }
      ]
    },
    {
      "cell_type": "markdown",
      "metadata": {
        "id": "8kxcgIFOwpcn"
      },
      "source": [
        "**Interpretation**\n",
        "\n",
        "* The two vertical bars on the ends are the min and max values. All properties sold for between \\$200,000 and \\$800,000.\n",
        "* The box in the middle is the interquartile range (25th percentile to 75th percentile).\n",
        "* Half of all observations fall in that box.\n",
        "* Finally, the vertical bar in the middle of the box is the median."
      ]
    },
    {
      "cell_type": "code",
      "metadata": {
        "colab": {
          "base_uri": "https://localhost:8080/",
          "height": 296
        },
        "id": "zH11HNCowpco",
        "outputId": "4b8cbc49-4687-49c2-c5a5-961a697e4eee"
      },
      "source": [
        "## Checking outliers in number of bedrooms\n",
        "sns.boxplot(df.beds)"
      ],
      "execution_count": 32,
      "outputs": [
        {
          "output_type": "execute_result",
          "data": {
            "text/plain": [
              "<matplotlib.axes._subplots.AxesSubplot at 0x7f4e47b00990>"
            ]
          },
          "metadata": {
            "tags": []
          },
          "execution_count": 32
        },
        {
          "output_type": "display_data",
          "data": {
            "image/png": "[encoded data removed]",
            "text/plain": [
              "<Figure size 432x288 with 1 Axes>"
            ]
          },
          "metadata": {
            "tags": [],
            "needs_background": "light"
          }
        }
      ]
    },
    {
      "cell_type": "code",
      "metadata": {
        "colab": {
          "base_uri": "https://localhost:8080/",
          "height": 296
        },
        "id": "O3u4JdDywpco",
        "outputId": "18e30590-0804-4de2-a0b2-85a83f64276e"
      },
      "source": [
        "## Checking outliers in size of the house\n",
        "sns.boxplot(df.sqft)"
      ],
      "execution_count": 33,
      "outputs": [
        {
          "output_type": "execute_result",
          "data": {
            "text/plain": [
              "<matplotlib.axes._subplots.AxesSubplot at 0x7f4e47b70ed0>"
            ]
          },
          "metadata": {
            "tags": []
          },
          "execution_count": 33
        },
        {
          "output_type": "display_data",
          "data": {
            "image/png": "[encoded data removed]",
            "text/plain": [
              "<Figure size 432x288 with 1 Axes>"
            ]
          },
          "metadata": {
            "tags": [],
            "needs_background": "light"
          }
        }
      ]
    },
    {
      "cell_type": "code",
      "metadata": {
        "colab": {
          "base_uri": "https://localhost:8080/",
          "height": 297
        },
        "id": "K4u8R3XLwpco",
        "outputId": "d4629a52-0156-4a35-d988-1ed55fcdffe9"
      },
      "source": [
        "## Checking outliers in lot size\n",
        "sns.boxplot(df.lot_size)"
      ],
      "execution_count": 34,
      "outputs": [
        {
          "output_type": "execute_result",
          "data": {
            "text/plain": [
              "<matplotlib.axes._subplots.AxesSubplot at 0x7f4e47c46a90>"
            ]
          },
          "metadata": {
            "tags": []
          },
          "execution_count": 34
        },
        {
          "output_type": "display_data",
          "data": {
            "image/png": "[encoded data removed]",
            "text/plain": [
              "<Figure size 432x288 with 1 Axes>"
            ]
          },
          "metadata": {
            "tags": [],
            "needs_background": "light"
          }
        }
      ]
    },
    {
      "cell_type": "markdown",
      "metadata": {
        "id": "ljgLRJJGwpco"
      },
      "source": [
        "Look at the dot on the extreme right. This might indicate some erroneous point.\n",
        "\n",
        "Let's look at the largest 5 lot sizes just to confirm."
      ]
    },
    {
      "cell_type": "code",
      "metadata": {
        "colab": {
          "base_uri": "https://localhost:8080/"
        },
        "id": "zkMrWC2Wwpcp",
        "outputId": "1c850650-497d-4763-b17a-b88a95c2e51f"
      },
      "source": [
        "df.lot_size.sort_values(ascending=False).head()"
      ],
      "execution_count": 35,
      "outputs": [
        {
          "output_type": "execute_result",
          "data": {
            "text/plain": [
              "102     1220551\n",
              "1111     436471\n",
              "1876     436035\n",
              "1832     436035\n",
              "1115     435600\n",
              "Name: lot_size, dtype: int64"
            ]
          },
          "metadata": {
            "tags": []
          },
          "execution_count": 35
        }
      ]
    },
    {
      "cell_type": "markdown",
      "metadata": {
        "id": "5M1UvfBSwpcp"
      },
      "source": [
        "The largest property has a lot_size of 1,220,551 sqft. The next largest has a lot_size of only 436,471 sqft.\n",
        "\n",
        "Because it's unlikely the REIT will ever invest in properties with lots that large, and because it's the only one in the dataset, let's remove it so it doesn't interfere with our ability to model normal size properties."
      ]
    },
    {
      "cell_type": "markdown",
      "metadata": {
        "id": "c0zos3t2U6f8"
      },
      "source": [
        "1.20. Remove observations with lot_size greater than 500,000 sqft."
      ]
    },
    {
      "cell_type": "code",
      "metadata": {
        "id": "dRec-d8vwpcp",
        "colab": {
          "base_uri": "https://localhost:8080/"
        },
        "outputId": "fdcac924-7875-4d81-fad0-a49251dc936d"
      },
      "source": [
        "## Remove observations with lot_size greater than 500,000 sqft.\n",
        "df = df[df.lot_size <= 500000]\n",
        "df.shape"
      ],
      "execution_count": 36,
      "outputs": [
        {
          "output_type": "execute_result",
          "data": {
            "text/plain": [
              "(1882, 26)"
            ]
          },
          "metadata": {
            "tags": []
          },
          "execution_count": 36
        }
      ]
    },
    {
      "cell_type": "code",
      "metadata": {
        "colab": {
          "base_uri": "https://localhost:8080/",
          "height": 297
        },
        "id": "q0IrTy0Rwpcq",
        "outputId": "9fd1383c-6c93-4b0d-d2fc-a4ba37aea44b"
      },
      "source": [
        "## Plotting the boxplot of lot size after the change\n",
        "sns.boxplot(df.lot_size)"
      ],
      "execution_count": 37,
      "outputs": [
        {
          "output_type": "execute_result",
          "data": {
            "text/plain": [
              "<matplotlib.axes._subplots.AxesSubplot at 0x7f4e47ca2e90>"
            ]
          },
          "metadata": {
            "tags": []
          },
          "execution_count": 37
        },
        {
          "output_type": "display_data",
          "data": {
            "image/png": "[encoded data removed]",
            "text/plain": [
              "<Figure size 432x288 with 1 Axes>"
            ]
          },
          "metadata": {
            "tags": [],
            "needs_background": "light"
          }
        }
      ]
    },
    {
      "cell_type": "markdown",
      "metadata": {
        "id": "Nz9v3U-Ewpcq"
      },
      "source": [
        "**Note:** Even though visually the plot looks the same but the x-axis dimensions have changed"
      ]
    },
    {
      "cell_type": "markdown",
      "metadata": {
        "id": "TWTv2vqjwpcq"
      },
      "source": [
        "##  Label missing categorical data\n",
        "You cannot simply ignore missing values in your dataset. You must handle them in some way for the very practical reason that Scikit-Learn algorithms do not accept missing values."
      ]
    },
    {
      "cell_type": "markdown",
      "metadata": {
        "id": "NRjPS-KaUsg-"
      },
      "source": [
        "1.21. Display number of missing values by categorical feature"
      ]
    },
    {
      "cell_type": "code",
      "metadata": {
        "id": "nkPXURfFwpcr",
        "colab": {
          "base_uri": "https://localhost:8080/"
        },
        "outputId": "8e5fc31c-aecc-4bd6-a74b-1abf29b21676"
      },
      "source": [
        "# Display number of missing values by categorical feature\n",
        "df.select_dtypes(include=['object']).isnull().sum()"
      ],
      "execution_count": 38,
      "outputs": [
        {
          "output_type": "execute_result",
          "data": {
            "text/plain": [
              "property_type       0\n",
              "exterior_walls    223\n",
              "roof              353\n",
              "dtype: int64"
            ]
          },
          "metadata": {
            "tags": []
          },
          "execution_count": 38
        }
      ]
    },
    {
      "cell_type": "markdown",
      "metadata": {
        "id": "KWZ_MMvnwpcr"
      },
      "source": [
        "#### The best way to handle missing data for categorical features is to simply label them as 'Missing'"
      ]
    },
    {
      "cell_type": "code",
      "metadata": {
        "colab": {
          "base_uri": "https://localhost:8080/"
        },
        "id": "TrEMTehHwpcr",
        "outputId": "cabd6b9e-4475-4088-f73a-798bd5286e76"
      },
      "source": [
        "df['exterior_walls'] = df['exterior_walls'].fillna('Missing')\n",
        "df['roof'] = df['roof'].fillna('Missing')\n",
        "df.select_dtypes(include=['object']).isnull().sum()"
      ],
      "execution_count": 39,
      "outputs": [
        {
          "output_type": "execute_result",
          "data": {
            "text/plain": [
              "property_type     0\n",
              "exterior_walls    0\n",
              "roof              0\n",
              "dtype: int64"
            ]
          },
          "metadata": {
            "tags": []
          },
          "execution_count": 39
        }
      ]
    },
    {
      "cell_type": "markdown",
      "metadata": {
        "id": "BHDPhSYKwpcr"
      },
      "source": [
        "## 4.7 Flag and fill missing numeric data"
      ]
    },
    {
      "cell_type": "markdown",
      "metadata": {
        "id": "z80foXPcVOxM"
      },
      "source": [
        "1.21. Display number of missing values by numeric feature"
      ]
    },
    {
      "cell_type": "code",
      "metadata": {
        "id": "UCzfsVBHwpcs",
        "colab": {
          "base_uri": "https://localhost:8080/"
        },
        "outputId": "b9a5a467-d00e-4f4a-d628-d143d6a38c92"
      },
      "source": [
        "# Display number of missing values by numeric feature\n",
        "df.select_dtypes(exclude=['object']).isnull().sum()"
      ],
      "execution_count": 40,
      "outputs": [
        {
          "output_type": "execute_result",
          "data": {
            "text/plain": [
              "tx_price              0\n",
              "beds                  0\n",
              "baths                 0\n",
              "sqft                  0\n",
              "year_built            0\n",
              "lot_size              0\n",
              "basement              0\n",
              "restaurants           0\n",
              "groceries             0\n",
              "nightlife             0\n",
              "cafes                 0\n",
              "shopping              0\n",
              "arts_entertainment    0\n",
              "beauty_spas           0\n",
              "active_life           0\n",
              "median_age            0\n",
              "married               0\n",
              "college_grad          0\n",
              "property_tax          0\n",
              "insurance             0\n",
              "median_school         0\n",
              "num_schools           0\n",
              "tx_year               0\n",
              "dtype: int64"
            ]
          },
          "metadata": {
            "tags": []
          },
          "execution_count": 40
        }
      ]
    },
    {
      "cell_type": "markdown",
      "metadata": {
        "id": "6RWzAA2dwpcs"
      },
      "source": [
        "Well, it looks like we don't have any numerical features with missing values in this dataset."
      ]
    },
    {
      "cell_type": "markdown",
      "metadata": {
        "id": "jbs2buijwpcs"
      },
      "source": [
        "### Before we move on to the next module, let's save the new dataframe we worked hard to clean.\n",
        "This makes sure we don't have to re-do all the cleaning after clossing the session"
      ]
    },
    {
      "cell_type": "markdown",
      "metadata": {
        "id": "99rhwrbFVWDb"
      },
      "source": [
        "1.22. Save cleaned dataframe to new file"
      ]
    },
    {
      "cell_type": "code",
      "metadata": {
        "collapsed": true,
        "id": "aSflYIJywpcs"
      },
      "source": [
        "# Save cleaned dataframe to new file\n",
        "df.to_csv('/content/cleaned_df.csv', index=None)"
      ],
      "execution_count": 41,
      "outputs": []
    },
    {
      "cell_type": "markdown",
      "metadata": {
        "id": "bIgwIt_ewpcs"
      },
      "source": [
        "#  Feature Engineering"
      ]
    },
    {
      "cell_type": "markdown",
      "metadata": {
        "id": "uyOO1EY9wpct"
      },
      "source": [
        "##  Indicator variables"
      ]
    },
    {
      "cell_type": "markdown",
      "metadata": {
        "id": "K-a6b-KBwpct"
      },
      "source": [
        "* For example, let's say you knew that homes with 2 bedrooms and 2 bathrooms are especially popular for investors.\n",
        "* Maybe you suspect these types of properties command premium prices. (You don't need to know for sure.)\n",
        "* Create an indicator variable to flag properties with 2 beds and 2 baths and name it 'two_and_two'."
      ]
    },
    {
      "cell_type": "code",
      "metadata": {
        "collapsed": true,
        "id": "_dr8-ZFnwpct"
      },
      "source": [
        "df['two_and_two'] = ((df.beds == 2) & (df.baths == 2)).astype(int)"
      ],
      "execution_count": 42,
      "outputs": []
    },
    {
      "cell_type": "code",
      "metadata": {
        "colab": {
          "base_uri": "https://localhost:8080/"
        },
        "id": "5VbaHwaKwpct",
        "outputId": "2b6dc4e4-b753-41e3-9c43-f2ee4dc82f36"
      },
      "source": [
        "# Display percent of rows where two_and_two == 1\n",
        "df[df['two_and_two']==1].shape[0]/df.shape[0]"
      ],
      "execution_count": 43,
      "outputs": [
        {
          "output_type": "execute_result",
          "data": {
            "text/plain": [
              "0.09458023379383634"
            ]
          },
          "metadata": {
            "tags": []
          },
          "execution_count": 43
        }
      ]
    },
    {
      "cell_type": "markdown",
      "metadata": {
        "id": "UHIxb__zwpct"
      },
      "source": [
        "The interpretation is that almost 9.5% of the observations in our dataset were for properties with 2 beds and 2 baths."
      ]
    },
    {
      "cell_type": "markdown",
      "metadata": {
        "id": "CykcsKBUwpcu"
      },
      "source": [
        "People might also not take much interest in old properties.Lets figure it out."
      ]
    },
    {
      "cell_type": "code",
      "metadata": {
        "collapsed": true,
        "id": "XQsGMLCXwpcu"
      },
      "source": [
        "df['old_properties'] = (df.year_built < 1980) .astype(int)"
      ],
      "execution_count": 44,
      "outputs": []
    },
    {
      "cell_type": "code",
      "metadata": {
        "colab": {
          "base_uri": "https://localhost:8080/"
        },
        "id": "zqveGVUfwpcu",
        "outputId": "3177bfe1-360a-4610-8c96-65089456dbaa"
      },
      "source": [
        "# Display percent of rows where old_properties == 1\n",
        "df[df['old_properties']==1].shape[0]/df.shape[0]"
      ],
      "execution_count": 45,
      "outputs": [
        {
          "output_type": "execute_result",
          "data": {
            "text/plain": [
              "0.3783209351753454"
            ]
          },
          "metadata": {
            "tags": []
          },
          "execution_count": 45
        }
      ]
    },
    {
      "cell_type": "markdown",
      "metadata": {
        "id": "wHh9sVepwpcu"
      },
      "source": [
        "Create a new feature containing tax and insurance which a propery holder will have to pay monthly"
      ]
    },
    {
      "cell_type": "code",
      "metadata": {
        "collapsed": true,
        "id": "jkso_0fIwpcu"
      },
      "source": [
        "df['tax_and_insurance'] = df.property_tax + df.insurance"
      ],
      "execution_count": 46,
      "outputs": []
    },
    {
      "cell_type": "markdown",
      "metadata": {
        "id": "mwH1saruwpcv"
      },
      "source": [
        "The interpretation is that almost 9.5% of the observations in our dataset were for properties with 2 beds and 2 baths."
      ]
    },
    {
      "cell_type": "markdown",
      "metadata": {
        "id": "zJ0YiNLewpcv"
      },
      "source": [
        "### Example: housing market recession\n",
        "According to data from Zillow, the lowest housing prices were from 2010 to end of 2013 (country-wide)."
      ]
    },
    {
      "cell_type": "markdown",
      "metadata": {
        "id": "1K0e3SWpwpcv"
      },
      "source": [
        "1.23. Create a new feature called 'during_recession' to indicate if a transaction falls between 2010 and 2013"
      ]
    },
    {
      "cell_type": "code",
      "metadata": {
        "collapsed": true,
        "id": "KiagcWVXwpcv"
      },
      "source": [
        "df['during_recession'] = ((df.tx_year >= 2010) & (df.tx_year <= 2013))"
      ],
      "execution_count": 47,
      "outputs": []
    },
    {
      "cell_type": "markdown",
      "metadata": {
        "id": "LERe_wezVydO"
      },
      "source": [
        "1.24. Print percent of transactions where during_recession == 1"
      ]
    },
    {
      "cell_type": "code",
      "metadata": {
        "id": "Ea6jUFAdwpcv",
        "colab": {
          "base_uri": "https://localhost:8080/"
        },
        "outputId": "cb5dab3d-11d6-4751-9aea-143790ad524f"
      },
      "source": [
        "# Print percent of transactions where during_recession == 1\n",
        "df[df['during_recession']==1].shape[0]/df.shape[0]"
      ],
      "execution_count": 48,
      "outputs": [
        {
          "output_type": "execute_result",
          "data": {
            "text/plain": [
              "0.2635494155154091"
            ]
          },
          "metadata": {
            "tags": []
          },
          "execution_count": 48
        }
      ]
    },
    {
      "cell_type": "markdown",
      "metadata": {
        "id": "rOmWMPvqwpcw"
      },
      "source": [
        "## Interaction features\n"
      ]
    },
    {
      "cell_type": "code",
      "metadata": {
        "collapsed": true,
        "id": "pJswzK6Swpcw"
      },
      "source": [
        "# Create a property age feature\n",
        "df['property_age'] = df.tx_year - df.year_built"
      ],
      "execution_count": 49,
      "outputs": []
    },
    {
      "cell_type": "markdown",
      "metadata": {
        "id": "6aC79XhHwpcx"
      },
      "source": [
        "**Note:** 'property_age' denotes the age of the property when it was sold and not how old it is today, since we want to predict the price at the time when the property is sold.\n",
        "\n",
        "Sanity Check: It's always nice to do a quick sanity check after creating a feature, which could save you headaches down the road. For example, 'property_age' should never be less than 0, right?"
      ]
    },
    {
      "cell_type": "code",
      "metadata": {
        "colab": {
          "base_uri": "https://localhost:8080/"
        },
        "id": "oBJtkjluwpcx",
        "outputId": "becb0eca-31db-4349-c2f5-ffaf51b35813"
      },
      "source": [
        "print(df.property_age.min())"
      ],
      "execution_count": 50,
      "outputs": [
        {
          "output_type": "stream",
          "text": [
            "-8\n"
          ],
          "name": "stdout"
        }
      ]
    },
    {
      "cell_type": "markdown",
      "metadata": {
        "id": "CRJ4leWIwpcx"
      },
      "source": [
        "Nice find. Something is definitely wrong. Age of property can never be negative.\n",
        "\n",
        "1.24. Number of observations with 'property_age' < 0"
      ]
    },
    {
      "cell_type": "code",
      "metadata": {
        "id": "6UGudWzSwpcx",
        "colab": {
          "base_uri": "https://localhost:8080/"
        },
        "outputId": "12d6751d-8af6-42e2-ff1c-a2c1b50fdb74"
      },
      "source": [
        "# Number of observations with 'property_age' < 0\n",
        "sum(df.property_age <0)"
      ],
      "execution_count": 51,
      "outputs": [
        {
          "output_type": "execute_result",
          "data": {
            "text/plain": [
              "19"
            ]
          },
          "metadata": {
            "tags": []
          },
          "execution_count": 51
        }
      ]
    },
    {
      "cell_type": "markdown",
      "metadata": {
        "id": "Fm228b_dwpcy"
      },
      "source": [
        "* On second thought, it's possible that some home owners bought houses before the construction company built them.\n",
        "* This is not uncommon, especially with single-family homes.\n",
        "* However, for this problem, **we are only interested in houses that already exist** because the REIT only buys existing ones!"
      ]
    },
    {
      "cell_type": "markdown",
      "metadata": {
        "id": "So7o7N3oWLbS"
      },
      "source": [
        "1.25. Remove rows where property_age is less than 0"
      ]
    },
    {
      "cell_type": "code",
      "metadata": {
        "id": "v2nkN2Fnwpcy",
        "colab": {
          "base_uri": "https://localhost:8080/"
        },
        "outputId": "706c988d-9c5e-4a03-ab19-06c97e70b99b"
      },
      "source": [
        "# Remove rows where property_age is less than 0\n",
        "df = df[df['property_age'] >=0]\n",
        "df.shape"
      ],
      "execution_count": 52,
      "outputs": [
        {
          "output_type": "execute_result",
          "data": {
            "text/plain": [
              "(1863, 31)"
            ]
          },
          "metadata": {
            "tags": []
          },
          "execution_count": 52
        }
      ]
    },
    {
      "cell_type": "markdown",
      "metadata": {
        "id": "d9-s6Ufpwpcy"
      },
      "source": [
        "Now, let's add another interaction feature. How about the number of quality schools nearby?\n",
        "* We know the number of schools nearby \n",
        "* We also have their median quality score\n",
        "* Let's use this and create a new feature"
      ]
    },
    {
      "cell_type": "code",
      "metadata": {
        "collapsed": true,
        "id": "wRol5IZIwpcz"
      },
      "source": [
        "# Create a school score feature that num_schools * median_school\n",
        "df['school_score'] = df.num_schools * df.median_school"
      ],
      "execution_count": 53,
      "outputs": []
    },
    {
      "cell_type": "code",
      "metadata": {
        "colab": {
          "base_uri": "https://localhost:8080/"
        },
        "id": "L9elG7CVwpcz",
        "outputId": "83d1ecbe-3add-4f83-a5d2-63f7c2ab49c2"
      },
      "source": [
        "# Display median school score\n",
        "df.school_score.median()"
      ],
      "execution_count": 54,
      "outputs": [
        {
          "output_type": "execute_result",
          "data": {
            "text/plain": [
              "18.0"
            ]
          },
          "metadata": {
            "tags": []
          },
          "execution_count": 54
        }
      ]
    },
    {
      "cell_type": "markdown",
      "metadata": {
        "id": "cB_UEDA7wpcz"
      },
      "source": [
        "*  As we can see almost all properties have basement, this feature won't affect the price of the property much, so we can remove it "
      ]
    },
    {
      "cell_type": "code",
      "metadata": {
        "colab": {
          "base_uri": "https://localhost:8080/",
          "height": 296
        },
        "id": "UtjZxLufwpcz",
        "outputId": "a6204868-fe3f-45ce-ec46-c5b72da62385"
      },
      "source": [
        "sns.countplot(y='basement', data=df)"
      ],
      "execution_count": 55,
      "outputs": [
        {
          "output_type": "execute_result",
          "data": {
            "text/plain": [
              "<matplotlib.axes._subplots.AxesSubplot at 0x7f4e47876850>"
            ]
          },
          "metadata": {
            "tags": []
          },
          "execution_count": 55
        },
        {
          "output_type": "display_data",
          "data": {
            "image/png": "[encoded data removed]",
            "text/plain": [
              "<Figure size 432x288 with 1 Axes>"
            ]
          },
          "metadata": {
            "tags": [],
            "needs_background": "light"
          }
        }
      ]
    },
    {
      "cell_type": "code",
      "metadata": {
        "collapsed": true,
        "id": "o6ryalCawpc0"
      },
      "source": [
        "#dropping the basement column\n",
        "df = df.drop(['basement'], axis=1) "
      ],
      "execution_count": 56,
      "outputs": []
    },
    {
      "cell_type": "markdown",
      "metadata": {
        "id": "APaLGOq3wpc0"
      },
      "source": [
        "* We can also delete some features which are less useful\n",
        "* If we looked at the histogram of nightlife, almost all properties have nightlife within a mile also it has a poor relation with price of property(refer correlation part) so this feature might not be much useful do let's drop it."
      ]
    },
    {
      "cell_type": "code",
      "metadata": {
        "collapsed": true,
        "id": "V-vFYuMZwpc0"
      },
      "source": [
        "df = df.drop(['nightlife'], axis=1) "
      ],
      "execution_count": 57,
      "outputs": []
    },
    {
      "cell_type": "markdown",
      "metadata": {
        "id": "DT7ZFPoNwpc0"
      },
      "source": [
        "##  Handling Sparse Classes\n",
        "The easiest way to check for sparse classes is simply by plotting the distributions of your categorical features. We already did this during exploratory analysis, but since we've done some data cleaning since then, let's plot them again."
      ]
    },
    {
      "cell_type": "code",
      "metadata": {
        "colab": {
          "base_uri": "https://localhost:8080/",
          "height": 296
        },
        "id": "FDaRR1ICwpc0",
        "outputId": "cad78bc0-bca3-4db2-a9d6-cb0af3820994"
      },
      "source": [
        "# Bar plot for exterior_walls\n",
        "sns.countplot(y='exterior_walls', data=df)"
      ],
      "execution_count": 58,
      "outputs": [
        {
          "output_type": "execute_result",
          "data": {
            "text/plain": [
              "<matplotlib.axes._subplots.AxesSubplot at 0x7f4e47d3f650>"
            ]
          },
          "metadata": {
            "tags": []
          },
          "execution_count": 58
        },
        {
          "output_type": "display_data",
          "data": {
            "image/png": "[encoded data removed]",
            "text/plain": [
              "<Figure size 432x288 with 1 Axes>"
            ]
          },
          "metadata": {
            "tags": [],
            "needs_background": "light"
          }
        }
      ]
    },
    {
      "cell_type": "markdown",
      "metadata": {
        "id": "pJmdHa6Owpc1"
      },
      "source": [
        "Group 'Wood Siding', 'Wood Shingle', and 'Wood' together. Label all of them as 'Wood'."
      ]
    },
    {
      "cell_type": "code",
      "metadata": {
        "collapsed": true,
        "id": "2IeL6MFiwpc1"
      },
      "source": [
        "df.exterior_walls.replace(['Wood Siding', 'Wood Shingle', 'Wood'], 'Wood', inplace=True)"
      ],
      "execution_count": 59,
      "outputs": []
    },
    {
      "cell_type": "markdown",
      "metadata": {
        "id": "llk-ytfdwpc1"
      },
      "source": [
        "Next, we can group the remaining sparse classes into a single 'Other' class, even though there's already an 'Other' class.<br>\n",
        "Let's label 'Stucco', 'Other', 'Asbestos shingle', 'Concrete Block', and 'Masonry' as 'Other':"
      ]
    },
    {
      "cell_type": "code",
      "metadata": {
        "collapsed": true,
        "id": "Sxdh1fpVwpc2"
      },
      "source": [
        "other_exterior_walls = ['Concrete Block', 'Stucco', 'Masonry', 'Other', 'Asbestos shingle']\n",
        "df.exterior_walls.replace(other_exterior_walls, 'Other', inplace=True)"
      ],
      "execution_count": 60,
      "outputs": []
    },
    {
      "cell_type": "markdown",
      "metadata": {
        "id": "pI09jjXiwpc2"
      },
      "source": [
        "Finally, now that we've grouped together sparse classes, let's look at the bar plot for exterior walls again."
      ]
    },
    {
      "cell_type": "code",
      "metadata": {
        "colab": {
          "base_uri": "https://localhost:8080/",
          "height": 296
        },
        "id": "huuJ9u2-wpc2",
        "outputId": "b1f6c8b1-7148-447a-b630-9e5ce0bddd30"
      },
      "source": [
        "sns.countplot(y='exterior_walls', data=df)"
      ],
      "execution_count": 61,
      "outputs": [
        {
          "output_type": "execute_result",
          "data": {
            "text/plain": [
              "<matplotlib.axes._subplots.AxesSubplot at 0x7f4e47c8add0>"
            ]
          },
          "metadata": {
            "tags": []
          },
          "execution_count": 61
        },
        {
          "output_type": "display_data",
          "data": {
            "image/png": "[encoded data removed]",
            "text/plain": [
              "<Figure size 432x288 with 1 Axes>"
            ]
          },
          "metadata": {
            "tags": [],
            "needs_background": "light"
          }
        }
      ]
    },
    {
      "cell_type": "markdown",
      "metadata": {
        "id": "ZrkxUug4wpc2"
      },
      "source": [
        "Similarly we check for 'roof'"
      ]
    },
    {
      "cell_type": "code",
      "metadata": {
        "colab": {
          "base_uri": "https://localhost:8080/",
          "height": 296
        },
        "id": "P4GZYMPPwpc2",
        "outputId": "c8adccfd-bcea-4ee1-bd54-1e2ac1edf5ec"
      },
      "source": [
        "sns.countplot(y='roof', data=df)"
      ],
      "execution_count": 62,
      "outputs": [
        {
          "output_type": "execute_result",
          "data": {
            "text/plain": [
              "<matplotlib.axes._subplots.AxesSubplot at 0x7f4e3c148e90>"
            ]
          },
          "metadata": {
            "tags": []
          },
          "execution_count": 62
        },
        {
          "output_type": "display_data",
          "data": {
            "image/png": "[encoded data removed]",
            "text/plain": [
              "<Figure size 432x288 with 1 Axes>"
            ]
          },
          "metadata": {
            "tags": [],
            "needs_background": "light"
          }
        }
      ]
    },
    {
      "cell_type": "markdown",
      "metadata": {
        "id": "WbAEIjD5wpc3"
      },
      "source": [
        "Group 'Composition' and 'Wood Shake/ Shingles' into the 'Composition Shingle' class."
      ]
    },
    {
      "cell_type": "code",
      "metadata": {
        "collapsed": true,
        "id": "Bn0-YwdTwpc3"
      },
      "source": [
        "df.roof.replace(['Composition', 'Wood Shake/ Shingles'], 'Composition Shingle', inplace=True)"
      ],
      "execution_count": 63,
      "outputs": []
    },
    {
      "cell_type": "markdown",
      "metadata": {
        "id": "6gx78pb-wpc3"
      },
      "source": [
        "Next, let's group remaining sparse classes into a single 'Other' class.\n",
        "\n",
        "Label 'Other', 'Gravel/Rock', 'Roll Composition', 'Slate', 'Built-up', 'Asbestos', and 'Metal' as 'Other'."
      ]
    },
    {
      "cell_type": "code",
      "metadata": {
        "collapsed": true,
        "id": "hRUnOLolwpc3"
      },
      "source": [
        "other_roof = ['Other', 'Gravel/Rock', 'Roll Composition', 'Slate', 'Built-up', 'Asbestos', 'Metal']\n",
        "df.roof.replace(other_roof, 'Other', inplace=True)"
      ],
      "execution_count": 64,
      "outputs": []
    },
    {
      "cell_type": "markdown",
      "metadata": {
        "id": "b8uFkh6fwpc3"
      },
      "source": [
        "Finally, display bar plot again."
      ]
    },
    {
      "cell_type": "code",
      "metadata": {
        "colab": {
          "base_uri": "https://localhost:8080/",
          "height": 296
        },
        "id": "vrssFU3dwpc3",
        "outputId": "1f6f03f1-1e2b-400b-eb77-6e28bbd69501"
      },
      "source": [
        "sns.countplot(y='roof', data=df)"
      ],
      "execution_count": 65,
      "outputs": [
        {
          "output_type": "execute_result",
          "data": {
            "text/plain": [
              "<matplotlib.axes._subplots.AxesSubplot at 0x7f4e3c0d3210>"
            ]
          },
          "metadata": {
            "tags": []
          },
          "execution_count": 65
        },
        {
          "output_type": "display_data",
          "data": {
            "image/png": "[encoded data removed]",
            "text/plain": [
              "<Figure size 432x288 with 1 Axes>"
            ]
          },
          "metadata": {
            "tags": [],
            "needs_background": "light"
          }
        }
      ]
    },
    {
      "cell_type": "markdown",
      "metadata": {
        "id": "t0xj5K9Xwpc4"
      },
      "source": [
        "**Now these plots look much nicer**"
      ]
    },
    {
      "cell_type": "markdown",
      "metadata": {
        "id": "OjDJwnpCwpc4"
      },
      "source": [
        "## Encode dummy variables (One Hot Encoding)\n",
        "* Machine learning algorithms cannot directly handle categorical features. Specifically, they cannot handle text values.\n",
        "* Therefore, we need to create dummy variables for our categorical features.\n",
        "* *Dummy variables* are a set of binary (0 or 1) features that each represent a single class from a categorical feature."
      ]
    },
    {
      "cell_type": "markdown",
      "metadata": {
        "id": "y7cCp5kKXCYo"
      },
      "source": [
        "1.26. Create a new dataframe with dummy variables for for our categorical features."
      ]
    },
    {
      "cell_type": "code",
      "metadata": {
        "collapsed": true,
        "id": "hzDB-QTAwpc4"
      },
      "source": [
        "# Create a new dataframe with dummy variables for for our categorical features.\n",
        "df = pd.get_dummies(df, columns=['exterior_walls', 'roof', 'property_type'])"
      ],
      "execution_count": 66,
      "outputs": []
    },
    {
      "cell_type": "markdown",
      "metadata": {
        "id": "tm-ZqX5uwpc4"
      },
      "source": [
        "**Note:** There are many ways to perform one-hot encoding, you can also use LabelEncoder and OneHotEncoder classes in SKLEARN or use the above pandas function."
      ]
    },
    {
      "cell_type": "code",
      "metadata": {
        "colab": {
          "base_uri": "https://localhost:8080/",
          "height": 236
        },
        "id": "LeTFwhm6wpc4",
        "outputId": "3efa609e-0c65-4b14-d374-74eff55656ae"
      },
      "source": [
        "df.head()"
      ],
      "execution_count": 67,
      "outputs": [
        {
          "output_type": "execute_result",
          "data": {
            "text/html": [
              "<div>\n",
              "<style scoped>\n",
              "    .dataframe tbody tr th:only-of-type {\n",
              "        vertical-align: middle;\n",
              "    }\n",
              "\n",
              "    .dataframe tbody tr th {\n",
              "        vertical-align: top;\n",
              "    }\n",
              "\n",
              "    .dataframe thead th {\n",
              "        text-align: right;\n",
              "    }\n",
              "</style>\n",
              "<table border=\"1\" class=\"dataframe\">\n",
              "  <thead>\n",
              "    <tr style=\"text-align: right;\">\n",
              "      <th></th>\n",
              "      <th>tx_price</th>\n",
              "      <th>beds</th>\n",
              "      <th>baths</th>\n",
              "      <th>sqft</th>\n",
              "      <th>year_built</th>\n",
              "      <th>lot_size</th>\n",
              "      <th>restaurants</th>\n",
              "      <th>groceries</th>\n",
              "      <th>cafes</th>\n",
              "      <th>shopping</th>\n",
              "      <th>arts_entertainment</th>\n",
              "      <th>beauty_spas</th>\n",
              "      <th>active_life</th>\n",
              "      <th>median_age</th>\n",
              "      <th>married</th>\n",
              "      <th>college_grad</th>\n",
              "      <th>property_tax</th>\n",
              "      <th>insurance</th>\n",
              "      <th>median_school</th>\n",
              "      <th>num_schools</th>\n",
              "      <th>tx_year</th>\n",
              "      <th>two_and_two</th>\n",
              "      <th>old_properties</th>\n",
              "      <th>tax_and_insurance</th>\n",
              "      <th>during_recession</th>\n",
              "      <th>property_age</th>\n",
              "      <th>school_score</th>\n",
              "      <th>exterior_walls_Brick</th>\n",
              "      <th>exterior_walls_Brick veneer</th>\n",
              "      <th>exterior_walls_Combination</th>\n",
              "      <th>exterior_walls_Metal</th>\n",
              "      <th>exterior_walls_Missing</th>\n",
              "      <th>exterior_walls_Other</th>\n",
              "      <th>exterior_walls_Siding (Alum/Vinyl)</th>\n",
              "      <th>exterior_walls_Wood</th>\n",
              "      <th>roof_Asphalt</th>\n",
              "      <th>roof_Composition Shingle</th>\n",
              "      <th>roof_Missing</th>\n",
              "      <th>roof_Other</th>\n",
              "      <th>roof_Shake Shingle</th>\n",
              "      <th>property_type_Apartment / Condo / Townhouse</th>\n",
              "      <th>property_type_Single-Family</th>\n",
              "    </tr>\n",
              "  </thead>\n",
              "  <tbody>\n",
              "    <tr>\n",
              "      <th>0</th>\n",
              "      <td>295850</td>\n",
              "      <td>1</td>\n",
              "      <td>1</td>\n",
              "      <td>584</td>\n",
              "      <td>2013</td>\n",
              "      <td>0</td>\n",
              "      <td>107</td>\n",
              "      <td>9</td>\n",
              "      <td>19</td>\n",
              "      <td>89</td>\n",
              "      <td>6</td>\n",
              "      <td>47</td>\n",
              "      <td>58</td>\n",
              "      <td>33.0</td>\n",
              "      <td>65.0</td>\n",
              "      <td>84.0</td>\n",
              "      <td>234.0</td>\n",
              "      <td>81.0</td>\n",
              "      <td>9.0</td>\n",
              "      <td>3.0</td>\n",
              "      <td>2013</td>\n",
              "      <td>0</td>\n",
              "      <td>0</td>\n",
              "      <td>315.0</td>\n",
              "      <td>True</td>\n",
              "      <td>0</td>\n",
              "      <td>27.0</td>\n",
              "      <td>0</td>\n",
              "      <td>0</td>\n",
              "      <td>0</td>\n",
              "      <td>0</td>\n",
              "      <td>0</td>\n",
              "      <td>0</td>\n",
              "      <td>0</td>\n",
              "      <td>1</td>\n",
              "      <td>0</td>\n",
              "      <td>0</td>\n",
              "      <td>1</td>\n",
              "      <td>0</td>\n",
              "      <td>0</td>\n",
              "      <td>1</td>\n",
              "      <td>0</td>\n",
              "    </tr>\n",
              "    <tr>\n",
              "      <th>1</th>\n",
              "      <td>216500</td>\n",
              "      <td>1</td>\n",
              "      <td>1</td>\n",
              "      <td>612</td>\n",
              "      <td>1965</td>\n",
              "      <td>0</td>\n",
              "      <td>105</td>\n",
              "      <td>15</td>\n",
              "      <td>13</td>\n",
              "      <td>87</td>\n",
              "      <td>2</td>\n",
              "      <td>26</td>\n",
              "      <td>14</td>\n",
              "      <td>39.0</td>\n",
              "      <td>73.0</td>\n",
              "      <td>69.0</td>\n",
              "      <td>169.0</td>\n",
              "      <td>51.0</td>\n",
              "      <td>3.0</td>\n",
              "      <td>3.0</td>\n",
              "      <td>2006</td>\n",
              "      <td>0</td>\n",
              "      <td>1</td>\n",
              "      <td>220.0</td>\n",
              "      <td>False</td>\n",
              "      <td>41</td>\n",
              "      <td>9.0</td>\n",
              "      <td>1</td>\n",
              "      <td>0</td>\n",
              "      <td>0</td>\n",
              "      <td>0</td>\n",
              "      <td>0</td>\n",
              "      <td>0</td>\n",
              "      <td>0</td>\n",
              "      <td>0</td>\n",
              "      <td>0</td>\n",
              "      <td>1</td>\n",
              "      <td>0</td>\n",
              "      <td>0</td>\n",
              "      <td>0</td>\n",
              "      <td>1</td>\n",
              "      <td>0</td>\n",
              "    </tr>\n",
              "    <tr>\n",
              "      <th>2</th>\n",
              "      <td>279900</td>\n",
              "      <td>1</td>\n",
              "      <td>1</td>\n",
              "      <td>615</td>\n",
              "      <td>1963</td>\n",
              "      <td>0</td>\n",
              "      <td>183</td>\n",
              "      <td>13</td>\n",
              "      <td>30</td>\n",
              "      <td>101</td>\n",
              "      <td>10</td>\n",
              "      <td>74</td>\n",
              "      <td>62</td>\n",
              "      <td>28.0</td>\n",
              "      <td>15.0</td>\n",
              "      <td>86.0</td>\n",
              "      <td>216.0</td>\n",
              "      <td>74.0</td>\n",
              "      <td>8.0</td>\n",
              "      <td>3.0</td>\n",
              "      <td>2012</td>\n",
              "      <td>0</td>\n",
              "      <td>1</td>\n",
              "      <td>290.0</td>\n",
              "      <td>True</td>\n",
              "      <td>49</td>\n",
              "      <td>24.0</td>\n",
              "      <td>0</td>\n",
              "      <td>0</td>\n",
              "      <td>0</td>\n",
              "      <td>0</td>\n",
              "      <td>0</td>\n",
              "      <td>0</td>\n",
              "      <td>0</td>\n",
              "      <td>1</td>\n",
              "      <td>0</td>\n",
              "      <td>0</td>\n",
              "      <td>1</td>\n",
              "      <td>0</td>\n",
              "      <td>0</td>\n",
              "      <td>1</td>\n",
              "      <td>0</td>\n",
              "    </tr>\n",
              "    <tr>\n",
              "      <th>3</th>\n",
              "      <td>379900</td>\n",
              "      <td>1</td>\n",
              "      <td>1</td>\n",
              "      <td>618</td>\n",
              "      <td>2000</td>\n",
              "      <td>33541</td>\n",
              "      <td>198</td>\n",
              "      <td>9</td>\n",
              "      <td>25</td>\n",
              "      <td>127</td>\n",
              "      <td>11</td>\n",
              "      <td>72</td>\n",
              "      <td>83</td>\n",
              "      <td>36.0</td>\n",
              "      <td>25.0</td>\n",
              "      <td>91.0</td>\n",
              "      <td>265.0</td>\n",
              "      <td>92.0</td>\n",
              "      <td>9.0</td>\n",
              "      <td>3.0</td>\n",
              "      <td>2005</td>\n",
              "      <td>0</td>\n",
              "      <td>0</td>\n",
              "      <td>357.0</td>\n",
              "      <td>False</td>\n",
              "      <td>5</td>\n",
              "      <td>27.0</td>\n",
              "      <td>0</td>\n",
              "      <td>0</td>\n",
              "      <td>0</td>\n",
              "      <td>0</td>\n",
              "      <td>0</td>\n",
              "      <td>0</td>\n",
              "      <td>0</td>\n",
              "      <td>1</td>\n",
              "      <td>0</td>\n",
              "      <td>0</td>\n",
              "      <td>1</td>\n",
              "      <td>0</td>\n",
              "      <td>0</td>\n",
              "      <td>1</td>\n",
              "      <td>0</td>\n",
              "    </tr>\n",
              "    <tr>\n",
              "      <th>4</th>\n",
              "      <td>340000</td>\n",
              "      <td>1</td>\n",
              "      <td>1</td>\n",
              "      <td>634</td>\n",
              "      <td>1992</td>\n",
              "      <td>0</td>\n",
              "      <td>149</td>\n",
              "      <td>7</td>\n",
              "      <td>20</td>\n",
              "      <td>83</td>\n",
              "      <td>10</td>\n",
              "      <td>50</td>\n",
              "      <td>73</td>\n",
              "      <td>37.0</td>\n",
              "      <td>20.0</td>\n",
              "      <td>75.0</td>\n",
              "      <td>88.0</td>\n",
              "      <td>30.0</td>\n",
              "      <td>9.0</td>\n",
              "      <td>3.0</td>\n",
              "      <td>2002</td>\n",
              "      <td>0</td>\n",
              "      <td>0</td>\n",
              "      <td>118.0</td>\n",
              "      <td>False</td>\n",
              "      <td>10</td>\n",
              "      <td>27.0</td>\n",
              "      <td>1</td>\n",
              "      <td>0</td>\n",
              "      <td>0</td>\n",
              "      <td>0</td>\n",
              "      <td>0</td>\n",
              "      <td>0</td>\n",
              "      <td>0</td>\n",
              "      <td>0</td>\n",
              "      <td>0</td>\n",
              "      <td>0</td>\n",
              "      <td>1</td>\n",
              "      <td>0</td>\n",
              "      <td>0</td>\n",
              "      <td>1</td>\n",
              "      <td>0</td>\n",
              "    </tr>\n",
              "  </tbody>\n",
              "</table>\n",
              "</div>"
            ],
            "text/plain": [
              "   tx_price  ...  property_type_Single-Family\n",
              "0    295850  ...                            0\n",
              "1    216500  ...                            0\n",
              "2    279900  ...                            0\n",
              "3    379900  ...                            0\n",
              "4    340000  ...                            0\n",
              "\n",
              "[5 rows x 42 columns]"
            ]
          },
          "metadata": {
            "tags": []
          },
          "execution_count": 67
        }
      ]
    },
    {
      "cell_type": "markdown",
      "metadata": {
        "id": "R3mTJtYiwpc5"
      },
      "source": [
        "##  Remove unused or redundant features\n",
        "* Redundant features would typically be those that have been **replaced by other features** that you've added.\n",
        "* For example, since we used 'tx_year' and 'year_built' to create the 'property_age' feature, we might consider removing them.\n"
      ]
    },
    {
      "cell_type": "code",
      "metadata": {
        "collapsed": true,
        "id": "gtltis3Owpc5"
      },
      "source": [
        "# Drop 'tx_year' and 'year_built' from the dataset\n",
        "df = df.drop(['tx_year', 'year_built'], axis=1)  ## axis=1 because we are dropping columns."
      ],
      "execution_count": 68,
      "outputs": []
    },
    {
      "cell_type": "markdown",
      "metadata": {
        "id": "4G3Qnc4bwpc5"
      },
      "source": [
        "* Also remove 'property_tax' and 'insurance' as we have combined them in 'tax_and _insurance'"
      ]
    },
    {
      "cell_type": "code",
      "metadata": {
        "collapsed": true,
        "id": "swvS9k_jwpc5"
      },
      "source": [
        "df = df.drop(['property_tax', 'insurance'], axis=1)  ## axis=1 because we are dropping columns."
      ],
      "execution_count": 69,
      "outputs": []
    },
    {
      "cell_type": "markdown",
      "metadata": {
        "id": "kvFG96WAwpc5"
      },
      "source": [
        "Finally, before we move on to the next module, let's save our new DataFrame we that augmented through feature engineering. We'll call it the analytical base table because we'll be building our models on it.\n",
        "* Remember to set the argument index=None to save only the data."
      ]
    },
    {
      "cell_type": "code",
      "metadata": {
        "collapsed": true,
        "id": "QgqksZ1Rwpc5"
      },
      "source": [
        "# Save analytical base table\n",
        "df.to_csv('/content/analytical_base_table.csv', index=None)"
      ],
      "execution_count": 70,
      "outputs": []
    },
    {
      "cell_type": "markdown",
      "metadata": {
        "id": "pPMxTagrwpc6"
      },
      "source": [
        "# Machine Learning Models\n",
        "## Data Preparation"
      ]
    },
    {
      "cell_type": "code",
      "metadata": {
        "collapsed": true,
        "id": "pK6Ivr0pwpc6"
      },
      "source": [
        "df = pd.read_csv(\"/content/analytical_base_table.csv\")"
      ],
      "execution_count": 71,
      "outputs": []
    },
    {
      "cell_type": "code",
      "metadata": {
        "colab": {
          "base_uri": "https://localhost:8080/"
        },
        "id": "Cv5UH6D9wpc6",
        "outputId": "946509fb-9196-4828-bc51-6deeb74ab385"
      },
      "source": [
        "print(df.shape)"
      ],
      "execution_count": 72,
      "outputs": [
        {
          "output_type": "stream",
          "text": [
            "(1863, 38)\n"
          ],
          "name": "stdout"
        }
      ]
    },
    {
      "cell_type": "markdown",
      "metadata": {
        "id": "C2EWu8BBwpc6"
      },
      "source": [
        "###  Train and Test Splits\n",
        "1.27. Separate your dataframe into separate objects for the target variable (y) and the input features (X) and perform the train and test split"
      ]
    },
    {
      "cell_type": "code",
      "metadata": {
        "collapsed": true,
        "id": "FMT5CCXGwpc6"
      },
      "source": [
        "# Create separate object for target variable\n",
        "y = df.iloc[:,0]\n",
        "# Create separate object for input features\n",
        "X = df.iloc[:,1:]"
      ],
      "execution_count": 73,
      "outputs": []
    },
    {
      "cell_type": "code",
      "metadata": {
        "colab": {
          "base_uri": "https://localhost:8080/",
          "height": 236
        },
        "id": "Ke22xR8hh5ry",
        "outputId": "010f0f45-3e0a-4a13-eb64-107691662fe1"
      },
      "source": [
        "X.head()"
      ],
      "execution_count": 74,
      "outputs": [
        {
          "output_type": "execute_result",
          "data": {
            "text/html": [
              "<div>\n",
              "<style scoped>\n",
              "    .dataframe tbody tr th:only-of-type {\n",
              "        vertical-align: middle;\n",
              "    }\n",
              "\n",
              "    .dataframe tbody tr th {\n",
              "        vertical-align: top;\n",
              "    }\n",
              "\n",
              "    .dataframe thead th {\n",
              "        text-align: right;\n",
              "    }\n",
              "</style>\n",
              "<table border=\"1\" class=\"dataframe\">\n",
              "  <thead>\n",
              "    <tr style=\"text-align: right;\">\n",
              "      <th></th>\n",
              "      <th>beds</th>\n",
              "      <th>baths</th>\n",
              "      <th>sqft</th>\n",
              "      <th>lot_size</th>\n",
              "      <th>restaurants</th>\n",
              "      <th>groceries</th>\n",
              "      <th>cafes</th>\n",
              "      <th>shopping</th>\n",
              "      <th>arts_entertainment</th>\n",
              "      <th>beauty_spas</th>\n",
              "      <th>active_life</th>\n",
              "      <th>median_age</th>\n",
              "      <th>married</th>\n",
              "      <th>college_grad</th>\n",
              "      <th>median_school</th>\n",
              "      <th>num_schools</th>\n",
              "      <th>two_and_two</th>\n",
              "      <th>old_properties</th>\n",
              "      <th>tax_and_insurance</th>\n",
              "      <th>during_recession</th>\n",
              "      <th>property_age</th>\n",
              "      <th>school_score</th>\n",
              "      <th>exterior_walls_Brick</th>\n",
              "      <th>exterior_walls_Brick veneer</th>\n",
              "      <th>exterior_walls_Combination</th>\n",
              "      <th>exterior_walls_Metal</th>\n",
              "      <th>exterior_walls_Missing</th>\n",
              "      <th>exterior_walls_Other</th>\n",
              "      <th>exterior_walls_Siding (Alum/Vinyl)</th>\n",
              "      <th>exterior_walls_Wood</th>\n",
              "      <th>roof_Asphalt</th>\n",
              "      <th>roof_Composition Shingle</th>\n",
              "      <th>roof_Missing</th>\n",
              "      <th>roof_Other</th>\n",
              "      <th>roof_Shake Shingle</th>\n",
              "      <th>property_type_Apartment / Condo / Townhouse</th>\n",
              "      <th>property_type_Single-Family</th>\n",
              "    </tr>\n",
              "  </thead>\n",
              "  <tbody>\n",
              "    <tr>\n",
              "      <th>0</th>\n",
              "      <td>1</td>\n",
              "      <td>1</td>\n",
              "      <td>584</td>\n",
              "      <td>0</td>\n",
              "      <td>107</td>\n",
              "      <td>9</td>\n",
              "      <td>19</td>\n",
              "      <td>89</td>\n",
              "      <td>6</td>\n",
              "      <td>47</td>\n",
              "      <td>58</td>\n",
              "      <td>33.0</td>\n",
              "      <td>65.0</td>\n",
              "      <td>84.0</td>\n",
              "      <td>9.0</td>\n",
              "      <td>3.0</td>\n",
              "      <td>0</td>\n",
              "      <td>0</td>\n",
              "      <td>315.0</td>\n",
              "      <td>True</td>\n",
              "      <td>0</td>\n",
              "      <td>27.0</td>\n",
              "      <td>0</td>\n",
              "      <td>0</td>\n",
              "      <td>0</td>\n",
              "      <td>0</td>\n",
              "      <td>0</td>\n",
              "      <td>0</td>\n",
              "      <td>0</td>\n",
              "      <td>1</td>\n",
              "      <td>0</td>\n",
              "      <td>0</td>\n",
              "      <td>1</td>\n",
              "      <td>0</td>\n",
              "      <td>0</td>\n",
              "      <td>1</td>\n",
              "      <td>0</td>\n",
              "    </tr>\n",
              "    <tr>\n",
              "      <th>1</th>\n",
              "      <td>1</td>\n",
              "      <td>1</td>\n",
              "      <td>612</td>\n",
              "      <td>0</td>\n",
              "      <td>105</td>\n",
              "      <td>15</td>\n",
              "      <td>13</td>\n",
              "      <td>87</td>\n",
              "      <td>2</td>\n",
              "      <td>26</td>\n",
              "      <td>14</td>\n",
              "      <td>39.0</td>\n",
              "      <td>73.0</td>\n",
              "      <td>69.0</td>\n",
              "      <td>3.0</td>\n",
              "      <td>3.0</td>\n",
              "      <td>0</td>\n",
              "      <td>1</td>\n",
              "      <td>220.0</td>\n",
              "      <td>False</td>\n",
              "      <td>41</td>\n",
              "      <td>9.0</td>\n",
              "      <td>1</td>\n",
              "      <td>0</td>\n",
              "      <td>0</td>\n",
              "      <td>0</td>\n",
              "      <td>0</td>\n",
              "      <td>0</td>\n",
              "      <td>0</td>\n",
              "      <td>0</td>\n",
              "      <td>0</td>\n",
              "      <td>1</td>\n",
              "      <td>0</td>\n",
              "      <td>0</td>\n",
              "      <td>0</td>\n",
              "      <td>1</td>\n",
              "      <td>0</td>\n",
              "    </tr>\n",
              "    <tr>\n",
              "      <th>2</th>\n",
              "      <td>1</td>\n",
              "      <td>1</td>\n",
              "      <td>615</td>\n",
              "      <td>0</td>\n",
              "      <td>183</td>\n",
              "      <td>13</td>\n",
              "      <td>30</td>\n",
              "      <td>101</td>\n",
              "      <td>10</td>\n",
              "      <td>74</td>\n",
              "      <td>62</td>\n",
              "      <td>28.0</td>\n",
              "      <td>15.0</td>\n",
              "      <td>86.0</td>\n",
              "      <td>8.0</td>\n",
              "      <td>3.0</td>\n",
              "      <td>0</td>\n",
              "      <td>1</td>\n",
              "      <td>290.0</td>\n",
              "      <td>True</td>\n",
              "      <td>49</td>\n",
              "      <td>24.0</td>\n",
              "      <td>0</td>\n",
              "      <td>0</td>\n",
              "      <td>0</td>\n",
              "      <td>0</td>\n",
              "      <td>0</td>\n",
              "      <td>0</td>\n",
              "      <td>0</td>\n",
              "      <td>1</td>\n",
              "      <td>0</td>\n",
              "      <td>0</td>\n",
              "      <td>1</td>\n",
              "      <td>0</td>\n",
              "      <td>0</td>\n",
              "      <td>1</td>\n",
              "      <td>0</td>\n",
              "    </tr>\n",
              "    <tr>\n",
              "      <th>3</th>\n",
              "      <td>1</td>\n",
              "      <td>1</td>\n",
              "      <td>618</td>\n",
              "      <td>33541</td>\n",
              "      <td>198</td>\n",
              "      <td>9</td>\n",
              "      <td>25</td>\n",
              "      <td>127</td>\n",
              "      <td>11</td>\n",
              "      <td>72</td>\n",
              "      <td>83</td>\n",
              "      <td>36.0</td>\n",
              "      <td>25.0</td>\n",
              "      <td>91.0</td>\n",
              "      <td>9.0</td>\n",
              "      <td>3.0</td>\n",
              "      <td>0</td>\n",
              "      <td>0</td>\n",
              "      <td>357.0</td>\n",
              "      <td>False</td>\n",
              "      <td>5</td>\n",
              "      <td>27.0</td>\n",
              "      <td>0</td>\n",
              "      <td>0</td>\n",
              "      <td>0</td>\n",
              "      <td>0</td>\n",
              "      <td>0</td>\n",
              "      <td>0</td>\n",
              "      <td>0</td>\n",
              "      <td>1</td>\n",
              "      <td>0</td>\n",
              "      <td>0</td>\n",
              "      <td>1</td>\n",
              "      <td>0</td>\n",
              "      <td>0</td>\n",
              "      <td>1</td>\n",
              "      <td>0</td>\n",
              "    </tr>\n",
              "    <tr>\n",
              "      <th>4</th>\n",
              "      <td>1</td>\n",
              "      <td>1</td>\n",
              "      <td>634</td>\n",
              "      <td>0</td>\n",
              "      <td>149</td>\n",
              "      <td>7</td>\n",
              "      <td>20</td>\n",
              "      <td>83</td>\n",
              "      <td>10</td>\n",
              "      <td>50</td>\n",
              "      <td>73</td>\n",
              "      <td>37.0</td>\n",
              "      <td>20.0</td>\n",
              "      <td>75.0</td>\n",
              "      <td>9.0</td>\n",
              "      <td>3.0</td>\n",
              "      <td>0</td>\n",
              "      <td>0</td>\n",
              "      <td>118.0</td>\n",
              "      <td>False</td>\n",
              "      <td>10</td>\n",
              "      <td>27.0</td>\n",
              "      <td>1</td>\n",
              "      <td>0</td>\n",
              "      <td>0</td>\n",
              "      <td>0</td>\n",
              "      <td>0</td>\n",
              "      <td>0</td>\n",
              "      <td>0</td>\n",
              "      <td>0</td>\n",
              "      <td>0</td>\n",
              "      <td>0</td>\n",
              "      <td>1</td>\n",
              "      <td>0</td>\n",
              "      <td>0</td>\n",
              "      <td>1</td>\n",
              "      <td>0</td>\n",
              "    </tr>\n",
              "  </tbody>\n",
              "</table>\n",
              "</div>"
            ],
            "text/plain": [
              "   beds  ...  property_type_Single-Family\n",
              "0     1  ...                            0\n",
              "1     1  ...                            0\n",
              "2     1  ...                            0\n",
              "3     1  ...                            0\n",
              "4     1  ...                            0\n",
              "\n",
              "[5 rows x 37 columns]"
            ]
          },
          "metadata": {
            "tags": []
          },
          "execution_count": 74
        }
      ]
    },
    {
      "cell_type": "markdown",
      "metadata": {
        "id": "uRALNmyoXY6o"
      },
      "source": [
        "1.28. Split X and y into train and test sets: 80-20"
      ]
    },
    {
      "cell_type": "code",
      "metadata": {
        "collapsed": true,
        "id": "XRNWgrlAwpc7"
      },
      "source": [
        "# Split X and y into train and test sets: 80-20\n",
        "X_train, X_test, y_train, y_test = train_test_split(X, y, test_size=0.2, random_state=1234)"
      ],
      "execution_count": 75,
      "outputs": []
    },
    {
      "cell_type": "markdown",
      "metadata": {
        "id": "C7ezN-HYwpc7"
      },
      "source": [
        "Let's confirm we have the right number of observations in each subset."
      ]
    },
    {
      "cell_type": "code",
      "metadata": {
        "colab": {
          "base_uri": "https://localhost:8080/"
        },
        "id": "YsnAXvZmwpc7",
        "outputId": "8cee31fb-cc01-4bdb-8ac0-1c47443060ce"
      },
      "source": [
        "print(X_train.shape, X_test.shape, y_train.shape, y_test.shape)"
      ],
      "execution_count": 76,
      "outputs": [
        {
          "output_type": "stream",
          "text": [
            "(1490, 37) (373, 37) (1490,) (373,)\n"
          ],
          "name": "stdout"
        }
      ]
    },
    {
      "cell_type": "markdown",
      "metadata": {
        "id": "sAZbnCdswpc7"
      },
      "source": [
        "### Data standardization\n",
        "* In Data Standardization we perform zero mean centring and unit scaling; i.e. we make the mean of all the features as zero and the standard deviation as 1.\n",
        "* Thus we use **mean** and **standard deviation** of each feature.\n",
        "* It is very important to save the **mean** and **standard deviation** for each of the feature from the **training set**, because we use the same mean and standard deviation in the test set."
      ]
    },
    {
      "cell_type": "code",
      "metadata": {
        "collapsed": true,
        "id": "uXe_0W-Cwpc8"
      },
      "source": [
        "train_mean = X_train.mean()\n",
        "train_std = X_train.std()"
      ],
      "execution_count": 77,
      "outputs": []
    },
    {
      "cell_type": "code",
      "metadata": {
        "collapsed": true,
        "id": "O9CqzCOnwpc8"
      },
      "source": [
        "## Standardize the train data set\n",
        "X_train = (X_train - train_mean) / train_std"
      ],
      "execution_count": 78,
      "outputs": []
    },
    {
      "cell_type": "code",
      "metadata": {
        "colab": {
          "base_uri": "https://localhost:8080/",
          "height": 412
        },
        "id": "whrcGqhzwpc8",
        "outputId": "b15cd9da-95da-4f6c-aa38-1d6be20160f4"
      },
      "source": [
        "## Check for mean and std dev.\n",
        "X_train.describe()"
      ],
      "execution_count": 79,
      "outputs": [
        {
          "output_type": "execute_result",
          "data": {
            "text/html": [
              "<div>\n",
              "<style scoped>\n",
              "    .dataframe tbody tr th:only-of-type {\n",
              "        vertical-align: middle;\n",
              "    }\n",
              "\n",
              "    .dataframe tbody tr th {\n",
              "        vertical-align: top;\n",
              "    }\n",
              "\n",
              "    .dataframe thead th {\n",
              "        text-align: right;\n",
              "    }\n",
              "</style>\n",
              "<table border=\"1\" class=\"dataframe\">\n",
              "  <thead>\n",
              "    <tr style=\"text-align: right;\">\n",
              "      <th></th>\n",
              "      <th>beds</th>\n",
              "      <th>baths</th>\n",
              "      <th>sqft</th>\n",
              "      <th>lot_size</th>\n",
              "      <th>restaurants</th>\n",
              "      <th>groceries</th>\n",
              "      <th>cafes</th>\n",
              "      <th>shopping</th>\n",
              "      <th>arts_entertainment</th>\n",
              "      <th>beauty_spas</th>\n",
              "      <th>active_life</th>\n",
              "      <th>median_age</th>\n",
              "      <th>married</th>\n",
              "      <th>college_grad</th>\n",
              "      <th>median_school</th>\n",
              "      <th>num_schools</th>\n",
              "      <th>two_and_two</th>\n",
              "      <th>old_properties</th>\n",
              "      <th>tax_and_insurance</th>\n",
              "      <th>during_recession</th>\n",
              "      <th>property_age</th>\n",
              "      <th>school_score</th>\n",
              "      <th>exterior_walls_Brick</th>\n",
              "      <th>exterior_walls_Brick veneer</th>\n",
              "      <th>exterior_walls_Combination</th>\n",
              "      <th>exterior_walls_Metal</th>\n",
              "      <th>exterior_walls_Missing</th>\n",
              "      <th>exterior_walls_Other</th>\n",
              "      <th>exterior_walls_Siding (Alum/Vinyl)</th>\n",
              "      <th>exterior_walls_Wood</th>\n",
              "      <th>roof_Asphalt</th>\n",
              "      <th>roof_Composition Shingle</th>\n",
              "      <th>roof_Missing</th>\n",
              "      <th>roof_Other</th>\n",
              "      <th>roof_Shake Shingle</th>\n",
              "      <th>property_type_Apartment / Condo / Townhouse</th>\n",
              "      <th>property_type_Single-Family</th>\n",
              "    </tr>\n",
              "  </thead>\n",
              "  <tbody>\n",
              "    <tr>\n",
              "      <th>count</th>\n",
              "      <td>1.490000e+03</td>\n",
              "      <td>1.490000e+03</td>\n",
              "      <td>1.490000e+03</td>\n",
              "      <td>1.490000e+03</td>\n",
              "      <td>1.490000e+03</td>\n",
              "      <td>1.490000e+03</td>\n",
              "      <td>1.490000e+03</td>\n",
              "      <td>1.490000e+03</td>\n",
              "      <td>1.490000e+03</td>\n",
              "      <td>1.490000e+03</td>\n",
              "      <td>1.490000e+03</td>\n",
              "      <td>1.490000e+03</td>\n",
              "      <td>1.490000e+03</td>\n",
              "      <td>1.490000e+03</td>\n",
              "      <td>1.490000e+03</td>\n",
              "      <td>1.490000e+03</td>\n",
              "      <td>1.490000e+03</td>\n",
              "      <td>1.490000e+03</td>\n",
              "      <td>1.490000e+03</td>\n",
              "      <td>1.490000e+03</td>\n",
              "      <td>1.490000e+03</td>\n",
              "      <td>1.490000e+03</td>\n",
              "      <td>1.490000e+03</td>\n",
              "      <td>1.490000e+03</td>\n",
              "      <td>1.490000e+03</td>\n",
              "      <td>1.490000e+03</td>\n",
              "      <td>1.490000e+03</td>\n",
              "      <td>1.490000e+03</td>\n",
              "      <td>1.490000e+03</td>\n",
              "      <td>1.490000e+03</td>\n",
              "      <td>1.490000e+03</td>\n",
              "      <td>1.490000e+03</td>\n",
              "      <td>1.490000e+03</td>\n",
              "      <td>1.490000e+03</td>\n",
              "      <td>1.490000e+03</td>\n",
              "      <td>1.490000e+03</td>\n",
              "      <td>1.490000e+03</td>\n",
              "    </tr>\n",
              "    <tr>\n",
              "      <th>mean</th>\n",
              "      <td>-1.902281e-16</td>\n",
              "      <td>-4.254613e-17</td>\n",
              "      <td>7.663519e-17</td>\n",
              "      <td>3.911860e-17</td>\n",
              "      <td>1.409760e-16</td>\n",
              "      <td>1.621373e-16</td>\n",
              "      <td>8.946050e-18</td>\n",
              "      <td>2.315448e-17</td>\n",
              "      <td>-2.132895e-16</td>\n",
              "      <td>1.022299e-16</td>\n",
              "      <td>2.151243e-16</td>\n",
              "      <td>-3.534831e-16</td>\n",
              "      <td>-1.768906e-16</td>\n",
              "      <td>-5.603273e-17</td>\n",
              "      <td>1.852359e-16</td>\n",
              "      <td>9.239440e-18</td>\n",
              "      <td>-1.969342e-16</td>\n",
              "      <td>-5.177067e-16</td>\n",
              "      <td>-1.153440e-16</td>\n",
              "      <td>8.226082e-17</td>\n",
              "      <td>-3.012132e-17</td>\n",
              "      <td>-2.877266e-16</td>\n",
              "      <td>1.457447e-16</td>\n",
              "      <td>1.207088e-17</td>\n",
              "      <td>4.798548e-17</td>\n",
              "      <td>1.039437e-16</td>\n",
              "      <td>2.615358e-17</td>\n",
              "      <td>1.184362e-16</td>\n",
              "      <td>1.359092e-16</td>\n",
              "      <td>-2.747988e-16</td>\n",
              "      <td>-8.278240e-17</td>\n",
              "      <td>-2.752459e-16</td>\n",
              "      <td>2.772577e-16</td>\n",
              "      <td>-2.613867e-16</td>\n",
              "      <td>7.708226e-17</td>\n",
              "      <td>8.941393e-17</td>\n",
              "      <td>-8.941393e-17</td>\n",
              "    </tr>\n",
              "    <tr>\n",
              "      <th>std</th>\n",
              "      <td>1.000000e+00</td>\n",
              "      <td>1.000000e+00</td>\n",
              "      <td>1.000000e+00</td>\n",
              "      <td>1.000000e+00</td>\n",
              "      <td>1.000000e+00</td>\n",
              "      <td>1.000000e+00</td>\n",
              "      <td>1.000000e+00</td>\n",
              "      <td>1.000000e+00</td>\n",
              "      <td>1.000000e+00</td>\n",
              "      <td>1.000000e+00</td>\n",
              "      <td>1.000000e+00</td>\n",
              "      <td>1.000000e+00</td>\n",
              "      <td>1.000000e+00</td>\n",
              "      <td>1.000000e+00</td>\n",
              "      <td>1.000000e+00</td>\n",
              "      <td>1.000000e+00</td>\n",
              "      <td>1.000000e+00</td>\n",
              "      <td>1.000000e+00</td>\n",
              "      <td>1.000000e+00</td>\n",
              "      <td>1.000000e+00</td>\n",
              "      <td>1.000000e+00</td>\n",
              "      <td>1.000000e+00</td>\n",
              "      <td>1.000000e+00</td>\n",
              "      <td>1.000000e+00</td>\n",
              "      <td>1.000000e+00</td>\n",
              "      <td>1.000000e+00</td>\n",
              "      <td>1.000000e+00</td>\n",
              "      <td>1.000000e+00</td>\n",
              "      <td>1.000000e+00</td>\n",
              "      <td>1.000000e+00</td>\n",
              "      <td>1.000000e+00</td>\n",
              "      <td>1.000000e+00</td>\n",
              "      <td>1.000000e+00</td>\n",
              "      <td>1.000000e+00</td>\n",
              "      <td>1.000000e+00</td>\n",
              "      <td>1.000000e+00</td>\n",
              "      <td>1.000000e+00</td>\n",
              "    </tr>\n",
              "    <tr>\n",
              "      <th>min</th>\n",
              "      <td>-2.268801e+00</td>\n",
              "      <td>-1.697190e+00</td>\n",
              "      <td>-1.405276e+00</td>\n",
              "      <td>-3.662250e-01</td>\n",
              "      <td>-8.405927e-01</td>\n",
              "      <td>-9.756023e-01</td>\n",
              "      <td>-6.967768e-01</td>\n",
              "      <td>-7.559221e-01</td>\n",
              "      <td>-7.162235e-01</td>\n",
              "      <td>-8.905685e-01</td>\n",
              "      <td>-8.761722e-01</td>\n",
              "      <td>-2.495566e+00</td>\n",
              "      <td>-2.943413e+00</td>\n",
              "      <td>-3.511049e+00</td>\n",
              "      <td>-2.789591e+00</td>\n",
              "      <td>-3.439819e+00</td>\n",
              "      <td>-3.193783e-01</td>\n",
              "      <td>-7.779441e-01</td>\n",
              "      <td>-1.630962e+00</td>\n",
              "      <td>-6.014412e-01</td>\n",
              "      <td>-1.147796e+00</td>\n",
              "      <td>-2.315581e+00</td>\n",
              "      <td>-7.493115e-01</td>\n",
              "      <td>-1.572980e-01</td>\n",
              "      <td>-2.504503e-01</td>\n",
              "      <td>-2.652453e-01</td>\n",
              "      <td>-3.682115e-01</td>\n",
              "      <td>-1.975485e-01</td>\n",
              "      <td>-6.055792e-01</td>\n",
              "      <td>-2.652453e-01</td>\n",
              "      <td>-2.808475e-01</td>\n",
              "      <td>-1.343434e+00</td>\n",
              "      <td>-4.829980e-01</td>\n",
              "      <td>-2.534612e-01</td>\n",
              "      <td>-1.862765e-01</td>\n",
              "      <td>-8.497402e-01</td>\n",
              "      <td>-1.176040e+00</td>\n",
              "    </tr>\n",
              "    <tr>\n",
              "      <th>25%</th>\n",
              "      <td>-4.047185e-01</td>\n",
              "      <td>-6.224713e-01</td>\n",
              "      <td>-7.491974e-01</td>\n",
              "      <td>-3.219217e-01</td>\n",
              "      <td>-7.128947e-01</td>\n",
              "      <td>-7.532980e-01</td>\n",
              "      <td>-6.967768e-01</td>\n",
              "      <td>-6.412758e-01</td>\n",
              "      <td>-7.162235e-01</td>\n",
              "      <td>-7.350745e-01</td>\n",
              "      <td>-6.539411e-01</td>\n",
              "      <td>-8.327346e-01</td>\n",
              "      <td>-5.271130e-01</td>\n",
              "      <td>-6.881804e-01</td>\n",
              "      <td>-7.645042e-01</td>\n",
              "      <td>4.268957e-01</td>\n",
              "      <td>-3.193783e-01</td>\n",
              "      <td>-7.779441e-01</td>\n",
              "      <td>-6.306515e-01</td>\n",
              "      <td>-6.014412e-01</td>\n",
              "      <td>-8.648971e-01</td>\n",
              "      <td>-9.206779e-01</td>\n",
              "      <td>-7.493115e-01</td>\n",
              "      <td>-1.572980e-01</td>\n",
              "      <td>-2.504503e-01</td>\n",
              "      <td>-2.652453e-01</td>\n",
              "      <td>-3.682115e-01</td>\n",
              "      <td>-1.975485e-01</td>\n",
              "      <td>-6.055792e-01</td>\n",
              "      <td>-2.652453e-01</td>\n",
              "      <td>-2.808475e-01</td>\n",
              "      <td>-1.343434e+00</td>\n",
              "      <td>-4.829980e-01</td>\n",
              "      <td>-2.534612e-01</td>\n",
              "      <td>-1.862765e-01</td>\n",
              "      <td>-8.497402e-01</td>\n",
              "      <td>-1.176040e+00</td>\n",
              "    </tr>\n",
              "    <tr>\n",
              "      <th>50%</th>\n",
              "      <td>5.273226e-01</td>\n",
              "      <td>4.522474e-01</td>\n",
              "      <td>-3.155383e-01</td>\n",
              "      <td>-1.885809e-01</td>\n",
              "      <td>-3.936498e-01</td>\n",
              "      <td>-3.086896e-01</td>\n",
              "      <td>-2.936977e-01</td>\n",
              "      <td>-3.737676e-01</td>\n",
              "      <td>-2.901213e-01</td>\n",
              "      <td>-3.074659e-01</td>\n",
              "      <td>-3.205944e-01</td>\n",
              "      <td>-7.690215e-02</td>\n",
              "      <td>2.279809e-01</td>\n",
              "      <td>5.775901e-02</td>\n",
              "      <td>2.480391e-01</td>\n",
              "      <td>4.268957e-01</td>\n",
              "      <td>-3.193783e-01</td>\n",
              "      <td>-7.779441e-01</td>\n",
              "      <td>-1.741340e-01</td>\n",
              "      <td>-6.014412e-01</td>\n",
              "      <td>-2.048007e-01</td>\n",
              "      <td>9.257749e-03</td>\n",
              "      <td>-7.493115e-01</td>\n",
              "      <td>-1.572980e-01</td>\n",
              "      <td>-2.504503e-01</td>\n",
              "      <td>-2.652453e-01</td>\n",
              "      <td>-3.682115e-01</td>\n",
              "      <td>-1.975485e-01</td>\n",
              "      <td>-6.055792e-01</td>\n",
              "      <td>-2.652453e-01</td>\n",
              "      <td>-2.808475e-01</td>\n",
              "      <td>7.438617e-01</td>\n",
              "      <td>-4.829980e-01</td>\n",
              "      <td>-2.534612e-01</td>\n",
              "      <td>-1.862765e-01</td>\n",
              "      <td>-8.497402e-01</td>\n",
              "      <td>8.497402e-01</td>\n",
              "    </tr>\n",
              "    <tr>\n",
              "      <th>75%</th>\n",
              "      <td>5.273226e-01</td>\n",
              "      <td>4.522474e-01</td>\n",
              "      <td>5.334699e-01</td>\n",
              "      <td>-2.831904e-02</td>\n",
              "      <td>3.512552e-01</td>\n",
              "      <td>5.805274e-01</td>\n",
              "      <td>1.093814e-01</td>\n",
              "      <td>1.994641e-01</td>\n",
              "      <td>3.490321e-01</td>\n",
              "      <td>4.700041e-01</td>\n",
              "      <td>2.905410e-01</td>\n",
              "      <td>6.789303e-01</td>\n",
              "      <td>7.313768e-01</td>\n",
              "      <td>7.598196e-01</td>\n",
              "      <td>7.543108e-01</td>\n",
              "      <td>4.268957e-01</td>\n",
              "      <td>-3.193783e-01</td>\n",
              "      <td>1.284577e+00</td>\n",
              "      <td>4.435073e-01</td>\n",
              "      <td>1.661557e+00</td>\n",
              "      <td>6.438946e-01</td>\n",
              "      <td>9.391934e-01</td>\n",
              "      <td>1.333663e+00</td>\n",
              "      <td>-1.572980e-01</td>\n",
              "      <td>-2.504503e-01</td>\n",
              "      <td>-2.652453e-01</td>\n",
              "      <td>-3.682115e-01</td>\n",
              "      <td>-1.975485e-01</td>\n",
              "      <td>1.650203e+00</td>\n",
              "      <td>-2.652453e-01</td>\n",
              "      <td>-2.808475e-01</td>\n",
              "      <td>7.438617e-01</td>\n",
              "      <td>-4.829980e-01</td>\n",
              "      <td>-2.534612e-01</td>\n",
              "      <td>-1.862765e-01</td>\n",
              "      <td>1.176040e+00</td>\n",
              "      <td>8.497402e-01</td>\n",
              "    </tr>\n",
              "    <tr>\n",
              "      <th>max</th>\n",
              "      <td>1.459364e+00</td>\n",
              "      <td>3.676403e+00</td>\n",
              "      <td>4.255036e+00</td>\n",
              "      <td>1.217405e+01</td>\n",
              "      <td>4.820685e+00</td>\n",
              "      <td>4.359699e+00</td>\n",
              "      <td>5.618130e+00</td>\n",
              "      <td>5.740705e+00</td>\n",
              "      <td>6.740566e+00</td>\n",
              "      <td>5.990042e+00</td>\n",
              "      <td>4.346258e+00</td>\n",
              "      <td>4.609259e+00</td>\n",
              "      <td>1.536810e+00</td>\n",
              "      <td>2.046931e+00</td>\n",
              "      <td>1.766854e+00</td>\n",
              "      <td>2.360253e+00</td>\n",
              "      <td>3.128982e+00</td>\n",
              "      <td>1.284577e+00</td>\n",
              "      <td>1.771732e+01</td>\n",
              "      <td>1.661557e+00</td>\n",
              "      <td>4.227275e+00</td>\n",
              "      <td>1.869129e+00</td>\n",
              "      <td>1.333663e+00</td>\n",
              "      <td>6.353092e+00</td>\n",
              "      <td>3.990129e+00</td>\n",
              "      <td>3.767565e+00</td>\n",
              "      <td>2.714008e+00</td>\n",
              "      <td>5.058652e+00</td>\n",
              "      <td>1.650203e+00</td>\n",
              "      <td>3.767565e+00</td>\n",
              "      <td>3.558261e+00</td>\n",
              "      <td>7.438617e-01</td>\n",
              "      <td>2.069013e+00</td>\n",
              "      <td>3.942729e+00</td>\n",
              "      <td>5.364762e+00</td>\n",
              "      <td>1.176040e+00</td>\n",
              "      <td>8.497402e-01</td>\n",
              "    </tr>\n",
              "  </tbody>\n",
              "</table>\n",
              "</div>"
            ],
            "text/plain": [
              "               beds  ...  property_type_Single-Family\n",
              "count  1.490000e+03  ...                 1.490000e+03\n",
              "mean  -1.902281e-16  ...                -8.941393e-17\n",
              "std    1.000000e+00  ...                 1.000000e+00\n",
              "min   -2.268801e+00  ...                -1.176040e+00\n",
              "25%   -4.047185e-01  ...                -1.176040e+00\n",
              "50%    5.273226e-01  ...                 8.497402e-01\n",
              "75%    5.273226e-01  ...                 8.497402e-01\n",
              "max    1.459364e+00  ...                 8.497402e-01\n",
              "\n",
              "[8 rows x 37 columns]"
            ]
          },
          "metadata": {
            "tags": []
          },
          "execution_count": 79
        }
      ]
    },
    {
      "cell_type": "code",
      "metadata": {
        "collapsed": true,
        "id": "VuZ-MeuTwpc8"
      },
      "source": [
        "## Note: We use train_mean and train_std_dev to standardize test data set\n",
        "X_test = (X_test - train_mean) / train_std"
      ],
      "execution_count": 80,
      "outputs": []
    },
    {
      "cell_type": "code",
      "metadata": {
        "colab": {
          "base_uri": "https://localhost:8080/",
          "height": 326
        },
        "id": "zy6RBUwgwpc8",
        "outputId": "11749eda-c7a5-4c78-9fde-eac81ec0a757"
      },
      "source": [
        "## Check for mean and std dev. - not exactly 0 and 1\n",
        "X_test.describe()"
      ],
      "execution_count": 81,
      "outputs": [
        {
          "output_type": "execute_result",
          "data": {
            "text/html": [
              "<div>\n",
              "<style scoped>\n",
              "    .dataframe tbody tr th:only-of-type {\n",
              "        vertical-align: middle;\n",
              "    }\n",
              "\n",
              "    .dataframe tbody tr th {\n",
              "        vertical-align: top;\n",
              "    }\n",
              "\n",
              "    .dataframe thead th {\n",
              "        text-align: right;\n",
              "    }\n",
              "</style>\n",
              "<table border=\"1\" class=\"dataframe\">\n",
              "  <thead>\n",
              "    <tr style=\"text-align: right;\">\n",
              "      <th></th>\n",
              "      <th>beds</th>\n",
              "      <th>baths</th>\n",
              "      <th>sqft</th>\n",
              "      <th>lot_size</th>\n",
              "      <th>restaurants</th>\n",
              "      <th>groceries</th>\n",
              "      <th>cafes</th>\n",
              "      <th>shopping</th>\n",
              "      <th>arts_entertainment</th>\n",
              "      <th>beauty_spas</th>\n",
              "      <th>active_life</th>\n",
              "      <th>median_age</th>\n",
              "      <th>married</th>\n",
              "      <th>college_grad</th>\n",
              "      <th>median_school</th>\n",
              "      <th>num_schools</th>\n",
              "      <th>two_and_two</th>\n",
              "      <th>old_properties</th>\n",
              "      <th>tax_and_insurance</th>\n",
              "      <th>during_recession</th>\n",
              "      <th>property_age</th>\n",
              "      <th>school_score</th>\n",
              "      <th>exterior_walls_Brick</th>\n",
              "      <th>exterior_walls_Brick veneer</th>\n",
              "      <th>exterior_walls_Combination</th>\n",
              "      <th>exterior_walls_Metal</th>\n",
              "      <th>exterior_walls_Missing</th>\n",
              "      <th>exterior_walls_Other</th>\n",
              "      <th>exterior_walls_Siding (Alum/Vinyl)</th>\n",
              "      <th>exterior_walls_Wood</th>\n",
              "      <th>roof_Asphalt</th>\n",
              "      <th>roof_Composition Shingle</th>\n",
              "      <th>roof_Missing</th>\n",
              "      <th>roof_Other</th>\n",
              "      <th>roof_Shake Shingle</th>\n",
              "      <th>property_type_Apartment / Condo / Townhouse</th>\n",
              "      <th>property_type_Single-Family</th>\n",
              "    </tr>\n",
              "  </thead>\n",
              "  <tbody>\n",
              "    <tr>\n",
              "      <th>count</th>\n",
              "      <td>373.000000</td>\n",
              "      <td>373.000000</td>\n",
              "      <td>373.000000</td>\n",
              "      <td>373.000000</td>\n",
              "      <td>373.000000</td>\n",
              "      <td>373.000000</td>\n",
              "      <td>373.000000</td>\n",
              "      <td>373.000000</td>\n",
              "      <td>373.000000</td>\n",
              "      <td>373.000000</td>\n",
              "      <td>373.000000</td>\n",
              "      <td>373.000000</td>\n",
              "      <td>373.000000</td>\n",
              "      <td>373.000000</td>\n",
              "      <td>373.000000</td>\n",
              "      <td>373.000000</td>\n",
              "      <td>373.000000</td>\n",
              "      <td>373.000000</td>\n",
              "      <td>373.000000</td>\n",
              "      <td>373.000000</td>\n",
              "      <td>373.000000</td>\n",
              "      <td>373.000000</td>\n",
              "      <td>373.000000</td>\n",
              "      <td>373.000000</td>\n",
              "      <td>373.000000</td>\n",
              "      <td>373.000000</td>\n",
              "      <td>373.000000</td>\n",
              "      <td>373.000000</td>\n",
              "      <td>373.000000</td>\n",
              "      <td>373.000000</td>\n",
              "      <td>373.000000</td>\n",
              "      <td>373.000000</td>\n",
              "      <td>373.000000</td>\n",
              "      <td>373.000000</td>\n",
              "      <td>373.000000</td>\n",
              "      <td>373.000000</td>\n",
              "      <td>373.000000</td>\n",
              "    </tr>\n",
              "    <tr>\n",
              "      <th>mean</th>\n",
              "      <td>-0.117360</td>\n",
              "      <td>-0.080790</td>\n",
              "      <td>-0.090918</td>\n",
              "      <td>-0.032233</td>\n",
              "      <td>0.091066</td>\n",
              "      <td>0.141283</td>\n",
              "      <td>0.109381</td>\n",
              "      <td>0.132152</td>\n",
              "      <td>0.048019</td>\n",
              "      <td>0.107741</td>\n",
              "      <td>0.034946</td>\n",
              "      <td>0.072238</td>\n",
              "      <td>-0.100643</td>\n",
              "      <td>0.010077</td>\n",
              "      <td>-0.036315</td>\n",
              "      <td>0.121083</td>\n",
              "      <td>0.050419</td>\n",
              "      <td>0.051488</td>\n",
              "      <td>-0.061859</td>\n",
              "      <td>-0.025074</td>\n",
              "      <td>0.012619</td>\n",
              "      <td>0.032942</td>\n",
              "      <td>0.066008</td>\n",
              "      <td>0.052152</td>\n",
              "      <td>-0.045811</td>\n",
              "      <td>-0.027385</td>\n",
              "      <td>-0.004625</td>\n",
              "      <td>-0.042540</td>\n",
              "      <td>-0.025002</td>\n",
              "      <td>-0.005761</td>\n",
              "      <td>-0.002950</td>\n",
              "      <td>0.010790</td>\n",
              "      <td>-0.004068</td>\n",
              "      <td>0.027785</td>\n",
              "      <td>-0.052337</td>\n",
              "      <td>0.111555</td>\n",
              "      <td>-0.111555</td>\n",
              "    </tr>\n",
              "    <tr>\n",
              "      <th>std</th>\n",
              "      <td>0.958651</td>\n",
              "      <td>0.989343</td>\n",
              "      <td>1.001612</td>\n",
              "      <td>1.034313</td>\n",
              "      <td>1.003586</td>\n",
              "      <td>0.996496</td>\n",
              "      <td>1.077763</td>\n",
              "      <td>1.121003</td>\n",
              "      <td>1.013148</td>\n",
              "      <td>1.018536</td>\n",
              "      <td>0.922012</td>\n",
              "      <td>1.020545</td>\n",
              "      <td>0.949393</td>\n",
              "      <td>0.944916</td>\n",
              "      <td>1.042742</td>\n",
              "      <td>0.894708</td>\n",
              "      <td>1.068412</td>\n",
              "      <td>1.012676</td>\n",
              "      <td>0.893362</td>\n",
              "      <td>0.987285</td>\n",
              "      <td>0.972418</td>\n",
              "      <td>1.011310</td>\n",
              "      <td>1.017999</td>\n",
              "      <td>1.150338</td>\n",
              "      <td>0.910017</td>\n",
              "      <td>0.951364</td>\n",
              "      <td>0.995547</td>\n",
              "      <td>0.890424</td>\n",
              "      <td>0.987522</td>\n",
              "      <td>0.990833</td>\n",
              "      <td>0.996149</td>\n",
              "      <td>0.997703</td>\n",
              "      <td>0.997762</td>\n",
              "      <td>1.050725</td>\n",
              "      <td>0.852944</td>\n",
              "      <td>1.012934</td>\n",
              "      <td>1.012934</td>\n",
              "    </tr>\n",
              "    <tr>\n",
              "      <th>min</th>\n",
              "      <td>-2.268801</td>\n",
              "      <td>-1.697190</td>\n",
              "      <td>-1.261108</td>\n",
              "      <td>-0.366225</td>\n",
              "      <td>-0.840593</td>\n",
              "      <td>-0.975602</td>\n",
              "      <td>-0.696777</td>\n",
              "      <td>-0.755922</td>\n",
              "      <td>-0.716224</td>\n",
              "      <td>-0.890568</td>\n",
              "      <td>-0.876172</td>\n",
              "      <td>-1.739734</td>\n",
              "      <td>-2.842734</td>\n",
              "      <td>-2.691978</td>\n",
              "      <td>-2.789591</td>\n",
              "      <td>-3.439819</td>\n",
              "      <td>-0.319378</td>\n",
              "      <td>-0.777944</td>\n",
              "      <td>-1.362422</td>\n",
              "      <td>-0.601441</td>\n",
              "      <td>-1.147796</td>\n",
              "      <td>-2.315581</td>\n",
              "      <td>-0.749312</td>\n",
              "      <td>-0.157298</td>\n",
              "      <td>-0.250450</td>\n",
              "      <td>-0.265245</td>\n",
              "      <td>-0.368211</td>\n",
              "      <td>-0.197548</td>\n",
              "      <td>-0.605579</td>\n",
              "      <td>-0.265245</td>\n",
              "      <td>-0.280848</td>\n",
              "      <td>-1.343434</td>\n",
              "      <td>-0.482998</td>\n",
              "      <td>-0.253461</td>\n",
              "      <td>-0.186276</td>\n",
              "      <td>-0.849740</td>\n",
              "      <td>-1.176040</td>\n",
              "    </tr>\n",
              "    <tr>\n",
              "      <th>25%</th>\n",
              "      <td>-0.404719</td>\n",
              "      <td>-0.622471</td>\n",
              "      <td>-0.803935</td>\n",
              "      <td>-0.324824</td>\n",
              "      <td>-0.627763</td>\n",
              "      <td>-0.753298</td>\n",
              "      <td>-0.562417</td>\n",
              "      <td>-0.564845</td>\n",
              "      <td>-0.716224</td>\n",
              "      <td>-0.657327</td>\n",
              "      <td>-0.542826</td>\n",
              "      <td>-0.681568</td>\n",
              "      <td>-0.678132</td>\n",
              "      <td>-0.702807</td>\n",
              "      <td>-0.764504</td>\n",
              "      <td>0.426896</td>\n",
              "      <td>-0.319378</td>\n",
              "      <td>-0.777944</td>\n",
              "      <td>-0.640722</td>\n",
              "      <td>-0.601441</td>\n",
              "      <td>-0.912047</td>\n",
              "      <td>-0.920678</td>\n",
              "      <td>-0.749312</td>\n",
              "      <td>-0.157298</td>\n",
              "      <td>-0.250450</td>\n",
              "      <td>-0.265245</td>\n",
              "      <td>-0.368211</td>\n",
              "      <td>-0.197548</td>\n",
              "      <td>-0.605579</td>\n",
              "      <td>-0.265245</td>\n",
              "      <td>-0.280848</td>\n",
              "      <td>-1.343434</td>\n",
              "      <td>-0.482998</td>\n",
              "      <td>-0.253461</td>\n",
              "      <td>-0.186276</td>\n",
              "      <td>-0.849740</td>\n",
              "      <td>-1.176040</td>\n",
              "    </tr>\n",
              "    <tr>\n",
              "      <th>50%</th>\n",
              "      <td>-0.404719</td>\n",
              "      <td>-0.622471</td>\n",
              "      <td>-0.386851</td>\n",
              "      <td>-0.266126</td>\n",
              "      <td>-0.287235</td>\n",
              "      <td>-0.086385</td>\n",
              "      <td>-0.293698</td>\n",
              "      <td>-0.259121</td>\n",
              "      <td>-0.290121</td>\n",
              "      <td>-0.229719</td>\n",
              "      <td>-0.265037</td>\n",
              "      <td>-0.076902</td>\n",
              "      <td>0.076962</td>\n",
              "      <td>0.057759</td>\n",
              "      <td>0.248039</td>\n",
              "      <td>0.426896</td>\n",
              "      <td>-0.319378</td>\n",
              "      <td>-0.777944</td>\n",
              "      <td>-0.231199</td>\n",
              "      <td>-0.601441</td>\n",
              "      <td>-0.157651</td>\n",
              "      <td>0.009258</td>\n",
              "      <td>-0.749312</td>\n",
              "      <td>-0.157298</td>\n",
              "      <td>-0.250450</td>\n",
              "      <td>-0.265245</td>\n",
              "      <td>-0.368211</td>\n",
              "      <td>-0.197548</td>\n",
              "      <td>-0.605579</td>\n",
              "      <td>-0.265245</td>\n",
              "      <td>-0.280848</td>\n",
              "      <td>0.743862</td>\n",
              "      <td>-0.482998</td>\n",
              "      <td>-0.253461</td>\n",
              "      <td>-0.186276</td>\n",
              "      <td>-0.849740</td>\n",
              "      <td>0.849740</td>\n",
              "    </tr>\n",
              "    <tr>\n",
              "      <th>75%</th>\n",
              "      <td>0.527323</td>\n",
              "      <td>0.452247</td>\n",
              "      <td>0.306233</td>\n",
              "      <td>-0.062883</td>\n",
              "      <td>0.500236</td>\n",
              "      <td>0.580527</td>\n",
              "      <td>0.243741</td>\n",
              "      <td>0.333218</td>\n",
              "      <td>0.349032</td>\n",
              "      <td>0.586625</td>\n",
              "      <td>0.346099</td>\n",
              "      <td>0.678930</td>\n",
              "      <td>0.630698</td>\n",
              "      <td>0.759820</td>\n",
              "      <td>0.754311</td>\n",
              "      <td>0.426896</td>\n",
              "      <td>-0.319378</td>\n",
              "      <td>1.284577</td>\n",
              "      <td>0.268956</td>\n",
              "      <td>1.661557</td>\n",
              "      <td>0.691044</td>\n",
              "      <td>0.939193</td>\n",
              "      <td>1.333663</td>\n",
              "      <td>-0.157298</td>\n",
              "      <td>-0.250450</td>\n",
              "      <td>-0.265245</td>\n",
              "      <td>-0.368211</td>\n",
              "      <td>-0.197548</td>\n",
              "      <td>1.650203</td>\n",
              "      <td>-0.265245</td>\n",
              "      <td>-0.280848</td>\n",
              "      <td>0.743862</td>\n",
              "      <td>-0.482998</td>\n",
              "      <td>-0.253461</td>\n",
              "      <td>-0.186276</td>\n",
              "      <td>1.176040</td>\n",
              "      <td>0.849740</td>\n",
              "    </tr>\n",
              "    <tr>\n",
              "      <th>max</th>\n",
              "      <td>1.459364</td>\n",
              "      <td>3.676403</td>\n",
              "      <td>4.127830</td>\n",
              "      <td>12.149022</td>\n",
              "      <td>4.820685</td>\n",
              "      <td>3.915091</td>\n",
              "      <td>5.349410</td>\n",
              "      <td>5.740705</td>\n",
              "      <td>6.740566</td>\n",
              "      <td>5.912295</td>\n",
              "      <td>4.012912</td>\n",
              "      <td>4.155760</td>\n",
              "      <td>1.536810</td>\n",
              "      <td>1.988426</td>\n",
              "      <td>1.766854</td>\n",
              "      <td>2.360253</td>\n",
              "      <td>3.128982</td>\n",
              "      <td>1.284577</td>\n",
              "      <td>4.803920</td>\n",
              "      <td>1.661557</td>\n",
              "      <td>3.284280</td>\n",
              "      <td>1.869129</td>\n",
              "      <td>1.333663</td>\n",
              "      <td>6.353092</td>\n",
              "      <td>3.990129</td>\n",
              "      <td>3.767565</td>\n",
              "      <td>2.714008</td>\n",
              "      <td>5.058652</td>\n",
              "      <td>1.650203</td>\n",
              "      <td>3.767565</td>\n",
              "      <td>3.558261</td>\n",
              "      <td>0.743862</td>\n",
              "      <td>2.069013</td>\n",
              "      <td>3.942729</td>\n",
              "      <td>5.364762</td>\n",
              "      <td>1.176040</td>\n",
              "      <td>0.849740</td>\n",
              "    </tr>\n",
              "  </tbody>\n",
              "</table>\n",
              "</div>"
            ],
            "text/plain": [
              "             beds  ...  property_type_Single-Family\n",
              "count  373.000000  ...                   373.000000\n",
              "mean    -0.117360  ...                    -0.111555\n",
              "std      0.958651  ...                     1.012934\n",
              "min     -2.268801  ...                    -1.176040\n",
              "25%     -0.404719  ...                    -1.176040\n",
              "50%     -0.404719  ...                     0.849740\n",
              "75%      0.527323  ...                     0.849740\n",
              "max      1.459364  ...                     0.849740\n",
              "\n",
              "[8 rows x 37 columns]"
            ]
          },
          "metadata": {
            "tags": []
          },
          "execution_count": 81
        }
      ]
    },
    {
      "cell_type": "markdown",
      "metadata": {
        "id": "j3l3ETfdwpc9"
      },
      "source": [
        "##  Model 1 - Baseline Model\n",
        "* In this model, for every test data point, we will simply predict the average of the train labels as the output.\n",
        "* We will use this simple model to perform hypothesis testing for other complex models."
      ]
    },
    {
      "cell_type": "code",
      "metadata": {
        "collapsed": true,
        "id": "q92FmFWnwpc9"
      },
      "source": [
        "## Predict Train results\n",
        "start=time.time()\n",
        "y_train_pred = np.ones(y_train.shape[0])*y_train.mean()"
      ],
      "execution_count": 150,
      "outputs": []
    },
    {
      "cell_type": "code",
      "metadata": {
        "collapsed": true,
        "id": "lfoxhJ2Awpc9"
      },
      "source": [
        "## Predict Test results\n",
        "y_pred = np.ones(y_test.shape[0])*y_train.mean()\n",
        "stop=time.time()"
      ],
      "execution_count": 151,
      "outputs": []
    },
    {
      "cell_type": "code",
      "metadata": {
        "id": "eVavoz1yrD9c"
      },
      "source": [
        "base_rmse_train = sqrt(mse(y_train.values, y_train_pred))\n",
        "base_r2_train = r2_score(y_train.values, y_train_pred)\n",
        "base_mae_train = mae(y_train.values, y_train_pred)\n",
        "\n",
        "base_rmse_test = sqrt(mse(y_test, y_pred))\n",
        "base_r2_test=r2_score(y_test, y_pred)\n",
        "base_mae_test=mae(y_test, y_pred)\n",
        "\n",
        "base_time=stop-start"
      ],
      "execution_count": 152,
      "outputs": []
    },
    {
      "cell_type": "code",
      "metadata": {
        "colab": {
          "base_uri": "https://localhost:8080/"
        },
        "id": "WtBRJ4MPwpc9",
        "outputId": "15cde317-a901-4b60-9cea-0fcde681c454"
      },
      "source": [
        "from sklearn.metrics import r2_score\n",
        "\n",
        "print(\"Train Results for Baseline Model:\")\n",
        "print(\"*******************************\")\n",
        "print(\"Root mean squared error: \",base_rmse_train)\n",
        "print(\"R-squared: \", base_r2_train)\n",
        "print(\"Mean Absolute Error: \", base_mae_train)"
      ],
      "execution_count": 153,
      "outputs": [
        {
          "output_type": "stream",
          "text": [
            "Train Results for Baseline Model:\n",
            "*******************************\n",
            "Root mean squared error:  153791.70506675562\n",
            "R-squared:  0.0\n",
            "Mean Absolute Error:  127271.7571712986\n"
          ],
          "name": "stdout"
        }
      ]
    },
    {
      "cell_type": "code",
      "metadata": {
        "colab": {
          "base_uri": "https://localhost:8080/"
        },
        "id": "WKvHRpqUwpc9",
        "outputId": "06021db2-8673-4173-cd3d-6da1f0ed6e15"
      },
      "source": [
        "print(\"Results for Baseline Model:\")\n",
        "print(\"*******************************\")\n",
        "print(\"Root mean squared error: \", base_rmse_test)\n",
        "print(\"R-squared: \", base_r2_test)\n",
        "print(\"Mean Absolute Error: \", base_mae_test)"
      ],
      "execution_count": 154,
      "outputs": [
        {
          "output_type": "stream",
          "text": [
            "Results for Baseline Model:\n",
            "*******************************\n",
            "Root mean squared error:  143268.37228905046\n",
            "R-squared:  -0.007318816013877294\n",
            "Mean Absolute Error:  120855.475979272\n"
          ],
          "name": "stdout"
        }
      ]
    },
    {
      "cell_type": "markdown",
      "metadata": {
        "id": "5e2f3xMvwpc-"
      },
      "source": [
        "##  Model-2 Ridge Regression\n",
        "\n",
        "`alpha =  [0.0001, 0.001, 0.01, 0.1, 1, 10, 100, 1000,\n",
        "                                   10000, 100000]`"
      ]
    },
    {
      "cell_type": "code",
      "metadata": {
        "colab": {
          "base_uri": "https://localhost:8080/"
        },
        "id": "vn6-s0Chwpc-",
        "outputId": "bf13d520-45e1-4abb-9bad-e8fed2de9298"
      },
      "source": [
        "tuned_params = {'alpha': [0.0001, 0.001, 0.01, 0.1, 1, 10, 100, 1000, 10000, 100000]}\n",
        "model = GridSearchCV(Ridge(), tuned_params, scoring = 'neg_mean_absolute_error', cv=30, n_jobs=-1)\n",
        "model.fit(X_train, y_train)"
      ],
      "execution_count": 87,
      "outputs": [
        {
          "output_type": "execute_result",
          "data": {
            "text/plain": [
              "GridSearchCV(cv=30, error_score=nan,\n",
              "             estimator=Ridge(alpha=1.0, copy_X=True, fit_intercept=True,\n",
              "                             max_iter=None, normalize=False, random_state=None,\n",
              "                             solver='auto', tol=0.001),\n",
              "             iid='deprecated', n_jobs=-1,\n",
              "             param_grid={'alpha': [0.0001, 0.001, 0.01, 0.1, 1, 10, 100, 1000,\n",
              "                                   10000, 100000]},\n",
              "             pre_dispatch='2*n_jobs', refit=True, return_train_score=False,\n",
              "             scoring='neg_mean_absolute_error', verbose=0)"
            ]
          },
          "metadata": {
            "tags": []
          },
          "execution_count": 87
        }
      ]
    },
    {
      "cell_type": "code",
      "metadata": {
        "colab": {
          "base_uri": "https://localhost:8080/"
        },
        "id": "EJm-25hRwpc-",
        "outputId": "8e0df2e9-143a-45cb-de8b-7f3a60771df8"
      },
      "source": [
        "model.best_estimator_"
      ],
      "execution_count": 88,
      "outputs": [
        {
          "output_type": "execute_result",
          "data": {
            "text/plain": [
              "Ridge(alpha=100, copy_X=True, fit_intercept=True, max_iter=None,\n",
              "      normalize=False, random_state=None, solver='auto', tol=0.001)"
            ]
          },
          "metadata": {
            "tags": []
          },
          "execution_count": 88
        }
      ]
    },
    {
      "cell_type": "code",
      "metadata": {
        "id": "efGZowo9wpdA"
      },
      "source": [
        "## Building the model again with the best hyperparameters\n",
        "model = Ridge(alpha=100)\n",
        "start=time.time()\n",
        "model.fit(X_train, y_train)\n",
        "stop=time.time()"
      ],
      "execution_count": 89,
      "outputs": []
    },
    {
      "cell_type": "code",
      "metadata": {
        "collapsed": true,
        "id": "6G5i5-g2hGMk"
      },
      "source": [
        "## Predict Train results\n",
        "y_train_pred = model.predict(X_train)"
      ],
      "execution_count": 90,
      "outputs": []
    },
    {
      "cell_type": "code",
      "metadata": {
        "collapsed": true,
        "id": "-plI-1z4hGMu"
      },
      "source": [
        "## Predict Test results\n",
        "y_pred = model.predict(X_test)"
      ],
      "execution_count": 91,
      "outputs": []
    },
    {
      "cell_type": "code",
      "metadata": {
        "id": "Lf9dohtwr83F"
      },
      "source": [
        "ridge_rmse_train = sqrt(mse(y_train.values, y_train_pred))\n",
        "ridge_r2_train = r2_score(y_train.values, y_train_pred)\n",
        "ridge_mae_train = mae(y_train.values, y_train_pred)\n",
        "\n",
        "ridge_rmse_test = sqrt(mse(y_test, y_pred))\n",
        "ridge_r2_test=r2_score(y_test, y_pred)\n",
        "ridge_mae_test=mae(y_test, y_pred)\n",
        "\n",
        "ridge_time=stop-start"
      ],
      "execution_count": 92,
      "outputs": []
    },
    {
      "cell_type": "code",
      "metadata": {
        "id": "MO4j4vNOwpc_",
        "colab": {
          "base_uri": "https://localhost:8080/"
        },
        "outputId": "5eb196bd-c007-498e-8034-04c431733b30"
      },
      "source": [
        "## Predict Train results\n",
        "print(\"Train Results for Ridge Regression:\")\n",
        "print(\"*******************************\")\n",
        "print(\"Root mean squared error: \", ridge_rmse_train)\n",
        "print(\"R-squared: \", ridge_r2_train)\n",
        "print(\"Mean Absolute Error: \", ridge_mae_train)"
      ],
      "execution_count": 93,
      "outputs": [
        {
          "output_type": "stream",
          "text": [
            "Train Results for Ridge Regression:\n",
            "*******************************\n",
            "Root mean squared error:  118371.12102111954\n",
            "R-squared:  0.4075854761554597\n",
            "Mean Absolute Error:  92411.44415435968\n"
          ],
          "name": "stdout"
        }
      ]
    },
    {
      "cell_type": "code",
      "metadata": {
        "collapsed": true,
        "id": "ccU0XQ_Owpc_",
        "colab": {
          "base_uri": "https://localhost:8080/"
        },
        "outputId": "a04f3a69-ebc1-42e3-bf8d-997d28f801ab"
      },
      "source": [
        "## Predict Test results\n",
        "print(\"Test Results for Ridge Regression:\")\n",
        "print(\"*******************************\")\n",
        "print(\"Root mean squared error: \", ridge_rmse_test)\n",
        "print(\"R-squared: \", ridge_r2_test)\n",
        "print(\"Mean Absolute Error: \", ridge_mae_test)"
      ],
      "execution_count": 94,
      "outputs": [
        {
          "output_type": "stream",
          "text": [
            "Test Results for Ridge Regression:\n",
            "*******************************\n",
            "Root mean squared error:  109556.25037528695\n",
            "R-squared:  0.4109656625326966\n",
            "Mean Absolute Error:  85353.57985683612\n"
          ],
          "name": "stdout"
        }
      ]
    },
    {
      "cell_type": "markdown",
      "metadata": {
        "id": "goolxsdWwpdA"
      },
      "source": [
        "### Feature Importance"
      ]
    },
    {
      "cell_type": "code",
      "metadata": {
        "colab": {
          "base_uri": "https://localhost:8080/"
        },
        "id": "8qxuJovUwpdA",
        "outputId": "fbca59e7-f2e0-4bd4-f46c-7c46e23d01ab"
      },
      "source": [
        "indices = np.argsort(-abs(model.coef_))\n",
        "print(\"The features in order of importance are:\")\n",
        "print(50*'-')\n",
        "for feature in X.columns[indices]:\n",
        "    print(feature)"
      ],
      "execution_count": 95,
      "outputs": [
        {
          "output_type": "stream",
          "text": [
            "The features in order of importance are:\n",
            "--------------------------------------------------\n",
            "tax_and_insurance\n",
            "sqft\n",
            "college_grad\n",
            "old_properties\n",
            "property_age\n",
            "baths\n",
            "beds\n",
            "cafes\n",
            "beauty_spas\n",
            "during_recession\n",
            "lot_size\n",
            "restaurants\n",
            "groceries\n",
            "shopping\n",
            "exterior_walls_Missing\n",
            "exterior_walls_Wood\n",
            "property_type_Apartment / Condo / Townhouse\n",
            "property_type_Single-Family\n",
            "active_life\n",
            "exterior_walls_Brick veneer\n",
            "exterior_walls_Brick\n",
            "exterior_walls_Combination\n",
            "school_score\n",
            "two_and_two\n",
            "num_schools\n",
            "exterior_walls_Siding (Alum/Vinyl)\n",
            "roof_Asphalt\n",
            "roof_Composition Shingle\n",
            "exterior_walls_Metal\n",
            "arts_entertainment\n",
            "married\n",
            "roof_Missing\n",
            "median_age\n",
            "roof_Shake Shingle\n",
            "exterior_walls_Other\n",
            "roof_Other\n",
            "median_school\n"
          ],
          "name": "stdout"
        }
      ]
    },
    {
      "cell_type": "markdown",
      "metadata": {
        "id": "7qW1G39bwpdB"
      },
      "source": [
        "##  Model-3 Support Vector Regression\n",
        "With an RBF Kernel"
      ]
    },
    {
      "cell_type": "markdown",
      "metadata": {
        "id": "PcWUbymwYUZp"
      },
      "source": [
        "`C: [0.0001, 0.001, 0.01, 0.1, 1, 10, 100, 1000, 10000, 100000]`"
      ]
    },
    {
      "cell_type": "code",
      "metadata": {
        "id": "JgCsW78JYSzX",
        "colab": {
          "base_uri": "https://localhost:8080/"
        },
        "outputId": "324a119a-e7ce-4f5d-c38f-876943fb0e28"
      },
      "source": [
        "tuned_params = {'C': [0.0001, 0.001, 0.01, 0.1, 1, 10, 100, 1000, 10000, 100000], 'gamma': [0.0001, 0.001, 0.01, 0.1, 1, 10, 100, 1000, 10000, 100000]}\n",
        "model = GridSearchCV(SVR(), tuned_params, scoring = 'neg_mean_absolute_error', cv=20, n_jobs=-1)\n",
        "model.fit(X_train, y_train)"
      ],
      "execution_count": 96,
      "outputs": [
        {
          "output_type": "execute_result",
          "data": {
            "text/plain": [
              "GridSearchCV(cv=20, error_score=nan,\n",
              "             estimator=SVR(C=1.0, cache_size=200, coef0=0.0, degree=3,\n",
              "                           epsilon=0.1, gamma='scale', kernel='rbf',\n",
              "                           max_iter=-1, shrinking=True, tol=0.001,\n",
              "                           verbose=False),\n",
              "             iid='deprecated', n_jobs=-1,\n",
              "             param_grid={'C': [0.0001, 0.001, 0.01, 0.1, 1, 10, 100, 1000,\n",
              "                               10000, 100000],\n",
              "                         'gamma': [0.0001, 0.001, 0.01, 0.1, 1, 10, 100, 1000,\n",
              "                                   10000, 100000]},\n",
              "             pre_dispatch='2*n_jobs', refit=True, return_train_score=False,\n",
              "             scoring='neg_mean_absolute_error', verbose=0)"
            ]
          },
          "metadata": {
            "tags": []
          },
          "execution_count": 96
        }
      ]
    },
    {
      "cell_type": "code",
      "metadata": {
        "colab": {
          "base_uri": "https://localhost:8080/"
        },
        "id": "H9QoRyR3wpdB",
        "outputId": "e39593cf-14aa-41f6-9ff0-a38565fe452f"
      },
      "source": [
        "model.best_estimator_"
      ],
      "execution_count": 97,
      "outputs": [
        {
          "output_type": "execute_result",
          "data": {
            "text/plain": [
              "SVR(C=100000, cache_size=200, coef0=0.0, degree=3, epsilon=0.1, gamma=0.01,\n",
              "    kernel='rbf', max_iter=-1, shrinking=True, tol=0.001, verbose=False)"
            ]
          },
          "metadata": {
            "tags": []
          },
          "execution_count": 97
        }
      ]
    },
    {
      "cell_type": "code",
      "metadata": {
        "id": "dvkoQeHiwpdC"
      },
      "source": [
        "## Building the model again with the best hyperparameters\n",
        "model = SVR(C=100000, gamma=0.01)\n",
        "start=time.time()\n",
        "model.fit(X_train, y_train)\n",
        "stop=time.time()"
      ],
      "execution_count": 98,
      "outputs": []
    },
    {
      "cell_type": "code",
      "metadata": {
        "collapsed": true,
        "id": "DnWLquOzwpdC"
      },
      "source": [
        "## Predict Train results\n",
        "y_train_pred = model.predict(X_train)"
      ],
      "execution_count": 99,
      "outputs": []
    },
    {
      "cell_type": "code",
      "metadata": {
        "collapsed": true,
        "id": "SVsA7tbbwpdC"
      },
      "source": [
        "## Predict Test results\n",
        "y_pred = model.predict(X_test)"
      ],
      "execution_count": 100,
      "outputs": []
    },
    {
      "cell_type": "code",
      "metadata": {
        "id": "YCOsaUOAjXum"
      },
      "source": [
        "sv_rmse_train = sqrt(mse(y_train.values, y_train_pred))\n",
        "sv_r2_train = r2_score(y_train.values, y_train_pred)\n",
        "sv_mae_train = mae(y_train.values, y_train_pred)\n",
        "\n",
        "sv_rmse_test = sqrt(mse(y_test, y_pred))\n",
        "sv_r2_test=r2_score(y_test, y_pred)\n",
        "sv_mae_test=mae(y_test, y_pred)\n",
        "\n",
        "sv_time= stop-start"
      ],
      "execution_count": 101,
      "outputs": []
    },
    {
      "cell_type": "code",
      "metadata": {
        "colab": {
          "base_uri": "https://localhost:8080/"
        },
        "id": "OG8q27LjwpdC",
        "outputId": "8b6f174f-5a71-4ce2-a45f-5247fe495862"
      },
      "source": [
        "print(\"Train Results for Support Vector Regression:\")\n",
        "print(\"*******************************\")\n",
        "print(\"Root mean squared error: \", sv_rmse_train)\n",
        "print(\"R-squared: \", sv_r2_train)\n",
        "print(\"Mean Absolute Error: \", sv_mae_train)"
      ],
      "execution_count": 102,
      "outputs": [
        {
          "output_type": "stream",
          "text": [
            "Train Results for Support Vector Regression:\n",
            "*******************************\n",
            "Root mean squared error:  105184.79924921205\n",
            "R-squared:  0.5322216248841001\n",
            "Mean Absolute Error:  76724.66394262917\n"
          ],
          "name": "stdout"
        }
      ]
    },
    {
      "cell_type": "code",
      "metadata": {
        "colab": {
          "base_uri": "https://localhost:8080/"
        },
        "id": "m3X2vSsBwpdD",
        "outputId": "8ead44d3-db84-45ff-e669-964b58b207cc"
      },
      "source": [
        "print(\"Test Results for Support Vector Regression:\")\n",
        "print(\"*******************************\")\n",
        "print(\"Root mean squared error: \", sqrt(mse(y_test, y_pred)))\n",
        "print(\"R-squared: \", r2_score(y_test, y_pred))\n",
        "print(\"Mean Absolute Error: \", mae(y_test, y_pred))"
      ],
      "execution_count": 103,
      "outputs": [
        {
          "output_type": "stream",
          "text": [
            "Test Results for Support Vector Regression:\n",
            "*******************************\n",
            "Root mean squared error:  102704.27975310542\n",
            "R-squared:  0.48234146921035703\n",
            "Mean Absolute Error:  75297.19414013441\n"
          ],
          "name": "stdout"
        }
      ]
    },
    {
      "cell_type": "markdown",
      "metadata": {
        "id": "oX57rYucwpdE"
      },
      "source": [
        "#### Unfortunately getting feature importance from RBF SVM is non trivial"
      ]
    },
    {
      "cell_type": "markdown",
      "metadata": {
        "id": "5nV97qHswpdE"
      },
      "source": [
        "## Model-4 Random Forest Regression"
      ]
    },
    {
      "cell_type": "code",
      "metadata": {
        "colab": {
          "base_uri": "https://localhost:8080/"
        },
        "id": "Ntfs6fEwwpdE",
        "outputId": "f8712b75-6d84-4fbc-a0fd-a28d1491153c"
      },
      "source": [
        "tuned_params = {'n_estimators': [100, 200, 300, 400, 500, 600], 'min_samples_split': [2, 5, 10, 12, 15], 'min_samples_leaf': [1, 2, 4, 6, 8]}\n",
        "model = RandomizedSearchCV(RandomForestRegressor(), tuned_params, n_iter=30, scoring = 'neg_mean_absolute_error', cv=12, n_jobs=-1)\n",
        "model.fit(X_train, y_train)"
      ],
      "execution_count": 104,
      "outputs": [
        {
          "output_type": "execute_result",
          "data": {
            "text/plain": [
              "RandomizedSearchCV(cv=12, error_score=nan,\n",
              "                   estimator=RandomForestRegressor(bootstrap=True,\n",
              "                                                   ccp_alpha=0.0,\n",
              "                                                   criterion='mse',\n",
              "                                                   max_depth=None,\n",
              "                                                   max_features='auto',\n",
              "                                                   max_leaf_nodes=None,\n",
              "                                                   max_samples=None,\n",
              "                                                   min_impurity_decrease=0.0,\n",
              "                                                   min_impurity_split=None,\n",
              "                                                   min_samples_leaf=1,\n",
              "                                                   min_samples_split=2,\n",
              "                                                   min_weight_fraction_leaf=0.0,\n",
              "                                                   n_estimators=100,\n",
              "                                                   n_jobs=None, oob_score=False,\n",
              "                                                   random_state=None, verbose=0,\n",
              "                                                   warm_start=False),\n",
              "                   iid='deprecated', n_iter=30, n_jobs=-1,\n",
              "                   param_distributions={'min_samples_leaf': [1, 2, 4, 6, 8],\n",
              "                                        'min_samples_split': [2, 5, 10, 12, 15],\n",
              "                                        'n_estimators': [100, 200, 300, 400,\n",
              "                                                         500, 600]},\n",
              "                   pre_dispatch='2*n_jobs', random_state=None, refit=True,\n",
              "                   return_train_score=False, scoring='neg_mean_absolute_error',\n",
              "                   verbose=0)"
            ]
          },
          "metadata": {
            "tags": []
          },
          "execution_count": 104
        }
      ]
    },
    {
      "cell_type": "code",
      "metadata": {
        "colab": {
          "base_uri": "https://localhost:8080/"
        },
        "id": "rnNHrR36wpdE",
        "outputId": "a6d40410-39ae-4783-db9b-73c0d267317e"
      },
      "source": [
        "model.best_estimator_"
      ],
      "execution_count": 105,
      "outputs": [
        {
          "output_type": "execute_result",
          "data": {
            "text/plain": [
              "RandomForestRegressor(bootstrap=True, ccp_alpha=0.0, criterion='mse',\n",
              "                      max_depth=None, max_features='auto', max_leaf_nodes=None,\n",
              "                      max_samples=None, min_impurity_decrease=0.0,\n",
              "                      min_impurity_split=None, min_samples_leaf=4,\n",
              "                      min_samples_split=12, min_weight_fraction_leaf=0.0,\n",
              "                      n_estimators=200, n_jobs=None, oob_score=False,\n",
              "                      random_state=None, verbose=0, warm_start=False)"
            ]
          },
          "metadata": {
            "tags": []
          },
          "execution_count": 105
        }
      ]
    },
    {
      "cell_type": "code",
      "metadata": {
        "id": "Wqg1MAxTwpdG"
      },
      "source": [
        "## Building the model again with the best hyperparameters\n",
        "model = RandomForestRegressor(n_estimators=200, min_samples_split=10, min_samples_leaf=2)\n",
        "start=time.time()\n",
        "model.fit(X_train, y_train)\n",
        "stop=time.time()"
      ],
      "execution_count": 106,
      "outputs": []
    },
    {
      "cell_type": "code",
      "metadata": {
        "collapsed": true,
        "id": "bQdG6FWmwpdF"
      },
      "source": [
        "## Predict Train results\n",
        "y_train_pred = model.predict(X_train)"
      ],
      "execution_count": 107,
      "outputs": []
    },
    {
      "cell_type": "code",
      "metadata": {
        "collapsed": true,
        "id": "PxUggDjQwpdF"
      },
      "source": [
        "## Predict Test results\n",
        "y_pred = model.predict(X_test)"
      ],
      "execution_count": 108,
      "outputs": []
    },
    {
      "cell_type": "code",
      "metadata": {
        "id": "hbc5C6YBkyKQ"
      },
      "source": [
        "rf_rmse_train = sqrt(mse(y_train.values, y_train_pred))\n",
        "rf_r2_train = r2_score(y_train.values, y_train_pred)\n",
        "rf_mae_train = mae(y_train.values, y_train_pred)\n",
        "\n",
        "rf_rmse_test = sqrt(mse(y_test, y_pred))\n",
        "rf_r2_test=r2_score(y_test, y_pred)\n",
        "rf_mae_test=mae(y_test, y_pred)\n",
        "\n",
        "rf_time=stop-start"
      ],
      "execution_count": 109,
      "outputs": []
    },
    {
      "cell_type": "code",
      "metadata": {
        "colab": {
          "base_uri": "https://localhost:8080/"
        },
        "id": "7rmbI95-wpdF",
        "outputId": "ad743c36-b727-4af1-b10d-7d1e38db2f71"
      },
      "source": [
        "print(\"Train Results for Random Forest Regression:\")\n",
        "print(\"*******************************\")\n",
        "print(\"Root mean squared error: \", sqrt(mse(y_train.values, y_train_pred)))\n",
        "print(\"R-squared: \", r2_score(y_train.values, y_train_pred))\n",
        "print(\"Mean Absolute Error: \", mae(y_train.values, y_train_pred))"
      ],
      "execution_count": 110,
      "outputs": [
        {
          "output_type": "stream",
          "text": [
            "Train Results for Random Forest Regression:\n",
            "*******************************\n",
            "Root mean squared error:  61341.28707929619\n",
            "R-squared:  0.840911075958549\n",
            "Mean Absolute Error:  45106.177508979694\n"
          ],
          "name": "stdout"
        }
      ]
    },
    {
      "cell_type": "code",
      "metadata": {
        "colab": {
          "base_uri": "https://localhost:8080/"
        },
        "id": "CNVAgjWGwpdF",
        "outputId": "d9f5e08a-7341-424b-a257-002458ee1b69"
      },
      "source": [
        "print(\"Test Results for Random Forest Regression:\")\n",
        "print(\"*******************************\")\n",
        "print(\"Root mean squared error: \", sqrt(mse(y_test, y_pred)))\n",
        "print(\"R-squared: \", r2_score(y_test, y_pred))\n",
        "print(\"Mean Absolute Error: \", mae(y_test, y_pred))"
      ],
      "execution_count": 111,
      "outputs": [
        {
          "output_type": "stream",
          "text": [
            "Test Results for Random Forest Regression:\n",
            "*******************************\n",
            "Root mean squared error:  94330.79960706174\n",
            "R-squared:  0.5633099220649644\n",
            "Mean Absolute Error:  69728.72687302722\n"
          ],
          "name": "stdout"
        }
      ]
    },
    {
      "cell_type": "markdown",
      "metadata": {
        "id": "XargCbPxwpdG"
      },
      "source": [
        "### Feature Importance"
      ]
    },
    {
      "cell_type": "code",
      "metadata": {
        "colab": {
          "base_uri": "https://localhost:8080/"
        },
        "id": "wMLwR1MCwpdG",
        "outputId": "4d00f45d-2846-423a-afc4-0ed9d8fb9b09"
      },
      "source": [
        "\n",
        "indices = np.argsort(-model.feature_importances_)\n",
        "print(\"The features in order of importance are:\")\n",
        "print(50*'-')\n",
        "for feature in X.columns[indices]:\n",
        "    print(feature)"
      ],
      "execution_count": 112,
      "outputs": [
        {
          "output_type": "stream",
          "text": [
            "The features in order of importance are:\n",
            "--------------------------------------------------\n",
            "tax_and_insurance\n",
            "sqft\n",
            "property_age\n",
            "lot_size\n",
            "college_grad\n",
            "married\n",
            "median_age\n",
            "during_recession\n",
            "active_life\n",
            "beauty_spas\n",
            "shopping\n",
            "restaurants\n",
            "school_score\n",
            "median_school\n",
            "baths\n",
            "groceries\n",
            "arts_entertainment\n",
            "cafes\n",
            "beds\n",
            "old_properties\n",
            "exterior_walls_Siding (Alum/Vinyl)\n",
            "exterior_walls_Missing\n",
            "exterior_walls_Metal\n",
            "roof_Composition Shingle\n",
            "roof_Asphalt\n",
            "exterior_walls_Brick\n",
            "roof_Missing\n",
            "roof_Shake Shingle\n",
            "num_schools\n",
            "exterior_walls_Combination\n",
            "exterior_walls_Brick veneer\n",
            "exterior_walls_Wood\n",
            "roof_Other\n",
            "property_type_Single-Family\n",
            "exterior_walls_Other\n",
            "property_type_Apartment / Condo / Townhouse\n",
            "two_and_two\n"
          ],
          "name": "stdout"
        }
      ]
    },
    {
      "cell_type": "markdown",
      "metadata": {
        "id": "78EvTgglwpdG"
      },
      "source": [
        "## Model-5 XGBoost Regression"
      ]
    },
    {
      "cell_type": "code",
      "metadata": {
        "colab": {
          "base_uri": "https://localhost:8080/"
        },
        "id": "a_GMxJaEwpdH",
        "outputId": "4a72132f-1221-4bb4-b228-24531accbf33"
      },
      "source": [
        "## Reference for random search on xgboost\n",
        "tuned_params = {'max_depth': [1, 2, 3, 4, 5, 6], 'learning_rate': [0.01, 0.02, 0.03, 0.05, 0.08, 0.1, 0.125, 0.15, 0.2], 'n_estimators': [100, 200, 300, 400, 500], 'reg_lambda': [0.001, 0.01, 0.1, 1.0, 10.0, 100.0]}\n",
        "model = RandomizedSearchCV(XGBRegressor(), tuned_params, n_iter=50, scoring = 'neg_mean_absolute_error', cv=25, n_jobs=-1)\n",
        "model.fit(X_train, y_train)"
      ],
      "execution_count": 113,
      "outputs": [
        {
          "output_type": "stream",
          "text": [
            "[06:04:11] WARNING: /workspace/src/objective/regression_obj.cu:152: reg:linear is now deprecated in favor of reg:squarederror.\n"
          ],
          "name": "stdout"
        },
        {
          "output_type": "execute_result",
          "data": {
            "text/plain": [
              "RandomizedSearchCV(cv=25, error_score=nan,\n",
              "                   estimator=XGBRegressor(base_score=0.5, booster='gbtree',\n",
              "                                          colsample_bylevel=1,\n",
              "                                          colsample_bynode=1,\n",
              "                                          colsample_bytree=1, gamma=0,\n",
              "                                          importance_type='gain',\n",
              "                                          learning_rate=0.1, max_delta_step=0,\n",
              "                                          max_depth=3, min_child_weight=1,\n",
              "                                          missing=None, n_estimators=100,\n",
              "                                          n_jobs=1, nthread=None,\n",
              "                                          objective='reg:linear',\n",
              "                                          random_state=0, reg_alpha...\n",
              "                   iid='deprecated', n_iter=50, n_jobs=-1,\n",
              "                   param_distributions={'learning_rate': [0.01, 0.02, 0.03,\n",
              "                                                          0.05, 0.08, 0.1,\n",
              "                                                          0.125, 0.15, 0.2],\n",
              "                                        'max_depth': [1, 2, 3, 4, 5, 6],\n",
              "                                        'n_estimators': [100, 200, 300, 400,\n",
              "                                                         500],\n",
              "                                        'reg_lambda': [0.001, 0.01, 0.1, 1.0,\n",
              "                                                       10.0, 100.0]},\n",
              "                   pre_dispatch='2*n_jobs', random_state=None, refit=True,\n",
              "                   return_train_score=False, scoring='neg_mean_absolute_error',\n",
              "                   verbose=0)"
            ]
          },
          "metadata": {
            "tags": []
          },
          "execution_count": 113
        }
      ]
    },
    {
      "cell_type": "code",
      "metadata": {
        "colab": {
          "base_uri": "https://localhost:8080/"
        },
        "id": "7oFxd9pAwpdH",
        "outputId": "e1fba504-f119-4394-e753-606be2ca1ab4"
      },
      "source": [
        "model.best_estimator_"
      ],
      "execution_count": 114,
      "outputs": [
        {
          "output_type": "execute_result",
          "data": {
            "text/plain": [
              "XGBRegressor(base_score=0.5, booster='gbtree', colsample_bylevel=1,\n",
              "             colsample_bynode=1, colsample_bytree=1, gamma=0,\n",
              "             importance_type='gain', learning_rate=0.08, max_delta_step=0,\n",
              "             max_depth=2, min_child_weight=1, missing=None, n_estimators=300,\n",
              "             n_jobs=1, nthread=None, objective='reg:linear', random_state=0,\n",
              "             reg_alpha=0, reg_lambda=0.001, scale_pos_weight=1, seed=None,\n",
              "             silent=None, subsample=1, verbosity=1)"
            ]
          },
          "metadata": {
            "tags": []
          },
          "execution_count": 114
        }
      ]
    },
    {
      "cell_type": "code",
      "metadata": {
        "colab": {
          "base_uri": "https://localhost:8080/"
        },
        "id": "bdM1D8xkwpdJ",
        "outputId": "7bbebd4f-2793-4c84-9ae8-12f7b903b4e2"
      },
      "source": [
        "## Building the model again with the best hyperparameters\n",
        "model = XGBRegressor(max_depth=4,learning_rate=0.03, n_estimators=300, reg_lambda=10.0)\n",
        "start=time.time()\n",
        "model.fit(X_train, y_train)\n",
        "stop=time.time()"
      ],
      "execution_count": 115,
      "outputs": [
        {
          "output_type": "stream",
          "text": [
            "[06:04:11] WARNING: /workspace/src/objective/regression_obj.cu:152: reg:linear is now deprecated in favor of reg:squarederror.\n"
          ],
          "name": "stdout"
        }
      ]
    },
    {
      "cell_type": "code",
      "metadata": {
        "collapsed": true,
        "id": "77hK_1P8wpdH"
      },
      "source": [
        "## Predict Train results\n",
        "y_train_pred = model.predict(X_train)"
      ],
      "execution_count": 116,
      "outputs": []
    },
    {
      "cell_type": "code",
      "metadata": {
        "collapsed": true,
        "id": "vCvK732lwpdI"
      },
      "source": [
        "## Predict Test results\n",
        "y_pred = model.predict(X_test)"
      ],
      "execution_count": 117,
      "outputs": []
    },
    {
      "cell_type": "code",
      "metadata": {
        "id": "ZECoAVxqlLNK"
      },
      "source": [
        "xg_rmse_train = sqrt(mse(y_train.values, y_train_pred))\n",
        "xg_r2_train = r2_score(y_train.values, y_train_pred)\n",
        "xg_mae_train = mae(y_train.values, y_train_pred)\n",
        "\n",
        "xg_rmse_test = sqrt(mse(y_test, y_pred))\n",
        "xg_r2_test=r2_score(y_test, y_pred)\n",
        "xg_mae_test=mae(y_test, y_pred)\n",
        "\n",
        "xg_time=stop-start"
      ],
      "execution_count": 118,
      "outputs": []
    },
    {
      "cell_type": "code",
      "metadata": {
        "colab": {
          "base_uri": "https://localhost:8080/"
        },
        "id": "NJg9JkUswpdJ",
        "outputId": "83dcf090-c231-49c8-c6a1-98b48850fc41"
      },
      "source": [
        "print(\"Train Results for XGBoost Regression:\")\n",
        "print(\"*******************************\")\n",
        "print(\"Root mean squared error: \", sqrt(mse(y_train.values, y_train_pred)))\n",
        "print(\"R-squared: \", r2_score(y_train.values, y_train_pred))\n",
        "print(\"Mean Absolute Error: \", mae(y_train.values, y_train_pred))"
      ],
      "execution_count": 119,
      "outputs": [
        {
          "output_type": "stream",
          "text": [
            "Train Results for XGBoost Regression:\n",
            "*******************************\n",
            "Root mean squared error:  80535.65423651467\n",
            "R-squared:  0.72577278172432\n",
            "Mean Absolute Error:  61027.79146392617\n"
          ],
          "name": "stdout"
        }
      ]
    },
    {
      "cell_type": "code",
      "metadata": {
        "colab": {
          "base_uri": "https://localhost:8080/"
        },
        "id": "6pggWbSqwpdJ",
        "outputId": "9ad16196-48a0-45df-b07f-9e922191d21c"
      },
      "source": [
        "print(\"Test Results for XGBoost Regression:\")\n",
        "print(\"*******************************\")\n",
        "print(\"Root mean squared error: \", sqrt(mse(y_test, y_pred)))\n",
        "print(\"R-squared: \", r2_score(y_test, y_pred))\n",
        "print(\"Mean Absolute Error: \", mae(y_test, y_pred))"
      ],
      "execution_count": 120,
      "outputs": [
        {
          "output_type": "stream",
          "text": [
            "Test Results for XGBoost Regression:\n",
            "*******************************\n",
            "Root mean squared error:  96934.68668676817\n",
            "R-squared:  0.5388685800404425\n",
            "Mean Absolute Error:  71120.0792141421\n"
          ],
          "name": "stdout"
        }
      ]
    },
    {
      "cell_type": "markdown",
      "metadata": {
        "id": "sRdXgBvUwpdJ"
      },
      "source": [
        "### Feature Importance"
      ]
    },
    {
      "cell_type": "code",
      "metadata": {
        "collapsed": true,
        "id": "dDFsDmNJwpdK"
      },
      "source": [
        "## Function to include figsize parameter\n",
        "## Reference: https://stackoverflow.com/questions/40081888/xgboost-plot-importance-figure-size\n",
        "def my_plot_importance(booster, figsize, **kwargs): \n",
        "    from matplotlib import pyplot as plt\n",
        "    from xgboost import plot_importance\n",
        "    fig, ax = plt.subplots(1,1,figsize=figsize)\n",
        "    return plot_importance(booster=booster, ax=ax, **kwargs)"
      ],
      "execution_count": 121,
      "outputs": []
    },
    {
      "cell_type": "code",
      "metadata": {
        "colab": {
          "base_uri": "https://localhost:8080/",
          "height": 623
        },
        "id": "oawGVr08wpdK",
        "outputId": "1a57df3c-03d7-4216-f3ae-1e6e1706327f"
      },
      "source": [
        "my_plot_importance(model, (10,10))"
      ],
      "execution_count": 122,
      "outputs": [
        {
          "output_type": "execute_result",
          "data": {
            "text/plain": [
              "<matplotlib.axes._subplots.AxesSubplot at 0x7f4e38e8ff50>"
            ]
          },
          "metadata": {
            "tags": []
          },
          "execution_count": 122
        },
        {
          "output_type": "display_data",
          "data": {
            "image/png": "[encoded data removed]",
            "text/plain": [
              "<Figure size 720x720 with 1 Axes>"
            ]
          },
          "metadata": {
            "tags": [],
            "needs_background": "light"
          }
        }
      ]
    },
    {
      "cell_type": "markdown",
      "metadata": {
        "id": "SeHEu71EwpdK"
      },
      "source": [
        "## Model-6 Lasso Regression"
      ]
    },
    {
      "cell_type": "markdown",
      "metadata": {
        "id": "EHltRsFbZX0N"
      },
      "source": [
        "`alpha: [0.0001, 0.001, 0.01, 0.1, 1, 10, 100, 1000, 10000, 100000]`"
      ]
    },
    {
      "cell_type": "code",
      "metadata": {
        "id": "5BuKAk-zwpdK",
        "colab": {
          "base_uri": "https://localhost:8080/"
        },
        "outputId": "22d5dbb2-a036-4cde-fdaa-bdc9506ee557"
      },
      "source": [
        "tuned_params = {'alpha': [0.0001, 0.001, 0.01, 0.1, 1, 10, 100, 1000, 10000, 100000]}\n",
        "model = GridSearchCV(Lasso(), tuned_params, scoring = 'neg_mean_absolute_error', cv=20, n_jobs=-1)\n",
        "model.fit(X_train, y_train)"
      ],
      "execution_count": 123,
      "outputs": [
        {
          "output_type": "execute_result",
          "data": {
            "text/plain": [
              "GridSearchCV(cv=20, error_score=nan,\n",
              "             estimator=Lasso(alpha=1.0, copy_X=True, fit_intercept=True,\n",
              "                             max_iter=1000, normalize=False, positive=False,\n",
              "                             precompute=False, random_state=None,\n",
              "                             selection='cyclic', tol=0.0001, warm_start=False),\n",
              "             iid='deprecated', n_jobs=-1,\n",
              "             param_grid={'alpha': [0.0001, 0.001, 0.01, 0.1, 1, 10, 100, 1000,\n",
              "                                   10000, 100000]},\n",
              "             pre_dispatch='2*n_jobs', refit=True, return_train_score=False,\n",
              "             scoring='neg_mean_absolute_error', verbose=0)"
            ]
          },
          "metadata": {
            "tags": []
          },
          "execution_count": 123
        }
      ]
    },
    {
      "cell_type": "code",
      "metadata": {
        "colab": {
          "base_uri": "https://localhost:8080/"
        },
        "id": "iMcSZQugwpdK",
        "outputId": "88a4e22c-0454-4ead-b634-0dae6c704521"
      },
      "source": [
        "model.best_estimator_"
      ],
      "execution_count": 124,
      "outputs": [
        {
          "output_type": "execute_result",
          "data": {
            "text/plain": [
              "Lasso(alpha=1000, copy_X=True, fit_intercept=True, max_iter=1000,\n",
              "      normalize=False, positive=False, precompute=False, random_state=None,\n",
              "      selection='cyclic', tol=0.0001, warm_start=False)"
            ]
          },
          "metadata": {
            "tags": []
          },
          "execution_count": 124
        }
      ]
    },
    {
      "cell_type": "code",
      "metadata": {
        "id": "TAsFSotewpdM"
      },
      "source": [
        "## Building the model again with the best hyperparameters\n",
        "model = Lasso(alpha=1000)\n",
        "start=time.time()\n",
        "model.fit(X_train, y_train)\n",
        "stop=time.time()"
      ],
      "execution_count": 125,
      "outputs": []
    },
    {
      "cell_type": "code",
      "metadata": {
        "collapsed": true,
        "id": "qJ-X08ePwpdL"
      },
      "source": [
        "## Predict Train results\n",
        "y_train_pred = model.predict(X_train)"
      ],
      "execution_count": 126,
      "outputs": []
    },
    {
      "cell_type": "code",
      "metadata": {
        "collapsed": true,
        "id": "jeOGYDH9wpdL"
      },
      "source": [
        "## Predict Test results\n",
        "y_pred = model.predict(X_test)"
      ],
      "execution_count": 127,
      "outputs": []
    },
    {
      "cell_type": "code",
      "metadata": {
        "id": "zh_6mE_ClZNg"
      },
      "source": [
        "lasso_rmse_train = sqrt(mse(y_train.values, y_train_pred))\n",
        "lasso_r2_train = r2_score(y_train.values, y_train_pred)\n",
        "lasso_mae_train = mae(y_train.values, y_train_pred)\n",
        "\n",
        "lasso_rmse_test = sqrt(mse(y_test, y_pred))\n",
        "lasso_r2_test=r2_score(y_test, y_pred)\n",
        "lasso_mae_test=mae(y_test, y_pred)\n",
        "\n",
        "lasso_time=stop-start"
      ],
      "execution_count": 128,
      "outputs": []
    },
    {
      "cell_type": "code",
      "metadata": {
        "colab": {
          "base_uri": "https://localhost:8080/"
        },
        "id": "4hObXQ4IwpdL",
        "outputId": "e8a24723-2b96-4dd8-bfde-b2fd538f1aa5"
      },
      "source": [
        "print(\"Train Results for Lasso Regression:\")\n",
        "print(\"*******************************\")\n",
        "print(\"Root mean squared error: \", sqrt(mse(y_train.values, y_train_pred)))\n",
        "print(\"R-squared: \", r2_score(y_train.values, y_train_pred))\n",
        "print(\"Mean Absolute Error: \", mae(y_train.values, y_train_pred))"
      ],
      "execution_count": 129,
      "outputs": [
        {
          "output_type": "stream",
          "text": [
            "Train Results for Lasso Regression:\n",
            "*******************************\n",
            "Root mean squared error:  118409.68693205657\n",
            "R-squared:  0.4071993899648013\n",
            "Mean Absolute Error:  92369.86653015002\n"
          ],
          "name": "stdout"
        }
      ]
    },
    {
      "cell_type": "code",
      "metadata": {
        "colab": {
          "base_uri": "https://localhost:8080/"
        },
        "id": "SVFR0t-8wpdL",
        "outputId": "85b7fc37-7a4b-4d30-88a6-1fa85f9ce4e7"
      },
      "source": [
        "print(\"Test Results for Lasso Regression:\")\n",
        "print(\"*******************************\")\n",
        "print(\"Root mean squared error: \", sqrt(mse(y_test, y_pred)))\n",
        "print(\"R-squared: \", r2_score(y_test, y_pred))\n",
        "print(\"Mean Absolute Error: \", mae(y_test, y_pred))"
      ],
      "execution_count": 130,
      "outputs": [
        {
          "output_type": "stream",
          "text": [
            "Test Results for Lasso Regression:\n",
            "*******************************\n",
            "Root mean squared error:  109600.67003738802\n",
            "R-squared:  0.41048791689251196\n",
            "Mean Absolute Error:  85287.81181618315\n"
          ],
          "name": "stdout"
        }
      ]
    },
    {
      "cell_type": "markdown",
      "metadata": {
        "id": "htmSXjyTwpdM"
      },
      "source": [
        "### Feature Importance"
      ]
    },
    {
      "cell_type": "code",
      "metadata": {
        "colab": {
          "base_uri": "https://localhost:8080/"
        },
        "id": "3xgcA0jmwpdM",
        "outputId": "91438021-8d73-42b2-8bf5-25ca1542df1e"
      },
      "source": [
        "indices = np.argsort(-abs(model.coef_))\n",
        "print(\"The features in order of importance are:\")\n",
        "print(50*'-')\n",
        "for feature in X.columns[indices]:\n",
        "    print(feature)"
      ],
      "execution_count": 131,
      "outputs": [
        {
          "output_type": "stream",
          "text": [
            "The features in order of importance are:\n",
            "--------------------------------------------------\n",
            "tax_and_insurance\n",
            "sqft\n",
            "old_properties\n",
            "college_grad\n",
            "property_age\n",
            "baths\n",
            "beds\n",
            "property_type_Apartment / Condo / Townhouse\n",
            "cafes\n",
            "exterior_walls_Brick\n",
            "exterior_walls_Wood\n",
            "during_recession\n",
            "groceries\n",
            "lot_size\n",
            "exterior_walls_Brick veneer\n",
            "shopping\n",
            "restaurants\n",
            "beauty_spas\n",
            "active_life\n",
            "school_score\n",
            "num_schools\n",
            "exterior_walls_Missing\n",
            "two_and_two\n",
            "exterior_walls_Combination\n",
            "roof_Composition Shingle\n",
            "roof_Asphalt\n",
            "exterior_walls_Other\n",
            "roof_Shake Shingle\n",
            "roof_Other\n",
            "roof_Missing\n",
            "exterior_walls_Siding (Alum/Vinyl)\n",
            "exterior_walls_Metal\n",
            "median_age\n",
            "married\n",
            "median_school\n",
            "arts_entertainment\n",
            "property_type_Single-Family\n"
          ],
          "name": "stdout"
        }
      ]
    },
    {
      "cell_type": "markdown",
      "metadata": {
        "id": "CiROHPKYwpdN"
      },
      "source": [
        "## Model-7 Descision Tree Regression"
      ]
    },
    {
      "cell_type": "code",
      "metadata": {
        "colab": {
          "base_uri": "https://localhost:8080/"
        },
        "id": "Yl7hJgRywpdN",
        "outputId": "b32c63bb-984b-48d8-8837-27256a92ae4d"
      },
      "source": [
        "tuned_params = {'min_samples_split': [2, 3, 4, 5, 7], 'min_samples_leaf': [1, 2, 3, 4, 6], 'max_depth': [2, 3, 4, 5, 6, 7]}\n",
        "model = RandomizedSearchCV(DecisionTreeRegressor(), tuned_params, n_iter=20, scoring = 'neg_mean_absolute_error', cv=10, n_jobs=-1)\n",
        "model.fit(X_train, y_train)"
      ],
      "execution_count": 132,
      "outputs": [
        {
          "output_type": "execute_result",
          "data": {
            "text/plain": [
              "RandomizedSearchCV(cv=10, error_score=nan,\n",
              "                   estimator=DecisionTreeRegressor(ccp_alpha=0.0,\n",
              "                                                   criterion='mse',\n",
              "                                                   max_depth=None,\n",
              "                                                   max_features=None,\n",
              "                                                   max_leaf_nodes=None,\n",
              "                                                   min_impurity_decrease=0.0,\n",
              "                                                   min_impurity_split=None,\n",
              "                                                   min_samples_leaf=1,\n",
              "                                                   min_samples_split=2,\n",
              "                                                   min_weight_fraction_leaf=0.0,\n",
              "                                                   presort='deprecated',\n",
              "                                                   random_state=None,\n",
              "                                                   splitter='best'),\n",
              "                   iid='deprecated', n_iter=20, n_jobs=-1,\n",
              "                   param_distributions={'max_depth': [2, 3, 4, 5, 6, 7],\n",
              "                                        'min_samples_leaf': [1, 2, 3, 4, 6],\n",
              "                                        'min_samples_split': [2, 3, 4, 5, 7]},\n",
              "                   pre_dispatch='2*n_jobs', random_state=None, refit=True,\n",
              "                   return_train_score=False, scoring='neg_mean_absolute_error',\n",
              "                   verbose=0)"
            ]
          },
          "metadata": {
            "tags": []
          },
          "execution_count": 132
        }
      ]
    },
    {
      "cell_type": "code",
      "metadata": {
        "colab": {
          "base_uri": "https://localhost:8080/"
        },
        "id": "lSFhyyXLwpdN",
        "outputId": "0117b633-021e-4a2c-bb23-aa934fdc59ae"
      },
      "source": [
        "model.best_estimator_"
      ],
      "execution_count": 133,
      "outputs": [
        {
          "output_type": "execute_result",
          "data": {
            "text/plain": [
              "DecisionTreeRegressor(ccp_alpha=0.0, criterion='mse', max_depth=4,\n",
              "                      max_features=None, max_leaf_nodes=None,\n",
              "                      min_impurity_decrease=0.0, min_impurity_split=None,\n",
              "                      min_samples_leaf=4, min_samples_split=7,\n",
              "                      min_weight_fraction_leaf=0.0, presort='deprecated',\n",
              "                      random_state=None, splitter='best')"
            ]
          },
          "metadata": {
            "tags": []
          },
          "execution_count": 133
        }
      ]
    },
    {
      "cell_type": "code",
      "metadata": {
        "id": "wK9FPXRSl1fC"
      },
      "source": [
        "model = DecisionTreeRegressor(max_depth=4,min_samples_leaf=3, min_samples_split=4)\n",
        "start=time.time()\n",
        "model.fit(X_train, y_train)\n",
        "stop=time.time()"
      ],
      "execution_count": 134,
      "outputs": []
    },
    {
      "cell_type": "code",
      "metadata": {
        "collapsed": true,
        "id": "wintxL0YwpdN"
      },
      "source": [
        "## Predict Train results\n",
        "y_train_pred = model.predict(X_train)"
      ],
      "execution_count": 135,
      "outputs": []
    },
    {
      "cell_type": "code",
      "metadata": {
        "collapsed": true,
        "id": "SJeDEerRwpdN"
      },
      "source": [
        "## Predict Test results\n",
        "y_pred = model.predict(X_test)"
      ],
      "execution_count": 136,
      "outputs": []
    },
    {
      "cell_type": "code",
      "metadata": {
        "id": "Xhss1NWUlm48"
      },
      "source": [
        "dt_rmse_train = sqrt(mse(y_train.values, y_train_pred))\n",
        "dt_r2_train = r2_score(y_train.values, y_train_pred)\n",
        "dt_mae_train = mae(y_train.values, y_train_pred)\n",
        "\n",
        "dt_rmse_test = sqrt(mse(y_test, y_pred))\n",
        "dt_r2_test=r2_score(y_test, y_pred)\n",
        "dt_mae_test=mae(y_test, y_pred)\n",
        "\n",
        "dt_time=stop-start"
      ],
      "execution_count": 137,
      "outputs": []
    },
    {
      "cell_type": "code",
      "metadata": {
        "colab": {
          "base_uri": "https://localhost:8080/"
        },
        "id": "VK5PNGeqwpdO",
        "outputId": "9508cb0e-eea4-46a9-dc09-d4d82d3de4e4"
      },
      "source": [
        "print(\"Train Results for Decision Tree Regression:\")\n",
        "print(\"*******************************\")\n",
        "print(\"Root mean squared error: \", sqrt(mse(y_train.values, y_train_pred)))\n",
        "print(\"R-squared: \", r2_score(y_train.values, y_train_pred))\n",
        "print(\"Mean Absolute Error: \", mae(y_train.values, y_train_pred))"
      ],
      "execution_count": 138,
      "outputs": [
        {
          "output_type": "stream",
          "text": [
            "Train Results for Decision Tree Regression:\n",
            "*******************************\n",
            "Root mean squared error:  106884.7383147663\n",
            "R-squared:  0.5169794893228121\n",
            "Mean Absolute Error:  81198.4313931046\n"
          ],
          "name": "stdout"
        }
      ]
    },
    {
      "cell_type": "code",
      "metadata": {
        "colab": {
          "base_uri": "https://localhost:8080/"
        },
        "id": "qQcO63YmwpdO",
        "outputId": "6611c208-a768-43f7-ba84-465f94865619"
      },
      "source": [
        "print(\"Test Results for Decision Tree Regression:\")\n",
        "print(\"*******************************\")\n",
        "print(\"Root mean squared error: \", sqrt(mse(y_test, y_pred)))\n",
        "print(\"R-squared: \", r2_score(y_test, y_pred))\n",
        "print(\"Mean Absolute Error: \", mae(y_test, y_pred))"
      ],
      "execution_count": 139,
      "outputs": [
        {
          "output_type": "stream",
          "text": [
            "Test Results for Decision Tree Regression:\n",
            "*******************************\n",
            "Root mean squared error:  102336.77202971975\n",
            "R-squared:  0.48603952606836187\n",
            "Mean Absolute Error:  76429.82481133015\n"
          ],
          "name": "stdout"
        }
      ]
    },
    {
      "cell_type": "markdown",
      "metadata": {
        "id": "9K6xuIZ7wpdO"
      },
      "source": [
        "## Model-8 KN Regression"
      ]
    },
    {
      "cell_type": "code",
      "metadata": {
        "colab": {
          "base_uri": "https://localhost:8080/"
        },
        "id": "gzIzXXuSwpdO",
        "outputId": "d6815aa2-ed1d-4a59-f9e8-8fc5e6251a3b"
      },
      "source": [
        "# creating odd list of K for KNN\n",
        "neighbors = list(range(1,50,2))\n",
        "# empty list that will hold cv scores\n",
        "cv_scores = []\n",
        "\n",
        "# perform 10-fold cross validation\n",
        "for k in neighbors:\n",
        "    knn = KNeighborsRegressor(n_neighbors=k)\n",
        "    scores = cross_val_score(knn, X_train, y_train, cv=10, scoring='neg_mean_absolute_error')\n",
        "    cv_scores.append(scores.mean())\n",
        "\n",
        "# changing to misclassification error\n",
        "MSE = [1 - x for x in cv_scores]\n",
        "\n",
        "# determining best k\n",
        "optimal_k = neighbors[MSE.index(min(MSE))]\n",
        "print('\\nThe optimal number of neighbors is %d.' % optimal_k)"
      ],
      "execution_count": 140,
      "outputs": [
        {
          "output_type": "stream",
          "text": [
            "\n",
            "The optimal number of neighbors is 9.\n"
          ],
          "name": "stdout"
        }
      ]
    },
    {
      "cell_type": "code",
      "metadata": {
        "id": "8nHXnXNfwpdP"
      },
      "source": [
        "model = KNeighborsRegressor(n_neighbors = optimal_k)\n",
        "start=time.time()\n",
        "model.fit(X_train, y_train)\n",
        "stop=time.time()"
      ],
      "execution_count": 141,
      "outputs": []
    },
    {
      "cell_type": "code",
      "metadata": {
        "collapsed": true,
        "id": "TFSsB7fIwpdP"
      },
      "source": [
        "## Predict Train results\n",
        "y_train_pred = model.predict(X_train)"
      ],
      "execution_count": 142,
      "outputs": []
    },
    {
      "cell_type": "code",
      "metadata": {
        "collapsed": true,
        "id": "_9yu146YwpdP"
      },
      "source": [
        "## Predict Test results\n",
        "y_pred = model.predict(X_test)"
      ],
      "execution_count": 143,
      "outputs": []
    },
    {
      "cell_type": "code",
      "metadata": {
        "id": "lfzZsn9NluJa"
      },
      "source": [
        "kn_rmse_train = sqrt(mse(y_train.values, y_train_pred))\n",
        "kn_r2_train = r2_score(y_train.values, y_train_pred)\n",
        "kn_mae_train = mae(y_train.values, y_train_pred)\n",
        "\n",
        "kn_rmse_test = sqrt(mse(y_test, y_pred))\n",
        "kn_r2_test=r2_score(y_test, y_pred)\n",
        "kn_mae_test=mae(y_test, y_pred)\n",
        "\n",
        "kn_time=stop-start"
      ],
      "execution_count": 144,
      "outputs": []
    },
    {
      "cell_type": "code",
      "metadata": {
        "id": "-4xk-hP2wpdP",
        "colab": {
          "base_uri": "https://localhost:8080/"
        },
        "outputId": "3e287e73-3d10-4018-c876-81d7ac9c1d75"
      },
      "source": [
        "print(\"Train Results for KN Regression:\")\n",
        "print(\"*******************************\")\n",
        "print(\"Root mean squared error: \", sqrt(mse(y_train.values, y_train_pred)))\n",
        "print(\"R-squared: \", r2_score(y_train.values, y_train_pred))\n",
        "print(\"Mean Absolute Error: \", mae(y_train.values, y_train_pred))"
      ],
      "execution_count": 145,
      "outputs": [
        {
          "output_type": "stream",
          "text": [
            "Train Results for KN Regression:\n",
            "*******************************\n",
            "Root mean squared error:  115413.56596653137\n",
            "R-squared:  0.43681912831400604\n",
            "Mean Absolute Error:  89859.90551826995\n"
          ],
          "name": "stdout"
        }
      ]
    },
    {
      "cell_type": "code",
      "metadata": {
        "id": "7cvj5gVFwpdQ",
        "colab": {
          "base_uri": "https://localhost:8080/"
        },
        "outputId": "f78f7ffa-4b8d-4c95-aed6-f0d250528ccb"
      },
      "source": [
        "print(\"Test Results for KN Regression:\")\n",
        "print(\"*******************************\")\n",
        "print(\"Root mean squared error: \", sqrt(mse(y_test, y_pred)))\n",
        "print(\"R-squared: \", r2_score(y_test, y_pred))\n",
        "print(\"Mean Absolute Error: \", mae(y_test, y_pred))"
      ],
      "execution_count": 146,
      "outputs": [
        {
          "output_type": "stream",
          "text": [
            "Test Results for KN Regression:\n",
            "*******************************\n",
            "Root mean squared error:  113442.20051898593\n",
            "R-squared:  0.3684386022029589\n",
            "Mean Absolute Error:  89734.20137027108\n"
          ],
          "name": "stdout"
        }
      ]
    },
    {
      "cell_type": "markdown",
      "metadata": {
        "id": "_RGRCaDnwpdQ"
      },
      "source": [
        "## Compare all models"
      ]
    },
    {
      "cell_type": "markdown",
      "metadata": {
        "id": "txSjO_hJwpdR"
      },
      "source": [
        "**What is the winning Model**"
      ]
    },
    {
      "cell_type": "code",
      "metadata": {
        "id": "unGk2ThNoNFh"
      },
      "source": [
        "base=list(pd.Series(['Baseline Model',base_mae_train, base_mae_test,base_r2_train,base_r2_test,base_rmse_train,base_rmse_test,base_time]))\n",
        "rr=list(pd.Series(['Ridge Regression',ridge_mae_train, ridge_mae_test,ridge_r2_train,ridge_r2_test,ridge_rmse_train,ridge_rmse_test,ridge_time]))\n",
        "ls=list(pd.Series(['Lasso Regression',lasso_mae_train, lasso_mae_test,lasso_r2_train,lasso_r2_test,lasso_rmse_train,lasso_rmse_test,lasso_time]))\n",
        "sv=list(pd.Series(['Support Vector Regression',sv_mae_train, sv_mae_test,sv_r2_train,sv_r2_test,sv_rmse_train,sv_rmse_test,sv_time]))\n",
        "xgb=list(pd.Series(['XGBoost Regression',xg_mae_train, xg_mae_test,xg_r2_train,xg_r2_test,xg_rmse_train,xg_rmse_test,xg_time]))\n",
        "rf=list(pd.Series(['Random Forest Regression',rf_mae_train, rf_mae_test,rf_r2_train,rf_r2_test,rf_rmse_train,rf_rmse_test,rf_time]))\n",
        "dt=list(pd.Series(['Decision Tree Regression',dt_mae_train, dt_mae_test,dt_r2_train,dt_r2_test,dt_rmse_train,dt_rmse_test,dt_time]))\n",
        "kn=list(pd.Series(['KN Regression',kn_mae_train, kn_mae_test,kn_r2_train,kn_r2_test,kn_rmse_train,kn_rmse_test,kn_time]))\n"
      ],
      "execution_count": 156,
      "outputs": []
    },
    {
      "cell_type": "code",
      "metadata": {
        "colab": {
          "base_uri": "https://localhost:8080/",
          "height": 409
        },
        "id": "wA4rPav7qaV6",
        "outputId": "1cccbd7d-822e-4622-b932-5dd5202b3d2f"
      },
      "source": [
        "compare= pd.DataFrame([base,rr,ls,sv,xgb,rf,dt,kn],columns=['Algorithms','Train MAE','Test MAE','Train R2','Test R2', 'Train RMSE', 'Test RMSE', 'Time'])\n",
        "compare.sort_values(by='Test MAE', ascending=True)"
      ],
      "execution_count": 157,
      "outputs": [
        {
          "output_type": "execute_result",
          "data": {
            "text/html": [
              "<div>\n",
              "<style scoped>\n",
              "    .dataframe tbody tr th:only-of-type {\n",
              "        vertical-align: middle;\n",
              "    }\n",
              "\n",
              "    .dataframe tbody tr th {\n",
              "        vertical-align: top;\n",
              "    }\n",
              "\n",
              "    .dataframe thead th {\n",
              "        text-align: right;\n",
              "    }\n",
              "</style>\n",
              "<table border=\"1\" class=\"dataframe\">\n",
              "  <thead>\n",
              "    <tr style=\"text-align: right;\">\n",
              "      <th></th>\n",
              "      <th>Algorithms</th>\n",
              "      <th>Train MAE</th>\n",
              "      <th>Test MAE</th>\n",
              "      <th>Train R2</th>\n",
              "      <th>Test R2</th>\n",
              "      <th>Train RMSE</th>\n",
              "      <th>Test RMSE</th>\n",
              "      <th>Time</th>\n",
              "    </tr>\n",
              "  </thead>\n",
              "  <tbody>\n",
              "    <tr>\n",
              "      <th>5</th>\n",
              "      <td>Random Forest Regression</td>\n",
              "      <td>45106.177509</td>\n",
              "      <td>69728.726873</td>\n",
              "      <td>0.840911</td>\n",
              "      <td>0.563310</td>\n",
              "      <td>61341.287079</td>\n",
              "      <td>94330.799607</td>\n",
              "      <td>2.373409</td>\n",
              "    </tr>\n",
              "    <tr>\n",
              "      <th>4</th>\n",
              "      <td>XGBoost Regression</td>\n",
              "      <td>61027.791464</td>\n",
              "      <td>71120.079214</td>\n",
              "      <td>0.725773</td>\n",
              "      <td>0.538869</td>\n",
              "      <td>80535.654237</td>\n",
              "      <td>96934.686687</td>\n",
              "      <td>0.692748</td>\n",
              "    </tr>\n",
              "    <tr>\n",
              "      <th>3</th>\n",
              "      <td>Support Vector Regression</td>\n",
              "      <td>76724.663943</td>\n",
              "      <td>75297.194140</td>\n",
              "      <td>0.532222</td>\n",
              "      <td>0.482341</td>\n",
              "      <td>105184.799249</td>\n",
              "      <td>102704.279753</td>\n",
              "      <td>0.298265</td>\n",
              "    </tr>\n",
              "    <tr>\n",
              "      <th>6</th>\n",
              "      <td>Decision Tree Regression</td>\n",
              "      <td>81198.431393</td>\n",
              "      <td>76429.824811</td>\n",
              "      <td>0.516979</td>\n",
              "      <td>0.486040</td>\n",
              "      <td>106884.738315</td>\n",
              "      <td>102336.772030</td>\n",
              "      <td>0.008828</td>\n",
              "    </tr>\n",
              "    <tr>\n",
              "      <th>2</th>\n",
              "      <td>Lasso Regression</td>\n",
              "      <td>92369.866530</td>\n",
              "      <td>85287.811816</td>\n",
              "      <td>0.407199</td>\n",
              "      <td>0.410488</td>\n",
              "      <td>118409.686932</td>\n",
              "      <td>109600.670037</td>\n",
              "      <td>0.009918</td>\n",
              "    </tr>\n",
              "    <tr>\n",
              "      <th>1</th>\n",
              "      <td>Ridge Regression</td>\n",
              "      <td>92411.444154</td>\n",
              "      <td>85353.579857</td>\n",
              "      <td>0.407585</td>\n",
              "      <td>0.410966</td>\n",
              "      <td>118371.121021</td>\n",
              "      <td>109556.250375</td>\n",
              "      <td>0.010266</td>\n",
              "    </tr>\n",
              "    <tr>\n",
              "      <th>7</th>\n",
              "      <td>KN Regression</td>\n",
              "      <td>89859.905518</td>\n",
              "      <td>89734.201370</td>\n",
              "      <td>0.436819</td>\n",
              "      <td>0.368439</td>\n",
              "      <td>115413.565967</td>\n",
              "      <td>113442.200519</td>\n",
              "      <td>0.010048</td>\n",
              "    </tr>\n",
              "    <tr>\n",
              "      <th>0</th>\n",
              "      <td>Baseline Model</td>\n",
              "      <td>127271.757171</td>\n",
              "      <td>120855.475979</td>\n",
              "      <td>0.000000</td>\n",
              "      <td>-0.007319</td>\n",
              "      <td>153791.705067</td>\n",
              "      <td>143268.372289</td>\n",
              "      <td>0.670554</td>\n",
              "    </tr>\n",
              "  </tbody>\n",
              "</table>\n",
              "</div>"
            ],
            "text/plain": [
              "                  Algorithms      Train MAE  ...      Test RMSE      Time\n",
              "5   Random Forest Regression   45106.177509  ...   94330.799607  2.373409\n",
              "4         XGBoost Regression   61027.791464  ...   96934.686687  0.692748\n",
              "3  Support Vector Regression   76724.663943  ...  102704.279753  0.298265\n",
              "6   Decision Tree Regression   81198.431393  ...  102336.772030  0.008828\n",
              "2           Lasso Regression   92369.866530  ...  109600.670037  0.009918\n",
              "1           Ridge Regression   92411.444154  ...  109556.250375  0.010266\n",
              "7              KN Regression   89859.905518  ...  113442.200519  0.010048\n",
              "0             Baseline Model  127271.757171  ...  143268.372289  0.670554\n",
              "\n",
              "[8 rows x 8 columns]"
            ]
          },
          "metadata": {
            "tags": []
          },
          "execution_count": 157
        }
      ]
    },
    {
      "cell_type": "markdown",
      "metadata": {
        "id": "WKuvEkeoXGxG"
      },
      "source": [
        "**Remark:** The objective of is to build a model to predict transaction prices with an average error of under US Dollars 70,000 (in here we consider the metric: Mean absolute error - MAE) . With the MAE of both train set and test set are under 70,000 (45,106 and 69,728, respectively), we consider **Random Forest Regressor Model** as the Best Fit model for that business problem."
      ]
    },
    {
      "cell_type": "markdown",
      "metadata": {
        "id": "hY546dCDwpdR"
      },
      "source": [
        "# Save the winning model to disk"
      ]
    },
    {
      "cell_type": "code",
      "metadata": {
        "id": "BmndpF29wpdR"
      },
      "source": [
        "win_model = RandomForestRegressor(n_estimators=200, min_samples_split=10, min_samples_leaf=2)\n",
        "win_model.fit(X_train, y_train)\n",
        "with open('rfr_real_estate.pkl', 'wb') as pickle_file:\n",
        "       joblib.dump(win_model, 'rfr_real_estate.pkl') "
      ],
      "execution_count": 149,
      "outputs": []
    }
  ]
}