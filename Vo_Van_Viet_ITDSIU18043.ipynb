{
  "nbformat": 4,
  "nbformat_minor": 0,
  "metadata": {
    "colab": {
      "name": "Vo Van Viet_ITDSIU18043",
      "provenance": [],
      "collapsed_sections": []
    },
    "kernelspec": {
      "name": "python3",
      "display_name": "Python 3"
    },
    "language_info": {
      "name": "python"
    }
  },
  "cells": [
    {
      "cell_type": "markdown",
      "metadata": {
        "id": "BqRSCUIbSjVn"
      },
      "source": [
        "Name: Vo Van Viet \n",
        "\n",
        "ID: ITDSIU18043"
      ]
    },
    {
      "cell_type": "markdown",
      "metadata": {
        "id": "3FoNH3DCxzRq"
      },
      "source": [
        "### I. For this assignment, you are required to rely on the Breast Cancer Wisconsin (Diagnostic) Database to answer these questions below:\n",
        "**1. How many features does the breast cancer dataset have? Print out all feature names** </br>\n",
        "**2. Convert the `sklearn.dataset` cancer to a DataFrame. Your answer should return a `(569, 31)` DataFrame with first 30 columns are all the features and the last column is corresponding with the label extracted from `cancer['target']`** </br>\n",
        "**3. What is the class distribution? (i.e. how many instances of `malignant` (encoded 0) and how many `benign` (encoded 1)?)\n",
        "*This function should return a Series named `target` of length 2 with integer values and index =* `['malignant', 'benign']`**\n",
        "\n",
        "\n",
        "### First of all, let read through the description of the dataset (below). Pay attention to the keys of the data."
      ]
    },
    {
      "cell_type": "code",
      "metadata": {
        "colab": {
          "base_uri": "https://localhost:8080/"
        },
        "id": "6tfPhJctu4S_",
        "outputId": "c372c859-a3d5-4f88-8420-057142101cc7"
      },
      "source": [
        "import numpy as np\n",
        "import pandas as pd\n",
        "from sklearn.datasets import load_breast_cancer\n",
        "\n",
        "cancer = load_breast_cancer()\n",
        "print(cancer.DESCR) # Print the data set description\n",
        "cancer.keys()"
      ],
      "execution_count": 13,
      "outputs": [
        {
          "output_type": "stream",
          "text": [
            ".. _breast_cancer_dataset:\n",
            "\n",
            "Breast cancer wisconsin (diagnostic) dataset\n",
            "--------------------------------------------\n",
            "\n",
            "**Data Set Characteristics:**\n",
            "\n",
            "    :Number of Instances: 569\n",
            "\n",
            "    :Number of Attributes: 30 numeric, predictive attributes and the class\n",
            "\n",
            "    :Attribute Information:\n",
            "        - radius (mean of distances from center to points on the perimeter)\n",
            "        - texture (standard deviation of gray-scale values)\n",
            "        - perimeter\n",
            "        - area\n",
            "        - smoothness (local variation in radius lengths)\n",
            "        - compactness (perimeter^2 / area - 1.0)\n",
            "        - concavity (severity of concave portions of the contour)\n",
            "        - concave points (number of concave portions of the contour)\n",
            "        - symmetry \n",
            "        - fractal dimension (\"coastline approximation\" - 1)\n",
            "\n",
            "        The mean, standard error, and \"worst\" or largest (mean of the three\n",
            "        largest values) of these features were computed for each image,\n",
            "        resulting in 30 features.  For instance, field 3 is Mean Radius, field\n",
            "        13 is Radius SE, field 23 is Worst Radius.\n",
            "\n",
            "        - class:\n",
            "                - WDBC-Malignant\n",
            "                - WDBC-Benign\n",
            "\n",
            "    :Summary Statistics:\n",
            "\n",
            "    ===================================== ====== ======\n",
            "                                           Min    Max\n",
            "    ===================================== ====== ======\n",
            "    radius (mean):                        6.981  28.11\n",
            "    texture (mean):                       9.71   39.28\n",
            "    perimeter (mean):                     43.79  188.5\n",
            "    area (mean):                          143.5  2501.0\n",
            "    smoothness (mean):                    0.053  0.163\n",
            "    compactness (mean):                   0.019  0.345\n",
            "    concavity (mean):                     0.0    0.427\n",
            "    concave points (mean):                0.0    0.201\n",
            "    symmetry (mean):                      0.106  0.304\n",
            "    fractal dimension (mean):             0.05   0.097\n",
            "    radius (standard error):              0.112  2.873\n",
            "    texture (standard error):             0.36   4.885\n",
            "    perimeter (standard error):           0.757  21.98\n",
            "    area (standard error):                6.802  542.2\n",
            "    smoothness (standard error):          0.002  0.031\n",
            "    compactness (standard error):         0.002  0.135\n",
            "    concavity (standard error):           0.0    0.396\n",
            "    concave points (standard error):      0.0    0.053\n",
            "    symmetry (standard error):            0.008  0.079\n",
            "    fractal dimension (standard error):   0.001  0.03\n",
            "    radius (worst):                       7.93   36.04\n",
            "    texture (worst):                      12.02  49.54\n",
            "    perimeter (worst):                    50.41  251.2\n",
            "    area (worst):                         185.2  4254.0\n",
            "    smoothness (worst):                   0.071  0.223\n",
            "    compactness (worst):                  0.027  1.058\n",
            "    concavity (worst):                    0.0    1.252\n",
            "    concave points (worst):               0.0    0.291\n",
            "    symmetry (worst):                     0.156  0.664\n",
            "    fractal dimension (worst):            0.055  0.208\n",
            "    ===================================== ====== ======\n",
            "\n",
            "    :Missing Attribute Values: None\n",
            "\n",
            "    :Class Distribution: 212 - Malignant, 357 - Benign\n",
            "\n",
            "    :Creator:  Dr. William H. Wolberg, W. Nick Street, Olvi L. Mangasarian\n",
            "\n",
            "    :Donor: Nick Street\n",
            "\n",
            "    :Date: November, 1995\n",
            "\n",
            "This is a copy of UCI ML Breast Cancer Wisconsin (Diagnostic) datasets.\n",
            "https://goo.gl/U2Uwz2\n",
            "\n",
            "Features are computed from a digitized image of a fine needle\n",
            "aspirate (FNA) of a breast mass.  They describe\n",
            "characteristics of the cell nuclei present in the image.\n",
            "\n",
            "Separating plane described above was obtained using\n",
            "Multisurface Method-Tree (MSM-T) [K. P. Bennett, \"Decision Tree\n",
            "Construction Via Linear Programming.\" Proceedings of the 4th\n",
            "Midwest Artificial Intelligence and Cognitive Science Society,\n",
            "pp. 97-101, 1992], a classification method which uses linear\n",
            "programming to construct a decision tree.  Relevant features\n",
            "were selected using an exhaustive search in the space of 1-4\n",
            "features and 1-3 separating planes.\n",
            "\n",
            "The actual linear program used to obtain the separating plane\n",
            "in the 3-dimensional space is that described in:\n",
            "[K. P. Bennett and O. L. Mangasarian: \"Robust Linear\n",
            "Programming Discrimination of Two Linearly Inseparable Sets\",\n",
            "Optimization Methods and Software 1, 1992, 23-34].\n",
            "\n",
            "This database is also available through the UW CS ftp server:\n",
            "\n",
            "ftp ftp.cs.wisc.edu\n",
            "cd math-prog/cpo-dataset/machine-learn/WDBC/\n",
            "\n",
            ".. topic:: References\n",
            "\n",
            "   - W.N. Street, W.H. Wolberg and O.L. Mangasarian. Nuclear feature extraction \n",
            "     for breast tumor diagnosis. IS&T/SPIE 1993 International Symposium on \n",
            "     Electronic Imaging: Science and Technology, volume 1905, pages 861-870,\n",
            "     San Jose, CA, 1993.\n",
            "   - O.L. Mangasarian, W.N. Street and W.H. Wolberg. Breast cancer diagnosis and \n",
            "     prognosis via linear programming. Operations Research, 43(4), pages 570-577, \n",
            "     July-August 1995.\n",
            "   - W.H. Wolberg, W.N. Street, and O.L. Mangasarian. Machine learning techniques\n",
            "     to diagnose breast cancer from fine-needle aspirates. Cancer Letters 77 (1994) \n",
            "     163-171.\n"
          ],
          "name": "stdout"
        },
        {
          "output_type": "execute_result",
          "data": {
            "text/plain": [
              "dict_keys(['data', 'target', 'target_names', 'DESCR', 'feature_names', 'filename'])"
            ]
          },
          "metadata": {
            "tags": []
          },
          "execution_count": 13
        }
      ]
    },
    {
      "cell_type": "code",
      "metadata": {
        "id": "M3aeARMc1qme",
        "colab": {
          "base_uri": "https://localhost:8080/"
        },
        "outputId": "dffbe40a-07ca-48df-b6e2-3b522dbb1652"
      },
      "source": [
        "# I.1 \n",
        "print('Number of features:', len(cancer['feature_names']))\n",
        "print('Feature Names:', cancer.feature_names )"
      ],
      "execution_count": 14,
      "outputs": [
        {
          "output_type": "stream",
          "text": [
            "Number of features: 30\n",
            "Feature Names: ['mean radius' 'mean texture' 'mean perimeter' 'mean area'\n",
            " 'mean smoothness' 'mean compactness' 'mean concavity'\n",
            " 'mean concave points' 'mean symmetry' 'mean fractal dimension'\n",
            " 'radius error' 'texture error' 'perimeter error' 'area error'\n",
            " 'smoothness error' 'compactness error' 'concavity error'\n",
            " 'concave points error' 'symmetry error' 'fractal dimension error'\n",
            " 'worst radius' 'worst texture' 'worst perimeter' 'worst area'\n",
            " 'worst smoothness' 'worst compactness' 'worst concavity'\n",
            " 'worst concave points' 'worst symmetry' 'worst fractal dimension']\n"
          ],
          "name": "stdout"
        }
      ]
    },
    {
      "cell_type": "code",
      "metadata": {
        "id": "_td9CuTX2Uzs",
        "colab": {
          "base_uri": "https://localhost:8080/"
        },
        "outputId": "0b2d6224-9f82-499c-ba75-f759675de7bd"
      },
      "source": [
        "# I.2 \n",
        "import numpy as np\n",
        "df = pd.concat([pd.DataFrame(cancer.data), pd.DataFrame(cancer.target)], axis=1)\n",
        "df.columns = np.append(cancer.feature_names,'target')\n",
        "df.shape"
      ],
      "execution_count": 15,
      "outputs": [
        {
          "output_type": "execute_result",
          "data": {
            "text/plain": [
              "(569, 31)"
            ]
          },
          "metadata": {
            "tags": []
          },
          "execution_count": 15
        }
      ]
    },
    {
      "cell_type": "code",
      "metadata": {
        "id": "GI4t1K5o3QvZ"
      },
      "source": [
        "# I.3 \n",
        "def answer_I3():\n",
        "\n",
        "    cancerdf = df\n",
        "    counts = cancerdf.target.value_counts(ascending=True)\n",
        "    counts.index = ['benign','malignant']\n",
        "    return counts"
      ],
      "execution_count": 16,
      "outputs": []
    },
    {
      "cell_type": "code",
      "metadata": {
        "id": "3Ty0lCdk33Ld",
        "colab": {
          "base_uri": "https://localhost:8080/"
        },
        "outputId": "71cb3a80-b182-42ef-dbae-4a11b4a7c40b"
      },
      "source": [
        "answer_I3()"
      ],
      "execution_count": 17,
      "outputs": [
        {
          "output_type": "execute_result",
          "data": {
            "text/plain": [
              "benign       212\n",
              "malignant    357\n",
              "Name: target, dtype: int64"
            ]
          },
          "metadata": {
            "tags": []
          },
          "execution_count": 17
        }
      ]
    },
    {
      "cell_type": "markdown",
      "metadata": {
        "id": "T0yg5AU74s_W"
      },
      "source": [
        "### II. Using the same data from assignment I, do the following requirements:\n",
        "\n",
        "**1. Split the DataFrame into `X` (the data) and `y` (the labels).** </br>\n",
        "**2. Using `train_test_split`, split `X` and `y` into training and test sets `(X_train, X_test, y_train, and y_test)`.\n",
        "Set the random number generator state to 0 using `random_state=0` to make sure your results match the autograder!**"
      ]
    },
    {
      "cell_type": "code",
      "metadata": {
        "id": "HBK1DDoA5N4v",
        "colab": {
          "base_uri": "https://localhost:8080/"
        },
        "outputId": "41027426-e915-47bb-d902-dd6c5ff54c4e"
      },
      "source": [
        "# II.1\n",
        "X = df[df.columns[:-1]]\n",
        "y = df.target\n",
        "print(X.shape)\n",
        "print(y.shape)"
      ],
      "execution_count": 18,
      "outputs": [
        {
          "output_type": "stream",
          "text": [
            "(569, 30)\n",
            "(569,)\n"
          ],
          "name": "stdout"
        }
      ]
    },
    {
      "cell_type": "code",
      "metadata": {
        "id": "p_QJiize6X9C",
        "colab": {
          "base_uri": "https://localhost:8080/"
        },
        "outputId": "2f2c05cb-d8d6-49c4-dc48-e30a71efece4"
      },
      "source": [
        "# Or\n",
        "X = df.drop('target', axis=1)\n",
        "y = df.get('target')\n",
        "print(X.shape)\n",
        "print(y.shape)"
      ],
      "execution_count": 19,
      "outputs": [
        {
          "output_type": "stream",
          "text": [
            "(569, 30)\n",
            "(569,)\n"
          ],
          "name": "stdout"
        }
      ]
    },
    {
      "cell_type": "code",
      "metadata": {
        "id": "MupAAMZn-Ajl"
      },
      "source": [
        "# II.2\n",
        "from sklearn.model_selection import train_test_split\n",
        "X_train, X_test, y_train, y_test = train_test_split(X, y, random_state=0)"
      ],
      "execution_count": 20,
      "outputs": []
    },
    {
      "cell_type": "code",
      "metadata": {
        "id": "e1e779q---1A",
        "colab": {
          "base_uri": "https://localhost:8080/"
        },
        "outputId": "cab81519-25f8-4074-bff9-30a7cf64735e"
      },
      "source": [
        "print(X_train.shape)\n",
        "print(X_test.shape)\n",
        "print(y_train.shape)\n",
        "print(y_test.shape)"
      ],
      "execution_count": 21,
      "outputs": [
        {
          "output_type": "stream",
          "text": [
            "(426, 30)\n",
            "(143, 30)\n",
            "(426,)\n",
            "(143,)\n"
          ],
          "name": "stdout"
        }
      ]
    },
    {
      "cell_type": "markdown",
      "metadata": {
        "id": "49ZN8ePM-xaq"
      },
      "source": [
        "### III. Using pipeline in `sklearn` to stack the data pipeline including `StandardScaler`, `PCA` (with `n_components=7`) and using `LogisticRegression` to build the ML model. Then compute and print out the test accuracy"
      ]
    },
    {
      "cell_type": "code",
      "metadata": {
        "id": "zF43c_UK_Q6k"
      },
      "source": [
        "# III\n",
        "from sklearn.preprocessing import StandardScaler\n",
        "from sklearn.decomposition import PCA\n",
        "from sklearn.linear_model import LogisticRegression\n",
        "from sklearn.pipeline import Pipeline\n",
        "\n",
        "pipe_lr = Pipeline([('scl', StandardScaler()),\n",
        "                    ('pca', PCA(n_components=7)),\n",
        "                    ('clf', LogisticRegression())])\n",
        "\n",
        "pipe_lr.fit(X_train, y_train)\n",
        "y_pred = pipe_lr.predict(X_test)"
      ],
      "execution_count": 22,
      "outputs": []
    },
    {
      "cell_type": "code",
      "metadata": {
        "id": "36ehVRoX_WDW",
        "colab": {
          "base_uri": "https://localhost:8080/"
        },
        "outputId": "4daf9886-d386-4547-cbc3-a0d8e1efc8dd"
      },
      "source": [
        "print('Test Accuracy: %.3f' % pipe_lr.score(X_test, y_test))"
      ],
      "execution_count": 23,
      "outputs": [
        {
          "output_type": "stream",
          "text": [
            "Test Accuracy: 0.958\n"
          ],
          "name": "stdout"
        }
      ]
    },
    {
      "cell_type": "markdown",
      "metadata": {
        "id": "-LlcRQN6A86o"
      },
      "source": [
        "### IV. Using the same pipeline as above but for the case of using also cross validation (cv) in `sklearn` and apply the learning model `RandomForestClassifier` instead. Then calculate and print out cv accuracy and confident interval of the cv accuracy"
      ]
    },
    {
      "cell_type": "code",
      "metadata": {
        "id": "CdqvIJMKBN-S",
        "colab": {
          "base_uri": "https://localhost:8080/"
        },
        "outputId": "f98a8238-962f-4a07-d89b-a5df8bf93214"
      },
      "source": [
        "# IV\n",
        "from sklearn.model_selection import cross_val_score\n",
        "\n",
        "scores = cross_val_score(estimator=pipe_lr,\n",
        "                         X=X_train,\n",
        "                         y=y_train,\n",
        "                         cv=10,\n",
        "                         n_jobs=1)\n",
        "print('CV accuracy scores:', scores)\n",
        "lowerbound=np.mean(scores)-np.std(scores)\n",
        "upperbound=np.mean(scores)+np.std(scores)\n",
        "print('Mean CV accuracy score: %.3f ' %scores.mean())\n",
        "print('Confident Interval for CV accuracy: (%.3f ; %.3f)' % (lowerbound,upperbound))"
      ],
      "execution_count": 24,
      "outputs": [
        {
          "output_type": "stream",
          "text": [
            "CV accuracy scores: [1.         0.97674419 0.97674419 1.         0.93023256 0.95348837\n",
            " 0.97619048 0.97619048 0.95238095 0.97619048]\n",
            "Mean CV accuracy score: 0.972 \n",
            "Confident Interval for CV accuracy: (0.951 ; 0.992)\n"
          ],
          "name": "stdout"
        }
      ]
    },
    {
      "cell_type": "code",
      "metadata": {
        "id": "2vjxW4cOK7Uc",
        "colab": {
          "base_uri": "https://localhost:8080/"
        },
        "outputId": "30bb0c21-a65c-4c3c-b7ae-0de0d263d021"
      },
      "source": [
        "from sklearn.ensemble import RandomForestClassifier\n",
        "\n",
        "pipe_rf = Pipeline([('scl', StandardScaler()),\n",
        "                    ('pca', PCA(n_components=7)),\n",
        "                    ('clf', RandomForestClassifier())])\n",
        "scores = cross_val_score(estimator=pipe_rf,\n",
        "                         X=X_train,\n",
        "                         y=y_train,\n",
        "                         cv=10,\n",
        "                         n_jobs=1)\n",
        "print('CV accuracy scores:', scores)\n",
        "lowerbound=np.mean(scores)-np.std(scores)\n",
        "upperbound=np.mean(scores)+np.std(scores)\n",
        "print('Mean CV accuracy score: %.3f ' %scores.mean())\n",
        "print('Confident Interval for CV accuracy: (%.3f ; %.3f)' % (lowerbound,upperbound))"
      ],
      "execution_count": 25,
      "outputs": [
        {
          "output_type": "stream",
          "text": [
            "CV accuracy scores: [0.95348837 0.93023256 0.93023256 1.         0.93023256 0.95348837\n",
            " 1.         0.97619048 0.97619048 0.9047619 ]\n",
            "Mean CV accuracy score: 0.955 \n",
            "Confident Interval for CV accuracy: (0.925 ; 0.986)\n"
          ],
          "name": "stdout"
        }
      ]
    },
    {
      "cell_type": "markdown",
      "metadata": {
        "id": "txxQP8E9K8BG"
      },
      "source": [
        "### V. This assignment require you to implement from scratch a simple neural network architecture that can map 2 dimensional input vectors onto binary output values. Our network will have 2 input neurons, one hidden layer with 10 hidden neurons and an output layer with 1 output neuron.\n",
        "\n",
        "### Loss Function\n",
        "\n",
        "We will use the same loss function as in logistic regression:\n",
        "\n",
        "\\begin{equation}\n",
        "J(\\boldsymbol{w},b) = - \\frac{1}{m} \\sum_{i=1}^m \\Big[ y^{(i)} \\log(\\hat{y}^{(i)}) + (1 - y^{(i)}) \\big(1 - \\log(\\hat{y}^{(i)})\\big) \\Big] \n",
        "\\end{equation}\n",
        "\n",
        "For a classification task with more than two classes, we would use a generalization of this function, namely the categorical cross-entropy.\n",
        "\n",
        "### Training\n",
        "\n",
        "We will train our network with gradient descent and we will use backpropagation to compute the required partial derivatives. The training procedure has the following steps:  \n",
        "1. Initialize the parameters (i.e. the weights and biases)  \n",
        "2. Repeat until convergence:  \n",
        "  2.1. Propagate the current input batch forward through the network. To do so, compute the activations and outputs of all hidden and output units.  \n",
        "  2.2 Compute the partial derivatives of the loss function with respect to each parameter  \n",
        "  2.3 Update the parameters\n",
        "\n",
        "### Then you are requested to apply your model to train a classifier for below data:"
      ]
    },
    {
      "cell_type": "code",
      "metadata": {
        "id": "PNsM1osAFBn2"
      },
      "source": [
        "import numpy as np\n",
        "import pandas as pd\n",
        "import matplotlib.pyplot as plt\n",
        "from sklearn.datasets import make_circles\n",
        "from sklearn.model_selection import train_test_split\n",
        "np.random.seed(123)\n",
        "\n",
        "% matplotlib inline"
      ],
      "execution_count": 26,
      "outputs": []
    },
    {
      "cell_type": "code",
      "metadata": {
        "colab": {
          "base_uri": "https://localhost:8080/",
          "height": 404
        },
        "id": "7zsVwf68FFFf",
        "outputId": "54e2e62a-3ae8-4033-82a1-75d054e06bc2"
      },
      "source": [
        "X, y = make_circles(n_samples=5000, factor=0.5, noise=.1)\n",
        "\n",
        "fig = plt.figure(figsize=(8,6))\n",
        "plt.scatter(X[:,0], X[:,1], c=y)\n",
        "plt.xlim([-1.5, 1.5])\n",
        "plt.ylim([-1.5, 1.5])\n",
        "plt.title(\"Dataset\")\n",
        "plt.xlabel(\"First feature\")\n",
        "plt.ylabel(\"Second feature\")\n",
        "plt.show()"
      ],
      "execution_count": 27,
      "outputs": [
        {
          "output_type": "display_data",
          "data": {
            "image/png": "[encoded data removed]",
            "text/plain": [
              "<Figure size 576x432 with 1 Axes>"
            ]
          },
          "metadata": {
            "tags": [],
            "needs_background": "light"
          }
        }
      ]
    },
    {
      "cell_type": "code",
      "metadata": {
        "colab": {
          "base_uri": "https://localhost:8080/"
        },
        "id": "YAM3rK9AFL2l",
        "outputId": "f0e08328-d735-48d8-d33a-709e3158a020"
      },
      "source": [
        "y_true = y[:, np.newaxis]\n",
        "X_train, X_test, y_train, y_test = train_test_split(X, y_true)\n",
        "print(f'Shape X_train: {X_train.shape}')\n",
        "print(f'Shape y_train: {y_train.shape}')\n",
        "print(f'Shape X_test: {X_test.shape}')\n",
        "print(f'Shape y_test: {y_test.shape}')"
      ],
      "execution_count": 28,
      "outputs": [
        {
          "output_type": "stream",
          "text": [
            "Shape X_train: (3750, 2)\n",
            "Shape y_train: (3750, 1)\n",
            "Shape X_test: (1250, 2)\n",
            "Shape y_test: (1250, 1)\n"
          ],
          "name": "stdout"
        }
      ]
    },
    {
      "cell_type": "code",
      "metadata": {
        "id": "VVrlThnHFTYl"
      },
      "source": [
        "class NeuralNet():\n",
        "    \n",
        "    def __init__(self, n_inputs, n_outputs, n_hidden):\n",
        "        self.n_inputs = n_inputs\n",
        "        self.n_outputs = n_outputs\n",
        "        self.hidden = n_hidden\n",
        "\n",
        "        # Initialize weight matrices and bias vectors\n",
        "        self.W_h = np.random.randn(self.n_inputs, self.hidden)\n",
        "        self.b_h = np.zeros((1, self.hidden))\n",
        "        self.W_o = np.random.randn(self.hidden, self.n_outputs)\n",
        "        self.b_o = np.zeros((1, self.n_outputs))\n",
        "\n",
        "    def sigmoid(self, a):\n",
        "        return 1 / (1 + np.exp(-a))\n",
        "\n",
        "    def forward_pass(self, X):\n",
        "        \"\"\"\n",
        "        Propagates the given input X forward through the net.\n",
        "\n",
        "        Returns:\n",
        "            A_h: matrix with activations of all hidden neurons for all input examples\n",
        "            O_h: matrix with outputs of all hidden neurons for all input examples\n",
        "            A_o: matrix with activations of all output neurons for all input examples\n",
        "            O_o: matrix with outputs of all output neurons for all input examples\n",
        "        \"\"\"\n",
        "        # Compute activations and outputs of hidden units\n",
        "        A_h = np.dot(X, self.W_h) + self.b_h\n",
        "        O_h = np.tanh(A_h)\n",
        "\n",
        "        # Compute activations and outputs of output units\n",
        "        A_o = np.dot(O_h, self.W_o) + self.b_o\n",
        "        O_o = self.sigmoid(A_o)\n",
        "\n",
        "        outputs = {\n",
        "                \"A_h\": A_h,\n",
        "                \"A_o\": A_o,\n",
        "                \"O_h\": O_h,\n",
        "                \"O_o\": O_o,\n",
        "                }\n",
        "\n",
        "        return outputs\n",
        "\n",
        "\n",
        "    def cost(self, y_true, y_predict, n_samples):\n",
        "        \"\"\"\n",
        "        Computes and returns the cost over all examples\n",
        "        \"\"\"\n",
        "        # same cost function as in logistic regression\n",
        "        cost = (- 1 / n_samples) * np.sum(y_true * np.log(y_predict) + (1 - y_true) * (np.log(1 - y_predict)))\n",
        "        cost = np.squeeze(cost)\n",
        "        assert isinstance(cost, float)\n",
        "\n",
        "        return cost\n",
        "\n",
        "    def backward_pass(self,  X, Y, n_samples, outputs):\n",
        "        \"\"\"\n",
        "        Propagates the errors backward through the net.\n",
        "\n",
        "        Returns:\n",
        "            dW_h: partial derivatives of loss function w.r.t hidden weights\n",
        "            db_h: partial derivatives of loss function w.r.t hidden bias\n",
        "            dW_o: partial derivatives of loss function w.r.t output weights\n",
        "            db_o: partial derivatives of loss function w.r.t output bias\n",
        "        \"\"\"\n",
        "\n",
        "        dA_o = (outputs[\"O_o\"] - Y)\n",
        "        dW_o = (1 / n_samples) * np.dot(outputs[\"O_h\"].T, dA_o)\n",
        "        db_o = (1 / n_samples) * np.sum(dA_o)\n",
        "\n",
        "        dA_h = (np.dot(dA_o, self.W_o.T)) * (1 - np.power(outputs[\"O_h\"], 2))\n",
        "        dW_h = (1 / n_samples) * np.dot(X.T, dA_h)\n",
        "        db_h = (1 / n_samples) * np.sum(dA_h)\n",
        "\n",
        "        gradients = {\n",
        "                \"dW_o\": dW_o,\n",
        "                \"db_o\": db_o,\n",
        "                \"dW_h\": dW_h,\n",
        "                \"db_h\": db_h,\n",
        "                }\n",
        "\n",
        "        return gradients\n",
        "\n",
        "    def update_weights(self, gradients, eta):\n",
        "        \"\"\"\n",
        "        Updates the model parameters using a fixed learning rate\n",
        "        \"\"\"\n",
        "        self.W_o = self.W_o - eta * gradients[\"dW_o\"]\n",
        "        self.W_h = self.W_h - eta * gradients[\"dW_h\"]\n",
        "        self.b_o = self.b_o - eta * gradients[\"db_o\"]\n",
        "        self.b_h = self.b_h - eta * gradients[\"db_h\"]\n",
        "\n",
        "    def train(self, X, y, n_iters=500, eta=0.3):\n",
        "        \"\"\"\n",
        "        Trains the neural net on the given input data\n",
        "        \"\"\"\n",
        "        n_samples, _ = X.shape\n",
        "\n",
        "        for i in range(n_iters):\n",
        "            outputs = self.forward_pass(X)\n",
        "            cost = self.cost(y, outputs[\"O_o\"], n_samples=n_samples)\n",
        "            gradients = self.backward_pass(X, y, n_samples, outputs)\n",
        "\n",
        "            if i % 100 == 0:\n",
        "                print(f'Cost at iteration {i}: {np.round(cost, 4)}')\n",
        "\n",
        "            self.update_weights(gradients, eta)\n",
        "\n",
        "\n",
        "    def predict(self, X):\n",
        "        \"\"\"\n",
        "        Computes and returns network predictions for given dataset\n",
        "        \"\"\"\n",
        "        outputs = self.forward_pass(X)\n",
        "        y_pred = [1 if elem >= 0.5 else 0 for elem in outputs[\"O_o\"]]\n",
        "\n",
        "        return np.array(y_pred)[:, np.newaxis]"
      ],
      "execution_count": 29,
      "outputs": []
    },
    {
      "cell_type": "code",
      "metadata": {
        "id": "btG650P8FfXQ",
        "colab": {
          "base_uri": "https://localhost:8080/"
        },
        "outputId": "1bdf9076-b520-4f5d-b8ce-9916277728ef"
      },
      "source": [
        "nn = NeuralNet(n_inputs=2, n_hidden=10, n_outputs=1)\n",
        "print(\"Shape of weight matrices and bias vectors:\")\n",
        "print(f'W_h shape: {nn.W_h.shape}')\n",
        "print(f'b_h shape: {nn.b_h.shape}')\n",
        "print(f'W_o shape: {nn.W_o.shape}')\n",
        "print(f'b_o shape: {nn.b_o.shape}')\n",
        "print()\n",
        "\n",
        "print(\"Training:\")\n",
        "nn.train(X_train, y_train, n_iters=5000, eta=0.7)"
      ],
      "execution_count": 30,
      "outputs": [
        {
          "output_type": "stream",
          "text": [
            "Shape of weight matrices and bias vectors:\n",
            "W_h shape: (2, 10)\n",
            "b_h shape: (1, 10)\n",
            "W_o shape: (10, 1)\n",
            "b_o shape: (1, 1)\n",
            "\n",
            "Training:\n",
            "Cost at iteration 0: 0.8801\n",
            "Cost at iteration 100: 0.3823\n",
            "Cost at iteration 200: 0.1566\n",
            "Cost at iteration 300: 0.0998\n",
            "Cost at iteration 400: 0.0758\n",
            "Cost at iteration 500: 0.0623\n",
            "Cost at iteration 600: 0.0536\n",
            "Cost at iteration 700: 0.0478\n",
            "Cost at iteration 800: 0.0437\n",
            "Cost at iteration 900: 0.0407\n",
            "Cost at iteration 1000: 0.0385\n",
            "Cost at iteration 1100: 0.0367\n",
            "Cost at iteration 1200: 0.0352\n",
            "Cost at iteration 1300: 0.034\n",
            "Cost at iteration 1400: 0.033\n",
            "Cost at iteration 1500: 0.0321\n",
            "Cost at iteration 1600: 0.0314\n",
            "Cost at iteration 1700: 0.0307\n",
            "Cost at iteration 1800: 0.0301\n",
            "Cost at iteration 1900: 0.0295\n",
            "Cost at iteration 2000: 0.029\n",
            "Cost at iteration 2100: 0.0286\n",
            "Cost at iteration 2200: 0.0281\n",
            "Cost at iteration 2300: 0.0277\n",
            "Cost at iteration 2400: 0.0274\n",
            "Cost at iteration 2500: 0.027\n",
            "Cost at iteration 2600: 0.0267\n",
            "Cost at iteration 2700: 0.0264\n",
            "Cost at iteration 2800: 0.0261\n",
            "Cost at iteration 2900: 0.0258\n",
            "Cost at iteration 3000: 0.0255\n",
            "Cost at iteration 3100: 0.0252\n",
            "Cost at iteration 3200: 0.025\n",
            "Cost at iteration 3300: 0.0248\n",
            "Cost at iteration 3400: 0.0245\n",
            "Cost at iteration 3500: 0.0243\n",
            "Cost at iteration 3600: 0.0241\n",
            "Cost at iteration 3700: 0.0239\n",
            "Cost at iteration 3800: 0.0237\n",
            "Cost at iteration 3900: 0.0235\n",
            "Cost at iteration 4000: 0.0233\n",
            "Cost at iteration 4100: 0.0231\n",
            "Cost at iteration 4200: 0.023\n",
            "Cost at iteration 4300: 0.0228\n",
            "Cost at iteration 4400: 0.0227\n",
            "Cost at iteration 4500: 0.0225\n",
            "Cost at iteration 4600: 0.0224\n",
            "Cost at iteration 4700: 0.0223\n",
            "Cost at iteration 4800: 0.0221\n",
            "Cost at iteration 4900: 0.022\n"
          ],
          "name": "stdout"
        }
      ]
    },
    {
      "cell_type": "code",
      "metadata": {
        "colab": {
          "base_uri": "https://localhost:8080/"
        },
        "id": "n9_EMnDXSA2w",
        "outputId": "18fe0957-d4c6-4993-cad0-c523c781124b"
      },
      "source": [
        "n_test_samples, _ = X_test.shape\n",
        "y_predict = nn.predict(X_test)\n",
        "print(f\"Classification accuracy on test set: {(np.sum(y_predict == y_test)/n_test_samples)*100} %\")"
      ],
      "execution_count": 31,
      "outputs": [
        {
          "output_type": "stream",
          "text": [
            "Classification accuracy on test set: 98.8 %\n"
          ],
          "name": "stdout"
        }
      ]
    },
    {
      "cell_type": "markdown",
      "metadata": {
        "id": "A5enUAV4MGks"
      },
      "source": [
        "### VI. Consider the digit dataset as in the following code cell. This is the hand-written digit dataset and it is included in `sklearn`. Please do the these below tasks:\n",
        "\n",
        "**1. Print out the couple of class names and corresponding number of sample in this class (class counts)** </br>\n",
        "**2. Creating new label for this dataset with the new rule:  Negative class (0) is `not digit 1` and Positive class (1) is `digit 1`.**  </br>\n",
        "**3. Using SVM model to train a binary classifier to classify the Positive v.s Negative class in the dataset with new label as in task 2. In more detail, let split the dataset to train and test datasets with the ratio 80/20, then train your model in using train dataset and evaluate the model in test dataset using `score` in `sklearn`.**"
      ]
    },
    {
      "cell_type": "code",
      "metadata": {
        "colab": {
          "base_uri": "https://localhost:8080/"
        },
        "id": "88Q8nUKzOUjA",
        "outputId": "98e056dd-b4da-4998-c6a3-8ef662730d9f"
      },
      "source": [
        "%matplotlib inline\n",
        "import numpy as np\n",
        "import pandas as pd\n",
        "import seaborn as sns\n",
        "import matplotlib.pyplot as plt\n",
        "from sklearn.model_selection import train_test_split\n",
        "from sklearn.datasets import load_digits\n",
        "\n",
        "dataset = load_digits()\n",
        "X, y = dataset.data, dataset.target\n",
        "print(X.shape)"
      ],
      "execution_count": 32,
      "outputs": [
        {
          "output_type": "stream",
          "text": [
            "(1797, 64)\n"
          ],
          "name": "stdout"
        }
      ]
    },
    {
      "cell_type": "code",
      "metadata": {
        "colab": {
          "base_uri": "https://localhost:8080/",
          "height": 136
        },
        "id": "toNM6UH5OYdn",
        "outputId": "63a1b237-e58c-4f7a-84c3-32cd869ea997"
      },
      "source": [
        "import matplotlib.pyplot as plt \n",
        "_, axes = plt.subplots(nrows=1, ncols=8, figsize=(15, 8))\n",
        "for ax, image, label in zip(axes, dataset.images, dataset.target):\n",
        "    ax.set_axis_off()\n",
        "    ax.imshow(image, cmap=plt.cm.gray_r, interpolation='nearest')\n",
        "    ax.set_title('Training: %i' % label)"
      ],
      "execution_count": 33,
      "outputs": [
        {
          "output_type": "display_data",
          "data": {
            "image/png": "[encoded data removed]",
            "text/plain": [
              "<Figure size 1080x576 with 8 Axes>"
            ]
          },
          "metadata": {
            "tags": [],
            "needs_background": "light"
          }
        }
      ]
    },
    {
      "cell_type": "code",
      "metadata": {
        "id": "CLMUhfLzOX3P",
        "colab": {
          "base_uri": "https://localhost:8080/"
        },
        "outputId": "2158d776-f4f3-4bee-fdd4-e19fd80c66ef"
      },
      "source": [
        "# V.1\n",
        "for class_name, class_count in zip(dataset.target_names, np.bincount(dataset.target)):\n",
        "    print('Class name: %d number of sample: %d' %(class_name,class_count))\n"
      ],
      "execution_count": 34,
      "outputs": [
        {
          "output_type": "stream",
          "text": [
            "Class name: 0 number of sample: 178\n",
            "Class name: 1 number of sample: 182\n",
            "Class name: 2 number of sample: 177\n",
            "Class name: 3 number of sample: 183\n",
            "Class name: 4 number of sample: 181\n",
            "Class name: 5 number of sample: 182\n",
            "Class name: 6 number of sample: 181\n",
            "Class name: 7 number of sample: 179\n",
            "Class name: 8 number of sample: 174\n",
            "Class name: 9 number of sample: 180\n"
          ],
          "name": "stdout"
        }
      ]
    },
    {
      "cell_type": "code",
      "metadata": {
        "id": "f1_msvljSe90",
        "colab": {
          "base_uri": "https://localhost:8080/"
        },
        "outputId": "c68049ab-ace3-446d-b691-4a5dbef5b254"
      },
      "source": [
        "# V.2\n",
        "y_new = y.copy()\n",
        "y_new[y_new != 1] = 0\n",
        "\n",
        "print('Original labels:\\t', y[1:30])\n",
        "print('New binary labels:\\t', y_new[1:30])"
      ],
      "execution_count": 35,
      "outputs": [
        {
          "output_type": "stream",
          "text": [
            "Original labels:\t [1 2 3 4 5 6 7 8 9 0 1 2 3 4 5 6 7 8 9 0 1 2 3 4 5 6 7 8 9]\n",
            "New binary labels:\t [1 0 0 0 0 0 0 0 0 0 1 0 0 0 0 0 0 0 0 0 1 0 0 0 0 0 0 0 0]\n"
          ],
          "name": "stdout"
        }
      ]
    },
    {
      "cell_type": "code",
      "metadata": {
        "id": "vx_bmwYlShQr"
      },
      "source": [
        "# V.3\n",
        "X_train, X_test, y_train, y_test = train_test_split(X, y_new, test_size=0.2, random_state=0)\n",
        "\n",
        "# Accuracy of Support Vector Machine classifier\n",
        "from sklearn.svm import SVC\n",
        "\n",
        "svm = SVC(kernel='rbf', C=1).fit(X_train, y_train)\n",
        "test_score=svm.score(X_test, y_test)\n",
        "train_score=svm.score(X_train, y_train)"
      ],
      "execution_count": 36,
      "outputs": []
    },
    {
      "cell_type": "code",
      "metadata": {
        "id": "y4nxDbwzTHw5",
        "colab": {
          "base_uri": "https://localhost:8080/"
        },
        "outputId": "601f3c86-1124-4276-9ca7-d7d839cf2db9"
      },
      "source": [
        "print(\"Classification accuracy on train set:\", train_score)\n",
        "print(\"Classification accuracy on test set:\", test_score)"
      ],
      "execution_count": 37,
      "outputs": [
        {
          "output_type": "stream",
          "text": [
            "Classification accuracy on train set: 0.9993041057759221\n",
            "Classification accuracy on test set: 0.9944444444444445\n"
          ],
          "name": "stdout"
        }
      ]
    }
  ]
}