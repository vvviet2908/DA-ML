{
  "nbformat": 4,
  "nbformat_minor": 0,
  "metadata": {
    "kernelspec": {
      "display_name": "Python 3",
      "language": "python",
      "name": "python3"
    },
    "language_info": {
      "name": "python",
      "version": "3.6.6",
      "mimetype": "text/x-python",
      "codemirror_mode": {
        "name": "ipython",
        "version": 3
      },
      "pygments_lexer": "ipython3",
      "nbconvert_exporter": "python",
      "file_extension": ".py"
    },
    "colab": {
      "name": "Credit Card Fraud-Prediction.ipynb",
      "provenance": [],
      "collapsed_sections": [],
      "toc_visible": true,
      "include_colab_link": true
    }
  },
  "cells": [
    {
      "cell_type": "markdown",
      "metadata": {
        "id": "view-in-github",
        "colab_type": "text"
      },
      "source": [
        "<a href=\"https://colab.research.google.com/github/vvviet2908/EDA/blob/main/Credit_Card_Fraud_Prediction.ipynb\" target=\"_parent\"><img src=\"https://colab.research.google.com/assets/colab-badge.svg\" alt=\"Open In Colab\"/></a>"
      ]
    },
    {
      "cell_type": "markdown",
      "metadata": {
        "id": "AXQhFg70hnZp"
      },
      "source": [
        "### **Name: Vo Van Viet - ID: ITDSIU18043**"
      ]
    },
    {
      "cell_type": "markdown",
      "metadata": {
        "_uuid": "191a5d924005ae1c473b66d288ac15d527b51f0b",
        "id": "xGRqOOpyxNjW"
      },
      "source": [
        "**Task 1**: You are required do a proper analysis of the whole data, plot all relevant plots, make note to all observations\n",
        "\n",
        "**Task 2**: Let sample 100 transactions (denoted by S) from whole data (denoted by D), for every transaction in S, print 10 transactions from D which have least values of `similarity`\n",
        "\n",
        "The similarity between any two vectors is defined as\n",
        "$\\text{similarity}(v_i,v_j) = \\text{cos}^{-1} [ \\frac{(v_i \\cdot v_j)}{length(v_i) \\times length(v_j)} ]$\n",
        "\n",
        "1. $v_i$ represents a vector i.e. a row in your data.\n",
        "2. $\\text{similarity}(i,j)$ is just a function you can think it like $f(x,y)$\n",
        "3. $\\text{length}(v_i)$: length of the vector $v_i$\n",
        "4. $i \\cdot j$ is the dot product between the vectors $v_i$, $v_j$ \n",
        "\n",
        "**Task 3**: Apply 5 different ML algorithms to build classification models.\n",
        "\n",
        "\n",
        "\n"
      ]
    },
    {
      "cell_type": "markdown",
      "metadata": {
        "_uuid": "083341665439f5056f98f56404e72e0338fb39e0",
        "id": "_KO4JDQAxNjd"
      },
      "source": [
        "## Task 1 : Performing EDA(Exploratory Data Analysis on credit card data)"
      ]
    },
    {
      "cell_type": "markdown",
      "metadata": {
        "_uuid": "bd6649789ba0dfd5e0537536fa71be83441f3181",
        "id": "e6K_EOeKxNje"
      },
      "source": [
        "### About the data:\n",
        "\n",
        "Features V1, V2, ... V28 are the principal components obtained with PCA, the only features which have not been transformed with PCA are 'Time' and 'Amount'. \n",
        "\n",
        "**Feature 'Time'** contains the seconds elapsed between each transaction and the first transaction in the dataset. \n",
        "\n",
        "The **Feature 'Amount'** is the transaction Amount, this feature can be used for example-dependant cost-senstive learning. \n",
        "\n",
        "**Feature 'Class'** is the response variable and it takes value 1 in case of fraud and 0 otherwise."
      ]
    },
    {
      "cell_type": "markdown",
      "metadata": {
        "_uuid": "34c5226130af1ac6ca724a2499fde205013a4134",
        "id": "gec7VRa5xNje"
      },
      "source": [
        "\n",
        "\n",
        "EDA is performed only on Time and Amount Feature."
      ]
    },
    {
      "cell_type": "markdown",
      "metadata": {
        "id": "PpSF2yiOzsLP"
      },
      "source": [
        "#### Find and load the dataset from github"
      ]
    },
    {
      "cell_type": "code",
      "metadata": {
        "collapsed": true,
        "trusted": true,
        "_uuid": "f4eda6414559b59c7b4a4f7ec79f18d862c52973",
        "id": "DkBuS71axNjf"
      },
      "source": [
        "import pandas as pd\n",
        "import numpy as np\n",
        "\n",
        "import seaborn as sns\n",
        "import matplotlib.pyplot as plt\n",
        "%matplotlib inline "
      ],
      "execution_count": 1,
      "outputs": []
    },
    {
      "cell_type": "code",
      "metadata": {
        "trusted": true,
        "_uuid": "63beb2077c1fc64e70e65bd1ceb0cc458aec1176",
        "collapsed": true,
        "id": "9_33lyRXxNjf"
      },
      "source": [
        "data = pd.read_csv(\"https://raw.githubusercontent.com/nsethi31/Kaggle-Data-Credit-Card-Fraud-Detection/master/creditcard.csv\")"
      ],
      "execution_count": 2,
      "outputs": []
    },
    {
      "cell_type": "code",
      "metadata": {
        "trusted": true,
        "_uuid": "12fc27e67b1d995c7c4962265cf07141e779279a",
        "id": "4vv3nGoIxNjg",
        "colab": {
          "base_uri": "https://localhost:8080/",
          "height": 218
        },
        "outputId": "bc9c15b1-e914-4afb-d1cc-3b91ec4a8f87"
      },
      "source": [
        "data.head()"
      ],
      "execution_count": 3,
      "outputs": [
        {
          "output_type": "execute_result",
          "data": {
            "text/html": [
              "<div>\n",
              "<style scoped>\n",
              "    .dataframe tbody tr th:only-of-type {\n",
              "        vertical-align: middle;\n",
              "    }\n",
              "\n",
              "    .dataframe tbody tr th {\n",
              "        vertical-align: top;\n",
              "    }\n",
              "\n",
              "    .dataframe thead th {\n",
              "        text-align: right;\n",
              "    }\n",
              "</style>\n",
              "<table border=\"1\" class=\"dataframe\">\n",
              "  <thead>\n",
              "    <tr style=\"text-align: right;\">\n",
              "      <th></th>\n",
              "      <th>Time</th>\n",
              "      <th>V1</th>\n",
              "      <th>V2</th>\n",
              "      <th>V3</th>\n",
              "      <th>V4</th>\n",
              "      <th>V5</th>\n",
              "      <th>V6</th>\n",
              "      <th>V7</th>\n",
              "      <th>V8</th>\n",
              "      <th>V9</th>\n",
              "      <th>V10</th>\n",
              "      <th>V11</th>\n",
              "      <th>V12</th>\n",
              "      <th>V13</th>\n",
              "      <th>V14</th>\n",
              "      <th>V15</th>\n",
              "      <th>V16</th>\n",
              "      <th>V17</th>\n",
              "      <th>V18</th>\n",
              "      <th>V19</th>\n",
              "      <th>V20</th>\n",
              "      <th>V21</th>\n",
              "      <th>V22</th>\n",
              "      <th>V23</th>\n",
              "      <th>V24</th>\n",
              "      <th>V25</th>\n",
              "      <th>V26</th>\n",
              "      <th>V27</th>\n",
              "      <th>V28</th>\n",
              "      <th>Amount</th>\n",
              "      <th>Class</th>\n",
              "    </tr>\n",
              "  </thead>\n",
              "  <tbody>\n",
              "    <tr>\n",
              "      <th>0</th>\n",
              "      <td>0.0</td>\n",
              "      <td>-1.359807</td>\n",
              "      <td>-0.072781</td>\n",
              "      <td>2.536347</td>\n",
              "      <td>1.378155</td>\n",
              "      <td>-0.338321</td>\n",
              "      <td>0.462388</td>\n",
              "      <td>0.239599</td>\n",
              "      <td>0.098698</td>\n",
              "      <td>0.363787</td>\n",
              "      <td>0.090794</td>\n",
              "      <td>-0.551600</td>\n",
              "      <td>-0.617801</td>\n",
              "      <td>-0.991390</td>\n",
              "      <td>-0.311169</td>\n",
              "      <td>1.468177</td>\n",
              "      <td>-0.470401</td>\n",
              "      <td>0.207971</td>\n",
              "      <td>0.025791</td>\n",
              "      <td>0.403993</td>\n",
              "      <td>0.251412</td>\n",
              "      <td>-0.018307</td>\n",
              "      <td>0.277838</td>\n",
              "      <td>-0.110474</td>\n",
              "      <td>0.066928</td>\n",
              "      <td>0.128539</td>\n",
              "      <td>-0.189115</td>\n",
              "      <td>0.133558</td>\n",
              "      <td>-0.021053</td>\n",
              "      <td>149.62</td>\n",
              "      <td>0</td>\n",
              "    </tr>\n",
              "    <tr>\n",
              "      <th>1</th>\n",
              "      <td>0.0</td>\n",
              "      <td>1.191857</td>\n",
              "      <td>0.266151</td>\n",
              "      <td>0.166480</td>\n",
              "      <td>0.448154</td>\n",
              "      <td>0.060018</td>\n",
              "      <td>-0.082361</td>\n",
              "      <td>-0.078803</td>\n",
              "      <td>0.085102</td>\n",
              "      <td>-0.255425</td>\n",
              "      <td>-0.166974</td>\n",
              "      <td>1.612727</td>\n",
              "      <td>1.065235</td>\n",
              "      <td>0.489095</td>\n",
              "      <td>-0.143772</td>\n",
              "      <td>0.635558</td>\n",
              "      <td>0.463917</td>\n",
              "      <td>-0.114805</td>\n",
              "      <td>-0.183361</td>\n",
              "      <td>-0.145783</td>\n",
              "      <td>-0.069083</td>\n",
              "      <td>-0.225775</td>\n",
              "      <td>-0.638672</td>\n",
              "      <td>0.101288</td>\n",
              "      <td>-0.339846</td>\n",
              "      <td>0.167170</td>\n",
              "      <td>0.125895</td>\n",
              "      <td>-0.008983</td>\n",
              "      <td>0.014724</td>\n",
              "      <td>2.69</td>\n",
              "      <td>0</td>\n",
              "    </tr>\n",
              "    <tr>\n",
              "      <th>2</th>\n",
              "      <td>1.0</td>\n",
              "      <td>-1.358354</td>\n",
              "      <td>-1.340163</td>\n",
              "      <td>1.773209</td>\n",
              "      <td>0.379780</td>\n",
              "      <td>-0.503198</td>\n",
              "      <td>1.800499</td>\n",
              "      <td>0.791461</td>\n",
              "      <td>0.247676</td>\n",
              "      <td>-1.514654</td>\n",
              "      <td>0.207643</td>\n",
              "      <td>0.624501</td>\n",
              "      <td>0.066084</td>\n",
              "      <td>0.717293</td>\n",
              "      <td>-0.165946</td>\n",
              "      <td>2.345865</td>\n",
              "      <td>-2.890083</td>\n",
              "      <td>1.109969</td>\n",
              "      <td>-0.121359</td>\n",
              "      <td>-2.261857</td>\n",
              "      <td>0.524980</td>\n",
              "      <td>0.247998</td>\n",
              "      <td>0.771679</td>\n",
              "      <td>0.909412</td>\n",
              "      <td>-0.689281</td>\n",
              "      <td>-0.327642</td>\n",
              "      <td>-0.139097</td>\n",
              "      <td>-0.055353</td>\n",
              "      <td>-0.059752</td>\n",
              "      <td>378.66</td>\n",
              "      <td>0</td>\n",
              "    </tr>\n",
              "    <tr>\n",
              "      <th>3</th>\n",
              "      <td>1.0</td>\n",
              "      <td>-0.966272</td>\n",
              "      <td>-0.185226</td>\n",
              "      <td>1.792993</td>\n",
              "      <td>-0.863291</td>\n",
              "      <td>-0.010309</td>\n",
              "      <td>1.247203</td>\n",
              "      <td>0.237609</td>\n",
              "      <td>0.377436</td>\n",
              "      <td>-1.387024</td>\n",
              "      <td>-0.054952</td>\n",
              "      <td>-0.226487</td>\n",
              "      <td>0.178228</td>\n",
              "      <td>0.507757</td>\n",
              "      <td>-0.287924</td>\n",
              "      <td>-0.631418</td>\n",
              "      <td>-1.059647</td>\n",
              "      <td>-0.684093</td>\n",
              "      <td>1.965775</td>\n",
              "      <td>-1.232622</td>\n",
              "      <td>-0.208038</td>\n",
              "      <td>-0.108300</td>\n",
              "      <td>0.005274</td>\n",
              "      <td>-0.190321</td>\n",
              "      <td>-1.175575</td>\n",
              "      <td>0.647376</td>\n",
              "      <td>-0.221929</td>\n",
              "      <td>0.062723</td>\n",
              "      <td>0.061458</td>\n",
              "      <td>123.50</td>\n",
              "      <td>0</td>\n",
              "    </tr>\n",
              "    <tr>\n",
              "      <th>4</th>\n",
              "      <td>2.0</td>\n",
              "      <td>-1.158233</td>\n",
              "      <td>0.877737</td>\n",
              "      <td>1.548718</td>\n",
              "      <td>0.403034</td>\n",
              "      <td>-0.407193</td>\n",
              "      <td>0.095921</td>\n",
              "      <td>0.592941</td>\n",
              "      <td>-0.270533</td>\n",
              "      <td>0.817739</td>\n",
              "      <td>0.753074</td>\n",
              "      <td>-0.822843</td>\n",
              "      <td>0.538196</td>\n",
              "      <td>1.345852</td>\n",
              "      <td>-1.119670</td>\n",
              "      <td>0.175121</td>\n",
              "      <td>-0.451449</td>\n",
              "      <td>-0.237033</td>\n",
              "      <td>-0.038195</td>\n",
              "      <td>0.803487</td>\n",
              "      <td>0.408542</td>\n",
              "      <td>-0.009431</td>\n",
              "      <td>0.798278</td>\n",
              "      <td>-0.137458</td>\n",
              "      <td>0.141267</td>\n",
              "      <td>-0.206010</td>\n",
              "      <td>0.502292</td>\n",
              "      <td>0.219422</td>\n",
              "      <td>0.215153</td>\n",
              "      <td>69.99</td>\n",
              "      <td>0</td>\n",
              "    </tr>\n",
              "  </tbody>\n",
              "</table>\n",
              "</div>"
            ],
            "text/plain": [
              "   Time        V1        V2        V3  ...       V27       V28  Amount  Class\n",
              "0   0.0 -1.359807 -0.072781  2.536347  ...  0.133558 -0.021053  149.62      0\n",
              "1   0.0  1.191857  0.266151  0.166480  ... -0.008983  0.014724    2.69      0\n",
              "2   1.0 -1.358354 -1.340163  1.773209  ... -0.055353 -0.059752  378.66      0\n",
              "3   1.0 -0.966272 -0.185226  1.792993  ...  0.062723  0.061458  123.50      0\n",
              "4   2.0 -1.158233  0.877737  1.548718  ...  0.219422  0.215153   69.99      0\n",
              "\n",
              "[5 rows x 31 columns]"
            ]
          },
          "metadata": {
            "tags": []
          },
          "execution_count": 3
        }
      ]
    },
    {
      "cell_type": "markdown",
      "metadata": {
        "id": "h38rXUq6z11G"
      },
      "source": [
        "#### Print out dataframe information, shape, and count the values of `Class` to check if the data is imbalanced"
      ]
    },
    {
      "cell_type": "code",
      "metadata": {
        "id": "3i0NXfvT0DVP",
        "colab": {
          "base_uri": "https://localhost:8080/"
        },
        "outputId": "2232ecbe-0a02-4fa7-99ad-7cffc5ff56a5"
      },
      "source": [
        "data.info()"
      ],
      "execution_count": 4,
      "outputs": [
        {
          "output_type": "stream",
          "text": [
            "<class 'pandas.core.frame.DataFrame'>\n",
            "RangeIndex: 284807 entries, 0 to 284806\n",
            "Data columns (total 31 columns):\n",
            " #   Column  Non-Null Count   Dtype  \n",
            "---  ------  --------------   -----  \n",
            " 0   Time    284807 non-null  float64\n",
            " 1   V1      284807 non-null  float64\n",
            " 2   V2      284807 non-null  float64\n",
            " 3   V3      284807 non-null  float64\n",
            " 4   V4      284807 non-null  float64\n",
            " 5   V5      284807 non-null  float64\n",
            " 6   V6      284807 non-null  float64\n",
            " 7   V7      284807 non-null  float64\n",
            " 8   V8      284807 non-null  float64\n",
            " 9   V9      284807 non-null  float64\n",
            " 10  V10     284807 non-null  float64\n",
            " 11  V11     284807 non-null  float64\n",
            " 12  V12     284807 non-null  float64\n",
            " 13  V13     284807 non-null  float64\n",
            " 14  V14     284807 non-null  float64\n",
            " 15  V15     284807 non-null  float64\n",
            " 16  V16     284807 non-null  float64\n",
            " 17  V17     284807 non-null  float64\n",
            " 18  V18     284807 non-null  float64\n",
            " 19  V19     284807 non-null  float64\n",
            " 20  V20     284807 non-null  float64\n",
            " 21  V21     284807 non-null  float64\n",
            " 22  V22     284807 non-null  float64\n",
            " 23  V23     284807 non-null  float64\n",
            " 24  V24     284807 non-null  float64\n",
            " 25  V25     284807 non-null  float64\n",
            " 26  V26     284807 non-null  float64\n",
            " 27  V27     284807 non-null  float64\n",
            " 28  V28     284807 non-null  float64\n",
            " 29  Amount  284807 non-null  float64\n",
            " 30  Class   284807 non-null  int64  \n",
            "dtypes: float64(30), int64(1)\n",
            "memory usage: 67.4 MB\n"
          ],
          "name": "stdout"
        }
      ]
    },
    {
      "cell_type": "code",
      "metadata": {
        "trusted": true,
        "_uuid": "765b07aa59966a281540db00437ad011f764c09c",
        "collapsed": true,
        "id": "lFPYtqP6xNjg",
        "colab": {
          "base_uri": "https://localhost:8080/"
        },
        "outputId": "44349d71-bb98-4e67-a94d-cbab5a3270c0"
      },
      "source": [
        "#finding the shape of dataframe (finding no.of observations and features in the given dataframe)\n",
        "data.shape"
      ],
      "execution_count": 5,
      "outputs": [
        {
          "output_type": "execute_result",
          "data": {
            "text/plain": [
              "(284807, 31)"
            ]
          },
          "metadata": {
            "tags": []
          },
          "execution_count": 5
        }
      ]
    },
    {
      "cell_type": "code",
      "metadata": {
        "trusted": true,
        "_uuid": "d1f7d2346aad741258a1556b749a14385b5e25bd",
        "collapsed": true,
        "id": "VSfe7T4NxNjg",
        "colab": {
          "base_uri": "https://localhost:8080/"
        },
        "outputId": "934bb9bc-700c-4596-8c41-556406305ba2"
      },
      "source": [
        "#finding whether it is balanced data or imbalanced data\n",
        "data['Class'].value_counts()"
      ],
      "execution_count": 6,
      "outputs": [
        {
          "output_type": "execute_result",
          "data": {
            "text/plain": [
              "0    284315\n",
              "1       492\n",
              "Name: Class, dtype: int64"
            ]
          },
          "metadata": {
            "tags": []
          },
          "execution_count": 6
        }
      ]
    },
    {
      "cell_type": "markdown",
      "metadata": {
        "_uuid": "7515decc90d33a42bdb0cc1e4a370b6b6b83249e",
        "id": "slQFYYiUxNjh"
      },
      "source": [
        "From the above info it is clear that it is an imbalanced dataset"
      ]
    },
    {
      "cell_type": "markdown",
      "metadata": {
        "_uuid": "0ce390e6992fc0ea9c4673e5054126d7e09faa9c",
        "id": "-tcyv6CpxNjh"
      },
      "source": [
        "#### Let rename the class variables \n",
        "\n",
        "0 - legitimate\n",
        "\n",
        "1- fraud"
      ]
    },
    {
      "cell_type": "code",
      "metadata": {
        "collapsed": true,
        "trusted": true,
        "_uuid": "cb39dd80c1e0be4ce793ad762cdd4ccd5fffae0a",
        "id": "V_h78LolxNjh"
      },
      "source": [
        "data['Class'] = data['Class'].apply(lambda x:\"fraud\" if x==1 else \"legitimate\" )"
      ],
      "execution_count": 7,
      "outputs": []
    },
    {
      "cell_type": "code",
      "metadata": {
        "trusted": true,
        "_uuid": "442e19ceacc6a3aa8f33ea0b0af4d3d85e0843fe",
        "id": "h0lxDf9VxNjh",
        "colab": {
          "base_uri": "https://localhost:8080/",
          "height": 218
        },
        "outputId": "633175b2-3cb8-41d7-874f-b4ce0f505d7e"
      },
      "source": [
        "data.head()"
      ],
      "execution_count": 8,
      "outputs": [
        {
          "output_type": "execute_result",
          "data": {
            "text/html": [
              "<div>\n",
              "<style scoped>\n",
              "    .dataframe tbody tr th:only-of-type {\n",
              "        vertical-align: middle;\n",
              "    }\n",
              "\n",
              "    .dataframe tbody tr th {\n",
              "        vertical-align: top;\n",
              "    }\n",
              "\n",
              "    .dataframe thead th {\n",
              "        text-align: right;\n",
              "    }\n",
              "</style>\n",
              "<table border=\"1\" class=\"dataframe\">\n",
              "  <thead>\n",
              "    <tr style=\"text-align: right;\">\n",
              "      <th></th>\n",
              "      <th>Time</th>\n",
              "      <th>V1</th>\n",
              "      <th>V2</th>\n",
              "      <th>V3</th>\n",
              "      <th>V4</th>\n",
              "      <th>V5</th>\n",
              "      <th>V6</th>\n",
              "      <th>V7</th>\n",
              "      <th>V8</th>\n",
              "      <th>V9</th>\n",
              "      <th>V10</th>\n",
              "      <th>V11</th>\n",
              "      <th>V12</th>\n",
              "      <th>V13</th>\n",
              "      <th>V14</th>\n",
              "      <th>V15</th>\n",
              "      <th>V16</th>\n",
              "      <th>V17</th>\n",
              "      <th>V18</th>\n",
              "      <th>V19</th>\n",
              "      <th>V20</th>\n",
              "      <th>V21</th>\n",
              "      <th>V22</th>\n",
              "      <th>V23</th>\n",
              "      <th>V24</th>\n",
              "      <th>V25</th>\n",
              "      <th>V26</th>\n",
              "      <th>V27</th>\n",
              "      <th>V28</th>\n",
              "      <th>Amount</th>\n",
              "      <th>Class</th>\n",
              "    </tr>\n",
              "  </thead>\n",
              "  <tbody>\n",
              "    <tr>\n",
              "      <th>0</th>\n",
              "      <td>0.0</td>\n",
              "      <td>-1.359807</td>\n",
              "      <td>-0.072781</td>\n",
              "      <td>2.536347</td>\n",
              "      <td>1.378155</td>\n",
              "      <td>-0.338321</td>\n",
              "      <td>0.462388</td>\n",
              "      <td>0.239599</td>\n",
              "      <td>0.098698</td>\n",
              "      <td>0.363787</td>\n",
              "      <td>0.090794</td>\n",
              "      <td>-0.551600</td>\n",
              "      <td>-0.617801</td>\n",
              "      <td>-0.991390</td>\n",
              "      <td>-0.311169</td>\n",
              "      <td>1.468177</td>\n",
              "      <td>-0.470401</td>\n",
              "      <td>0.207971</td>\n",
              "      <td>0.025791</td>\n",
              "      <td>0.403993</td>\n",
              "      <td>0.251412</td>\n",
              "      <td>-0.018307</td>\n",
              "      <td>0.277838</td>\n",
              "      <td>-0.110474</td>\n",
              "      <td>0.066928</td>\n",
              "      <td>0.128539</td>\n",
              "      <td>-0.189115</td>\n",
              "      <td>0.133558</td>\n",
              "      <td>-0.021053</td>\n",
              "      <td>149.62</td>\n",
              "      <td>legitimate</td>\n",
              "    </tr>\n",
              "    <tr>\n",
              "      <th>1</th>\n",
              "      <td>0.0</td>\n",
              "      <td>1.191857</td>\n",
              "      <td>0.266151</td>\n",
              "      <td>0.166480</td>\n",
              "      <td>0.448154</td>\n",
              "      <td>0.060018</td>\n",
              "      <td>-0.082361</td>\n",
              "      <td>-0.078803</td>\n",
              "      <td>0.085102</td>\n",
              "      <td>-0.255425</td>\n",
              "      <td>-0.166974</td>\n",
              "      <td>1.612727</td>\n",
              "      <td>1.065235</td>\n",
              "      <td>0.489095</td>\n",
              "      <td>-0.143772</td>\n",
              "      <td>0.635558</td>\n",
              "      <td>0.463917</td>\n",
              "      <td>-0.114805</td>\n",
              "      <td>-0.183361</td>\n",
              "      <td>-0.145783</td>\n",
              "      <td>-0.069083</td>\n",
              "      <td>-0.225775</td>\n",
              "      <td>-0.638672</td>\n",
              "      <td>0.101288</td>\n",
              "      <td>-0.339846</td>\n",
              "      <td>0.167170</td>\n",
              "      <td>0.125895</td>\n",
              "      <td>-0.008983</td>\n",
              "      <td>0.014724</td>\n",
              "      <td>2.69</td>\n",
              "      <td>legitimate</td>\n",
              "    </tr>\n",
              "    <tr>\n",
              "      <th>2</th>\n",
              "      <td>1.0</td>\n",
              "      <td>-1.358354</td>\n",
              "      <td>-1.340163</td>\n",
              "      <td>1.773209</td>\n",
              "      <td>0.379780</td>\n",
              "      <td>-0.503198</td>\n",
              "      <td>1.800499</td>\n",
              "      <td>0.791461</td>\n",
              "      <td>0.247676</td>\n",
              "      <td>-1.514654</td>\n",
              "      <td>0.207643</td>\n",
              "      <td>0.624501</td>\n",
              "      <td>0.066084</td>\n",
              "      <td>0.717293</td>\n",
              "      <td>-0.165946</td>\n",
              "      <td>2.345865</td>\n",
              "      <td>-2.890083</td>\n",
              "      <td>1.109969</td>\n",
              "      <td>-0.121359</td>\n",
              "      <td>-2.261857</td>\n",
              "      <td>0.524980</td>\n",
              "      <td>0.247998</td>\n",
              "      <td>0.771679</td>\n",
              "      <td>0.909412</td>\n",
              "      <td>-0.689281</td>\n",
              "      <td>-0.327642</td>\n",
              "      <td>-0.139097</td>\n",
              "      <td>-0.055353</td>\n",
              "      <td>-0.059752</td>\n",
              "      <td>378.66</td>\n",
              "      <td>legitimate</td>\n",
              "    </tr>\n",
              "    <tr>\n",
              "      <th>3</th>\n",
              "      <td>1.0</td>\n",
              "      <td>-0.966272</td>\n",
              "      <td>-0.185226</td>\n",
              "      <td>1.792993</td>\n",
              "      <td>-0.863291</td>\n",
              "      <td>-0.010309</td>\n",
              "      <td>1.247203</td>\n",
              "      <td>0.237609</td>\n",
              "      <td>0.377436</td>\n",
              "      <td>-1.387024</td>\n",
              "      <td>-0.054952</td>\n",
              "      <td>-0.226487</td>\n",
              "      <td>0.178228</td>\n",
              "      <td>0.507757</td>\n",
              "      <td>-0.287924</td>\n",
              "      <td>-0.631418</td>\n",
              "      <td>-1.059647</td>\n",
              "      <td>-0.684093</td>\n",
              "      <td>1.965775</td>\n",
              "      <td>-1.232622</td>\n",
              "      <td>-0.208038</td>\n",
              "      <td>-0.108300</td>\n",
              "      <td>0.005274</td>\n",
              "      <td>-0.190321</td>\n",
              "      <td>-1.175575</td>\n",
              "      <td>0.647376</td>\n",
              "      <td>-0.221929</td>\n",
              "      <td>0.062723</td>\n",
              "      <td>0.061458</td>\n",
              "      <td>123.50</td>\n",
              "      <td>legitimate</td>\n",
              "    </tr>\n",
              "    <tr>\n",
              "      <th>4</th>\n",
              "      <td>2.0</td>\n",
              "      <td>-1.158233</td>\n",
              "      <td>0.877737</td>\n",
              "      <td>1.548718</td>\n",
              "      <td>0.403034</td>\n",
              "      <td>-0.407193</td>\n",
              "      <td>0.095921</td>\n",
              "      <td>0.592941</td>\n",
              "      <td>-0.270533</td>\n",
              "      <td>0.817739</td>\n",
              "      <td>0.753074</td>\n",
              "      <td>-0.822843</td>\n",
              "      <td>0.538196</td>\n",
              "      <td>1.345852</td>\n",
              "      <td>-1.119670</td>\n",
              "      <td>0.175121</td>\n",
              "      <td>-0.451449</td>\n",
              "      <td>-0.237033</td>\n",
              "      <td>-0.038195</td>\n",
              "      <td>0.803487</td>\n",
              "      <td>0.408542</td>\n",
              "      <td>-0.009431</td>\n",
              "      <td>0.798278</td>\n",
              "      <td>-0.137458</td>\n",
              "      <td>0.141267</td>\n",
              "      <td>-0.206010</td>\n",
              "      <td>0.502292</td>\n",
              "      <td>0.219422</td>\n",
              "      <td>0.215153</td>\n",
              "      <td>69.99</td>\n",
              "      <td>legitimate</td>\n",
              "    </tr>\n",
              "  </tbody>\n",
              "</table>\n",
              "</div>"
            ],
            "text/plain": [
              "   Time        V1        V2        V3  ...       V27       V28  Amount       Class\n",
              "0   0.0 -1.359807 -0.072781  2.536347  ...  0.133558 -0.021053  149.62  legitimate\n",
              "1   0.0  1.191857  0.266151  0.166480  ... -0.008983  0.014724    2.69  legitimate\n",
              "2   1.0 -1.358354 -1.340163  1.773209  ... -0.055353 -0.059752  378.66  legitimate\n",
              "3   1.0 -0.966272 -0.185226  1.792993  ...  0.062723  0.061458  123.50  legitimate\n",
              "4   2.0 -1.158233  0.877737  1.548718  ...  0.219422  0.215153   69.99  legitimate\n",
              "\n",
              "[5 rows x 31 columns]"
            ]
          },
          "metadata": {
            "tags": []
          },
          "execution_count": 8
        }
      ]
    },
    {
      "cell_type": "markdown",
      "metadata": {
        "id": "IT9WRwJg0Xz6"
      },
      "source": [
        "#### Subsetting the dataset, including only `Time`,`Amount`,`Class`"
      ]
    },
    {
      "cell_type": "code",
      "metadata": {
        "collapsed": true,
        "trusted": true,
        "_uuid": "d048b2193ba7d5784df565775946b4e7e5c5fa72",
        "id": "KcypwPkHxNji"
      },
      "source": [
        "#subsetting the dataset \n",
        "subdata = data[['Time','Amount','Class']]"
      ],
      "execution_count": 9,
      "outputs": []
    },
    {
      "cell_type": "markdown",
      "metadata": {
        "id": "9BvhfHq_0ole"
      },
      "source": [
        "#### Check the distribution of data (to check whether our subset of data contains same count as original dataset)"
      ]
    },
    {
      "cell_type": "code",
      "metadata": {
        "trusted": true,
        "_uuid": "24f4d374af612e09c1a4adda5874e60c87de9e33",
        "id": "nqkXc98wxNji",
        "colab": {
          "base_uri": "https://localhost:8080/"
        },
        "outputId": "8522125e-0b18-4b4c-b175-8fa8054bbb21"
      },
      "source": [
        "#checking the distribution of data (to check whether our subset of data contains same count as original dataset)\n",
        "subdata['Class'].value_counts()"
      ],
      "execution_count": 10,
      "outputs": [
        {
          "output_type": "execute_result",
          "data": {
            "text/plain": [
              "legitimate    284315\n",
              "fraud            492\n",
              "Name: Class, dtype: int64"
            ]
          },
          "metadata": {
            "tags": []
          },
          "execution_count": 10
        }
      ]
    },
    {
      "cell_type": "markdown",
      "metadata": {
        "_uuid": "88efd980b8079d1becbc620d028745cc99c5f272",
        "id": "vHMiA6yuxNji"
      },
      "source": [
        "#### Performing EDA on this data (Pair plots using `seaborns` to find out which features have more importance when compared to other features)\n"
      ]
    },
    {
      "cell_type": "code",
      "metadata": {
        "trusted": true,
        "_uuid": "789aff2d48101ea1f875427a470a2fbd9cbba525",
        "id": "ZmN2IGeKxNjm",
        "colab": {
          "base_uri": "https://localhost:8080/",
          "height": 515
        },
        "outputId": "3e54b2ee-c45d-4a27-e2d4-02a67cf4b73b"
      },
      "source": [
        "sns.FacetGrid(subdata, hue ='Class', size =5).map(sns.distplot, 'Time').add_legend()\n",
        "plt.title(\"Histogram with PDF for feature 'time'\")"
      ],
      "execution_count": 11,
      "outputs": [
        {
          "output_type": "stream",
          "text": [
            "/usr/local/lib/python3.7/dist-packages/seaborn/axisgrid.py:316: UserWarning: The `size` parameter has been renamed to `height`; please update your code.\n",
            "  warnings.warn(msg, UserWarning)\n",
            "/usr/local/lib/python3.7/dist-packages/seaborn/distributions.py:2557: FutureWarning: `distplot` is a deprecated function and will be removed in a future version. Please adapt your code to use either `displot` (a figure-level function with similar flexibility) or `histplot` (an axes-level function for histograms).\n",
            "  warnings.warn(msg, FutureWarning)\n",
            "/usr/local/lib/python3.7/dist-packages/seaborn/distributions.py:2557: FutureWarning: `distplot` is a deprecated function and will be removed in a future version. Please adapt your code to use either `displot` (a figure-level function with similar flexibility) or `histplot` (an axes-level function for histograms).\n",
            "  warnings.warn(msg, FutureWarning)\n"
          ],
          "name": "stderr"
        },
        {
          "output_type": "execute_result",
          "data": {
            "text/plain": [
              "Text(0.5, 1.0, \"Histogram with PDF for feature 'time'\")"
            ]
          },
          "metadata": {
            "tags": []
          },
          "execution_count": 11
        },
        {
          "output_type": "display_data",
          "data": {
            "image/png": "[encoded data removed]",
            "text/plain": [
              "<Figure size 446.75x360 with 1 Axes>"
            ]
          },
          "metadata": {
            "tags": [],
            "needs_background": "light"
          }
        }
      ]
    },
    {
      "cell_type": "code",
      "metadata": {
        "trusted": true,
        "_uuid": "b691874fde245f7e787f5f2be9888b6cb6a819b1",
        "id": "3JyKGH9LxNjm",
        "colab": {
          "base_uri": "https://localhost:8080/",
          "height": 742
        },
        "outputId": "cdaeea6e-6303-4f16-fcee-99c5f466bcac"
      },
      "source": [
        "sns.FacetGrid(subdata, hue ='Class', size =8).map(sns.distplot, 'Amount').add_legend()\n",
        "plt.title(\"Histogram with PDF for feature 'amount'\")"
      ],
      "execution_count": 12,
      "outputs": [
        {
          "output_type": "stream",
          "text": [
            "/usr/local/lib/python3.7/dist-packages/seaborn/axisgrid.py:316: UserWarning: The `size` parameter has been renamed to `height`; please update your code.\n",
            "  warnings.warn(msg, UserWarning)\n",
            "/usr/local/lib/python3.7/dist-packages/seaborn/distributions.py:2557: FutureWarning: `distplot` is a deprecated function and will be removed in a future version. Please adapt your code to use either `displot` (a figure-level function with similar flexibility) or `histplot` (an axes-level function for histograms).\n",
            "  warnings.warn(msg, FutureWarning)\n",
            "/usr/local/lib/python3.7/dist-packages/seaborn/distributions.py:2557: FutureWarning: `distplot` is a deprecated function and will be removed in a future version. Please adapt your code to use either `displot` (a figure-level function with similar flexibility) or `histplot` (an axes-level function for histograms).\n",
            "  warnings.warn(msg, FutureWarning)\n"
          ],
          "name": "stderr"
        },
        {
          "output_type": "execute_result",
          "data": {
            "text/plain": [
              "Text(0.5, 1.0, \"Histogram with PDF for feature 'amount'\")"
            ]
          },
          "metadata": {
            "tags": []
          },
          "execution_count": 12
        },
        {
          "output_type": "display_data",
          "data": {
            "image/png": "[encoded data removed]",
            "text/plain": [
              "<Figure size 662.75x576 with 1 Axes>"
            ]
          },
          "metadata": {
            "tags": [],
            "needs_background": "light"
          }
        }
      ]
    },
    {
      "cell_type": "markdown",
      "metadata": {
        "_uuid": "8d221c42e472734dca2c6aeca3884dbb0f71da95",
        "id": "jziDH-LQxNjm"
      },
      "source": [
        "**Observation:**\n",
        "\n",
        "1.It is evident that the feature 'time' has so much of overlapping. We couldn't make any predictions or classifications out of it. So, we could discard this feature in classification of outcome.\n",
        "\n",
        "2.Whereas the feature 'Amount' has also overlapping but we could make some prediction out of it when compared to another feature. \n",
        "    \n",
        "\n",
        "    "
      ]
    },
    {
      "cell_type": "markdown",
      "metadata": {
        "id": "ACp4HMvu11mq"
      },
      "source": [
        "#### Let divide the data according to classes for appropriate analysis"
      ]
    },
    {
      "cell_type": "code",
      "metadata": {
        "collapsed": true,
        "trusted": true,
        "_uuid": "79658e59b760ade4e27d4615a9293803bb6e5682",
        "id": "PE6cxgirxNjn"
      },
      "source": [
        "#dividing the data according to classes for appropriate analysis\n",
        "subdata_fraud=subdata[subdata['Class']=='fraud']"
      ],
      "execution_count": 13,
      "outputs": []
    },
    {
      "cell_type": "code",
      "metadata": {
        "trusted": true,
        "_uuid": "9a6574d886bc213ca432edd69b1b4177996876dd",
        "collapsed": true,
        "id": "WpuSNaOBxNjn",
        "colab": {
          "base_uri": "https://localhost:8080/"
        },
        "outputId": "10f6b786-e275-43ca-9925-3311c14e2d53"
      },
      "source": [
        "subdata_fraud.shape"
      ],
      "execution_count": 14,
      "outputs": [
        {
          "output_type": "execute_result",
          "data": {
            "text/plain": [
              "(492, 3)"
            ]
          },
          "metadata": {
            "tags": []
          },
          "execution_count": 14
        }
      ]
    },
    {
      "cell_type": "code",
      "metadata": {
        "trusted": true,
        "_uuid": "f442ec9738eedcaed5934fe4ce65bf69c641c7d5",
        "collapsed": true,
        "id": "NBnW6ePwxNjn",
        "colab": {
          "base_uri": "https://localhost:8080/",
          "height": 198
        },
        "outputId": "0b14850d-11ce-4675-8b48-93d608dd7aa6"
      },
      "source": [
        "subdata_fraud.head()"
      ],
      "execution_count": 15,
      "outputs": [
        {
          "output_type": "execute_result",
          "data": {
            "text/html": [
              "<div>\n",
              "<style scoped>\n",
              "    .dataframe tbody tr th:only-of-type {\n",
              "        vertical-align: middle;\n",
              "    }\n",
              "\n",
              "    .dataframe tbody tr th {\n",
              "        vertical-align: top;\n",
              "    }\n",
              "\n",
              "    .dataframe thead th {\n",
              "        text-align: right;\n",
              "    }\n",
              "</style>\n",
              "<table border=\"1\" class=\"dataframe\">\n",
              "  <thead>\n",
              "    <tr style=\"text-align: right;\">\n",
              "      <th></th>\n",
              "      <th>Time</th>\n",
              "      <th>Amount</th>\n",
              "      <th>Class</th>\n",
              "    </tr>\n",
              "  </thead>\n",
              "  <tbody>\n",
              "    <tr>\n",
              "      <th>541</th>\n",
              "      <td>406.0</td>\n",
              "      <td>0.00</td>\n",
              "      <td>fraud</td>\n",
              "    </tr>\n",
              "    <tr>\n",
              "      <th>623</th>\n",
              "      <td>472.0</td>\n",
              "      <td>529.00</td>\n",
              "      <td>fraud</td>\n",
              "    </tr>\n",
              "    <tr>\n",
              "      <th>4920</th>\n",
              "      <td>4462.0</td>\n",
              "      <td>239.93</td>\n",
              "      <td>fraud</td>\n",
              "    </tr>\n",
              "    <tr>\n",
              "      <th>6108</th>\n",
              "      <td>6986.0</td>\n",
              "      <td>59.00</td>\n",
              "      <td>fraud</td>\n",
              "    </tr>\n",
              "    <tr>\n",
              "      <th>6329</th>\n",
              "      <td>7519.0</td>\n",
              "      <td>1.00</td>\n",
              "      <td>fraud</td>\n",
              "    </tr>\n",
              "  </tbody>\n",
              "</table>\n",
              "</div>"
            ],
            "text/plain": [
              "        Time  Amount  Class\n",
              "541    406.0    0.00  fraud\n",
              "623    472.0  529.00  fraud\n",
              "4920  4462.0  239.93  fraud\n",
              "6108  6986.0   59.00  fraud\n",
              "6329  7519.0    1.00  fraud"
            ]
          },
          "metadata": {
            "tags": []
          },
          "execution_count": 15
        }
      ]
    },
    {
      "cell_type": "code",
      "metadata": {
        "collapsed": true,
        "trusted": true,
        "_uuid": "a131a51cf33971cd3ba568fa30153682314e785f",
        "id": "4fIRYiWFxNjn"
      },
      "source": [
        "subdata_legitimate=subdata[subdata['Class']=='legitimate']"
      ],
      "execution_count": 16,
      "outputs": []
    },
    {
      "cell_type": "code",
      "metadata": {
        "trusted": true,
        "_uuid": "04a5f969d362745ee9c0f443a0c5cbe802ef6702",
        "collapsed": true,
        "id": "R1C5J6-txNjn",
        "colab": {
          "base_uri": "https://localhost:8080/"
        },
        "outputId": "f1658ecc-7ee4-4ddb-ecf9-78ec98910a04"
      },
      "source": [
        "subdata_legitimate.shape"
      ],
      "execution_count": 17,
      "outputs": [
        {
          "output_type": "execute_result",
          "data": {
            "text/plain": [
              "(284315, 3)"
            ]
          },
          "metadata": {
            "tags": []
          },
          "execution_count": 17
        }
      ]
    },
    {
      "cell_type": "code",
      "metadata": {
        "trusted": true,
        "_uuid": "f07a7e1781c45e8ff5991696885f7477fd429108",
        "collapsed": true,
        "id": "HaKNo3-qxNjo",
        "colab": {
          "base_uri": "https://localhost:8080/",
          "height": 198
        },
        "outputId": "052b77e9-e716-4864-d9e2-938eca7bfa8b"
      },
      "source": [
        "subdata_legitimate.head()"
      ],
      "execution_count": 18,
      "outputs": [
        {
          "output_type": "execute_result",
          "data": {
            "text/html": [
              "<div>\n",
              "<style scoped>\n",
              "    .dataframe tbody tr th:only-of-type {\n",
              "        vertical-align: middle;\n",
              "    }\n",
              "\n",
              "    .dataframe tbody tr th {\n",
              "        vertical-align: top;\n",
              "    }\n",
              "\n",
              "    .dataframe thead th {\n",
              "        text-align: right;\n",
              "    }\n",
              "</style>\n",
              "<table border=\"1\" class=\"dataframe\">\n",
              "  <thead>\n",
              "    <tr style=\"text-align: right;\">\n",
              "      <th></th>\n",
              "      <th>Time</th>\n",
              "      <th>Amount</th>\n",
              "      <th>Class</th>\n",
              "    </tr>\n",
              "  </thead>\n",
              "  <tbody>\n",
              "    <tr>\n",
              "      <th>0</th>\n",
              "      <td>0.0</td>\n",
              "      <td>149.62</td>\n",
              "      <td>legitimate</td>\n",
              "    </tr>\n",
              "    <tr>\n",
              "      <th>1</th>\n",
              "      <td>0.0</td>\n",
              "      <td>2.69</td>\n",
              "      <td>legitimate</td>\n",
              "    </tr>\n",
              "    <tr>\n",
              "      <th>2</th>\n",
              "      <td>1.0</td>\n",
              "      <td>378.66</td>\n",
              "      <td>legitimate</td>\n",
              "    </tr>\n",
              "    <tr>\n",
              "      <th>3</th>\n",
              "      <td>1.0</td>\n",
              "      <td>123.50</td>\n",
              "      <td>legitimate</td>\n",
              "    </tr>\n",
              "    <tr>\n",
              "      <th>4</th>\n",
              "      <td>2.0</td>\n",
              "      <td>69.99</td>\n",
              "      <td>legitimate</td>\n",
              "    </tr>\n",
              "  </tbody>\n",
              "</table>\n",
              "</div>"
            ],
            "text/plain": [
              "   Time  Amount       Class\n",
              "0   0.0  149.62  legitimate\n",
              "1   0.0    2.69  legitimate\n",
              "2   1.0  378.66  legitimate\n",
              "3   1.0  123.50  legitimate\n",
              "4   2.0   69.99  legitimate"
            ]
          },
          "metadata": {
            "tags": []
          },
          "execution_count": 18
        }
      ]
    },
    {
      "cell_type": "markdown",
      "metadata": {
        "_uuid": "9f804feca8fe0c061ae77a9e8f776e3c3f19a185",
        "id": "Cl_WkIuHxNjo"
      },
      "source": [
        "### Univariate Analysis on feature 'Amount'"
      ]
    },
    {
      "cell_type": "markdown",
      "metadata": {
        "_uuid": "b78edc894d959bf7acdef95de758b15951bd333f",
        "id": "oHztlyaNxNjo"
      },
      "source": [
        "### Plotting **CDF(Cumulative Distributive Function)** and **PDF(Probability Density Function)** to analyze more about the data"
      ]
    },
    {
      "cell_type": "code",
      "metadata": {
        "collapsed": true,
        "trusted": true,
        "_uuid": "e147dd3fe78a271084d80accd95075834c8462a0",
        "id": "kESqGBFQxNjo",
        "colab": {
          "base_uri": "https://localhost:8080/",
          "height": 312
        },
        "outputId": "c53517e0-7cf1-4592-9a80-e14a79a318a7"
      },
      "source": [
        "count,bin_edges = np.histogram(subdata_legitimate['Amount'],bins = 20,density = True)\n",
        "PDF = count/sum(count)\n",
        "#print(\"PDF : \",PDF)\n",
        "#print(\"\\nbin edges : \" , bin_edges)\n",
        "#computing CDF with help of PDF \n",
        "CDF = np.cumsum(PDF)\n",
        "#plotting PDF,CDF\n",
        "plt.plot(bin_edges[1:],PDF,label = \"PDF ---- legitimate\")\n",
        "plt.plot(bin_edges[1:],CDF,label = \"CDF ---- legitimate\")\n",
        "\n",
        "count,bin_edges = np.histogram(subdata_fraud['Amount'],bins = 20,density = True)\n",
        "PDF = count/sum(count)\n",
        "#computing CDF with help of PDF \n",
        "CDF = np.cumsum(PDF)\n",
        "#plotting PDF,CDF\n",
        "plt.plot(bin_edges[1:],PDF,label = \"PDF ---- Fraud\")\n",
        "plt.plot(bin_edges[1:],CDF,label = \"CDF ---- Fraud\")\n",
        "\n",
        "plt.xlabel(\"Amount\")\n",
        "plt.ylabel(\"Probability\")\n",
        "plt.title(\"Plot of PDF and CDF for feature 'Amount' \")\n",
        "plt.legend()\n",
        "\n"
      ],
      "execution_count": 19,
      "outputs": [
        {
          "output_type": "execute_result",
          "data": {
            "text/plain": [
              "<matplotlib.legend.Legend at 0x7faa08a0cb90>"
            ]
          },
          "metadata": {
            "tags": []
          },
          "execution_count": 19
        },
        {
          "output_type": "display_data",
          "data": {
            "image/png": "[encoded data removed]",
            "text/plain": [
              "<Figure size 432x288 with 1 Axes>"
            ]
          },
          "metadata": {
            "tags": [],
            "needs_background": "light"
          }
        }
      ]
    },
    {
      "cell_type": "markdown",
      "metadata": {
        "_uuid": "978e8edb421737795be2e518ff7fa9664bbe668f",
        "id": "gEt5WSSfxNjp"
      },
      "source": [
        "**Observation and Conclusion **\n",
        "\n",
        "1.From the above plot we can observe that there is slight overlap between CDF's of both classes\n",
        "\n",
        "2.But , we can make an observation that more than **95% of fraud transactions** have **purchase Amount below 2500** approximately.\n",
        "\n",
        "3.From that we can conclude that if the amount of purchase is below 2500 it is more likely to be a fraud transaction else can be classified as a legitimate "
      ]
    },
    {
      "cell_type": "markdown",
      "metadata": {
        "_uuid": "5df0f3eef0e91077da1880aede644af162ce79e8",
        "id": "9STLxIjnxNjp"
      },
      "source": [
        "### Box plot and whiskers"
      ]
    },
    {
      "cell_type": "code",
      "metadata": {
        "trusted": true,
        "_uuid": "e8e2c5467959ed5aeed565539063a9238caaec4c",
        "collapsed": true,
        "id": "Onv2yz3PxNjp",
        "colab": {
          "base_uri": "https://localhost:8080/",
          "height": 296
        },
        "outputId": "0121bddc-ad92-4ad9-b602-70a9717e2171"
      },
      "source": [
        "sns.boxplot(data=subdata, x='Class', y='Amount')"
      ],
      "execution_count": 20,
      "outputs": [
        {
          "output_type": "execute_result",
          "data": {
            "text/plain": [
              "<matplotlib.axes._subplots.AxesSubplot at 0x7faa089b2910>"
            ]
          },
          "metadata": {
            "tags": []
          },
          "execution_count": 20
        },
        {
          "output_type": "display_data",
          "data": {
            "image/png": "[encoded data removed]",
            "text/plain": [
              "<Figure size 432x288 with 1 Axes>"
            ]
          },
          "metadata": {
            "tags": [],
            "needs_background": "light"
          }
        }
      ]
    },
    {
      "cell_type": "markdown",
      "metadata": {
        "_uuid": "f9b5c609cb667884b1da538b269152152489b540",
        "id": "9ge6uuTOxNjq"
      },
      "source": [
        "### Violin plot"
      ]
    },
    {
      "cell_type": "code",
      "metadata": {
        "trusted": true,
        "_uuid": "83323a23452f3fc06c93df4b712ba30b0434054a",
        "id": "79axMFpTxNjq",
        "colab": {
          "base_uri": "https://localhost:8080/",
          "height": 296
        },
        "outputId": "83d9f865-4369-4dc7-8a47-3cee11fe7b4b"
      },
      "source": [
        "sns.violinplot(data=subdata, x='Class', y='Amount')"
      ],
      "execution_count": 21,
      "outputs": [
        {
          "output_type": "execute_result",
          "data": {
            "text/plain": [
              "<matplotlib.axes._subplots.AxesSubplot at 0x7faa088fb250>"
            ]
          },
          "metadata": {
            "tags": []
          },
          "execution_count": 21
        },
        {
          "output_type": "display_data",
          "data": {
            "image/png": "[encoded data removed]",
            "text/plain": [
              "<Figure size 432x288 with 1 Axes>"
            ]
          },
          "metadata": {
            "tags": [],
            "needs_background": "light"
          }
        }
      ]
    },
    {
      "cell_type": "markdown",
      "metadata": {
        "_uuid": "831e1e42176d61c2ef509c046b1063176e6df1de",
        "id": "8PAzqjDkxNjq"
      },
      "source": [
        "**Observation:**\n",
        "    \n",
        "These both plots(Box plots as well as Violin plots) are difficult to analyze when compared to PDF and CDF as the data is imbalanced,huge dataset and also scale is not so clear."
      ]
    },
    {
      "cell_type": "markdown",
      "metadata": {
        "_uuid": "295586b667820c158e1be510cde2f3f888e7a0d7",
        "id": "m6dzoTjkxNjq"
      },
      "source": [
        "## Task 2 : Finding the least values of similarities \n",
        "Task 2: Sample (S) 100 transactions from whole data (D), for every transaction in S, print 10 transactions from D which have least values of 'similarity'\n",
        "\n"
      ]
    },
    {
      "cell_type": "code",
      "metadata": {
        "collapsed": true,
        "trusted": true,
        "_uuid": "2f57fbe58c5e138571417520151668b6e9fd2371",
        "id": "Dj5B7FWOxNjq"
      },
      "source": [
        "#creating a sample of 100 values from Data , \n",
        "#sample will not have 'Class' feature in it because for comparison we don't need 'Class' feature.\n",
        "data_sample = data[data.columns[:-1]].sample(100)"
      ],
      "execution_count": 22,
      "outputs": []
    },
    {
      "cell_type": "code",
      "metadata": {
        "trusted": true,
        "_uuid": "06ab35c1cb52fdda8ac3e0ab9fc4f4dc1b813e88",
        "collapsed": true,
        "id": "yjAUJ1W3xNjr",
        "colab": {
          "base_uri": "https://localhost:8080/"
        },
        "outputId": "d954331a-02d1-46cf-822e-e753dd843f96"
      },
      "source": [
        "#indexes of all the samples (100 samples)\n",
        "data_sample.index"
      ],
      "execution_count": 23,
      "outputs": [
        {
          "output_type": "execute_result",
          "data": {
            "text/plain": [
              "Int64Index([ 82925, 271616, 278250,   9933,   2992, 207092, 127541, 277738,\n",
              "            149275, 242913, 267316, 249147, 256801,  20072, 200853,  72291,\n",
              "            159062,  65408, 215582, 209770, 165521, 111696, 273643, 150531,\n",
              "            235503,  95538, 283054, 251629, 216325, 134667,  26969,  63226,\n",
              "            108140,  53883, 267017,   5903, 140138, 122977,  18326,  83861,\n",
              "            191322,  71748, 118211,   5467, 234588, 284028, 195105, 131050,\n",
              "               272, 129530, 170162, 160538, 104370,  42848,  71680,  33970,\n",
              "            243213,  80379, 256810,  18502, 238032, 123630, 180552, 147851,\n",
              "             23449, 185366, 168646, 194126, 217226, 278181, 269908,  53501,\n",
              "             80112, 140256,  46358,  37541, 266300, 217989, 158807, 213090,\n",
              "             20939,  37395,  42609, 149702, 123513,  18874, 132789,  95609,\n",
              "            123235, 183442, 144669,  76644,  29695, 121507, 167993, 219605,\n",
              "              8163,  32847, 148819, 109696],\n",
              "           dtype='int64')"
            ]
          },
          "metadata": {
            "tags": []
          },
          "execution_count": 23
        }
      ]
    },
    {
      "cell_type": "code",
      "metadata": {
        "trusted": true,
        "_uuid": "0b972089b3091a40f675805c636a57f5b603a4ea",
        "collapsed": true,
        "id": "nZFJxHBlxNjr",
        "colab": {
          "base_uri": "https://localhost:8080/",
          "height": 218
        },
        "outputId": "e49a6707-160b-45d2-cf50-cd2a9745b104"
      },
      "source": [
        "data_sample.head()"
      ],
      "execution_count": 24,
      "outputs": [
        {
          "output_type": "execute_result",
          "data": {
            "text/html": [
              "<div>\n",
              "<style scoped>\n",
              "    .dataframe tbody tr th:only-of-type {\n",
              "        vertical-align: middle;\n",
              "    }\n",
              "\n",
              "    .dataframe tbody tr th {\n",
              "        vertical-align: top;\n",
              "    }\n",
              "\n",
              "    .dataframe thead th {\n",
              "        text-align: right;\n",
              "    }\n",
              "</style>\n",
              "<table border=\"1\" class=\"dataframe\">\n",
              "  <thead>\n",
              "    <tr style=\"text-align: right;\">\n",
              "      <th></th>\n",
              "      <th>Time</th>\n",
              "      <th>V1</th>\n",
              "      <th>V2</th>\n",
              "      <th>V3</th>\n",
              "      <th>V4</th>\n",
              "      <th>V5</th>\n",
              "      <th>V6</th>\n",
              "      <th>V7</th>\n",
              "      <th>V8</th>\n",
              "      <th>V9</th>\n",
              "      <th>V10</th>\n",
              "      <th>V11</th>\n",
              "      <th>V12</th>\n",
              "      <th>V13</th>\n",
              "      <th>V14</th>\n",
              "      <th>V15</th>\n",
              "      <th>V16</th>\n",
              "      <th>V17</th>\n",
              "      <th>V18</th>\n",
              "      <th>V19</th>\n",
              "      <th>V20</th>\n",
              "      <th>V21</th>\n",
              "      <th>V22</th>\n",
              "      <th>V23</th>\n",
              "      <th>V24</th>\n",
              "      <th>V25</th>\n",
              "      <th>V26</th>\n",
              "      <th>V27</th>\n",
              "      <th>V28</th>\n",
              "      <th>Amount</th>\n",
              "    </tr>\n",
              "  </thead>\n",
              "  <tbody>\n",
              "    <tr>\n",
              "      <th>82925</th>\n",
              "      <td>59613.0</td>\n",
              "      <td>0.387916</td>\n",
              "      <td>0.971124</td>\n",
              "      <td>0.480428</td>\n",
              "      <td>0.944623</td>\n",
              "      <td>0.520523</td>\n",
              "      <td>-1.091987</td>\n",
              "      <td>1.202446</td>\n",
              "      <td>-0.525499</td>\n",
              "      <td>-0.477579</td>\n",
              "      <td>0.226071</td>\n",
              "      <td>-0.485289</td>\n",
              "      <td>-0.223044</td>\n",
              "      <td>-0.214061</td>\n",
              "      <td>0.352901</td>\n",
              "      <td>0.705640</td>\n",
              "      <td>-0.625021</td>\n",
              "      <td>-0.238061</td>\n",
              "      <td>-0.122086</td>\n",
              "      <td>0.420563</td>\n",
              "      <td>-0.038326</td>\n",
              "      <td>0.127865</td>\n",
              "      <td>0.643674</td>\n",
              "      <td>-0.036919</td>\n",
              "      <td>0.400878</td>\n",
              "      <td>-0.808783</td>\n",
              "      <td>-0.461166</td>\n",
              "      <td>0.032823</td>\n",
              "      <td>-0.054781</td>\n",
              "      <td>0.94</td>\n",
              "    </tr>\n",
              "    <tr>\n",
              "      <th>271616</th>\n",
              "      <td>164659.0</td>\n",
              "      <td>-1.159848</td>\n",
              "      <td>-0.463922</td>\n",
              "      <td>1.973538</td>\n",
              "      <td>-3.067531</td>\n",
              "      <td>-1.440309</td>\n",
              "      <td>0.033759</td>\n",
              "      <td>-1.211990</td>\n",
              "      <td>0.771673</td>\n",
              "      <td>-1.929351</td>\n",
              "      <td>0.479446</td>\n",
              "      <td>-0.031598</td>\n",
              "      <td>-0.615015</td>\n",
              "      <td>0.132406</td>\n",
              "      <td>-0.477186</td>\n",
              "      <td>-0.912909</td>\n",
              "      <td>0.606679</td>\n",
              "      <td>-0.160138</td>\n",
              "      <td>1.144221</td>\n",
              "      <td>-0.604108</td>\n",
              "      <td>-0.231722</td>\n",
              "      <td>-0.058773</td>\n",
              "      <td>0.059482</td>\n",
              "      <td>-0.255064</td>\n",
              "      <td>-0.383271</td>\n",
              "      <td>0.407568</td>\n",
              "      <td>-0.171358</td>\n",
              "      <td>0.185302</td>\n",
              "      <td>0.021179</td>\n",
              "      <td>25.00</td>\n",
              "    </tr>\n",
              "    <tr>\n",
              "      <th>278250</th>\n",
              "      <td>168117.0</td>\n",
              "      <td>1.999118</td>\n",
              "      <td>-0.448675</td>\n",
              "      <td>-0.483436</td>\n",
              "      <td>0.375008</td>\n",
              "      <td>-0.499915</td>\n",
              "      <td>-0.092254</td>\n",
              "      <td>-0.685708</td>\n",
              "      <td>0.066310</td>\n",
              "      <td>1.529471</td>\n",
              "      <td>-0.161275</td>\n",
              "      <td>-1.255211</td>\n",
              "      <td>0.170617</td>\n",
              "      <td>-0.214934</td>\n",
              "      <td>-0.148107</td>\n",
              "      <td>0.575593</td>\n",
              "      <td>0.178322</td>\n",
              "      <td>-0.574205</td>\n",
              "      <td>0.346469</td>\n",
              "      <td>-0.141897</td>\n",
              "      <td>-0.209188</td>\n",
              "      <td>0.170247</td>\n",
              "      <td>0.692285</td>\n",
              "      <td>0.134252</td>\n",
              "      <td>0.589789</td>\n",
              "      <td>-0.063897</td>\n",
              "      <td>-0.235362</td>\n",
              "      <td>0.033977</td>\n",
              "      <td>-0.032111</td>\n",
              "      <td>9.99</td>\n",
              "    </tr>\n",
              "    <tr>\n",
              "      <th>9933</th>\n",
              "      <td>14726.0</td>\n",
              "      <td>-5.756425</td>\n",
              "      <td>-3.065102</td>\n",
              "      <td>-1.016164</td>\n",
              "      <td>-0.255673</td>\n",
              "      <td>0.639068</td>\n",
              "      <td>-1.551309</td>\n",
              "      <td>0.226944</td>\n",
              "      <td>0.312911</td>\n",
              "      <td>1.068128</td>\n",
              "      <td>-1.868489</td>\n",
              "      <td>-0.609534</td>\n",
              "      <td>-1.560171</td>\n",
              "      <td>3.083898</td>\n",
              "      <td>1.869161</td>\n",
              "      <td>-1.450861</td>\n",
              "      <td>1.051886</td>\n",
              "      <td>0.190533</td>\n",
              "      <td>-0.400656</td>\n",
              "      <td>-1.021824</td>\n",
              "      <td>-0.981447</td>\n",
              "      <td>-0.371435</td>\n",
              "      <td>-0.884542</td>\n",
              "      <td>-2.494664</td>\n",
              "      <td>-0.172601</td>\n",
              "      <td>0.358296</td>\n",
              "      <td>0.779954</td>\n",
              "      <td>-0.247744</td>\n",
              "      <td>-1.426966</td>\n",
              "      <td>255.00</td>\n",
              "    </tr>\n",
              "    <tr>\n",
              "      <th>2992</th>\n",
              "      <td>2543.0</td>\n",
              "      <td>1.230490</td>\n",
              "      <td>0.359178</td>\n",
              "      <td>0.441106</td>\n",
              "      <td>0.771126</td>\n",
              "      <td>-0.531132</td>\n",
              "      <td>-1.258978</td>\n",
              "      <td>0.096393</td>\n",
              "      <td>-0.225682</td>\n",
              "      <td>0.008439</td>\n",
              "      <td>-0.284138</td>\n",
              "      <td>0.227068</td>\n",
              "      <td>0.348011</td>\n",
              "      <td>0.179357</td>\n",
              "      <td>-0.269662</td>\n",
              "      <td>1.069186</td>\n",
              "      <td>0.383224</td>\n",
              "      <td>0.112633</td>\n",
              "      <td>-0.406442</td>\n",
              "      <td>-0.321748</td>\n",
              "      <td>-0.087636</td>\n",
              "      <td>-0.265167</td>\n",
              "      <td>-0.769863</td>\n",
              "      <td>0.168197</td>\n",
              "      <td>0.671853</td>\n",
              "      <td>0.172416</td>\n",
              "      <td>0.074017</td>\n",
              "      <td>-0.022859</td>\n",
              "      <td>0.034407</td>\n",
              "      <td>3.27</td>\n",
              "    </tr>\n",
              "  </tbody>\n",
              "</table>\n",
              "</div>"
            ],
            "text/plain": [
              "            Time        V1        V2  ...       V27       V28  Amount\n",
              "82925    59613.0  0.387916  0.971124  ...  0.032823 -0.054781    0.94\n",
              "271616  164659.0 -1.159848 -0.463922  ...  0.185302  0.021179   25.00\n",
              "278250  168117.0  1.999118 -0.448675  ...  0.033977 -0.032111    9.99\n",
              "9933     14726.0 -5.756425 -3.065102  ... -0.247744 -1.426966  255.00\n",
              "2992      2543.0  1.230490  0.359178  ... -0.022859  0.034407    3.27\n",
              "\n",
              "[5 rows x 30 columns]"
            ]
          },
          "metadata": {
            "tags": []
          },
          "execution_count": 24
        }
      ]
    },
    {
      "cell_type": "code",
      "metadata": {
        "collapsed": true,
        "trusted": true,
        "_uuid": "01bfd2402fce003e0a762b3f1ae5b80b09780a0e",
        "id": "py_cplkNxNjr"
      },
      "source": [
        "#removing class for credit_card_data also.\n",
        "data_without_label = data[data.columns[:-1]]"
      ],
      "execution_count": 25,
      "outputs": []
    },
    {
      "cell_type": "code",
      "metadata": {
        "trusted": true,
        "_uuid": "774a939f2ffe585414524607cbdfbeeba8bcb0a2",
        "collapsed": true,
        "id": "B-heYxsMxNjr",
        "colab": {
          "base_uri": "https://localhost:8080/",
          "height": 218
        },
        "outputId": "3d842acb-5847-4d26-e5e8-41ab2e257f8c"
      },
      "source": [
        "data_without_label.head()"
      ],
      "execution_count": 26,
      "outputs": [
        {
          "output_type": "execute_result",
          "data": {
            "text/html": [
              "<div>\n",
              "<style scoped>\n",
              "    .dataframe tbody tr th:only-of-type {\n",
              "        vertical-align: middle;\n",
              "    }\n",
              "\n",
              "    .dataframe tbody tr th {\n",
              "        vertical-align: top;\n",
              "    }\n",
              "\n",
              "    .dataframe thead th {\n",
              "        text-align: right;\n",
              "    }\n",
              "</style>\n",
              "<table border=\"1\" class=\"dataframe\">\n",
              "  <thead>\n",
              "    <tr style=\"text-align: right;\">\n",
              "      <th></th>\n",
              "      <th>Time</th>\n",
              "      <th>V1</th>\n",
              "      <th>V2</th>\n",
              "      <th>V3</th>\n",
              "      <th>V4</th>\n",
              "      <th>V5</th>\n",
              "      <th>V6</th>\n",
              "      <th>V7</th>\n",
              "      <th>V8</th>\n",
              "      <th>V9</th>\n",
              "      <th>V10</th>\n",
              "      <th>V11</th>\n",
              "      <th>V12</th>\n",
              "      <th>V13</th>\n",
              "      <th>V14</th>\n",
              "      <th>V15</th>\n",
              "      <th>V16</th>\n",
              "      <th>V17</th>\n",
              "      <th>V18</th>\n",
              "      <th>V19</th>\n",
              "      <th>V20</th>\n",
              "      <th>V21</th>\n",
              "      <th>V22</th>\n",
              "      <th>V23</th>\n",
              "      <th>V24</th>\n",
              "      <th>V25</th>\n",
              "      <th>V26</th>\n",
              "      <th>V27</th>\n",
              "      <th>V28</th>\n",
              "      <th>Amount</th>\n",
              "    </tr>\n",
              "  </thead>\n",
              "  <tbody>\n",
              "    <tr>\n",
              "      <th>0</th>\n",
              "      <td>0.0</td>\n",
              "      <td>-1.359807</td>\n",
              "      <td>-0.072781</td>\n",
              "      <td>2.536347</td>\n",
              "      <td>1.378155</td>\n",
              "      <td>-0.338321</td>\n",
              "      <td>0.462388</td>\n",
              "      <td>0.239599</td>\n",
              "      <td>0.098698</td>\n",
              "      <td>0.363787</td>\n",
              "      <td>0.090794</td>\n",
              "      <td>-0.551600</td>\n",
              "      <td>-0.617801</td>\n",
              "      <td>-0.991390</td>\n",
              "      <td>-0.311169</td>\n",
              "      <td>1.468177</td>\n",
              "      <td>-0.470401</td>\n",
              "      <td>0.207971</td>\n",
              "      <td>0.025791</td>\n",
              "      <td>0.403993</td>\n",
              "      <td>0.251412</td>\n",
              "      <td>-0.018307</td>\n",
              "      <td>0.277838</td>\n",
              "      <td>-0.110474</td>\n",
              "      <td>0.066928</td>\n",
              "      <td>0.128539</td>\n",
              "      <td>-0.189115</td>\n",
              "      <td>0.133558</td>\n",
              "      <td>-0.021053</td>\n",
              "      <td>149.62</td>\n",
              "    </tr>\n",
              "    <tr>\n",
              "      <th>1</th>\n",
              "      <td>0.0</td>\n",
              "      <td>1.191857</td>\n",
              "      <td>0.266151</td>\n",
              "      <td>0.166480</td>\n",
              "      <td>0.448154</td>\n",
              "      <td>0.060018</td>\n",
              "      <td>-0.082361</td>\n",
              "      <td>-0.078803</td>\n",
              "      <td>0.085102</td>\n",
              "      <td>-0.255425</td>\n",
              "      <td>-0.166974</td>\n",
              "      <td>1.612727</td>\n",
              "      <td>1.065235</td>\n",
              "      <td>0.489095</td>\n",
              "      <td>-0.143772</td>\n",
              "      <td>0.635558</td>\n",
              "      <td>0.463917</td>\n",
              "      <td>-0.114805</td>\n",
              "      <td>-0.183361</td>\n",
              "      <td>-0.145783</td>\n",
              "      <td>-0.069083</td>\n",
              "      <td>-0.225775</td>\n",
              "      <td>-0.638672</td>\n",
              "      <td>0.101288</td>\n",
              "      <td>-0.339846</td>\n",
              "      <td>0.167170</td>\n",
              "      <td>0.125895</td>\n",
              "      <td>-0.008983</td>\n",
              "      <td>0.014724</td>\n",
              "      <td>2.69</td>\n",
              "    </tr>\n",
              "    <tr>\n",
              "      <th>2</th>\n",
              "      <td>1.0</td>\n",
              "      <td>-1.358354</td>\n",
              "      <td>-1.340163</td>\n",
              "      <td>1.773209</td>\n",
              "      <td>0.379780</td>\n",
              "      <td>-0.503198</td>\n",
              "      <td>1.800499</td>\n",
              "      <td>0.791461</td>\n",
              "      <td>0.247676</td>\n",
              "      <td>-1.514654</td>\n",
              "      <td>0.207643</td>\n",
              "      <td>0.624501</td>\n",
              "      <td>0.066084</td>\n",
              "      <td>0.717293</td>\n",
              "      <td>-0.165946</td>\n",
              "      <td>2.345865</td>\n",
              "      <td>-2.890083</td>\n",
              "      <td>1.109969</td>\n",
              "      <td>-0.121359</td>\n",
              "      <td>-2.261857</td>\n",
              "      <td>0.524980</td>\n",
              "      <td>0.247998</td>\n",
              "      <td>0.771679</td>\n",
              "      <td>0.909412</td>\n",
              "      <td>-0.689281</td>\n",
              "      <td>-0.327642</td>\n",
              "      <td>-0.139097</td>\n",
              "      <td>-0.055353</td>\n",
              "      <td>-0.059752</td>\n",
              "      <td>378.66</td>\n",
              "    </tr>\n",
              "    <tr>\n",
              "      <th>3</th>\n",
              "      <td>1.0</td>\n",
              "      <td>-0.966272</td>\n",
              "      <td>-0.185226</td>\n",
              "      <td>1.792993</td>\n",
              "      <td>-0.863291</td>\n",
              "      <td>-0.010309</td>\n",
              "      <td>1.247203</td>\n",
              "      <td>0.237609</td>\n",
              "      <td>0.377436</td>\n",
              "      <td>-1.387024</td>\n",
              "      <td>-0.054952</td>\n",
              "      <td>-0.226487</td>\n",
              "      <td>0.178228</td>\n",
              "      <td>0.507757</td>\n",
              "      <td>-0.287924</td>\n",
              "      <td>-0.631418</td>\n",
              "      <td>-1.059647</td>\n",
              "      <td>-0.684093</td>\n",
              "      <td>1.965775</td>\n",
              "      <td>-1.232622</td>\n",
              "      <td>-0.208038</td>\n",
              "      <td>-0.108300</td>\n",
              "      <td>0.005274</td>\n",
              "      <td>-0.190321</td>\n",
              "      <td>-1.175575</td>\n",
              "      <td>0.647376</td>\n",
              "      <td>-0.221929</td>\n",
              "      <td>0.062723</td>\n",
              "      <td>0.061458</td>\n",
              "      <td>123.50</td>\n",
              "    </tr>\n",
              "    <tr>\n",
              "      <th>4</th>\n",
              "      <td>2.0</td>\n",
              "      <td>-1.158233</td>\n",
              "      <td>0.877737</td>\n",
              "      <td>1.548718</td>\n",
              "      <td>0.403034</td>\n",
              "      <td>-0.407193</td>\n",
              "      <td>0.095921</td>\n",
              "      <td>0.592941</td>\n",
              "      <td>-0.270533</td>\n",
              "      <td>0.817739</td>\n",
              "      <td>0.753074</td>\n",
              "      <td>-0.822843</td>\n",
              "      <td>0.538196</td>\n",
              "      <td>1.345852</td>\n",
              "      <td>-1.119670</td>\n",
              "      <td>0.175121</td>\n",
              "      <td>-0.451449</td>\n",
              "      <td>-0.237033</td>\n",
              "      <td>-0.038195</td>\n",
              "      <td>0.803487</td>\n",
              "      <td>0.408542</td>\n",
              "      <td>-0.009431</td>\n",
              "      <td>0.798278</td>\n",
              "      <td>-0.137458</td>\n",
              "      <td>0.141267</td>\n",
              "      <td>-0.206010</td>\n",
              "      <td>0.502292</td>\n",
              "      <td>0.219422</td>\n",
              "      <td>0.215153</td>\n",
              "      <td>69.99</td>\n",
              "    </tr>\n",
              "  </tbody>\n",
              "</table>\n",
              "</div>"
            ],
            "text/plain": [
              "   Time        V1        V2        V3  ...       V26       V27       V28  Amount\n",
              "0   0.0 -1.359807 -0.072781  2.536347  ... -0.189115  0.133558 -0.021053  149.62\n",
              "1   0.0  1.191857  0.266151  0.166480  ...  0.125895 -0.008983  0.014724    2.69\n",
              "2   1.0 -1.358354 -1.340163  1.773209  ... -0.139097 -0.055353 -0.059752  378.66\n",
              "3   1.0 -0.966272 -0.185226  1.792993  ... -0.221929  0.062723  0.061458  123.50\n",
              "4   2.0 -1.158233  0.877737  1.548718  ...  0.502292  0.219422  0.215153   69.99\n",
              "\n",
              "[5 rows x 30 columns]"
            ]
          },
          "metadata": {
            "tags": []
          },
          "execution_count": 26
        }
      ]
    },
    {
      "cell_type": "markdown",
      "metadata": {
        "_uuid": "1449dc3ccec17fdd3cc3b467f2c9e1b8297076c4",
        "id": "u4gb_on8xNjr"
      },
      "source": [
        "#### Create a function called similarity to check for the similarity and return least 10 transactions:\n"
      ]
    },
    {
      "cell_type": "code",
      "metadata": {
        "collapsed": true,
        "trusted": true,
        "_uuid": "966dd6e4e112a52fe510169f5ff5baa2490eb0ca",
        "id": "Uwso9PGHxNjs"
      },
      "source": [
        "def similarity(sample, whole_data): \n",
        "    \"\"\"Returns a dataframe of top 10 least values of similarity\n",
        "    sample -- pass the one of the index of sample and\n",
        "    whole_data -- entire dataframe , as we have to compare each row in dataframe with sample.\"\"\"\n",
        "    index_value = []\n",
        "    Class = []\n",
        "    similarity_list = []\n",
        "    for i in whole_data.index:\n",
        "        similarity_value = np.arccos(np.dot(data_sample.loc[sample],data_without_label.loc[i])/(np.linalg.norm(data_sample.loc[sample])*np.linalg.norm(data_without_label.loc[i])))\n",
        "        similarity_list.append(similarity_value)\n",
        "        Class.append(data['Class'][i])\n",
        "        index_value.append(i)\n",
        "    similarity_df = pd.DataFrame({'index_value':index_value,'similarity_value':similarity_list,'Class':Class})\n",
        "    print(f\"sample index value is {sample} \")\n",
        "    return similarity_df.sort_values('similarity_value').head(10)\n",
        "    \n",
        "    \n",
        "#sort_values -- will sort the dataframe based on the column given in the function of sort_values\n",
        "\n",
        "#np.dot -- built-in function of numpy, to calculate dot product between two vectors\n",
        "\n",
        "# .loc[] --- is used to return a row based on the value provided in the arguments (passing the index in that arguments)\n",
        "\n",
        "#linalg.norm -- calculates the magnitude of the vector\n",
        "#The length of the vector is referred to as the vector norm or the vector’s magnitude.\n",
        "#The length of a vector is a nonnegative number that describes the extent of the vector in space, \n",
        "#and is sometimes referred to as the vector’s magnitude or the norm.\n",
        "    "
      ],
      "execution_count": 27,
      "outputs": []
    },
    {
      "cell_type": "code",
      "metadata": {
        "trusted": true,
        "collapsed": true,
        "_uuid": "7e36883c0de50678864a0239b621e486aaf4289f",
        "id": "uwYZiD3hxNjs"
      },
      "source": [
        ""
      ],
      "execution_count": 27,
      "outputs": []
    },
    {
      "cell_type": "code",
      "metadata": {
        "trusted": false,
        "collapsed": true,
        "_uuid": "1bcc8ad75252f70c2aae29f6b150037aff4cebe7",
        "id": "iiIZY3KrxNjs",
        "colab": {
          "base_uri": "https://localhost:8080/"
        },
        "outputId": "5454f1a6-8d65-403a-8b3a-c251440668c1"
      },
      "source": [
        "sample_index = int(input(\"Enter the one of the index value from your credit_card_data_sample : \"))"
      ],
      "execution_count": 53,
      "outputs": [
        {
          "output_type": "stream",
          "text": [
            "Enter the one of the index value from your credit_card_data_sample : 272\n"
          ],
          "name": "stdout"
        }
      ]
    },
    {
      "cell_type": "code",
      "metadata": {
        "trusted": false,
        "collapsed": true,
        "_uuid": "2de498c80aa3e4dfddd79598efe355ec5cdb355f",
        "id": "Sk1rDV51xNjt",
        "colab": {
          "base_uri": "https://localhost:8080/",
          "height": 420
        },
        "outputId": "c06f6015-0992-454b-9ac7-d5e882ea8ae6"
      },
      "source": [
        "similarity(sample_index,data_without_label)   \n",
        "#credit_card_data_without_label -- is the whole dataframe without labels\n",
        "#sample_index is the value (one of the index value) from the samples."
      ],
      "execution_count": 54,
      "outputs": [
        {
          "output_type": "stream",
          "text": [
            "/usr/local/lib/python3.7/dist-packages/ipykernel_launcher.py:9: RuntimeWarning: invalid value encountered in arccos\n",
            "  if __name__ == '__main__':\n"
          ],
          "name": "stderr"
        },
        {
          "output_type": "stream",
          "text": [
            "sample index value is 272 \n"
          ],
          "name": "stdout"
        },
        {
          "output_type": "execute_result",
          "data": {
            "text/html": [
              "<div>\n",
              "<style scoped>\n",
              "    .dataframe tbody tr th:only-of-type {\n",
              "        vertical-align: middle;\n",
              "    }\n",
              "\n",
              "    .dataframe tbody tr th {\n",
              "        vertical-align: top;\n",
              "    }\n",
              "\n",
              "    .dataframe thead th {\n",
              "        text-align: right;\n",
              "    }\n",
              "</style>\n",
              "<table border=\"1\" class=\"dataframe\">\n",
              "  <thead>\n",
              "    <tr style=\"text-align: right;\">\n",
              "      <th></th>\n",
              "      <th>index_value</th>\n",
              "      <th>similarity_value</th>\n",
              "      <th>Class</th>\n",
              "    </tr>\n",
              "  </thead>\n",
              "  <tbody>\n",
              "    <tr>\n",
              "      <th>662</th>\n",
              "      <td>662</td>\n",
              "      <td>0.019663</td>\n",
              "      <td>0</td>\n",
              "    </tr>\n",
              "    <tr>\n",
              "      <th>1426</th>\n",
              "      <td>1426</td>\n",
              "      <td>0.019683</td>\n",
              "      <td>0</td>\n",
              "    </tr>\n",
              "    <tr>\n",
              "      <th>1359</th>\n",
              "      <td>1359</td>\n",
              "      <td>0.019904</td>\n",
              "      <td>0</td>\n",
              "    </tr>\n",
              "    <tr>\n",
              "      <th>2491</th>\n",
              "      <td>2491</td>\n",
              "      <td>0.020385</td>\n",
              "      <td>0</td>\n",
              "    </tr>\n",
              "    <tr>\n",
              "      <th>2120</th>\n",
              "      <td>2120</td>\n",
              "      <td>0.020490</td>\n",
              "      <td>0</td>\n",
              "    </tr>\n",
              "    <tr>\n",
              "      <th>4624</th>\n",
              "      <td>4624</td>\n",
              "      <td>0.020492</td>\n",
              "      <td>0</td>\n",
              "    </tr>\n",
              "    <tr>\n",
              "      <th>2371</th>\n",
              "      <td>2371</td>\n",
              "      <td>0.020578</td>\n",
              "      <td>0</td>\n",
              "    </tr>\n",
              "    <tr>\n",
              "      <th>3103</th>\n",
              "      <td>3103</td>\n",
              "      <td>0.020764</td>\n",
              "      <td>0</td>\n",
              "    </tr>\n",
              "    <tr>\n",
              "      <th>3096</th>\n",
              "      <td>3096</td>\n",
              "      <td>0.020890</td>\n",
              "      <td>0</td>\n",
              "    </tr>\n",
              "    <tr>\n",
              "      <th>151296</th>\n",
              "      <td>151296</td>\n",
              "      <td>0.021377</td>\n",
              "      <td>0</td>\n",
              "    </tr>\n",
              "  </tbody>\n",
              "</table>\n",
              "</div>"
            ],
            "text/plain": [
              "        index_value  similarity_value  Class\n",
              "662             662          0.019663      0\n",
              "1426           1426          0.019683      0\n",
              "1359           1359          0.019904      0\n",
              "2491           2491          0.020385      0\n",
              "2120           2120          0.020490      0\n",
              "4624           4624          0.020492      0\n",
              "2371           2371          0.020578      0\n",
              "3103           3103          0.020764      0\n",
              "3096           3096          0.020890      0\n",
              "151296       151296          0.021377      0"
            ]
          },
          "metadata": {
            "tags": []
          },
          "execution_count": 54
        }
      ]
    },
    {
      "cell_type": "markdown",
      "metadata": {
        "id": "yFchnQ93aEgy"
      },
      "source": [
        "## Task 3: Apply 5 different ML algorithms to build classification models."
      ]
    },
    {
      "cell_type": "code",
      "metadata": {
        "collapsed": true,
        "trusted": false,
        "_uuid": "6f5cf6e6c7de1e1402c75e0da6c28f418a86b348",
        "id": "EYC7qo8JxNjt"
      },
      "source": [
        "data = pd.read_csv(\"https://raw.githubusercontent.com/nsethi31/Kaggle-Data-Credit-Card-Fraud-Detection/master/creditcard.csv\")"
      ],
      "execution_count": 35,
      "outputs": []
    },
    {
      "cell_type": "markdown",
      "metadata": {
        "id": "kykE3THRi-M-"
      },
      "source": [
        "Split the raw data into train and test datasets"
      ]
    },
    {
      "cell_type": "code",
      "metadata": {
        "id": "6EGN0hzNVdKs"
      },
      "source": [
        "from sklearn.model_selection import train_test_split\n",
        "\n",
        "X = data.iloc[:,:-1]\n",
        "y = data.iloc[:,-1]\n",
        "\n",
        "X_train, X_test, y_train, y_test = train_test_split(X, y, random_state=0)"
      ],
      "execution_count": 36,
      "outputs": []
    },
    {
      "cell_type": "code",
      "metadata": {
        "id": "GuksqTvWVdKt"
      },
      "source": [
        "def SupportVector():\n",
        "    from sklearn.svm import SVC\n",
        "    from sklearn.metrics import recall_score, accuracy_score, precision_score\n",
        "    \n",
        "    clf = SVC()    \n",
        "    start = time.time()\n",
        "    clf.fit(X_train, y_train)\n",
        "    stop = time.time()\n",
        "    traintime=stop-start\n",
        "    predictions = clf.predict(X_test)\n",
        "    accuracy_score = accuracy_score(y_test, predictions)\n",
        "    recall_score = recall_score(y_test, predictions)\n",
        "    precision_score = precision_score(y_test, predictions)\n",
        "\n",
        "    return accuracy_score, recall_score, precision_score, traintime"
      ],
      "execution_count": 37,
      "outputs": []
    },
    {
      "cell_type": "code",
      "metadata": {
        "id": "ZOXRSIWGbXl1"
      },
      "source": [
        "def DecisionTree():\n",
        "    from sklearn.tree import DecisionTreeClassifier\n",
        "    from sklearn.metrics import recall_score, accuracy_score, precision_score\n",
        "    \n",
        "    clf = DecisionTreeClassifier()\n",
        "    start = time.time()\n",
        "    clf.fit(X_train, y_train)\n",
        "    stop = time.time()\n",
        "    traintime=stop-start\n",
        "    predictions = clf.predict(X_test)\n",
        "    accuracy_score = accuracy_score(y_test, predictions)\n",
        "    recall_score = recall_score(y_test, predictions)\n",
        "    precision_score = precision_score(y_test, predictions)\n",
        "\n",
        "    return accuracy_score, recall_score, precision_score, traintime"
      ],
      "execution_count": 38,
      "outputs": []
    },
    {
      "cell_type": "code",
      "metadata": {
        "id": "EbMR8jMrh5Mv"
      },
      "source": [
        "def KNN():\n",
        "    from sklearn.neighbors import KNeighborsClassifier \n",
        "    from sklearn.metrics import recall_score, accuracy_score, precision_score\n",
        "    \n",
        "    clf = KNeighborsClassifier()\n",
        "    start = time.time()\n",
        "    clf.fit(X_train, y_train)\n",
        "    stop = time.time()\n",
        "    traintime=stop-start\n",
        "    predictions = clf.predict(X_test)\n",
        "    accuracy_score = accuracy_score(y_test, predictions)\n",
        "    recall_score = recall_score(y_test, predictions)\n",
        "    precision_score = precision_score(y_test, predictions)\n",
        "\n",
        "    return accuracy_score, recall_score, precision_score, traintime"
      ],
      "execution_count": 39,
      "outputs": []
    },
    {
      "cell_type": "code",
      "metadata": {
        "id": "xLWM3RsqbGmd"
      },
      "source": [
        "def RandomForest():\n",
        "    from sklearn.ensemble import RandomForestClassifier \n",
        "    from sklearn.metrics import recall_score, accuracy_score, precision_score\n",
        "    \n",
        "    clf = RandomForestClassifier()\n",
        "    start = time.time()\n",
        "    clf.fit(X_train, y_train)\n",
        "    stop = time.time()\n",
        "    traintime=stop-start\n",
        "    predictions = clf.predict(X_test)\n",
        "    accuracy_score = accuracy_score(y_test, predictions)\n",
        "    recall_score = recall_score(y_test, predictions)\n",
        "    precision_score = precision_score(y_test, predictions)\n",
        "\n",
        "    return accuracy_score, recall_score, precision_score, traintime"
      ],
      "execution_count": 40,
      "outputs": []
    },
    {
      "cell_type": "code",
      "metadata": {
        "id": "vnNlmcyvbdjt"
      },
      "source": [
        "def XGBoost():\n",
        "    from xgboost import XGBClassifier\n",
        "    from sklearn.metrics import recall_score, accuracy_score, precision_score\n",
        "    \n",
        "    clf = XGBClassifier()\n",
        "    start = time.time()\n",
        "    clf.fit(X_train, y_train)\n",
        "    stop = time.time()\n",
        "    traintime=stop-start\n",
        "    predictions = clf.predict(X_test)\n",
        "    accuracy_score = accuracy_score(y_test, predictions)\n",
        "    recall_score = recall_score(y_test, predictions)\n",
        "    precision_score = precision_score(y_test, predictions)\n",
        "\n",
        "    return accuracy_score, recall_score, precision_score, traintime"
      ],
      "execution_count": 41,
      "outputs": []
    },
    {
      "cell_type": "code",
      "metadata": {
        "id": "nObPl5mvOxyM",
        "colab": {
          "base_uri": "https://localhost:8080/"
        },
        "outputId": "489f7919-0bdf-48db-c5a9-d377baeb728d"
      },
      "source": [
        "import time\n",
        "sv=SupportVector()\n",
        "dt=DecisionTree()\n",
        "knn=KNN()\n",
        "rf=RandomForest()\n",
        "xg=XGBoost()\n"
      ],
      "execution_count": 50,
      "outputs": [
        {
          "output_type": "stream",
          "text": [
            "/usr/local/lib/python3.7/dist-packages/sklearn/metrics/_classification.py:1272: UndefinedMetricWarning: Precision is ill-defined and being set to 0.0 due to no predicted samples. Use `zero_division` parameter to control this behavior.\n",
            "  _warn_prf(average, modifier, msg_start, len(result))\n"
          ],
          "name": "stderr"
        }
      ]
    },
    {
      "cell_type": "code",
      "metadata": {
        "id": "aC5YWCjFeX0Z"
      },
      "source": [
        "sv=list(pd.Series(['SVM',sv[0],sv[1],sv[2],sv[3]]))\n",
        "dt=list(pd.Series(['DecisionTree',dt[0],dt[1],dt[2],dt[3]]))\n",
        "knn=list(pd.Series(['KNN',knn[0],knn[1],knn[2],knn[3]]))\n",
        "rf=list(pd.Series(['RandomForest',rf[0],rf[1],rf[2],rf[3]]))\n",
        "xg=list(pd.Series(['XGBoost',xg[0],xg[1],xg[2],xg[3]]))"
      ],
      "execution_count": 51,
      "outputs": []
    },
    {
      "cell_type": "code",
      "metadata": {
        "id": "Mlj09zAcNSj9",
        "colab": {
          "base_uri": "https://localhost:8080/",
          "height": 198
        },
        "outputId": "941c7adc-39bc-430e-e839-a3088a36d0e3"
      },
      "source": [
        "compare= pd.DataFrame([sv,dt,knn,rf,xg],columns=['Classifier','Accuracy','Recall','Precision','Runtime'])\n",
        "compare"
      ],
      "execution_count": 52,
      "outputs": [
        {
          "output_type": "execute_result",
          "data": {
            "text/html": [
              "<div>\n",
              "<style scoped>\n",
              "    .dataframe tbody tr th:only-of-type {\n",
              "        vertical-align: middle;\n",
              "    }\n",
              "\n",
              "    .dataframe tbody tr th {\n",
              "        vertical-align: top;\n",
              "    }\n",
              "\n",
              "    .dataframe thead th {\n",
              "        text-align: right;\n",
              "    }\n",
              "</style>\n",
              "<table border=\"1\" class=\"dataframe\">\n",
              "  <thead>\n",
              "    <tr style=\"text-align: right;\">\n",
              "      <th></th>\n",
              "      <th>Classifier</th>\n",
              "      <th>Accuracy</th>\n",
              "      <th>Recall</th>\n",
              "      <th>Precision</th>\n",
              "      <th>Runtime</th>\n",
              "    </tr>\n",
              "  </thead>\n",
              "  <tbody>\n",
              "    <tr>\n",
              "      <th>0</th>\n",
              "      <td>SVM</td>\n",
              "      <td>0.998315</td>\n",
              "      <td>0.000000</td>\n",
              "      <td>0.000000</td>\n",
              "      <td>15.093577</td>\n",
              "    </tr>\n",
              "    <tr>\n",
              "      <th>1</th>\n",
              "      <td>DecisionTree</td>\n",
              "      <td>0.999185</td>\n",
              "      <td>0.791667</td>\n",
              "      <td>0.742188</td>\n",
              "      <td>21.536638</td>\n",
              "    </tr>\n",
              "    <tr>\n",
              "      <th>2</th>\n",
              "      <td>KNN</td>\n",
              "      <td>0.998371</td>\n",
              "      <td>0.041667</td>\n",
              "      <td>0.833333</td>\n",
              "      <td>1.785139</td>\n",
              "    </tr>\n",
              "    <tr>\n",
              "      <th>3</th>\n",
              "      <td>RandomForest</td>\n",
              "      <td>0.999551</td>\n",
              "      <td>0.783333</td>\n",
              "      <td>0.940000</td>\n",
              "      <td>253.803825</td>\n",
              "    </tr>\n",
              "    <tr>\n",
              "      <th>4</th>\n",
              "      <td>XGBoost</td>\n",
              "      <td>0.999508</td>\n",
              "      <td>0.775000</td>\n",
              "      <td>0.920792</td>\n",
              "      <td>54.206131</td>\n",
              "    </tr>\n",
              "  </tbody>\n",
              "</table>\n",
              "</div>"
            ],
            "text/plain": [
              "     Classifier  Accuracy    Recall  Precision     Runtime\n",
              "0           SVM  0.998315  0.000000   0.000000   15.093577\n",
              "1  DecisionTree  0.999185  0.791667   0.742188   21.536638\n",
              "2           KNN  0.998371  0.041667   0.833333    1.785139\n",
              "3  RandomForest  0.999551  0.783333   0.940000  253.803825\n",
              "4       XGBoost  0.999508  0.775000   0.920792   54.206131"
            ]
          },
          "metadata": {
            "tags": []
          },
          "execution_count": 52
        }
      ]
    },
    {
      "cell_type": "code",
      "metadata": {
        "id": "AULIJ-ymcvYe"
      },
      "source": [
        ""
      ],
      "execution_count": null,
      "outputs": []
    }
  ]
}