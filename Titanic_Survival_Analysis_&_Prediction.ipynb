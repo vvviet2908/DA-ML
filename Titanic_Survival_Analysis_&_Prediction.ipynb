{
  "nbformat": 4,
  "nbformat_minor": 0,
  "metadata": {
    "coursera": {
      "course_slug": "python-machine-learning",
      "graded_item_id": "5yX9Z",
      "launcher_item_id": "eqnV3",
      "part_id": "Msnj0"
    },
    "kernelspec": {
      "display_name": "Python 3",
      "language": "python",
      "name": "python3"
    },
    "language_info": {
      "codemirror_mode": {
        "name": "ipython",
        "version": 3
      },
      "file_extension": ".py",
      "mimetype": "text/x-python",
      "name": "python",
      "nbconvert_exporter": "python",
      "pygments_lexer": "ipython3",
      "version": "3.5.2"
    },
    "colab": {
      "name": "Titanic Survival Analysis & Prediction.ipynb",
      "provenance": [],
      "collapsed_sections": [],
      "include_colab_link": true
    }
  },
  "cells": [
    {
      "cell_type": "markdown",
      "metadata": {
        "id": "view-in-github",
        "colab_type": "text"
      },
      "source": [
        "<a href=\"https://colab.research.google.com/github/vvviet2908/DA-ML/blob/main/Titanic_Survival_Analysis_%26_Prediction.ipynb\" target=\"_parent\"><img src=\"https://colab.research.google.com/assets/colab-badge.svg\" alt=\"Open In Colab\"/></a>"
      ]
    },
    {
      "cell_type": "code",
      "metadata": {
        "id": "mqlix8pfVdKp"
      },
      "source": [
        "import numpy as np\n",
        "import pandas as pd\n",
        "import matplotlib.pyplot as plt\n",
        "import time\n"
      ],
      "execution_count": 1,
      "outputs": []
    },
    {
      "cell_type": "markdown",
      "metadata": {
        "id": "0YpEP4B4OBeT"
      },
      "source": [
        "Import the data"
      ]
    },
    {
      "cell_type": "code",
      "metadata": {
        "id": "vXUZO2wzRdDq"
      },
      "source": [
        "df = pd.read_csv(\"/content/titanic.csv\")"
      ],
      "execution_count": 2,
      "outputs": []
    },
    {
      "cell_type": "markdown",
      "metadata": {
        "id": "FXkMASrAle6o"
      },
      "source": [
        "**Print out top rows in the data**"
      ]
    },
    {
      "cell_type": "code",
      "metadata": {
        "id": "WXw4HumTl7Y0",
        "colab": {
          "base_uri": "https://localhost:8080/",
          "height": 240
        },
        "outputId": "33bea888-448a-4526-d37a-cfeea4ba3d51"
      },
      "source": [
        "df.head()"
      ],
      "execution_count": 3,
      "outputs": [
        {
          "output_type": "execute_result",
          "data": {
            "text/html": [
              "<div>\n",
              "<style scoped>\n",
              "    .dataframe tbody tr th:only-of-type {\n",
              "        vertical-align: middle;\n",
              "    }\n",
              "\n",
              "    .dataframe tbody tr th {\n",
              "        vertical-align: top;\n",
              "    }\n",
              "\n",
              "    .dataframe thead th {\n",
              "        text-align: right;\n",
              "    }\n",
              "</style>\n",
              "<table border=\"1\" class=\"dataframe\">\n",
              "  <thead>\n",
              "    <tr style=\"text-align: right;\">\n",
              "      <th></th>\n",
              "      <th>PassengerId</th>\n",
              "      <th>Survived</th>\n",
              "      <th>Pclass</th>\n",
              "      <th>Name</th>\n",
              "      <th>Sex</th>\n",
              "      <th>Age</th>\n",
              "      <th>SibSp</th>\n",
              "      <th>Parch</th>\n",
              "      <th>Ticket</th>\n",
              "      <th>Fare</th>\n",
              "      <th>Cabin</th>\n",
              "      <th>Embarked</th>\n",
              "    </tr>\n",
              "  </thead>\n",
              "  <tbody>\n",
              "    <tr>\n",
              "      <th>0</th>\n",
              "      <td>1</td>\n",
              "      <td>0</td>\n",
              "      <td>3</td>\n",
              "      <td>Braund, Mr. Owen Harris</td>\n",
              "      <td>male</td>\n",
              "      <td>22.0</td>\n",
              "      <td>1</td>\n",
              "      <td>0</td>\n",
              "      <td>A/5 21171</td>\n",
              "      <td>7.2500</td>\n",
              "      <td>NaN</td>\n",
              "      <td>S</td>\n",
              "    </tr>\n",
              "    <tr>\n",
              "      <th>1</th>\n",
              "      <td>2</td>\n",
              "      <td>1</td>\n",
              "      <td>1</td>\n",
              "      <td>Cumings, Mrs. John Bradley (Florence Briggs Th...</td>\n",
              "      <td>female</td>\n",
              "      <td>38.0</td>\n",
              "      <td>1</td>\n",
              "      <td>0</td>\n",
              "      <td>PC 17599</td>\n",
              "      <td>71.2833</td>\n",
              "      <td>C85</td>\n",
              "      <td>C</td>\n",
              "    </tr>\n",
              "    <tr>\n",
              "      <th>2</th>\n",
              "      <td>3</td>\n",
              "      <td>1</td>\n",
              "      <td>3</td>\n",
              "      <td>Heikkinen, Miss. Laina</td>\n",
              "      <td>female</td>\n",
              "      <td>26.0</td>\n",
              "      <td>0</td>\n",
              "      <td>0</td>\n",
              "      <td>STON/O2. 3101282</td>\n",
              "      <td>7.9250</td>\n",
              "      <td>NaN</td>\n",
              "      <td>S</td>\n",
              "    </tr>\n",
              "    <tr>\n",
              "      <th>3</th>\n",
              "      <td>4</td>\n",
              "      <td>1</td>\n",
              "      <td>1</td>\n",
              "      <td>Futrelle, Mrs. Jacques Heath (Lily May Peel)</td>\n",
              "      <td>female</td>\n",
              "      <td>35.0</td>\n",
              "      <td>1</td>\n",
              "      <td>0</td>\n",
              "      <td>113803</td>\n",
              "      <td>53.1000</td>\n",
              "      <td>C123</td>\n",
              "      <td>S</td>\n",
              "    </tr>\n",
              "    <tr>\n",
              "      <th>4</th>\n",
              "      <td>5</td>\n",
              "      <td>0</td>\n",
              "      <td>3</td>\n",
              "      <td>Allen, Mr. William Henry</td>\n",
              "      <td>male</td>\n",
              "      <td>35.0</td>\n",
              "      <td>0</td>\n",
              "      <td>0</td>\n",
              "      <td>373450</td>\n",
              "      <td>8.0500</td>\n",
              "      <td>NaN</td>\n",
              "      <td>S</td>\n",
              "    </tr>\n",
              "  </tbody>\n",
              "</table>\n",
              "</div>"
            ],
            "text/plain": [
              "   PassengerId  Survived  Pclass  ...     Fare Cabin  Embarked\n",
              "0            1         0       3  ...   7.2500   NaN         S\n",
              "1            2         1       1  ...  71.2833   C85         C\n",
              "2            3         1       3  ...   7.9250   NaN         S\n",
              "3            4         1       1  ...  53.1000  C123         S\n",
              "4            5         0       3  ...   8.0500   NaN         S\n",
              "\n",
              "[5 rows x 12 columns]"
            ]
          },
          "metadata": {
            "tags": []
          },
          "execution_count": 3
        }
      ]
    },
    {
      "cell_type": "markdown",
      "metadata": {
        "id": "PJYhR-GbPsCN"
      },
      "source": [
        "# Exploratory Data Analysis"
      ]
    },
    {
      "cell_type": "markdown",
      "metadata": {
        "id": "cR1hiKqwRdDx"
      },
      "source": [
        "Starting from reading this dataset, to answering questions about this data in a few lines of code:"
      ]
    },
    {
      "cell_type": "markdown",
      "metadata": {
        "id": "af8lcwpkvuIn"
      },
      "source": [
        "**Calculate the average age for each sex.**"
      ]
    },
    {
      "cell_type": "code",
      "metadata": {
        "clear_cell": true,
        "id": "zruicCatvuIn",
        "colab": {
          "base_uri": "https://localhost:8080/"
        },
        "outputId": "c6e5be45-3e9f-474d-cb69-0598bdca3096"
      },
      "source": [
        "df.groupby('Sex')['Age'].mean()"
      ],
      "execution_count": 4,
      "outputs": [
        {
          "output_type": "execute_result",
          "data": {
            "text/plain": [
              "Sex\n",
              "female    27.915709\n",
              "male      30.726645\n",
              "Name: Age, dtype: float64"
            ]
          },
          "metadata": {
            "tags": []
          },
          "execution_count": 4
        }
      ]
    },
    {
      "cell_type": "markdown",
      "metadata": {
        "id": "c6hZ4XoivuIp"
      },
      "source": [
        "**Calculate the average survival ratio for all passengers.**\n",
        "</div>"
      ]
    },
    {
      "cell_type": "code",
      "metadata": {
        "clear_cell": true,
        "id": "e-UmtEKbvuIq",
        "colab": {
          "base_uri": "https://localhost:8080/"
        },
        "outputId": "2781e7ab-2252-47da-8042-86e5244d0c12"
      },
      "source": [
        "df['Survived'].sum()/len(df)"
      ],
      "execution_count": 5,
      "outputs": [
        {
          "output_type": "execute_result",
          "data": {
            "text/plain": [
              "0.3838383838383838"
            ]
          },
          "metadata": {
            "tags": []
          },
          "execution_count": 5
        }
      ]
    },
    {
      "cell_type": "markdown",
      "metadata": {
        "id": "Z0Dt1xZbRdDy"
      },
      "source": [
        "**What is the age distribution of the passengers?**"
      ]
    },
    {
      "cell_type": "code",
      "metadata": {
        "id": "hSkNMcDHRdDy",
        "colab": {
          "base_uri": "https://localhost:8080/",
          "height": 282
        },
        "outputId": "6fb14109-d2ab-409b-edfa-10d7c0d6e55e"
      },
      "source": [
        "df['Age'].hist()"
      ],
      "execution_count": 6,
      "outputs": [
        {
          "output_type": "execute_result",
          "data": {
            "text/plain": [
              "<matplotlib.axes._subplots.AxesSubplot at 0x7f864877a910>"
            ]
          },
          "metadata": {
            "tags": []
          },
          "execution_count": 6
        },
        {
          "output_type": "display_data",
          "data": {
            "image/png": "[encoded data removed]",
            "text/plain": [
              "<Figure size 432x288 with 1 Axes>"
            ]
          },
          "metadata": {
            "tags": [],
            "needs_background": "light"
          }
        }
      ]
    },
    {
      "cell_type": "markdown",
      "metadata": {
        "id": "7Lm_V4LtRdD1"
      },
      "source": [
        "**How does the survival rate of the passengers differ between sexes?**"
      ]
    },
    {
      "cell_type": "markdown",
      "metadata": {
        "id": "09eHPDn2vuIw"
      },
      "source": [
        "Is there a difference in this survival ratio between the sexes? (tip: write the above calculation of the survival ratio as a function)\n"
      ]
    },
    {
      "cell_type": "code",
      "metadata": {
        "clear_cell": true,
        "id": "YOt79OpVvuIw",
        "colab": {
          "base_uri": "https://localhost:8080/"
        },
        "outputId": "e3a8d4af-08f6-4a0f-97ee-41b3a3145e79"
      },
      "source": [
        "df.groupby('Sex')['Survived'].aggregate(lambda x: x.sum()/len(x))"
      ],
      "execution_count": 7,
      "outputs": [
        {
          "output_type": "execute_result",
          "data": {
            "text/plain": [
              "Sex\n",
              "female    0.742038\n",
              "male      0.188908\n",
              "Name: Survived, dtype: float64"
            ]
          },
          "metadata": {
            "tags": []
          },
          "execution_count": 7
        }
      ]
    },
    {
      "cell_type": "code",
      "metadata": {
        "clear_cell": true,
        "id": "11GjTxCXvuIz",
        "colab": {
          "base_uri": "https://localhost:8080/",
          "height": 321
        },
        "outputId": "7c5a94d4-fe3d-4829-c1f1-e58da27348de"
      },
      "source": [
        "df.groupby('Sex')['Survived'].aggregate(lambda x: x.sum()/len(x)).plot(kind='bar')"
      ],
      "execution_count": 8,
      "outputs": [
        {
          "output_type": "execute_result",
          "data": {
            "text/plain": [
              "<matplotlib.axes._subplots.AxesSubplot at 0x7f86486d2d10>"
            ]
          },
          "metadata": {
            "tags": []
          },
          "execution_count": 8
        },
        {
          "output_type": "display_data",
          "data": {
            "image/png": "[encoded data removed]",
            "text/plain": [
              "<Figure size 432x288 with 1 Axes>"
            ]
          },
          "metadata": {
            "tags": [],
            "needs_background": "light"
          }
        }
      ]
    },
    {
      "cell_type": "markdown",
      "metadata": {
        "id": "gpQwb2qpRdD5"
      },
      "source": [
        "**Or how does it differ between the different classes?**"
      ]
    },
    {
      "cell_type": "code",
      "metadata": {
        "id": "Avhkq0MhRdD6",
        "colab": {
          "base_uri": "https://localhost:8080/"
        },
        "outputId": "a8fe678d-0572-4ec9-8e00-472309be42ea"
      },
      "source": [
        "df.groupby('Pclass')['Survived'].aggregate(lambda x: x.sum()/len(x))"
      ],
      "execution_count": 9,
      "outputs": [
        {
          "output_type": "execute_result",
          "data": {
            "text/plain": [
              "Pclass\n",
              "1    0.629630\n",
              "2    0.472826\n",
              "3    0.242363\n",
              "Name: Survived, dtype: float64"
            ]
          },
          "metadata": {
            "tags": []
          },
          "execution_count": 9
        }
      ]
    },
    {
      "cell_type": "code",
      "metadata": {
        "colab": {
          "base_uri": "https://localhost:8080/",
          "height": 293
        },
        "id": "bqbe1tx8J2DU",
        "outputId": "8a85b951-9cb9-4933-e5ae-d1caea0e7d75"
      },
      "source": [
        "df.groupby('Pclass')['Survived'].aggregate(lambda x: x.sum()/len(x)).plot(kind='bar')"
      ],
      "execution_count": 10,
      "outputs": [
        {
          "output_type": "execute_result",
          "data": {
            "text/plain": [
              "<matplotlib.axes._subplots.AxesSubplot at 0x7f86481c7bd0>"
            ]
          },
          "metadata": {
            "tags": []
          },
          "execution_count": 10
        },
        {
          "output_type": "display_data",
          "data": {
            "image/png": "[encoded data removed]",
            "text/plain": [
              "<Figure size 432x288 with 1 Axes>"
            ]
          },
          "metadata": {
            "tags": [],
            "needs_background": "light"
          }
        }
      ]
    },
    {
      "cell_type": "markdown",
      "metadata": {
        "id": "K8LU4FWsRdD8"
      },
      "source": [
        "**Are young people more likely to survive?**"
      ]
    },
    {
      "cell_type": "code",
      "metadata": {
        "id": "crWMgrakRdD9",
        "colab": {
          "base_uri": "https://localhost:8080/"
        },
        "outputId": "57ef3c4f-efa4-42bd-b38e-7cc7c0bef3a9"
      },
      "source": [
        "df['Survived'].sum()/len(df['Survived'])"
      ],
      "execution_count": 11,
      "outputs": [
        {
          "output_type": "execute_result",
          "data": {
            "text/plain": [
              "0.3838383838383838"
            ]
          },
          "metadata": {
            "tags": []
          },
          "execution_count": 11
        }
      ]
    },
    {
      "cell_type": "code",
      "metadata": {
        "id": "UOPtQf0qRdEA",
        "colab": {
          "base_uri": "https://localhost:8080/"
        },
        "outputId": "9b54f4b5-4aed-4357-c479-5642bc4f2c30"
      },
      "source": [
        "dfy=df[df['Age']<25]\n",
        "dfy['Survived'].sum()/len(dfy['Survived'])"
      ],
      "execution_count": 12,
      "outputs": [
        {
          "output_type": "execute_result",
          "data": {
            "text/plain": [
              "0.4244604316546763"
            ]
          },
          "metadata": {
            "tags": []
          },
          "execution_count": 12
        }
      ]
    },
    {
      "cell_type": "markdown",
      "metadata": {
        "id": "i8QBjn-1P1d-"
      },
      "source": [
        "# Feature Engineering - Preprocessing Data"
      ]
    },
    {
      "cell_type": "code",
      "metadata": {
        "colab": {
          "base_uri": "https://localhost:8080/"
        },
        "id": "M7m4WxnIgVhZ",
        "outputId": "f31d5d15-2df3-4f27-f50b-9cd7fc84e480"
      },
      "source": [
        "from sklearn.model_selection import train_test_split\n",
        "\n",
        "train, test = train_test_split(df, random_state=0)\n",
        "full_data = [train, test]\n",
        "print(train.info())"
      ],
      "execution_count": 13,
      "outputs": [
        {
          "output_type": "stream",
          "text": [
            "<class 'pandas.core.frame.DataFrame'>\n",
            "Int64Index: 668 entries, 105 to 684\n",
            "Data columns (total 12 columns):\n",
            " #   Column       Non-Null Count  Dtype  \n",
            "---  ------       --------------  -----  \n",
            " 0   PassengerId  668 non-null    int64  \n",
            " 1   Survived     668 non-null    int64  \n",
            " 2   Pclass       668 non-null    int64  \n",
            " 3   Name         668 non-null    object \n",
            " 4   Sex          668 non-null    object \n",
            " 5   Age          535 non-null    float64\n",
            " 6   SibSp        668 non-null    int64  \n",
            " 7   Parch        668 non-null    int64  \n",
            " 8   Ticket       668 non-null    object \n",
            " 9   Fare         668 non-null    float64\n",
            " 10  Cabin        157 non-null    object \n",
            " 11  Embarked     666 non-null    object \n",
            "dtypes: float64(2), int64(5), object(5)\n",
            "memory usage: 67.8+ KB\n",
            "None\n"
          ],
          "name": "stdout"
        }
      ]
    },
    {
      "cell_type": "markdown",
      "metadata": {
        "id": "13IpMtlzkaOd"
      },
      "source": [
        "Feature Engineering"
      ]
    },
    {
      "cell_type": "markdown",
      "metadata": {
        "id": "9a_Ym55aw1gZ"
      },
      "source": [
        "Pclass"
      ]
    },
    {
      "cell_type": "code",
      "metadata": {
        "colab": {
          "base_uri": "https://localhost:8080/"
        },
        "id": "re8SxEOju3sL",
        "outputId": "e1f57c28-3949-4c9d-a37c-3c59983d0264"
      },
      "source": [
        "print (train[['Pclass', 'Survived']].groupby(['Pclass'], as_index=False).mean())"
      ],
      "execution_count": 14,
      "outputs": [
        {
          "output_type": "stream",
          "text": [
            "   Pclass  Survived\n",
            "0       1  0.613497\n",
            "1       2  0.492754\n",
            "2       3  0.245232\n"
          ],
          "name": "stdout"
        }
      ]
    },
    {
      "cell_type": "markdown",
      "metadata": {
        "id": "OYQVTiL4w6Bs"
      },
      "source": [
        "Sex"
      ]
    },
    {
      "cell_type": "code",
      "metadata": {
        "colab": {
          "base_uri": "https://localhost:8080/"
        },
        "id": "JPpyInS6-tqt",
        "outputId": "ce927cab-123a-4377-a4eb-29ce9bc4bab4"
      },
      "source": [
        "test['Sex'].isnull().sum()"
      ],
      "execution_count": 15,
      "outputs": [
        {
          "output_type": "execute_result",
          "data": {
            "text/plain": [
              "0"
            ]
          },
          "metadata": {
            "tags": []
          },
          "execution_count": 15
        }
      ]
    },
    {
      "cell_type": "code",
      "metadata": {
        "colab": {
          "base_uri": "https://localhost:8080/"
        },
        "id": "rTZUL9G9w5E-",
        "outputId": "e1644d40-55d7-480a-d120-214e775e6210"
      },
      "source": [
        "print (train[['Sex', 'Survived']].groupby(['Sex'], as_index=False).mean())"
      ],
      "execution_count": 16,
      "outputs": [
        {
          "output_type": "stream",
          "text": [
            "      Sex  Survived\n",
            "0  female  0.753247\n",
            "1    male  0.192220\n"
          ],
          "name": "stdout"
        }
      ]
    },
    {
      "cell_type": "markdown",
      "metadata": {
        "id": "cDOy_iVwxW58"
      },
      "source": [
        "Family Size"
      ]
    },
    {
      "cell_type": "code",
      "metadata": {
        "colab": {
          "base_uri": "https://localhost:8080/"
        },
        "id": "eF0w7JcNw_x-",
        "outputId": "74b4f195-31a3-4515-b01e-5dc1a4d5941e"
      },
      "source": [
        "for dataset in full_data:\n",
        "    dataset['FamilySize'] = dataset['SibSp'] + dataset['Parch'] + 1\n",
        "print (train[['FamilySize', 'Survived']].groupby(['FamilySize'], as_index=False).mean())"
      ],
      "execution_count": 17,
      "outputs": [
        {
          "output_type": "stream",
          "text": [
            "   FamilySize  Survived\n",
            "0           1  0.309406\n",
            "1           2  0.567797\n",
            "2           3  0.560000\n",
            "3           4  0.666667\n",
            "4           5  0.083333\n",
            "5           6  0.250000\n",
            "6           7  0.363636\n",
            "7           8  0.000000\n",
            "8          11  0.000000\n"
          ],
          "name": "stdout"
        },
        {
          "output_type": "stream",
          "text": [
            "/usr/local/lib/python3.7/dist-packages/ipykernel_launcher.py:2: SettingWithCopyWarning: \n",
            "A value is trying to be set on a copy of a slice from a DataFrame.\n",
            "Try using .loc[row_indexer,col_indexer] = value instead\n",
            "\n",
            "See the caveats in the documentation: https://pandas.pydata.org/pandas-docs/stable/user_guide/indexing.html#returning-a-view-versus-a-copy\n",
            "  \n"
          ],
          "name": "stderr"
        }
      ]
    },
    {
      "cell_type": "code",
      "metadata": {
        "colab": {
          "base_uri": "https://localhost:8080/"
        },
        "id": "tuiaC5WWw-ru",
        "outputId": "696b88cd-ddea-42ac-fad0-d66497742282"
      },
      "source": [
        "for dataset in full_data:\n",
        "    dataset['IsAlone'] = 0\n",
        "    dataset.loc[dataset['FamilySize'] == 1, 'IsAlone'] = 1\n",
        "print (train[['IsAlone', 'Survived']].groupby(['IsAlone'], as_index=False).mean())"
      ],
      "execution_count": 18,
      "outputs": [
        {
          "output_type": "stream",
          "text": [
            "   IsAlone  Survived\n",
            "0        0  0.503788\n",
            "1        1  0.309406\n"
          ],
          "name": "stdout"
        },
        {
          "output_type": "stream",
          "text": [
            "/usr/local/lib/python3.7/dist-packages/ipykernel_launcher.py:2: SettingWithCopyWarning: \n",
            "A value is trying to be set on a copy of a slice from a DataFrame.\n",
            "Try using .loc[row_indexer,col_indexer] = value instead\n",
            "\n",
            "See the caveats in the documentation: https://pandas.pydata.org/pandas-docs/stable/user_guide/indexing.html#returning-a-view-versus-a-copy\n",
            "  \n",
            "/usr/local/lib/python3.7/dist-packages/pandas/core/indexing.py:1763: SettingWithCopyWarning: \n",
            "A value is trying to be set on a copy of a slice from a DataFrame.\n",
            "Try using .loc[row_indexer,col_indexer] = value instead\n",
            "\n",
            "See the caveats in the documentation: https://pandas.pydata.org/pandas-docs/stable/user_guide/indexing.html#returning-a-view-versus-a-copy\n",
            "  isetter(loc, value)\n",
            "/usr/local/lib/python3.7/dist-packages/ipykernel_launcher.py:2: SettingWithCopyWarning: \n",
            "A value is trying to be set on a copy of a slice from a DataFrame.\n",
            "Try using .loc[row_indexer,col_indexer] = value instead\n",
            "\n",
            "See the caveats in the documentation: https://pandas.pydata.org/pandas-docs/stable/user_guide/indexing.html#returning-a-view-versus-a-copy\n",
            "  \n",
            "/usr/local/lib/python3.7/dist-packages/pandas/core/indexing.py:1763: SettingWithCopyWarning: \n",
            "A value is trying to be set on a copy of a slice from a DataFrame.\n",
            "Try using .loc[row_indexer,col_indexer] = value instead\n",
            "\n",
            "See the caveats in the documentation: https://pandas.pydata.org/pandas-docs/stable/user_guide/indexing.html#returning-a-view-versus-a-copy\n",
            "  isetter(loc, value)\n"
          ],
          "name": "stderr"
        }
      ]
    },
    {
      "cell_type": "markdown",
      "metadata": {
        "id": "1vKqFTHP0oSA"
      },
      "source": [
        "Embarked"
      ]
    },
    {
      "cell_type": "code",
      "metadata": {
        "colab": {
          "base_uri": "https://localhost:8080/"
        },
        "id": "03kCViJzzXry",
        "outputId": "53b52b81-d81c-4db8-9158-75d0c7002b5b"
      },
      "source": [
        "train['Embarked'].isnull().sum()"
      ],
      "execution_count": 19,
      "outputs": [
        {
          "output_type": "execute_result",
          "data": {
            "text/plain": [
              "2"
            ]
          },
          "metadata": {
            "tags": []
          },
          "execution_count": 19
        }
      ]
    },
    {
      "cell_type": "code",
      "metadata": {
        "colab": {
          "base_uri": "https://localhost:8080/"
        },
        "id": "f1TVPo4AyZzn",
        "outputId": "ff74a3ea-ce4b-46de-b342-eb344b47e917"
      },
      "source": [
        "train.groupby(['Embarked']).size()"
      ],
      "execution_count": 20,
      "outputs": [
        {
          "output_type": "execute_result",
          "data": {
            "text/plain": [
              "Embarked\n",
              "C    116\n",
              "Q     60\n",
              "S    490\n",
              "dtype: int64"
            ]
          },
          "metadata": {
            "tags": []
          },
          "execution_count": 20
        }
      ]
    },
    {
      "cell_type": "markdown",
      "metadata": {
        "id": "-MPql0mh1HFd"
      },
      "source": [
        "Filling with the most frequencies value \"S\""
      ]
    },
    {
      "cell_type": "code",
      "metadata": {
        "colab": {
          "base_uri": "https://localhost:8080/"
        },
        "id": "ThOtbONI03NP",
        "outputId": "b3f0c167-4444-4fd0-d310-a99f066e3638"
      },
      "source": [
        "for dataset in full_data:\n",
        "    dataset['Embarked'] = dataset['Embarked'].fillna('S')\n",
        "print (train[['Embarked', 'Survived']].groupby(['Embarked'], as_index=False).mean())"
      ],
      "execution_count": 21,
      "outputs": [
        {
          "output_type": "stream",
          "text": [
            "  Embarked  Survived\n",
            "0        C  0.543103\n",
            "1        Q  0.400000\n",
            "2        S  0.347561\n"
          ],
          "name": "stdout"
        },
        {
          "output_type": "stream",
          "text": [
            "/usr/local/lib/python3.7/dist-packages/ipykernel_launcher.py:2: SettingWithCopyWarning: \n",
            "A value is trying to be set on a copy of a slice from a DataFrame.\n",
            "Try using .loc[row_indexer,col_indexer] = value instead\n",
            "\n",
            "See the caveats in the documentation: https://pandas.pydata.org/pandas-docs/stable/user_guide/indexing.html#returning-a-view-versus-a-copy\n",
            "  \n"
          ],
          "name": "stderr"
        }
      ]
    },
    {
      "cell_type": "markdown",
      "metadata": {
        "id": "n-w-3Qor1NC2"
      },
      "source": [
        "Age"
      ]
    },
    {
      "cell_type": "markdown",
      "metadata": {
        "id": "i834oZvv5rVC"
      },
      "source": [
        "we have plenty of missing values in this feature. # generate random numbers between (mean - std) and (mean + std). then we categorize age into 5 range."
      ]
    },
    {
      "cell_type": "code",
      "metadata": {
        "colab": {
          "base_uri": "https://localhost:8080/"
        },
        "id": "qRpCXMxf12-v",
        "outputId": "cd282311-395f-4fed-a6ff-7af189598e83"
      },
      "source": [
        "train['Age'].isnull().sum()"
      ],
      "execution_count": 22,
      "outputs": [
        {
          "output_type": "execute_result",
          "data": {
            "text/plain": [
              "133"
            ]
          },
          "metadata": {
            "tags": []
          },
          "execution_count": 22
        }
      ]
    },
    {
      "cell_type": "code",
      "metadata": {
        "id": "ruAyxS4Q2gOm"
      },
      "source": [
        "for dataset in full_data:\n",
        "    age_avg \t   = dataset['Age'].mean()\n",
        "    age_std \t   = dataset['Age'].std()\n",
        "    age_null_count = dataset['Age'].isnull().sum()\n",
        "    \n",
        "    age_null_random_list = np.random.randint(age_avg - age_std, age_avg + age_std, size=age_null_count)\n",
        "    dataset['Age'][np.isnan(dataset['Age'])] = age_null_random_list\n",
        "    dataset['Age'] = dataset['Age'].astype(int)"
      ],
      "execution_count": null,
      "outputs": []
    },
    {
      "cell_type": "markdown",
      "metadata": {
        "id": "n0NDE7hE5jfI"
      },
      "source": [
        "Name"
      ]
    },
    {
      "cell_type": "code",
      "metadata": {
        "id": "woCPai727wM-"
      },
      "source": [
        "import re as re"
      ],
      "execution_count": 24,
      "outputs": []
    },
    {
      "cell_type": "code",
      "metadata": {
        "colab": {
          "base_uri": "https://localhost:8080/"
        },
        "id": "I_O2emmJ5gLk",
        "outputId": "03e8c94b-ac68-4471-cf86-7c6149e7f581"
      },
      "source": [
        "def get_title(name):\n",
        "\ttitle_search = re.search(' ([A-Za-z]+)\\.', name)\n",
        "\t# If the title exists, extract and return it.\n",
        "\tif title_search:\n",
        "\t\treturn title_search.group(1)\n",
        "\treturn \"\"\n",
        "\n",
        "for dataset in full_data:\n",
        "    dataset['Title'] = dataset['Name'].apply(get_title)\n",
        "\n",
        "print(pd.crosstab(train['Title'], train['Sex']))"
      ],
      "execution_count": 25,
      "outputs": [
        {
          "output_type": "stream",
          "text": [
            "Sex       female  male\n",
            "Title                 \n",
            "Capt           0     1\n",
            "Countess       1     0\n",
            "Dr             0     3\n",
            "Lady           1     0\n",
            "Major          0     2\n",
            "Master         0    33\n",
            "Miss         132     0\n",
            "Mlle           2     0\n",
            "Mme            1     0\n",
            "Mr             0   394\n",
            "Mrs           93     0\n",
            "Ms             1     0\n",
            "Rev            0     3\n",
            "Sir            0     1\n"
          ],
          "name": "stdout"
        },
        {
          "output_type": "stream",
          "text": [
            "/usr/local/lib/python3.7/dist-packages/ipykernel_launcher.py:9: SettingWithCopyWarning: \n",
            "A value is trying to be set on a copy of a slice from a DataFrame.\n",
            "Try using .loc[row_indexer,col_indexer] = value instead\n",
            "\n",
            "See the caveats in the documentation: https://pandas.pydata.org/pandas-docs/stable/user_guide/indexing.html#returning-a-view-versus-a-copy\n",
            "  if __name__ == '__main__':\n"
          ],
          "name": "stderr"
        }
      ]
    },
    {
      "cell_type": "code",
      "metadata": {
        "id": "BiI_m-Ks7seS"
      },
      "source": [
        "for dataset in full_data:\n",
        "    dataset['Title'] = dataset['Title'].replace(['Lady', 'Countess','Capt', 'Col',\\\n",
        " \t'Don', 'Dr', 'Major', 'Rev', 'Sir', 'Jonkheer', 'Dona'], 'Rare')\n",
        "\n",
        "    dataset['Title'] = dataset['Title'].replace('Mlle', 'Miss')\n",
        "    dataset['Title'] = dataset['Title'].replace('Ms', 'Miss')\n",
        "    dataset['Title'] = dataset['Title'].replace('Mme', 'Mrs')\n"
      ],
      "execution_count": null,
      "outputs": []
    },
    {
      "cell_type": "code",
      "metadata": {
        "colab": {
          "base_uri": "https://localhost:8080/"
        },
        "id": "cZMmshlqC1Dn",
        "outputId": "2783124f-9dbd-4adf-8e89-ffdb546f67c9"
      },
      "source": [
        "print (train[['Title', 'Survived']].groupby(['Title'], as_index=False).mean())"
      ],
      "execution_count": 27,
      "outputs": [
        {
          "output_type": "stream",
          "text": [
            "    Title  Survived\n",
            "0  Master  0.575758\n",
            "1    Miss  0.703704\n",
            "2      Mr  0.157360\n",
            "3     Mrs  0.819149\n",
            "4    Rare  0.416667\n"
          ],
          "name": "stdout"
        }
      ]
    },
    {
      "cell_type": "markdown",
      "metadata": {
        "id": "9TibuU_c8AuI"
      },
      "source": [
        "Data Cleaning"
      ]
    },
    {
      "cell_type": "code",
      "metadata": {
        "id": "VZCPFekZ7_Nx"
      },
      "source": [
        "for dataset in full_data:\n",
        "    # Mapping Sexzdf['sex'] = np.where(df['sex'] == 'female', 0, 1)\n",
        "    dataset['Sex'] = dataset['Sex'].map( {'female': 0, 'male': 1} )\n",
        "    \n",
        "    # Mapping titles\n",
        "    title_mapping = {\"Mr\": 1, \"Miss\": 2, \"Mrs\": 3, \"Master\": 4, \"Rare\": 5}\n",
        "    dataset['Title'] = dataset['Title'].map(title_mapping)\n",
        "    dataset['Title'] = dataset['Title'].fillna(0)\n",
        "    \n",
        "    # Mapping Embarked\n",
        "    dataset['Embarked'] = dataset['Embarked'].map( {'S': 0, 'C': 1, 'Q': 2} )\n",
        "    \n",
        "    # Mapping Fare\n",
        "    dataset.loc[ dataset['Fare'] <= 7.91, 'Fare'] \t\t\t\t\t\t        = 0\n",
        "    dataset.loc[(dataset['Fare'] > 7.91) & (dataset['Fare'] <= 14.454), 'Fare'] = 1\n",
        "    dataset.loc[(dataset['Fare'] > 14.454) & (dataset['Fare'] <= 31), 'Fare']   = 2\n",
        "    dataset.loc[ dataset['Fare'] > 31, 'Fare'] \t\t\t\t\t\t\t        = 3\n",
        "    dataset['Fare'] = dataset['Fare'].astype(int)    \n",
        "    # Mapping Age\n",
        "    dataset.loc[ dataset['Age'] <= 16, 'Age'] \t\t\t\t\t       = 0\n",
        "    dataset.loc[(dataset['Age'] > 16) & (dataset['Age'] <= 32), 'Age'] = 1\n",
        "    dataset.loc[(dataset['Age'] > 32) & (dataset['Age'] <= 48), 'Age'] = 2\n",
        "    dataset.loc[(dataset['Age'] > 48) & (dataset['Age'] <= 64), 'Age'] = 3\n",
        "    dataset.loc[ dataset['Age'] > 64, 'Age']                           = 4\n",
        "\n",
        "# Feature Selection\n",
        "drop_elements = ['PassengerId', 'Name', 'Ticket', 'Cabin', 'SibSp',\\\n",
        "                 'Parch', 'FamilySize']\n",
        "train = train.drop(drop_elements, axis = 1)\n",
        "\n",
        "test  = test.drop(drop_elements, axis = 1)\n",
        "\n",
        "print (train.head(10))"
      ],
      "execution_count": null,
      "outputs": []
    },
    {
      "cell_type": "code",
      "metadata": {
        "colab": {
          "base_uri": "https://localhost:8080/",
          "height": 205
        },
        "id": "tPYSd3ea--q5",
        "outputId": "25316b01-1a73-4693-a36f-0aa5f99c96e4"
      },
      "source": [
        "train.head()"
      ],
      "execution_count": 29,
      "outputs": [
        {
          "output_type": "execute_result",
          "data": {
            "text/html": [
              "<div>\n",
              "<style scoped>\n",
              "    .dataframe tbody tr th:only-of-type {\n",
              "        vertical-align: middle;\n",
              "    }\n",
              "\n",
              "    .dataframe tbody tr th {\n",
              "        vertical-align: top;\n",
              "    }\n",
              "\n",
              "    .dataframe thead th {\n",
              "        text-align: right;\n",
              "    }\n",
              "</style>\n",
              "<table border=\"1\" class=\"dataframe\">\n",
              "  <thead>\n",
              "    <tr style=\"text-align: right;\">\n",
              "      <th></th>\n",
              "      <th>Survived</th>\n",
              "      <th>Pclass</th>\n",
              "      <th>Sex</th>\n",
              "      <th>Age</th>\n",
              "      <th>Fare</th>\n",
              "      <th>Embarked</th>\n",
              "      <th>IsAlone</th>\n",
              "      <th>Title</th>\n",
              "    </tr>\n",
              "  </thead>\n",
              "  <tbody>\n",
              "    <tr>\n",
              "      <th>105</th>\n",
              "      <td>0</td>\n",
              "      <td>3</td>\n",
              "      <td>1</td>\n",
              "      <td>1</td>\n",
              "      <td>0</td>\n",
              "      <td>0</td>\n",
              "      <td>1</td>\n",
              "      <td>1</td>\n",
              "    </tr>\n",
              "    <tr>\n",
              "      <th>68</th>\n",
              "      <td>1</td>\n",
              "      <td>3</td>\n",
              "      <td>0</td>\n",
              "      <td>1</td>\n",
              "      <td>1</td>\n",
              "      <td>0</td>\n",
              "      <td>0</td>\n",
              "      <td>2</td>\n",
              "    </tr>\n",
              "    <tr>\n",
              "      <th>253</th>\n",
              "      <td>0</td>\n",
              "      <td>3</td>\n",
              "      <td>1</td>\n",
              "      <td>1</td>\n",
              "      <td>2</td>\n",
              "      <td>0</td>\n",
              "      <td>0</td>\n",
              "      <td>1</td>\n",
              "    </tr>\n",
              "    <tr>\n",
              "      <th>320</th>\n",
              "      <td>0</td>\n",
              "      <td>3</td>\n",
              "      <td>1</td>\n",
              "      <td>1</td>\n",
              "      <td>0</td>\n",
              "      <td>0</td>\n",
              "      <td>1</td>\n",
              "      <td>1</td>\n",
              "    </tr>\n",
              "    <tr>\n",
              "      <th>706</th>\n",
              "      <td>1</td>\n",
              "      <td>2</td>\n",
              "      <td>0</td>\n",
              "      <td>2</td>\n",
              "      <td>1</td>\n",
              "      <td>0</td>\n",
              "      <td>1</td>\n",
              "      <td>3</td>\n",
              "    </tr>\n",
              "  </tbody>\n",
              "</table>\n",
              "</div>"
            ],
            "text/plain": [
              "     Survived  Pclass  Sex  Age  Fare  Embarked  IsAlone  Title\n",
              "105         0       3    1    1     0         0        1      1\n",
              "68          1       3    0    1     1         0        0      2\n",
              "253         0       3    1    1     2         0        0      1\n",
              "320         0       3    1    1     0         0        1      1\n",
              "706         1       2    0    2     1         0        1      3"
            ]
          },
          "metadata": {
            "tags": []
          },
          "execution_count": 29
        }
      ]
    },
    {
      "cell_type": "code",
      "metadata": {
        "id": "QmjT8cXlEBp6"
      },
      "source": [
        "X_train = train.iloc[:,1:]\n",
        "y_train = train.iloc[:,0]\n",
        "X_test = test.iloc[:,1:]\n",
        "y_test = test.iloc[:,0]"
      ],
      "execution_count": 30,
      "outputs": []
    },
    {
      "cell_type": "markdown",
      "metadata": {
        "id": "00Yr_4GfVdKt"
      },
      "source": [
        "Using X_train, X_test, y_train, y_test (as defined above), train a SVC, Decision Tree, k-NN classifiers using the default parameters. What is the accuracy, recall, and precision of this classifier?\n",
        "\n",
        "*This function should a return a tuple with three floats, i.e. `(accuracy score, recall score, precision score)`.*"
      ]
    },
    {
      "cell_type": "code",
      "metadata": {
        "id": "P14m-zt-Rfsm"
      },
      "source": [
        "def LogisticRegression():\n",
        "    from sklearn.linear_model import LogisticRegression\n",
        "    from sklearn.metrics import recall_score, accuracy_score, precision_score\n",
        "    \n",
        "    clf = LogisticRegression()\n",
        "    start = time.time()\n",
        "    clf.fit(X_train, y_train)\n",
        "    stop = time.time()\n",
        "    traintime=stop-start\n",
        "    predictions = clf.predict(X_test)\n",
        "    accuracy_score = accuracy_score(y_test, predictions)\n",
        "    recall_score = recall_score(y_test, predictions)\n",
        "    precision_score = precision_score(y_test, predictions)\n",
        "\n",
        "    return accuracy_score, recall_score, precision_score, traintime"
      ],
      "execution_count": 31,
      "outputs": []
    },
    {
      "cell_type": "code",
      "metadata": {
        "id": "GuksqTvWVdKt"
      },
      "source": [
        "def SupportVector():\n",
        "    from sklearn.svm import SVC\n",
        "    from sklearn.metrics import recall_score, accuracy_score, precision_score\n",
        "    \n",
        "    clf = SVC()    \n",
        "    start = time.time()\n",
        "    clf.fit(X_train, y_train)\n",
        "    stop = time.time()\n",
        "    traintime=stop-start\n",
        "    predictions = clf.predict(X_test)\n",
        "    accuracy_score = accuracy_score(y_test, predictions)\n",
        "    recall_score = recall_score(y_test, predictions)\n",
        "    precision_score = precision_score(y_test, predictions)\n",
        "\n",
        "    return accuracy_score, recall_score, precision_score, traintime"
      ],
      "execution_count": 32,
      "outputs": []
    },
    {
      "cell_type": "code",
      "metadata": {
        "id": "EbMR8jMrh5Mv"
      },
      "source": [
        "def KNN():\n",
        "    from sklearn.neighbors import KNeighborsClassifier \n",
        "    from sklearn.metrics import recall_score, accuracy_score, precision_score\n",
        "    \n",
        "    clf = KNeighborsClassifier()\n",
        "    start = time.time()\n",
        "    clf.fit(X_train, y_train)\n",
        "    stop = time.time()\n",
        "    traintime=stop-start\n",
        "    predictions = clf.predict(X_test)\n",
        "    accuracy_score = accuracy_score(y_test, predictions)\n",
        "    recall_score = recall_score(y_test, predictions)\n",
        "    precision_score = precision_score(y_test, predictions)\n",
        "\n",
        "    return accuracy_score, recall_score, precision_score, traintime"
      ],
      "execution_count": 33,
      "outputs": []
    },
    {
      "cell_type": "code",
      "metadata": {
        "id": "ZOXRSIWGbXl1"
      },
      "source": [
        "def DecisionTree():\n",
        "    from sklearn.tree import DecisionTreeClassifier\n",
        "    from sklearn.metrics import recall_score, accuracy_score, precision_score\n",
        "    \n",
        "    clf = DecisionTreeClassifier()\n",
        "    start = time.time()\n",
        "    clf.fit(X_train, y_train)\n",
        "    stop = time.time()\n",
        "    traintime=stop-start\n",
        "    predictions = clf.predict(X_test)\n",
        "    accuracy_score = accuracy_score(y_test, predictions)\n",
        "    recall_score = recall_score(y_test, predictions)\n",
        "    precision_score = precision_score(y_test, predictions)\n",
        "\n",
        "    return accuracy_score, recall_score, precision_score, traintime"
      ],
      "execution_count": 34,
      "outputs": []
    },
    {
      "cell_type": "code",
      "metadata": {
        "id": "jIIc24x7SR44"
      },
      "source": [
        "def RandomForest():\n",
        "    from sklearn.ensemble import RandomForestClassifier\n",
        "    from sklearn.metrics import recall_score, accuracy_score, precision_score\n",
        "    \n",
        "    clf = RandomForestClassifier()\n",
        "    start = time.time()\n",
        "    clf.fit(X_train, y_train)\n",
        "    stop = time.time()\n",
        "    traintime=stop-start\n",
        "    predictions = clf.predict(X_test)\n",
        "    accuracy_score = accuracy_score(y_test, predictions)\n",
        "    recall_score = recall_score(y_test, predictions)\n",
        "    precision_score = precision_score(y_test, predictions)\n",
        "\n",
        "    return accuracy_score, recall_score, precision_score, traintime"
      ],
      "execution_count": 35,
      "outputs": []
    },
    {
      "cell_type": "code",
      "metadata": {
        "id": "nObPl5mvOxyM"
      },
      "source": [
        "knn=KNN()\n",
        "lr=LogisticRegression()\n",
        "sv=SupportVector()\n",
        "dt=DecisionTree()\n",
        "rf=RandomForest()\n",
        "sv=list(pd.Series(['SVM',sv[0],sv[1],sv[2],sv[3]]))\n",
        "dt=list(pd.Series(['DecisionTree',dt[0],dt[1],dt[2],dt[3]]))\n",
        "knn=list(pd.Series(['KNN',knn[0],knn[1],knn[2],knn[3]]))\n",
        "lr=list(pd.Series(['Logistic Regression',lr[0],lr[1],lr[2],lr[3]]))\n",
        "rf=list(pd.Series(['RandomForest',rf[0],rf[1],rf[2],rf[3]]))"
      ],
      "execution_count": 36,
      "outputs": []
    },
    {
      "cell_type": "code",
      "metadata": {
        "id": "Mlj09zAcNSj9",
        "colab": {
          "base_uri": "https://localhost:8080/",
          "height": 205
        },
        "outputId": "ae1b5185-9e39-4d67-f9df-36206dff7045"
      },
      "source": [
        "compare= pd.DataFrame([lr,sv,knn,dt,rf],columns=['Classifier','Accuracy','Recall','Precision','Runtime'])\n",
        "compare"
      ],
      "execution_count": 37,
      "outputs": [
        {
          "output_type": "execute_result",
          "data": {
            "text/html": [
              "<div>\n",
              "<style scoped>\n",
              "    .dataframe tbody tr th:only-of-type {\n",
              "        vertical-align: middle;\n",
              "    }\n",
              "\n",
              "    .dataframe tbody tr th {\n",
              "        vertical-align: top;\n",
              "    }\n",
              "\n",
              "    .dataframe thead th {\n",
              "        text-align: right;\n",
              "    }\n",
              "</style>\n",
              "<table border=\"1\" class=\"dataframe\">\n",
              "  <thead>\n",
              "    <tr style=\"text-align: right;\">\n",
              "      <th></th>\n",
              "      <th>Classifier</th>\n",
              "      <th>Accuracy</th>\n",
              "      <th>Recall</th>\n",
              "      <th>Precision</th>\n",
              "      <th>Runtime</th>\n",
              "    </tr>\n",
              "  </thead>\n",
              "  <tbody>\n",
              "    <tr>\n",
              "      <th>0</th>\n",
              "      <td>Logistic Regression</td>\n",
              "      <td>0.775785</td>\n",
              "      <td>0.761905</td>\n",
              "      <td>0.680851</td>\n",
              "      <td>0.006674</td>\n",
              "    </tr>\n",
              "    <tr>\n",
              "      <th>1</th>\n",
              "      <td>SVM</td>\n",
              "      <td>0.793722</td>\n",
              "      <td>0.702381</td>\n",
              "      <td>0.737500</td>\n",
              "      <td>0.011516</td>\n",
              "    </tr>\n",
              "    <tr>\n",
              "      <th>2</th>\n",
              "      <td>KNN</td>\n",
              "      <td>0.807175</td>\n",
              "      <td>0.714286</td>\n",
              "      <td>0.759494</td>\n",
              "      <td>0.001856</td>\n",
              "    </tr>\n",
              "    <tr>\n",
              "      <th>3</th>\n",
              "      <td>DecisionTree</td>\n",
              "      <td>0.820628</td>\n",
              "      <td>0.666667</td>\n",
              "      <td>0.823529</td>\n",
              "      <td>0.001555</td>\n",
              "    </tr>\n",
              "    <tr>\n",
              "      <th>4</th>\n",
              "      <td>RandomForest</td>\n",
              "      <td>0.820628</td>\n",
              "      <td>0.750000</td>\n",
              "      <td>0.768293</td>\n",
              "      <td>0.140922</td>\n",
              "    </tr>\n",
              "  </tbody>\n",
              "</table>\n",
              "</div>"
            ],
            "text/plain": [
              "            Classifier  Accuracy    Recall  Precision   Runtime\n",
              "0  Logistic Regression  0.775785  0.761905   0.680851  0.006674\n",
              "1                  SVM  0.793722  0.702381   0.737500  0.011516\n",
              "2                  KNN  0.807175  0.714286   0.759494  0.001856\n",
              "3         DecisionTree  0.820628  0.666667   0.823529  0.001555\n",
              "4         RandomForest  0.820628  0.750000   0.768293  0.140922"
            ]
          },
          "metadata": {
            "tags": []
          },
          "execution_count": 37
        }
      ]
    },
    {
      "cell_type": "markdown",
      "metadata": {
        "id": "2z_w-zraVdKu"
      },
      "source": [
        "Using the SVC classifier with parameters `{'C': 1e9, 'gamma': 1e-07}`, what is the confusion matrix when using a threshold of -220 on the decision function. Use X_test and y_test.\n",
        "\n",
        "*This function should return a confusion matrix, a 2x2 numpy array with 4 integers.*"
      ]
    },
    {
      "cell_type": "code",
      "metadata": {
        "id": "X_tS407_VdKu",
        "colab": {
          "base_uri": "https://localhost:8080/"
        },
        "outputId": "ed0a645b-2dcb-4cf5-a9be-2841d887f999"
      },
      "source": [
        "def confusionmatrix():\n",
        "    from sklearn.metrics import confusion_matrix\n",
        "    from sklearn.svm import SVC\n",
        "\n",
        "    clf = SVC(C=1e9, gamma=1e-07)\n",
        "    clf.fit(X_train, y_train)\n",
        "    y_scores = clf.decision_function(X_test) > -220\n",
        "    confusion_matrix = confusion_matrix(y_test, y_scores)\n",
        "\n",
        "    return confusion_matrix\n",
        "confusionmatrix()\n"
      ],
      "execution_count": 38,
      "outputs": [
        {
          "output_type": "execute_result",
          "data": {
            "text/plain": [
              "array([[105,  34],\n",
              "       [ 18,  66]])"
            ]
          },
          "metadata": {
            "tags": []
          },
          "execution_count": 38
        }
      ]
    }
  ]
}