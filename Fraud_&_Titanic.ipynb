{
  "nbformat": 4,
  "nbformat_minor": 0,
  "metadata": {
    "coursera": {
      "course_slug": "python-machine-learning",
      "graded_item_id": "5yX9Z",
      "launcher_item_id": "eqnV3",
      "part_id": "Msnj0"
    },
    "kernelspec": {
      "display_name": "Python 3",
      "language": "python",
      "name": "python3"
    },
    "language_info": {
      "codemirror_mode": {
        "name": "ipython",
        "version": 3
      },
      "file_extension": ".py",
      "mimetype": "text/x-python",
      "name": "python",
      "nbconvert_exporter": "python",
      "pygments_lexer": "ipython3",
      "version": "3.5.2"
    },
    "colab": {
      "name": "Fraud & Titanic.ipynb",
      "provenance": [],
      "collapsed_sections": [],
      "toc_visible": true,
      "include_colab_link": true
    }
  },
  "cells": [
    {
      "cell_type": "markdown",
      "metadata": {
        "id": "view-in-github",
        "colab_type": "text"
      },
      "source": [
        "<a href=\"https://colab.research.google.com/github/vvviet2908/EDA/blob/main/Fraud_%26_Titanic.ipynb\" target=\"_parent\"><img src=\"https://colab.research.google.com/assets/colab-badge.svg\" alt=\"Open In Colab\"/></a>"
      ]
    },
    {
      "cell_type": "markdown",
      "metadata": {
        "id": "kPHime5wGkcU"
      },
      "source": [
        "## **Name: Vo Van Viet - ID:ITDSIU18043**"
      ]
    },
    {
      "cell_type": "markdown",
      "metadata": {
        "id": "PgpzY0SmVdKo"
      },
      "source": [
        "\n",
        "In this lab exercise, you will train several models and evaluate how effectively they predict instances of fraud using data based on [this dataset from Kaggle](https://www.kaggle.com/dalpozz/creditcardfraud).\n",
        " \n",
        "Each row in `fraud_data.csv` corresponds to a credit card transaction. Features include confidential variables `V1` through `V28` as well as `Amount` which is the amount of the transaction. \n",
        " \n",
        "The target is stored in the `class` column, where a value of 1 corresponds to an instance of fraud and 0 corresponds to an instance of not fraud. \n",
        "\n",
        "NOTE: you are not required to carry out data preprocessing step to enhance the prediction performance"
      ]
    },
    {
      "cell_type": "code",
      "metadata": {
        "id": "2rigut8SVkXX"
      },
      "source": [
        "# Import data from your Drive"
      ],
      "execution_count": null,
      "outputs": []
    },
    {
      "cell_type": "code",
      "metadata": {
        "id": "mqlix8pfVdKp"
      },
      "source": [
        "import numpy as np\n",
        "import pandas as pd\n",
        "import time\n"
      ],
      "execution_count": null,
      "outputs": []
    },
    {
      "cell_type": "code",
      "metadata": {
        "colab": {
          "base_uri": "https://localhost:8080/",
          "height": 215
        },
        "id": "gqJ9Lu-KHzAU",
        "outputId": "9ac5358d-4490-4697-a287-283905e335b8"
      },
      "source": [
        "df= pd.read_csv('/content/fraud_data.csv')\n",
        "df.head()"
      ],
      "execution_count": null,
      "outputs": [
        {
          "output_type": "execute_result",
          "data": {
            "text/html": [
              "<div>\n",
              "<style scoped>\n",
              "    .dataframe tbody tr th:only-of-type {\n",
              "        vertical-align: middle;\n",
              "    }\n",
              "\n",
              "    .dataframe tbody tr th {\n",
              "        vertical-align: top;\n",
              "    }\n",
              "\n",
              "    .dataframe thead th {\n",
              "        text-align: right;\n",
              "    }\n",
              "</style>\n",
              "<table border=\"1\" class=\"dataframe\">\n",
              "  <thead>\n",
              "    <tr style=\"text-align: right;\">\n",
              "      <th></th>\n",
              "      <th>V1</th>\n",
              "      <th>V2</th>\n",
              "      <th>V3</th>\n",
              "      <th>V4</th>\n",
              "      <th>V5</th>\n",
              "      <th>V6</th>\n",
              "      <th>V7</th>\n",
              "      <th>V8</th>\n",
              "      <th>V9</th>\n",
              "      <th>V10</th>\n",
              "      <th>V11</th>\n",
              "      <th>V12</th>\n",
              "      <th>V13</th>\n",
              "      <th>V14</th>\n",
              "      <th>V15</th>\n",
              "      <th>V16</th>\n",
              "      <th>V17</th>\n",
              "      <th>V18</th>\n",
              "      <th>V19</th>\n",
              "      <th>V20</th>\n",
              "      <th>V21</th>\n",
              "      <th>V22</th>\n",
              "      <th>V23</th>\n",
              "      <th>V24</th>\n",
              "      <th>V25</th>\n",
              "      <th>V26</th>\n",
              "      <th>V27</th>\n",
              "      <th>V28</th>\n",
              "      <th>Amount</th>\n",
              "      <th>Class</th>\n",
              "    </tr>\n",
              "  </thead>\n",
              "  <tbody>\n",
              "    <tr>\n",
              "      <th>0</th>\n",
              "      <td>1.176563</td>\n",
              "      <td>0.323798</td>\n",
              "      <td>0.536927</td>\n",
              "      <td>1.047002</td>\n",
              "      <td>-0.368652</td>\n",
              "      <td>-0.728586</td>\n",
              "      <td>0.084678</td>\n",
              "      <td>-0.069246</td>\n",
              "      <td>-0.266389</td>\n",
              "      <td>0.155315</td>\n",
              "      <td>1.535776</td>\n",
              "      <td>1.019947</td>\n",
              "      <td>-0.096511</td>\n",
              "      <td>0.573023</td>\n",
              "      <td>0.215214</td>\n",
              "      <td>0.265249</td>\n",
              "      <td>-0.612064</td>\n",
              "      <td>0.093821</td>\n",
              "      <td>-0.064890</td>\n",
              "      <td>-0.137258</td>\n",
              "      <td>-0.109627</td>\n",
              "      <td>-0.341365</td>\n",
              "      <td>0.057845</td>\n",
              "      <td>0.499180</td>\n",
              "      <td>0.415211</td>\n",
              "      <td>-0.581949</td>\n",
              "      <td>0.015472</td>\n",
              "      <td>0.018065</td>\n",
              "      <td>4.67</td>\n",
              "      <td>0</td>\n",
              "    </tr>\n",
              "    <tr>\n",
              "      <th>1</th>\n",
              "      <td>0.681109</td>\n",
              "      <td>-3.934776</td>\n",
              "      <td>-3.801827</td>\n",
              "      <td>-1.147468</td>\n",
              "      <td>-0.735540</td>\n",
              "      <td>-0.501097</td>\n",
              "      <td>1.038865</td>\n",
              "      <td>-0.626979</td>\n",
              "      <td>-2.274423</td>\n",
              "      <td>1.527782</td>\n",
              "      <td>-0.007688</td>\n",
              "      <td>-1.087403</td>\n",
              "      <td>-0.720270</td>\n",
              "      <td>0.855185</td>\n",
              "      <td>-1.070011</td>\n",
              "      <td>-0.869661</td>\n",
              "      <td>0.395302</td>\n",
              "      <td>0.635695</td>\n",
              "      <td>0.249401</td>\n",
              "      <td>1.341809</td>\n",
              "      <td>0.652202</td>\n",
              "      <td>0.272684</td>\n",
              "      <td>-0.982151</td>\n",
              "      <td>0.165900</td>\n",
              "      <td>0.360251</td>\n",
              "      <td>0.195321</td>\n",
              "      <td>-0.256273</td>\n",
              "      <td>0.056501</td>\n",
              "      <td>912.00</td>\n",
              "      <td>0</td>\n",
              "    </tr>\n",
              "    <tr>\n",
              "      <th>2</th>\n",
              "      <td>1.140729</td>\n",
              "      <td>0.453484</td>\n",
              "      <td>0.247010</td>\n",
              "      <td>2.383132</td>\n",
              "      <td>0.343287</td>\n",
              "      <td>0.432804</td>\n",
              "      <td>0.093380</td>\n",
              "      <td>0.173310</td>\n",
              "      <td>-0.808999</td>\n",
              "      <td>0.775436</td>\n",
              "      <td>0.726218</td>\n",
              "      <td>0.347648</td>\n",
              "      <td>-0.806752</td>\n",
              "      <td>0.531268</td>\n",
              "      <td>-0.806538</td>\n",
              "      <td>0.154996</td>\n",
              "      <td>-0.319935</td>\n",
              "      <td>-0.335550</td>\n",
              "      <td>-0.648994</td>\n",
              "      <td>-0.232185</td>\n",
              "      <td>-0.003802</td>\n",
              "      <td>0.058556</td>\n",
              "      <td>-0.121177</td>\n",
              "      <td>-0.304215</td>\n",
              "      <td>0.645893</td>\n",
              "      <td>0.122600</td>\n",
              "      <td>-0.012115</td>\n",
              "      <td>-0.005945</td>\n",
              "      <td>1.00</td>\n",
              "      <td>0</td>\n",
              "    </tr>\n",
              "    <tr>\n",
              "      <th>3</th>\n",
              "      <td>-1.107073</td>\n",
              "      <td>-3.298902</td>\n",
              "      <td>-0.184092</td>\n",
              "      <td>-1.795744</td>\n",
              "      <td>2.137564</td>\n",
              "      <td>-1.684992</td>\n",
              "      <td>-2.015606</td>\n",
              "      <td>-0.007181</td>\n",
              "      <td>-0.165760</td>\n",
              "      <td>0.869659</td>\n",
              "      <td>-1.027847</td>\n",
              "      <td>-3.220699</td>\n",
              "      <td>3.007008</td>\n",
              "      <td>0.794679</td>\n",
              "      <td>-1.504351</td>\n",
              "      <td>-0.380985</td>\n",
              "      <td>0.667344</td>\n",
              "      <td>0.676138</td>\n",
              "      <td>-0.419469</td>\n",
              "      <td>0.348269</td>\n",
              "      <td>0.130648</td>\n",
              "      <td>0.329445</td>\n",
              "      <td>0.927656</td>\n",
              "      <td>-0.049560</td>\n",
              "      <td>-1.892866</td>\n",
              "      <td>-0.575431</td>\n",
              "      <td>0.266573</td>\n",
              "      <td>0.414184</td>\n",
              "      <td>62.10</td>\n",
              "      <td>0</td>\n",
              "    </tr>\n",
              "    <tr>\n",
              "      <th>4</th>\n",
              "      <td>-0.314818</td>\n",
              "      <td>0.866839</td>\n",
              "      <td>-0.124577</td>\n",
              "      <td>-0.627638</td>\n",
              "      <td>2.651762</td>\n",
              "      <td>3.428128</td>\n",
              "      <td>0.194637</td>\n",
              "      <td>0.670674</td>\n",
              "      <td>-0.442658</td>\n",
              "      <td>0.133499</td>\n",
              "      <td>0.148566</td>\n",
              "      <td>-0.474103</td>\n",
              "      <td>-0.011319</td>\n",
              "      <td>-0.410223</td>\n",
              "      <td>1.648979</td>\n",
              "      <td>0.218394</td>\n",
              "      <td>-0.239475</td>\n",
              "      <td>0.422933</td>\n",
              "      <td>1.274986</td>\n",
              "      <td>0.402329</td>\n",
              "      <td>-0.312774</td>\n",
              "      <td>-0.799494</td>\n",
              "      <td>-0.064488</td>\n",
              "      <td>0.953062</td>\n",
              "      <td>-0.429550</td>\n",
              "      <td>0.158225</td>\n",
              "      <td>0.076943</td>\n",
              "      <td>-0.015051</td>\n",
              "      <td>2.67</td>\n",
              "      <td>0</td>\n",
              "    </tr>\n",
              "  </tbody>\n",
              "</table>\n",
              "</div>"
            ],
            "text/plain": [
              "         V1        V2        V3        V4  ...       V27       V28  Amount  Class\n",
              "0  1.176563  0.323798  0.536927  1.047002  ...  0.015472  0.018065    4.67      0\n",
              "1  0.681109 -3.934776 -3.801827 -1.147468  ... -0.256273  0.056501  912.00      0\n",
              "2  1.140729  0.453484  0.247010  2.383132  ... -0.012115 -0.005945    1.00      0\n",
              "3 -1.107073 -3.298902 -0.184092 -1.795744  ...  0.266573  0.414184   62.10      0\n",
              "4 -0.314818  0.866839 -0.124577 -0.627638  ...  0.076943 -0.015051    2.67      0\n",
              "\n",
              "[5 rows x 30 columns]"
            ]
          },
          "metadata": {
            "tags": []
          },
          "execution_count": 196
        }
      ]
    },
    {
      "cell_type": "markdown",
      "metadata": {
        "id": "r-l5pCROVdKq"
      },
      "source": [
        "### Question 1\n",
        "Import the data from `fraud_data.csv` from your local G-Drive. What percentage of the observations in the dataset are instances of fraud?\n",
        "\n",
        "*This function should return a float between 0 and 1.* "
      ]
    },
    {
      "cell_type": "code",
      "metadata": {
        "id": "24997lJAVdKq",
        "colab": {
          "base_uri": "https://localhost:8080/"
        },
        "outputId": "2971f549-d1a2-486c-c1b9-9ad0e6639761"
      },
      "source": [
        "def question1():\n",
        "  df= pd.read_csv('/content/fraud_data.csv')\n",
        "  percentage= len(df[df['Class']==1])/(len(df[df['Class']==1])+len(df[df['Class']==0]))\n",
        "  return percentage\n",
        "\n",
        "question1()"
      ],
      "execution_count": null,
      "outputs": [
        {
          "output_type": "execute_result",
          "data": {
            "text/plain": [
              "0.016410823768035772"
            ]
          },
          "metadata": {
            "tags": []
          },
          "execution_count": 197
        }
      ]
    },
    {
      "cell_type": "markdown",
      "metadata": {
        "id": "kykE3THRi-M-"
      },
      "source": [
        "Split the raw data into train and test datasets"
      ]
    },
    {
      "cell_type": "code",
      "metadata": {
        "id": "6EGN0hzNVdKs"
      },
      "source": [
        "from sklearn.model_selection import train_test_split\n",
        "\n",
        "X = df.iloc[:,:-1]\n",
        "y = df.iloc[:,-1]\n",
        "\n",
        "X_train, X_test, y_train, y_test = train_test_split(X, y, random_state=0)"
      ],
      "execution_count": null,
      "outputs": []
    },
    {
      "cell_type": "markdown",
      "metadata": {
        "id": "gKxoMb6kVdKs"
      },
      "source": [
        "### Question 2\n",
        "\n",
        "Using `X_train`, `X_test`, `y_train`, and `y_test` (as defined above), train a dummy classifier that classifies everything as the majority class of the training data. What is the accuracy of this classifier? What is the recall?\n",
        "\n",
        "*This function should a return a tuple with two floats, i.e. `(accuracy score, recall score)`.*"
      ]
    },
    {
      "cell_type": "code",
      "metadata": {
        "id": "rFjygpv1VdKs",
        "colab": {
          "base_uri": "https://localhost:8080/"
        },
        "outputId": "7d79fe5e-a8b5-4ba3-e685-d6e3264cd820"
      },
      "source": [
        "def question2():\n",
        "    from sklearn.dummy import DummyClassifier\n",
        "    from sklearn.metrics import recall_score, accuracy_score\n",
        "    \n",
        "    clf = DummyClassifier()\n",
        "    clf.fit(X_train, y_train)\n",
        "    predictions = clf.predict(X_test)\n",
        "    accuracy_score = accuracy_score(y_test, predictions)\n",
        "    recall_score = recall_score(y_test, predictions)\n",
        "    \n",
        "    return accuracy_score, recall_score\n",
        "question2()"
      ],
      "execution_count": null,
      "outputs": [
        {
          "output_type": "stream",
          "text": [
            "/usr/local/lib/python3.7/dist-packages/sklearn/dummy.py:132: FutureWarning: The default value of strategy will change from stratified to prior in 0.24.\n",
            "  \"stratified to prior in 0.24.\", FutureWarning)\n"
          ],
          "name": "stderr"
        },
        {
          "output_type": "execute_result",
          "data": {
            "text/plain": [
              "(0.9697640117994101, 0.025)"
            ]
          },
          "metadata": {
            "tags": []
          },
          "execution_count": 199
        }
      ]
    },
    {
      "cell_type": "markdown",
      "metadata": {
        "id": "00Yr_4GfVdKt"
      },
      "source": [
        "### Question 3\n",
        "\n",
        "Using X_train, X_test, y_train, y_test (as defined above), train a SVC, Decision Tree, k-NN classifiers using the default parameters. What is the accuracy, recall, and precision of this classifier?\n",
        "\n",
        "*This function should a return a tuple with three floats, i.e. `(accuracy score, recall score, precision score)`.*"
      ]
    },
    {
      "cell_type": "code",
      "metadata": {
        "id": "GuksqTvWVdKt"
      },
      "source": [
        "def SupportVector():\n",
        "    from sklearn.svm import SVC\n",
        "    from sklearn.metrics import recall_score, accuracy_score, precision_score\n",
        "    \n",
        "    clf = SVC()    \n",
        "    start = time.time()\n",
        "    clf.fit(X_train, y_train)\n",
        "    stop = time.time()\n",
        "    traintime=stop-start\n",
        "    predictions = clf.predict(X_test)\n",
        "    accuracy_score = accuracy_score(y_test, predictions)\n",
        "    recall_score = recall_score(y_test, predictions)\n",
        "    precision_score = precision_score(y_test, predictions)\n",
        "\n",
        "    return accuracy_score, recall_score, precision_score, traintime"
      ],
      "execution_count": null,
      "outputs": []
    },
    {
      "cell_type": "code",
      "metadata": {
        "id": "ZOXRSIWGbXl1"
      },
      "source": [
        "def DecisionTree():\n",
        "    from sklearn.tree import DecisionTreeClassifier\n",
        "    from sklearn.metrics import recall_score, accuracy_score, precision_score\n",
        "    \n",
        "    clf = DecisionTreeClassifier()\n",
        "    start = time.time()\n",
        "    clf.fit(X_train, y_train)\n",
        "    stop = time.time()\n",
        "    traintime=stop-start\n",
        "    predictions = clf.predict(X_test)\n",
        "    accuracy_score = accuracy_score(y_test, predictions)\n",
        "    recall_score = recall_score(y_test, predictions)\n",
        "    precision_score = precision_score(y_test, predictions)\n",
        "\n",
        "    return accuracy_score, recall_score, precision_score, traintime"
      ],
      "execution_count": null,
      "outputs": []
    },
    {
      "cell_type": "code",
      "metadata": {
        "id": "EbMR8jMrh5Mv"
      },
      "source": [
        "def KNN():\n",
        "    from sklearn.neighbors import KNeighborsClassifier \n",
        "    from sklearn.metrics import recall_score, accuracy_score, precision_score\n",
        "    \n",
        "    clf = KNeighborsClassifier()\n",
        "    start = time.time()\n",
        "    clf.fit(X_train, y_train)\n",
        "    stop = time.time()\n",
        "    traintime=stop-start\n",
        "    predictions = clf.predict(X_test)\n",
        "    accuracy_score = accuracy_score(y_test, predictions)\n",
        "    recall_score = recall_score(y_test, predictions)\n",
        "    precision_score = precision_score(y_test, predictions)\n",
        "\n",
        "    return accuracy_score, recall_score, precision_score, traintime"
      ],
      "execution_count": null,
      "outputs": []
    },
    {
      "cell_type": "code",
      "metadata": {
        "id": "nObPl5mvOxyM"
      },
      "source": [
        "sv=SupportVector()\n",
        "dt=DecisionTree()\n",
        "knn=KNN()\n",
        "sv=list(pd.Series(['SVM',sv[0],sv[1],sv[2],sv[3]]))\n",
        "dt=list(pd.Series(['DecisionTree',dt[0],dt[1],dt[2],dt[3]]))\n",
        "knn=list(pd.Series(['KNN',knn[0],knn[1],knn[2],knn[3]]))"
      ],
      "execution_count": null,
      "outputs": []
    },
    {
      "cell_type": "code",
      "metadata": {
        "id": "Mlj09zAcNSj9",
        "colab": {
          "base_uri": "https://localhost:8080/",
          "height": 136
        },
        "outputId": "f0e5d288-6a82-4fb2-ed6e-687a5341dc54"
      },
      "source": [
        "compare= pd.DataFrame([sv,dt,knn],columns=['Classifier','Accuracy','Recall','Precision','Runtime'])\n",
        "compare"
      ],
      "execution_count": null,
      "outputs": [
        {
          "output_type": "execute_result",
          "data": {
            "text/html": [
              "<div>\n",
              "<style scoped>\n",
              "    .dataframe tbody tr th:only-of-type {\n",
              "        vertical-align: middle;\n",
              "    }\n",
              "\n",
              "    .dataframe tbody tr th {\n",
              "        vertical-align: top;\n",
              "    }\n",
              "\n",
              "    .dataframe thead th {\n",
              "        text-align: right;\n",
              "    }\n",
              "</style>\n",
              "<table border=\"1\" class=\"dataframe\">\n",
              "  <thead>\n",
              "    <tr style=\"text-align: right;\">\n",
              "      <th></th>\n",
              "      <th>Classifier</th>\n",
              "      <th>Accuracy</th>\n",
              "      <th>Recall</th>\n",
              "      <th>Precision</th>\n",
              "      <th>Runtime</th>\n",
              "    </tr>\n",
              "  </thead>\n",
              "  <tbody>\n",
              "    <tr>\n",
              "      <th>0</th>\n",
              "      <td>SVM</td>\n",
              "      <td>0.990044</td>\n",
              "      <td>0.3500</td>\n",
              "      <td>0.933333</td>\n",
              "      <td>0.679039</td>\n",
              "    </tr>\n",
              "    <tr>\n",
              "      <th>1</th>\n",
              "      <td>DecisionTree</td>\n",
              "      <td>0.991335</td>\n",
              "      <td>0.7375</td>\n",
              "      <td>0.694118</td>\n",
              "      <td>0.474611</td>\n",
              "    </tr>\n",
              "    <tr>\n",
              "      <th>2</th>\n",
              "      <td>KNN</td>\n",
              "      <td>0.993916</td>\n",
              "      <td>0.6250</td>\n",
              "      <td>0.943396</td>\n",
              "      <td>0.061563</td>\n",
              "    </tr>\n",
              "  </tbody>\n",
              "</table>\n",
              "</div>"
            ],
            "text/plain": [
              "     Classifier  Accuracy  Recall  Precision   Runtime\n",
              "0           SVM  0.990044  0.3500   0.933333  0.679039\n",
              "1  DecisionTree  0.991335  0.7375   0.694118  0.474611\n",
              "2           KNN  0.993916  0.6250   0.943396  0.061563"
            ]
          },
          "metadata": {
            "tags": []
          },
          "execution_count": 204
        }
      ]
    },
    {
      "cell_type": "markdown",
      "metadata": {
        "id": "2z_w-zraVdKu"
      },
      "source": [
        "### Question 4\n",
        "\n",
        "Using the SVC classifier with parameters `{'C': 1e9, 'gamma': 1e-07}`, what is the confusion matrix when using a threshold of -220 on the decision function. Use X_test and y_test.\n",
        "\n",
        "*This function should return a confusion matrix, a 2x2 numpy array with 4 integers.*"
      ]
    },
    {
      "cell_type": "code",
      "metadata": {
        "id": "X_tS407_VdKu",
        "colab": {
          "base_uri": "https://localhost:8080/"
        },
        "outputId": "be9cfad3-e097-4245-9961-b77fc5e550bd"
      },
      "source": [
        "def question4():\n",
        "    from sklearn.metrics import confusion_matrix\n",
        "    from sklearn.svm import SVC\n",
        "\n",
        "    clf = SVC(C=1e9, gamma=1e-07)\n",
        "    clf.fit(X_train, y_train)\n",
        "    y_scores = clf.decision_function(X_test) > -220\n",
        "    confusion_matrix = confusion_matrix(y_test, y_scores)\n",
        "\n",
        "    return confusion_matrix\n",
        "question4()\n"
      ],
      "execution_count": null,
      "outputs": [
        {
          "output_type": "execute_result",
          "data": {
            "text/plain": [
              "array([[5320,   24],\n",
              "       [  14,   66]])"
            ]
          },
          "metadata": {
            "tags": []
          },
          "execution_count": 205
        }
      ]
    },
    {
      "cell_type": "markdown",
      "metadata": {
        "id": "jJznfqBaVdKv"
      },
      "source": [
        "### Question 5\n",
        "\n",
        "Train a logisitic regression classifier with default parameters using X_train and y_train.\n",
        "\n",
        "For the logisitic regression classifier, create a precision recall curve and a roc curve using y_test and the probability estimates for X_test (probability it is fraud).\n",
        "\n",
        "Looking at the precision recall curve, what is the recall when the precision is `0.75`?\n",
        "\n",
        "Looking at the roc curve, what is the true positive rate when the false positive rate is `0.16`?\n",
        "\n",
        "*This function should return a tuple with two floats, i.e. `(recall, true positive rate)`.*"
      ]
    },
    {
      "cell_type": "code",
      "metadata": {
        "id": "FoKx1F-6VdKv",
        "colab": {
          "base_uri": "https://localhost:8080/"
        },
        "outputId": "77caddaf-a7b2-4bf6-f5a3-93356fde1a5f"
      },
      "source": [
        "def question5():\n",
        "    from sklearn.linear_model import LogisticRegression\n",
        "    from sklearn.metrics import precision_recall_curve ,roc_curve, auc\n",
        "    \n",
        "    clf = LogisticRegression().fit(X_train, y_train)\n",
        "    y_pred = clf.decision_function(X_test)\n",
        "    \n",
        "    precision, recall, thresholds = precision_recall_curve(y_test, y_pred)\n",
        "    closest_zero = np.argmin(np.abs(thresholds))\n",
        "    closest_zero_precision = precision[closest_zero]\n",
        "    closest_zero_recall = recall[closest_zero]\n",
        "    index = np.where(precision==0.75)[0][0]\n",
        "    rec_075 = recall[index]\n",
        "\n",
        "    y_score_lr = clf.predict_proba(X_test)\n",
        "    false_positive_rate, true_positive_rate, _ = roc_curve(y_test, y_score_lr[:, 1])\n",
        "    area_under_the_curve = auc(false_positive_rate, true_positive_rate)\n",
        "    index = np.where(np.round(false_positive_rate, 2)==0.16)\n",
        "    tpr_016 = true_positive_rate[index]\n",
        "    \n",
        "    return rec_075, tpr_016\n",
        "question5()"
      ],
      "execution_count": null,
      "outputs": [
        {
          "output_type": "stream",
          "text": [
            "/usr/local/lib/python3.7/dist-packages/sklearn/linear_model/_logistic.py:940: ConvergenceWarning: lbfgs failed to converge (status=1):\n",
            "STOP: TOTAL NO. of ITERATIONS REACHED LIMIT.\n",
            "\n",
            "Increase the number of iterations (max_iter) or scale the data as shown in:\n",
            "    https://scikit-learn.org/stable/modules/preprocessing.html\n",
            "Please also refer to the documentation for alternative solver options:\n",
            "    https://scikit-learn.org/stable/modules/linear_model.html#logistic-regression\n",
            "  extra_warning_msg=_LOGISTIC_SOLVER_CONVERGENCE_MSG)\n"
          ],
          "name": "stderr"
        },
        {
          "output_type": "execute_result",
          "data": {
            "text/plain": [
              "(0.825, array([], dtype=float64))"
            ]
          },
          "metadata": {
            "tags": []
          },
          "execution_count": 206
        }
      ]
    },
    {
      "cell_type": "markdown",
      "metadata": {
        "id": "Ed27aujPkZ8h"
      },
      "source": [
        "### Question 6\n",
        "\n",
        "Do these 5 tasks above with `titanic` data."
      ]
    },
    {
      "cell_type": "markdown",
      "metadata": {
        "id": "0f5VnNUBDGnv"
      },
      "source": [
        "Question 1"
      ]
    },
    {
      "cell_type": "code",
      "metadata": {
        "id": "4UAkINFODBTB",
        "colab": {
          "base_uri": "https://localhost:8080/"
        },
        "outputId": "04e3d661-44a0-4cd6-b240-44727f84a9f1"
      },
      "source": [
        "def question1():\n",
        "  df= pd.read_csv('/content/titanic.csv')\n",
        "  percentage= len(df[df['Survived']==1])/(len(df[df['Survived']==1])+len(df[df['Survived']==0]))\n",
        "  return percentage\n",
        "\n",
        "question1()"
      ],
      "execution_count": null,
      "outputs": [
        {
          "output_type": "execute_result",
          "data": {
            "text/plain": [
              "0.3838383838383838"
            ]
          },
          "metadata": {
            "tags": []
          },
          "execution_count": 207
        }
      ]
    },
    {
      "cell_type": "markdown",
      "metadata": {
        "id": "GnFxKcnDDbUy"
      },
      "source": [
        "Question 2"
      ]
    },
    {
      "cell_type": "code",
      "metadata": {
        "id": "GUhDtFf1kk5v",
        "colab": {
          "base_uri": "https://localhost:8080/",
          "height": 229
        },
        "outputId": "694ed6eb-b9fc-4a20-c47f-7baadd332dd5"
      },
      "source": [
        "df= pd.read_csv('/content/titanic.csv')\n",
        "df.head()"
      ],
      "execution_count": null,
      "outputs": [
        {
          "output_type": "execute_result",
          "data": {
            "text/html": [
              "<div>\n",
              "<style scoped>\n",
              "    .dataframe tbody tr th:only-of-type {\n",
              "        vertical-align: middle;\n",
              "    }\n",
              "\n",
              "    .dataframe tbody tr th {\n",
              "        vertical-align: top;\n",
              "    }\n",
              "\n",
              "    .dataframe thead th {\n",
              "        text-align: right;\n",
              "    }\n",
              "</style>\n",
              "<table border=\"1\" class=\"dataframe\">\n",
              "  <thead>\n",
              "    <tr style=\"text-align: right;\">\n",
              "      <th></th>\n",
              "      <th>PassengerId</th>\n",
              "      <th>Survived</th>\n",
              "      <th>Pclass</th>\n",
              "      <th>Name</th>\n",
              "      <th>Sex</th>\n",
              "      <th>Age</th>\n",
              "      <th>SibSp</th>\n",
              "      <th>Parch</th>\n",
              "      <th>Ticket</th>\n",
              "      <th>Fare</th>\n",
              "      <th>Cabin</th>\n",
              "      <th>Embarked</th>\n",
              "    </tr>\n",
              "  </thead>\n",
              "  <tbody>\n",
              "    <tr>\n",
              "      <th>0</th>\n",
              "      <td>1</td>\n",
              "      <td>0</td>\n",
              "      <td>3</td>\n",
              "      <td>Braund, Mr. Owen Harris</td>\n",
              "      <td>male</td>\n",
              "      <td>22.0</td>\n",
              "      <td>1</td>\n",
              "      <td>0</td>\n",
              "      <td>A/5 21171</td>\n",
              "      <td>7.2500</td>\n",
              "      <td>NaN</td>\n",
              "      <td>S</td>\n",
              "    </tr>\n",
              "    <tr>\n",
              "      <th>1</th>\n",
              "      <td>2</td>\n",
              "      <td>1</td>\n",
              "      <td>1</td>\n",
              "      <td>Cumings, Mrs. John Bradley (Florence Briggs Th...</td>\n",
              "      <td>female</td>\n",
              "      <td>38.0</td>\n",
              "      <td>1</td>\n",
              "      <td>0</td>\n",
              "      <td>PC 17599</td>\n",
              "      <td>71.2833</td>\n",
              "      <td>C85</td>\n",
              "      <td>C</td>\n",
              "    </tr>\n",
              "    <tr>\n",
              "      <th>2</th>\n",
              "      <td>3</td>\n",
              "      <td>1</td>\n",
              "      <td>3</td>\n",
              "      <td>Heikkinen, Miss. Laina</td>\n",
              "      <td>female</td>\n",
              "      <td>26.0</td>\n",
              "      <td>0</td>\n",
              "      <td>0</td>\n",
              "      <td>STON/O2. 3101282</td>\n",
              "      <td>7.9250</td>\n",
              "      <td>NaN</td>\n",
              "      <td>S</td>\n",
              "    </tr>\n",
              "    <tr>\n",
              "      <th>3</th>\n",
              "      <td>4</td>\n",
              "      <td>1</td>\n",
              "      <td>1</td>\n",
              "      <td>Futrelle, Mrs. Jacques Heath (Lily May Peel)</td>\n",
              "      <td>female</td>\n",
              "      <td>35.0</td>\n",
              "      <td>1</td>\n",
              "      <td>0</td>\n",
              "      <td>113803</td>\n",
              "      <td>53.1000</td>\n",
              "      <td>C123</td>\n",
              "      <td>S</td>\n",
              "    </tr>\n",
              "    <tr>\n",
              "      <th>4</th>\n",
              "      <td>5</td>\n",
              "      <td>0</td>\n",
              "      <td>3</td>\n",
              "      <td>Allen, Mr. William Henry</td>\n",
              "      <td>male</td>\n",
              "      <td>35.0</td>\n",
              "      <td>0</td>\n",
              "      <td>0</td>\n",
              "      <td>373450</td>\n",
              "      <td>8.0500</td>\n",
              "      <td>NaN</td>\n",
              "      <td>S</td>\n",
              "    </tr>\n",
              "  </tbody>\n",
              "</table>\n",
              "</div>"
            ],
            "text/plain": [
              "   PassengerId  Survived  Pclass  ...     Fare Cabin  Embarked\n",
              "0            1         0       3  ...   7.2500   NaN         S\n",
              "1            2         1       1  ...  71.2833   C85         C\n",
              "2            3         1       3  ...   7.9250   NaN         S\n",
              "3            4         1       1  ...  53.1000  C123         S\n",
              "4            5         0       3  ...   8.0500   NaN         S\n",
              "\n",
              "[5 rows x 12 columns]"
            ]
          },
          "metadata": {
            "tags": []
          },
          "execution_count": 208
        }
      ]
    },
    {
      "cell_type": "code",
      "metadata": {
        "colab": {
          "base_uri": "https://localhost:8080/"
        },
        "id": "M7m4WxnIgVhZ",
        "outputId": "763dec04-d262-440b-e913-be4880e24948"
      },
      "source": [
        "from sklearn.model_selection import train_test_split\n",
        "\n",
        "train, test = train_test_split(df, random_state=0)\n",
        "full_data = [train, test]\n",
        "print(train.info())"
      ],
      "execution_count": null,
      "outputs": [
        {
          "output_type": "stream",
          "text": [
            "<class 'pandas.core.frame.DataFrame'>\n",
            "Int64Index: 668 entries, 105 to 684\n",
            "Data columns (total 12 columns):\n",
            " #   Column       Non-Null Count  Dtype  \n",
            "---  ------       --------------  -----  \n",
            " 0   PassengerId  668 non-null    int64  \n",
            " 1   Survived     668 non-null    int64  \n",
            " 2   Pclass       668 non-null    int64  \n",
            " 3   Name         668 non-null    object \n",
            " 4   Sex          668 non-null    object \n",
            " 5   Age          535 non-null    float64\n",
            " 6   SibSp        668 non-null    int64  \n",
            " 7   Parch        668 non-null    int64  \n",
            " 8   Ticket       668 non-null    object \n",
            " 9   Fare         668 non-null    float64\n",
            " 10  Cabin        157 non-null    object \n",
            " 11  Embarked     666 non-null    object \n",
            "dtypes: float64(2), int64(5), object(5)\n",
            "memory usage: 67.8+ KB\n",
            "None\n"
          ],
          "name": "stdout"
        }
      ]
    },
    {
      "cell_type": "markdown",
      "metadata": {
        "id": "13IpMtlzkaOd"
      },
      "source": [
        "Feature Engineering"
      ]
    },
    {
      "cell_type": "markdown",
      "metadata": {
        "id": "9a_Ym55aw1gZ"
      },
      "source": [
        "Pclass"
      ]
    },
    {
      "cell_type": "code",
      "metadata": {
        "colab": {
          "base_uri": "https://localhost:8080/"
        },
        "id": "re8SxEOju3sL",
        "outputId": "eba8b459-cc3e-4174-b142-9fe4ad008861"
      },
      "source": [
        "print (train[['Pclass', 'Survived']].groupby(['Pclass'], as_index=False).mean())"
      ],
      "execution_count": null,
      "outputs": [
        {
          "output_type": "stream",
          "text": [
            "   Pclass  Survived\n",
            "0       1  0.613497\n",
            "1       2  0.492754\n",
            "2       3  0.245232\n"
          ],
          "name": "stdout"
        }
      ]
    },
    {
      "cell_type": "markdown",
      "metadata": {
        "id": "OYQVTiL4w6Bs"
      },
      "source": [
        "Sex"
      ]
    },
    {
      "cell_type": "code",
      "metadata": {
        "colab": {
          "base_uri": "https://localhost:8080/"
        },
        "id": "JPpyInS6-tqt",
        "outputId": "02fcd0f9-f34c-4443-bcdb-858fdea5ff32"
      },
      "source": [
        "test['Sex'].isnull().sum()"
      ],
      "execution_count": null,
      "outputs": [
        {
          "output_type": "execute_result",
          "data": {
            "text/plain": [
              "0"
            ]
          },
          "metadata": {
            "tags": []
          },
          "execution_count": 211
        }
      ]
    },
    {
      "cell_type": "code",
      "metadata": {
        "colab": {
          "base_uri": "https://localhost:8080/"
        },
        "id": "rTZUL9G9w5E-",
        "outputId": "179596e7-421c-4a77-aa86-16a255aaa4ff"
      },
      "source": [
        "print (train[['Sex', 'Survived']].groupby(['Sex'], as_index=False).mean())"
      ],
      "execution_count": null,
      "outputs": [
        {
          "output_type": "stream",
          "text": [
            "      Sex  Survived\n",
            "0  female  0.753247\n",
            "1    male  0.192220\n"
          ],
          "name": "stdout"
        }
      ]
    },
    {
      "cell_type": "markdown",
      "metadata": {
        "id": "cDOy_iVwxW58"
      },
      "source": [
        "Family Size"
      ]
    },
    {
      "cell_type": "code",
      "metadata": {
        "colab": {
          "base_uri": "https://localhost:8080/"
        },
        "id": "eF0w7JcNw_x-",
        "outputId": "440d7499-567c-4418-d387-a15a84cd3233"
      },
      "source": [
        "for dataset in full_data:\n",
        "    dataset['FamilySize'] = dataset['SibSp'] + dataset['Parch'] + 1\n",
        "print (train[['FamilySize', 'Survived']].groupby(['FamilySize'], as_index=False).mean())"
      ],
      "execution_count": null,
      "outputs": [
        {
          "output_type": "stream",
          "text": [
            "   FamilySize  Survived\n",
            "0           1  0.309406\n",
            "1           2  0.567797\n",
            "2           3  0.560000\n",
            "3           4  0.666667\n",
            "4           5  0.083333\n",
            "5           6  0.250000\n",
            "6           7  0.363636\n",
            "7           8  0.000000\n",
            "8          11  0.000000\n"
          ],
          "name": "stdout"
        },
        {
          "output_type": "stream",
          "text": [
            "/usr/local/lib/python3.7/dist-packages/ipykernel_launcher.py:2: SettingWithCopyWarning: \n",
            "A value is trying to be set on a copy of a slice from a DataFrame.\n",
            "Try using .loc[row_indexer,col_indexer] = value instead\n",
            "\n",
            "See the caveats in the documentation: https://pandas.pydata.org/pandas-docs/stable/user_guide/indexing.html#returning-a-view-versus-a-copy\n",
            "  \n"
          ],
          "name": "stderr"
        }
      ]
    },
    {
      "cell_type": "code",
      "metadata": {
        "colab": {
          "base_uri": "https://localhost:8080/"
        },
        "id": "tuiaC5WWw-ru",
        "outputId": "6df68bc2-810b-4254-d479-5d76eb88745f"
      },
      "source": [
        "for dataset in full_data:\n",
        "    dataset['IsAlone'] = 0\n",
        "    dataset.loc[dataset['FamilySize'] == 1, 'IsAlone'] = 1\n",
        "print (train[['IsAlone', 'Survived']].groupby(['IsAlone'], as_index=False).mean())"
      ],
      "execution_count": null,
      "outputs": [
        {
          "output_type": "stream",
          "text": [
            "   IsAlone  Survived\n",
            "0        0  0.503788\n",
            "1        1  0.309406\n"
          ],
          "name": "stdout"
        },
        {
          "output_type": "stream",
          "text": [
            "/usr/local/lib/python3.7/dist-packages/ipykernel_launcher.py:2: SettingWithCopyWarning: \n",
            "A value is trying to be set on a copy of a slice from a DataFrame.\n",
            "Try using .loc[row_indexer,col_indexer] = value instead\n",
            "\n",
            "See the caveats in the documentation: https://pandas.pydata.org/pandas-docs/stable/user_guide/indexing.html#returning-a-view-versus-a-copy\n",
            "  \n",
            "/usr/local/lib/python3.7/dist-packages/pandas/core/indexing.py:1763: SettingWithCopyWarning: \n",
            "A value is trying to be set on a copy of a slice from a DataFrame.\n",
            "Try using .loc[row_indexer,col_indexer] = value instead\n",
            "\n",
            "See the caveats in the documentation: https://pandas.pydata.org/pandas-docs/stable/user_guide/indexing.html#returning-a-view-versus-a-copy\n",
            "  isetter(loc, value)\n",
            "/usr/local/lib/python3.7/dist-packages/ipykernel_launcher.py:2: SettingWithCopyWarning: \n",
            "A value is trying to be set on a copy of a slice from a DataFrame.\n",
            "Try using .loc[row_indexer,col_indexer] = value instead\n",
            "\n",
            "See the caveats in the documentation: https://pandas.pydata.org/pandas-docs/stable/user_guide/indexing.html#returning-a-view-versus-a-copy\n",
            "  \n",
            "/usr/local/lib/python3.7/dist-packages/pandas/core/indexing.py:1763: SettingWithCopyWarning: \n",
            "A value is trying to be set on a copy of a slice from a DataFrame.\n",
            "Try using .loc[row_indexer,col_indexer] = value instead\n",
            "\n",
            "See the caveats in the documentation: https://pandas.pydata.org/pandas-docs/stable/user_guide/indexing.html#returning-a-view-versus-a-copy\n",
            "  isetter(loc, value)\n"
          ],
          "name": "stderr"
        }
      ]
    },
    {
      "cell_type": "markdown",
      "metadata": {
        "id": "1vKqFTHP0oSA"
      },
      "source": [
        "Embarked"
      ]
    },
    {
      "cell_type": "code",
      "metadata": {
        "colab": {
          "base_uri": "https://localhost:8080/"
        },
        "id": "03kCViJzzXry",
        "outputId": "c7363e4d-9750-4a8e-93cc-c7b6f55c5414"
      },
      "source": [
        "train['Embarked'].isnull().sum()"
      ],
      "execution_count": null,
      "outputs": [
        {
          "output_type": "execute_result",
          "data": {
            "text/plain": [
              "2"
            ]
          },
          "metadata": {
            "tags": []
          },
          "execution_count": 215
        }
      ]
    },
    {
      "cell_type": "code",
      "metadata": {
        "colab": {
          "base_uri": "https://localhost:8080/"
        },
        "id": "f1TVPo4AyZzn",
        "outputId": "0ceae1a9-cf23-4037-b22d-e430ce4f05ef"
      },
      "source": [
        "train.groupby(['Embarked']).size()"
      ],
      "execution_count": null,
      "outputs": [
        {
          "output_type": "execute_result",
          "data": {
            "text/plain": [
              "Embarked\n",
              "C    116\n",
              "Q     60\n",
              "S    490\n",
              "dtype: int64"
            ]
          },
          "metadata": {
            "tags": []
          },
          "execution_count": 216
        }
      ]
    },
    {
      "cell_type": "markdown",
      "metadata": {
        "id": "-MPql0mh1HFd"
      },
      "source": [
        "Filling with the most frequencies value \"S\""
      ]
    },
    {
      "cell_type": "code",
      "metadata": {
        "colab": {
          "base_uri": "https://localhost:8080/"
        },
        "id": "ThOtbONI03NP",
        "outputId": "faf3fe47-c2b0-4930-9e57-f61755a38df8"
      },
      "source": [
        "for dataset in full_data:\n",
        "    dataset['Embarked'] = dataset['Embarked'].fillna('S')\n",
        "print (train[['Embarked', 'Survived']].groupby(['Embarked'], as_index=False).mean())"
      ],
      "execution_count": null,
      "outputs": [
        {
          "output_type": "stream",
          "text": [
            "  Embarked  Survived\n",
            "0        C  0.543103\n",
            "1        Q  0.400000\n",
            "2        S  0.347561\n"
          ],
          "name": "stdout"
        },
        {
          "output_type": "stream",
          "text": [
            "/usr/local/lib/python3.7/dist-packages/ipykernel_launcher.py:2: SettingWithCopyWarning: \n",
            "A value is trying to be set on a copy of a slice from a DataFrame.\n",
            "Try using .loc[row_indexer,col_indexer] = value instead\n",
            "\n",
            "See the caveats in the documentation: https://pandas.pydata.org/pandas-docs/stable/user_guide/indexing.html#returning-a-view-versus-a-copy\n",
            "  \n"
          ],
          "name": "stderr"
        }
      ]
    },
    {
      "cell_type": "markdown",
      "metadata": {
        "id": "n-w-3Qor1NC2"
      },
      "source": [
        "Age"
      ]
    },
    {
      "cell_type": "markdown",
      "metadata": {
        "id": "i834oZvv5rVC"
      },
      "source": [
        "we have plenty of missing values in this feature. # generate random numbers between (mean - std) and (mean + std). then we categorize age into 5 range."
      ]
    },
    {
      "cell_type": "code",
      "metadata": {
        "colab": {
          "base_uri": "https://localhost:8080/"
        },
        "id": "qRpCXMxf12-v",
        "outputId": "507b8d41-2d56-4d95-efea-11f839ed9b3f"
      },
      "source": [
        "train['Age'].isnull().sum()"
      ],
      "execution_count": null,
      "outputs": [
        {
          "output_type": "execute_result",
          "data": {
            "text/plain": [
              "133"
            ]
          },
          "metadata": {
            "tags": []
          },
          "execution_count": 218
        }
      ]
    },
    {
      "cell_type": "code",
      "metadata": {
        "colab": {
          "base_uri": "https://localhost:8080/"
        },
        "id": "ruAyxS4Q2gOm",
        "outputId": "1ebac741-8cef-4276-c21c-6173a8eaaa28"
      },
      "source": [
        "for dataset in full_data:\n",
        "    age_avg \t   = dataset['Age'].mean()\n",
        "    age_std \t   = dataset['Age'].std()\n",
        "    age_null_count = dataset['Age'].isnull().sum()\n",
        "    \n",
        "    age_null_random_list = np.random.randint(age_avg - age_std, age_avg + age_std, size=age_null_count)\n",
        "    dataset['Age'][np.isnan(dataset['Age'])] = age_null_random_list\n",
        "    dataset['Age'] = dataset['Age'].astype(int)"
      ],
      "execution_count": null,
      "outputs": [
        {
          "output_type": "stream",
          "text": [
            "/usr/local/lib/python3.7/dist-packages/ipykernel_launcher.py:7: SettingWithCopyWarning: \n",
            "A value is trying to be set on a copy of a slice from a DataFrame\n",
            "\n",
            "See the caveats in the documentation: https://pandas.pydata.org/pandas-docs/stable/user_guide/indexing.html#returning-a-view-versus-a-copy\n",
            "  import sys\n",
            "/usr/local/lib/python3.7/dist-packages/pandas/core/series.py:1021: SettingWithCopyWarning: \n",
            "A value is trying to be set on a copy of a slice from a DataFrame\n",
            "\n",
            "See the caveats in the documentation: https://pandas.pydata.org/pandas-docs/stable/user_guide/indexing.html#returning-a-view-versus-a-copy\n",
            "  self._where(~key, value, inplace=True)\n",
            "/usr/local/lib/python3.7/dist-packages/ipykernel_launcher.py:8: SettingWithCopyWarning: \n",
            "A value is trying to be set on a copy of a slice from a DataFrame.\n",
            "Try using .loc[row_indexer,col_indexer] = value instead\n",
            "\n",
            "See the caveats in the documentation: https://pandas.pydata.org/pandas-docs/stable/user_guide/indexing.html#returning-a-view-versus-a-copy\n",
            "  \n"
          ],
          "name": "stderr"
        }
      ]
    },
    {
      "cell_type": "markdown",
      "metadata": {
        "id": "n0NDE7hE5jfI"
      },
      "source": [
        "Name"
      ]
    },
    {
      "cell_type": "code",
      "metadata": {
        "id": "woCPai727wM-"
      },
      "source": [
        "import re as re"
      ],
      "execution_count": null,
      "outputs": []
    },
    {
      "cell_type": "code",
      "metadata": {
        "colab": {
          "base_uri": "https://localhost:8080/"
        },
        "id": "I_O2emmJ5gLk",
        "outputId": "ed1f027c-bfbb-43c1-aaec-bbd452d5ce9c"
      },
      "source": [
        "def get_title(name):\n",
        "\ttitle_search = re.search(' ([A-Za-z]+)\\.', name)\n",
        "\t# If the title exists, extract and return it.\n",
        "\tif title_search:\n",
        "\t\treturn title_search.group(1)\n",
        "\treturn \"\"\n",
        "\n",
        "for dataset in full_data:\n",
        "    dataset['Title'] = dataset['Name'].apply(get_title)\n",
        "\n",
        "print(pd.crosstab(train['Title'], train['Sex']))"
      ],
      "execution_count": null,
      "outputs": [
        {
          "output_type": "stream",
          "text": [
            "/usr/local/lib/python3.7/dist-packages/ipykernel_launcher.py:9: SettingWithCopyWarning: \n",
            "A value is trying to be set on a copy of a slice from a DataFrame.\n",
            "Try using .loc[row_indexer,col_indexer] = value instead\n",
            "\n",
            "See the caveats in the documentation: https://pandas.pydata.org/pandas-docs/stable/user_guide/indexing.html#returning-a-view-versus-a-copy\n",
            "  if __name__ == '__main__':\n"
          ],
          "name": "stderr"
        },
        {
          "output_type": "stream",
          "text": [
            "Sex       female  male\n",
            "Title                 \n",
            "Capt           0     1\n",
            "Countess       1     0\n",
            "Dr             0     3\n",
            "Lady           1     0\n",
            "Major          0     2\n",
            "Master         0    33\n",
            "Miss         132     0\n",
            "Mlle           2     0\n",
            "Mme            1     0\n",
            "Mr             0   394\n",
            "Mrs           93     0\n",
            "Ms             1     0\n",
            "Rev            0     3\n",
            "Sir            0     1\n"
          ],
          "name": "stdout"
        }
      ]
    },
    {
      "cell_type": "code",
      "metadata": {
        "colab": {
          "base_uri": "https://localhost:8080/"
        },
        "id": "BiI_m-Ks7seS",
        "outputId": "265a2b87-d92b-4d60-ebf2-aa2f705ec431"
      },
      "source": [
        "for dataset in full_data:\n",
        "    dataset['Title'] = dataset['Title'].replace(['Lady', 'Countess','Capt', 'Col',\\\n",
        " \t'Don', 'Dr', 'Major', 'Rev', 'Sir', 'Jonkheer', 'Dona'], 'Rare')\n",
        "\n",
        "    dataset['Title'] = dataset['Title'].replace('Mlle', 'Miss')\n",
        "    dataset['Title'] = dataset['Title'].replace('Ms', 'Miss')\n",
        "    dataset['Title'] = dataset['Title'].replace('Mme', 'Mrs')\n"
      ],
      "execution_count": null,
      "outputs": [
        {
          "output_type": "stream",
          "text": [
            "/usr/local/lib/python3.7/dist-packages/ipykernel_launcher.py:2: SettingWithCopyWarning: \n",
            "A value is trying to be set on a copy of a slice from a DataFrame.\n",
            "Try using .loc[row_indexer,col_indexer] = value instead\n",
            "\n",
            "See the caveats in the documentation: https://pandas.pydata.org/pandas-docs/stable/user_guide/indexing.html#returning-a-view-versus-a-copy\n",
            "  \n",
            "/usr/local/lib/python3.7/dist-packages/ipykernel_launcher.py:4: SettingWithCopyWarning: \n",
            "A value is trying to be set on a copy of a slice from a DataFrame.\n",
            "Try using .loc[row_indexer,col_indexer] = value instead\n",
            "\n",
            "See the caveats in the documentation: https://pandas.pydata.org/pandas-docs/stable/user_guide/indexing.html#returning-a-view-versus-a-copy\n",
            "  after removing the cwd from sys.path.\n",
            "/usr/local/lib/python3.7/dist-packages/ipykernel_launcher.py:5: SettingWithCopyWarning: \n",
            "A value is trying to be set on a copy of a slice from a DataFrame.\n",
            "Try using .loc[row_indexer,col_indexer] = value instead\n",
            "\n",
            "See the caveats in the documentation: https://pandas.pydata.org/pandas-docs/stable/user_guide/indexing.html#returning-a-view-versus-a-copy\n",
            "  \"\"\"\n",
            "/usr/local/lib/python3.7/dist-packages/ipykernel_launcher.py:6: SettingWithCopyWarning: \n",
            "A value is trying to be set on a copy of a slice from a DataFrame.\n",
            "Try using .loc[row_indexer,col_indexer] = value instead\n",
            "\n",
            "See the caveats in the documentation: https://pandas.pydata.org/pandas-docs/stable/user_guide/indexing.html#returning-a-view-versus-a-copy\n",
            "  \n"
          ],
          "name": "stderr"
        }
      ]
    },
    {
      "cell_type": "code",
      "metadata": {
        "colab": {
          "base_uri": "https://localhost:8080/"
        },
        "id": "cZMmshlqC1Dn",
        "outputId": "1dd8cd08-085f-4ffc-9eb1-012cadbd565c"
      },
      "source": [
        "print (train[['Title', 'Survived']].groupby(['Title'], as_index=False).mean())"
      ],
      "execution_count": null,
      "outputs": [
        {
          "output_type": "stream",
          "text": [
            "    Title  Survived\n",
            "0  Master  0.575758\n",
            "1    Miss  0.703704\n",
            "2      Mr  0.157360\n",
            "3     Mrs  0.819149\n",
            "4    Rare  0.416667\n"
          ],
          "name": "stdout"
        }
      ]
    },
    {
      "cell_type": "markdown",
      "metadata": {
        "id": "9TibuU_c8AuI"
      },
      "source": [
        "Data Cleaning"
      ]
    },
    {
      "cell_type": "code",
      "metadata": {
        "colab": {
          "base_uri": "https://localhost:8080/"
        },
        "id": "VZCPFekZ7_Nx",
        "outputId": "1a43da07-d3d7-4735-ba65-3a93cb4b3515"
      },
      "source": [
        "for dataset in full_data:\n",
        "    # Mapping Sexzdf['sex'] = np.where(df['sex'] == 'female', 0, 1)\n",
        "    dataset['Sex'] = dataset['Sex'].map( {'female': 0, 'male': 1} )\n",
        "    \n",
        "    # Mapping titles\n",
        "    title_mapping = {\"Mr\": 1, \"Miss\": 2, \"Mrs\": 3, \"Master\": 4, \"Rare\": 5}\n",
        "    dataset['Title'] = dataset['Title'].map(title_mapping)\n",
        "    dataset['Title'] = dataset['Title'].fillna(0)\n",
        "    \n",
        "    # Mapping Embarked\n",
        "    dataset['Embarked'] = dataset['Embarked'].map( {'S': 0, 'C': 1, 'Q': 2} )\n",
        "    \n",
        "    # Mapping Fare\n",
        "    dataset.loc[ dataset['Fare'] <= 7.91, 'Fare'] \t\t\t\t\t\t        = 0\n",
        "    dataset.loc[(dataset['Fare'] > 7.91) & (dataset['Fare'] <= 14.454), 'Fare'] = 1\n",
        "    dataset.loc[(dataset['Fare'] > 14.454) & (dataset['Fare'] <= 31), 'Fare']   = 2\n",
        "    dataset.loc[ dataset['Fare'] > 31, 'Fare'] \t\t\t\t\t\t\t        = 3\n",
        "    dataset['Fare'] = dataset['Fare'].astype(int)    \n",
        "    # Mapping Age\n",
        "    dataset.loc[ dataset['Age'] <= 16, 'Age'] \t\t\t\t\t       = 0\n",
        "    dataset.loc[(dataset['Age'] > 16) & (dataset['Age'] <= 32), 'Age'] = 1\n",
        "    dataset.loc[(dataset['Age'] > 32) & (dataset['Age'] <= 48), 'Age'] = 2\n",
        "    dataset.loc[(dataset['Age'] > 48) & (dataset['Age'] <= 64), 'Age'] = 3\n",
        "    dataset.loc[ dataset['Age'] > 64, 'Age']                           = 4\n",
        "\n",
        "# Feature Selection\n",
        "drop_elements = ['PassengerId', 'Name', 'Ticket', 'Cabin', 'SibSp',\\\n",
        "                 'Parch', 'FamilySize']\n",
        "train = train.drop(drop_elements, axis = 1)\n",
        "\n",
        "test  = test.drop(drop_elements, axis = 1)\n",
        "\n",
        "print (train.head(10))"
      ],
      "execution_count": null,
      "outputs": [
        {
          "output_type": "stream",
          "text": [
            "/usr/local/lib/python3.7/dist-packages/ipykernel_launcher.py:3: SettingWithCopyWarning: \n",
            "A value is trying to be set on a copy of a slice from a DataFrame.\n",
            "Try using .loc[row_indexer,col_indexer] = value instead\n",
            "\n",
            "See the caveats in the documentation: https://pandas.pydata.org/pandas-docs/stable/user_guide/indexing.html#returning-a-view-versus-a-copy\n",
            "  This is separate from the ipykernel package so we can avoid doing imports until\n",
            "/usr/local/lib/python3.7/dist-packages/ipykernel_launcher.py:7: SettingWithCopyWarning: \n",
            "A value is trying to be set on a copy of a slice from a DataFrame.\n",
            "Try using .loc[row_indexer,col_indexer] = value instead\n",
            "\n",
            "See the caveats in the documentation: https://pandas.pydata.org/pandas-docs/stable/user_guide/indexing.html#returning-a-view-versus-a-copy\n",
            "  import sys\n",
            "/usr/local/lib/python3.7/dist-packages/ipykernel_launcher.py:8: SettingWithCopyWarning: \n",
            "A value is trying to be set on a copy of a slice from a DataFrame.\n",
            "Try using .loc[row_indexer,col_indexer] = value instead\n",
            "\n",
            "See the caveats in the documentation: https://pandas.pydata.org/pandas-docs/stable/user_guide/indexing.html#returning-a-view-versus-a-copy\n",
            "  \n",
            "/usr/local/lib/python3.7/dist-packages/ipykernel_launcher.py:11: SettingWithCopyWarning: \n",
            "A value is trying to be set on a copy of a slice from a DataFrame.\n",
            "Try using .loc[row_indexer,col_indexer] = value instead\n",
            "\n",
            "See the caveats in the documentation: https://pandas.pydata.org/pandas-docs/stable/user_guide/indexing.html#returning-a-view-versus-a-copy\n",
            "  # This is added back by InteractiveShellApp.init_path()\n"
          ],
          "name": "stderr"
        },
        {
          "output_type": "stream",
          "text": [
            "     Survived  Pclass  Sex  Age  Fare  Embarked  IsAlone  Title\n",
            "105         0       3    1    1     0         0        1      1\n",
            "68          1       3    0    1     1         0        0      2\n",
            "253         0       3    1    1     2         0        0      1\n",
            "320         0       3    1    1     0         0        1      1\n",
            "706         1       2    0    2     1         0        1      3\n",
            "271         1       3    1    1     0         0        1      1\n",
            "424         0       3    1    1     2         0        0      1\n",
            "752         0       3    1    2     1         0        1      1\n",
            "615         1       2    0    1     3         0        0      2\n",
            "2           1       3    0    1     1         0        1      2\n"
          ],
          "name": "stdout"
        },
        {
          "output_type": "stream",
          "text": [
            "/usr/local/lib/python3.7/dist-packages/pandas/core/indexing.py:1763: SettingWithCopyWarning: \n",
            "A value is trying to be set on a copy of a slice from a DataFrame.\n",
            "Try using .loc[row_indexer,col_indexer] = value instead\n",
            "\n",
            "See the caveats in the documentation: https://pandas.pydata.org/pandas-docs/stable/user_guide/indexing.html#returning-a-view-versus-a-copy\n",
            "  isetter(loc, value)\n",
            "/usr/local/lib/python3.7/dist-packages/pandas/core/indexing.py:1763: SettingWithCopyWarning: \n",
            "A value is trying to be set on a copy of a slice from a DataFrame.\n",
            "Try using .loc[row_indexer,col_indexer] = value instead\n",
            "\n",
            "See the caveats in the documentation: https://pandas.pydata.org/pandas-docs/stable/user_guide/indexing.html#returning-a-view-versus-a-copy\n",
            "  isetter(loc, value)\n",
            "/usr/local/lib/python3.7/dist-packages/pandas/core/indexing.py:1763: SettingWithCopyWarning: \n",
            "A value is trying to be set on a copy of a slice from a DataFrame.\n",
            "Try using .loc[row_indexer,col_indexer] = value instead\n",
            "\n",
            "See the caveats in the documentation: https://pandas.pydata.org/pandas-docs/stable/user_guide/indexing.html#returning-a-view-versus-a-copy\n",
            "  isetter(loc, value)\n",
            "/usr/local/lib/python3.7/dist-packages/pandas/core/indexing.py:1763: SettingWithCopyWarning: \n",
            "A value is trying to be set on a copy of a slice from a DataFrame.\n",
            "Try using .loc[row_indexer,col_indexer] = value instead\n",
            "\n",
            "See the caveats in the documentation: https://pandas.pydata.org/pandas-docs/stable/user_guide/indexing.html#returning-a-view-versus-a-copy\n",
            "  isetter(loc, value)\n",
            "/usr/local/lib/python3.7/dist-packages/ipykernel_launcher.py:18: SettingWithCopyWarning: \n",
            "A value is trying to be set on a copy of a slice from a DataFrame.\n",
            "Try using .loc[row_indexer,col_indexer] = value instead\n",
            "\n",
            "See the caveats in the documentation: https://pandas.pydata.org/pandas-docs/stable/user_guide/indexing.html#returning-a-view-versus-a-copy\n",
            "/usr/local/lib/python3.7/dist-packages/pandas/core/indexing.py:1763: SettingWithCopyWarning: \n",
            "A value is trying to be set on a copy of a slice from a DataFrame.\n",
            "Try using .loc[row_indexer,col_indexer] = value instead\n",
            "\n",
            "See the caveats in the documentation: https://pandas.pydata.org/pandas-docs/stable/user_guide/indexing.html#returning-a-view-versus-a-copy\n",
            "  isetter(loc, value)\n",
            "/usr/local/lib/python3.7/dist-packages/pandas/core/indexing.py:1763: SettingWithCopyWarning: \n",
            "A value is trying to be set on a copy of a slice from a DataFrame.\n",
            "Try using .loc[row_indexer,col_indexer] = value instead\n",
            "\n",
            "See the caveats in the documentation: https://pandas.pydata.org/pandas-docs/stable/user_guide/indexing.html#returning-a-view-versus-a-copy\n",
            "  isetter(loc, value)\n",
            "/usr/local/lib/python3.7/dist-packages/pandas/core/indexing.py:1763: SettingWithCopyWarning: \n",
            "A value is trying to be set on a copy of a slice from a DataFrame.\n",
            "Try using .loc[row_indexer,col_indexer] = value instead\n",
            "\n",
            "See the caveats in the documentation: https://pandas.pydata.org/pandas-docs/stable/user_guide/indexing.html#returning-a-view-versus-a-copy\n",
            "  isetter(loc, value)\n",
            "/usr/local/lib/python3.7/dist-packages/pandas/core/indexing.py:1763: SettingWithCopyWarning: \n",
            "A value is trying to be set on a copy of a slice from a DataFrame.\n",
            "Try using .loc[row_indexer,col_indexer] = value instead\n",
            "\n",
            "See the caveats in the documentation: https://pandas.pydata.org/pandas-docs/stable/user_guide/indexing.html#returning-a-view-versus-a-copy\n",
            "  isetter(loc, value)\n",
            "/usr/local/lib/python3.7/dist-packages/pandas/core/indexing.py:1763: SettingWithCopyWarning: \n",
            "A value is trying to be set on a copy of a slice from a DataFrame.\n",
            "Try using .loc[row_indexer,col_indexer] = value instead\n",
            "\n",
            "See the caveats in the documentation: https://pandas.pydata.org/pandas-docs/stable/user_guide/indexing.html#returning-a-view-versus-a-copy\n",
            "  isetter(loc, value)\n",
            "/usr/local/lib/python3.7/dist-packages/ipykernel_launcher.py:3: SettingWithCopyWarning: \n",
            "A value is trying to be set on a copy of a slice from a DataFrame.\n",
            "Try using .loc[row_indexer,col_indexer] = value instead\n",
            "\n",
            "See the caveats in the documentation: https://pandas.pydata.org/pandas-docs/stable/user_guide/indexing.html#returning-a-view-versus-a-copy\n",
            "  This is separate from the ipykernel package so we can avoid doing imports until\n",
            "/usr/local/lib/python3.7/dist-packages/ipykernel_launcher.py:7: SettingWithCopyWarning: \n",
            "A value is trying to be set on a copy of a slice from a DataFrame.\n",
            "Try using .loc[row_indexer,col_indexer] = value instead\n",
            "\n",
            "See the caveats in the documentation: https://pandas.pydata.org/pandas-docs/stable/user_guide/indexing.html#returning-a-view-versus-a-copy\n",
            "  import sys\n",
            "/usr/local/lib/python3.7/dist-packages/ipykernel_launcher.py:8: SettingWithCopyWarning: \n",
            "A value is trying to be set on a copy of a slice from a DataFrame.\n",
            "Try using .loc[row_indexer,col_indexer] = value instead\n",
            "\n",
            "See the caveats in the documentation: https://pandas.pydata.org/pandas-docs/stable/user_guide/indexing.html#returning-a-view-versus-a-copy\n",
            "  \n",
            "/usr/local/lib/python3.7/dist-packages/ipykernel_launcher.py:11: SettingWithCopyWarning: \n",
            "A value is trying to be set on a copy of a slice from a DataFrame.\n",
            "Try using .loc[row_indexer,col_indexer] = value instead\n",
            "\n",
            "See the caveats in the documentation: https://pandas.pydata.org/pandas-docs/stable/user_guide/indexing.html#returning-a-view-versus-a-copy\n",
            "  # This is added back by InteractiveShellApp.init_path()\n",
            "/usr/local/lib/python3.7/dist-packages/pandas/core/indexing.py:1763: SettingWithCopyWarning: \n",
            "A value is trying to be set on a copy of a slice from a DataFrame.\n",
            "Try using .loc[row_indexer,col_indexer] = value instead\n",
            "\n",
            "See the caveats in the documentation: https://pandas.pydata.org/pandas-docs/stable/user_guide/indexing.html#returning-a-view-versus-a-copy\n",
            "  isetter(loc, value)\n",
            "/usr/local/lib/python3.7/dist-packages/pandas/core/indexing.py:1763: SettingWithCopyWarning: \n",
            "A value is trying to be set on a copy of a slice from a DataFrame.\n",
            "Try using .loc[row_indexer,col_indexer] = value instead\n",
            "\n",
            "See the caveats in the documentation: https://pandas.pydata.org/pandas-docs/stable/user_guide/indexing.html#returning-a-view-versus-a-copy\n",
            "  isetter(loc, value)\n",
            "/usr/local/lib/python3.7/dist-packages/pandas/core/indexing.py:1763: SettingWithCopyWarning: \n",
            "A value is trying to be set on a copy of a slice from a DataFrame.\n",
            "Try using .loc[row_indexer,col_indexer] = value instead\n",
            "\n",
            "See the caveats in the documentation: https://pandas.pydata.org/pandas-docs/stable/user_guide/indexing.html#returning-a-view-versus-a-copy\n",
            "  isetter(loc, value)\n",
            "/usr/local/lib/python3.7/dist-packages/pandas/core/indexing.py:1763: SettingWithCopyWarning: \n",
            "A value is trying to be set on a copy of a slice from a DataFrame.\n",
            "Try using .loc[row_indexer,col_indexer] = value instead\n",
            "\n",
            "See the caveats in the documentation: https://pandas.pydata.org/pandas-docs/stable/user_guide/indexing.html#returning-a-view-versus-a-copy\n",
            "  isetter(loc, value)\n",
            "/usr/local/lib/python3.7/dist-packages/ipykernel_launcher.py:18: SettingWithCopyWarning: \n",
            "A value is trying to be set on a copy of a slice from a DataFrame.\n",
            "Try using .loc[row_indexer,col_indexer] = value instead\n",
            "\n",
            "See the caveats in the documentation: https://pandas.pydata.org/pandas-docs/stable/user_guide/indexing.html#returning-a-view-versus-a-copy\n",
            "/usr/local/lib/python3.7/dist-packages/pandas/core/indexing.py:1763: SettingWithCopyWarning: \n",
            "A value is trying to be set on a copy of a slice from a DataFrame.\n",
            "Try using .loc[row_indexer,col_indexer] = value instead\n",
            "\n",
            "See the caveats in the documentation: https://pandas.pydata.org/pandas-docs/stable/user_guide/indexing.html#returning-a-view-versus-a-copy\n",
            "  isetter(loc, value)\n",
            "/usr/local/lib/python3.7/dist-packages/pandas/core/indexing.py:1763: SettingWithCopyWarning: \n",
            "A value is trying to be set on a copy of a slice from a DataFrame.\n",
            "Try using .loc[row_indexer,col_indexer] = value instead\n",
            "\n",
            "See the caveats in the documentation: https://pandas.pydata.org/pandas-docs/stable/user_guide/indexing.html#returning-a-view-versus-a-copy\n",
            "  isetter(loc, value)\n",
            "/usr/local/lib/python3.7/dist-packages/pandas/core/indexing.py:1763: SettingWithCopyWarning: \n",
            "A value is trying to be set on a copy of a slice from a DataFrame.\n",
            "Try using .loc[row_indexer,col_indexer] = value instead\n",
            "\n",
            "See the caveats in the documentation: https://pandas.pydata.org/pandas-docs/stable/user_guide/indexing.html#returning-a-view-versus-a-copy\n",
            "  isetter(loc, value)\n",
            "/usr/local/lib/python3.7/dist-packages/pandas/core/indexing.py:1763: SettingWithCopyWarning: \n",
            "A value is trying to be set on a copy of a slice from a DataFrame.\n",
            "Try using .loc[row_indexer,col_indexer] = value instead\n",
            "\n",
            "See the caveats in the documentation: https://pandas.pydata.org/pandas-docs/stable/user_guide/indexing.html#returning-a-view-versus-a-copy\n",
            "  isetter(loc, value)\n",
            "/usr/local/lib/python3.7/dist-packages/pandas/core/indexing.py:1763: SettingWithCopyWarning: \n",
            "A value is trying to be set on a copy of a slice from a DataFrame.\n",
            "Try using .loc[row_indexer,col_indexer] = value instead\n",
            "\n",
            "See the caveats in the documentation: https://pandas.pydata.org/pandas-docs/stable/user_guide/indexing.html#returning-a-view-versus-a-copy\n",
            "  isetter(loc, value)\n"
          ],
          "name": "stderr"
        }
      ]
    },
    {
      "cell_type": "code",
      "metadata": {
        "colab": {
          "base_uri": "https://localhost:8080/",
          "height": 195
        },
        "id": "tPYSd3ea--q5",
        "outputId": "c8ba251e-23b4-4046-8af3-2b0b02ad3e28"
      },
      "source": [
        "train.head()"
      ],
      "execution_count": null,
      "outputs": [
        {
          "output_type": "execute_result",
          "data": {
            "text/html": [
              "<div>\n",
              "<style scoped>\n",
              "    .dataframe tbody tr th:only-of-type {\n",
              "        vertical-align: middle;\n",
              "    }\n",
              "\n",
              "    .dataframe tbody tr th {\n",
              "        vertical-align: top;\n",
              "    }\n",
              "\n",
              "    .dataframe thead th {\n",
              "        text-align: right;\n",
              "    }\n",
              "</style>\n",
              "<table border=\"1\" class=\"dataframe\">\n",
              "  <thead>\n",
              "    <tr style=\"text-align: right;\">\n",
              "      <th></th>\n",
              "      <th>Survived</th>\n",
              "      <th>Pclass</th>\n",
              "      <th>Sex</th>\n",
              "      <th>Age</th>\n",
              "      <th>Fare</th>\n",
              "      <th>Embarked</th>\n",
              "      <th>IsAlone</th>\n",
              "      <th>Title</th>\n",
              "    </tr>\n",
              "  </thead>\n",
              "  <tbody>\n",
              "    <tr>\n",
              "      <th>105</th>\n",
              "      <td>0</td>\n",
              "      <td>3</td>\n",
              "      <td>1</td>\n",
              "      <td>1</td>\n",
              "      <td>0</td>\n",
              "      <td>0</td>\n",
              "      <td>1</td>\n",
              "      <td>1</td>\n",
              "    </tr>\n",
              "    <tr>\n",
              "      <th>68</th>\n",
              "      <td>1</td>\n",
              "      <td>3</td>\n",
              "      <td>0</td>\n",
              "      <td>1</td>\n",
              "      <td>1</td>\n",
              "      <td>0</td>\n",
              "      <td>0</td>\n",
              "      <td>2</td>\n",
              "    </tr>\n",
              "    <tr>\n",
              "      <th>253</th>\n",
              "      <td>0</td>\n",
              "      <td>3</td>\n",
              "      <td>1</td>\n",
              "      <td>1</td>\n",
              "      <td>2</td>\n",
              "      <td>0</td>\n",
              "      <td>0</td>\n",
              "      <td>1</td>\n",
              "    </tr>\n",
              "    <tr>\n",
              "      <th>320</th>\n",
              "      <td>0</td>\n",
              "      <td>3</td>\n",
              "      <td>1</td>\n",
              "      <td>1</td>\n",
              "      <td>0</td>\n",
              "      <td>0</td>\n",
              "      <td>1</td>\n",
              "      <td>1</td>\n",
              "    </tr>\n",
              "    <tr>\n",
              "      <th>706</th>\n",
              "      <td>1</td>\n",
              "      <td>2</td>\n",
              "      <td>0</td>\n",
              "      <td>2</td>\n",
              "      <td>1</td>\n",
              "      <td>0</td>\n",
              "      <td>1</td>\n",
              "      <td>3</td>\n",
              "    </tr>\n",
              "  </tbody>\n",
              "</table>\n",
              "</div>"
            ],
            "text/plain": [
              "     Survived  Pclass  Sex  Age  Fare  Embarked  IsAlone  Title\n",
              "105         0       3    1    1     0         0        1      1\n",
              "68          1       3    0    1     1         0        0      2\n",
              "253         0       3    1    1     2         0        0      1\n",
              "320         0       3    1    1     0         0        1      1\n",
              "706         1       2    0    2     1         0        1      3"
            ]
          },
          "metadata": {
            "tags": []
          },
          "execution_count": 225
        }
      ]
    },
    {
      "cell_type": "code",
      "metadata": {
        "id": "QmjT8cXlEBp6"
      },
      "source": [
        "X_train = train.iloc[:,1:]\n",
        "y_train = train.iloc[:,0]\n",
        "X_test = test.iloc[:,1:]\n",
        "y_test = test.iloc[:,0]"
      ],
      "execution_count": null,
      "outputs": []
    },
    {
      "cell_type": "markdown",
      "metadata": {
        "id": "ilyBntrNF6is"
      },
      "source": [
        "Question 2: Reuse the previous function"
      ]
    },
    {
      "cell_type": "code",
      "metadata": {
        "colab": {
          "base_uri": "https://localhost:8080/"
        },
        "id": "D_DAyTDSEU5Y",
        "outputId": "cbbca772-beb3-40a5-9795-484c386560c0"
      },
      "source": [
        "question2()"
      ],
      "execution_count": null,
      "outputs": [
        {
          "output_type": "stream",
          "text": [
            "/usr/local/lib/python3.7/dist-packages/sklearn/dummy.py:132: FutureWarning: The default value of strategy will change from stratified to prior in 0.24.\n",
            "  \"stratified to prior in 0.24.\", FutureWarning)\n"
          ],
          "name": "stderr"
        },
        {
          "output_type": "execute_result",
          "data": {
            "text/plain": [
              "(0.5605381165919282, 0.4880952380952381)"
            ]
          },
          "metadata": {
            "tags": []
          },
          "execution_count": 227
        }
      ]
    },
    {
      "cell_type": "markdown",
      "metadata": {
        "id": "CPY6N1sqGCKE"
      },
      "source": [
        "Question 3: Reuse the previous function"
      ]
    },
    {
      "cell_type": "code",
      "metadata": {
        "id": "Yj5XtbyuFEQw"
      },
      "source": [
        "sv=SupportVector()\n",
        "dt=DecisionTree()\n",
        "knn=KNN()\n",
        "sv=list(pd.Series(['SVM',sv[0],sv[1],sv[2],sv[3]]))\n",
        "dt=list(pd.Series(['DecisionTree',dt[0],dt[1],dt[2],dt[3]]))\n",
        "knn=list(pd.Series(['KNN',knn[0],knn[1],knn[2],knn[3]]))"
      ],
      "execution_count": null,
      "outputs": []
    },
    {
      "cell_type": "code",
      "metadata": {
        "colab": {
          "base_uri": "https://localhost:8080/",
          "height": 136
        },
        "id": "Zfauue8lFEQx",
        "outputId": "6bd4c13a-4017-46e4-e209-109dd03d28f3"
      },
      "source": [
        "compare= pd.DataFrame([sv,dt,knn],columns=['Classifier','Accuracy','Recall','Precision','Runtime'])\n",
        "compare"
      ],
      "execution_count": null,
      "outputs": [
        {
          "output_type": "execute_result",
          "data": {
            "text/html": [
              "<div>\n",
              "<style scoped>\n",
              "    .dataframe tbody tr th:only-of-type {\n",
              "        vertical-align: middle;\n",
              "    }\n",
              "\n",
              "    .dataframe tbody tr th {\n",
              "        vertical-align: top;\n",
              "    }\n",
              "\n",
              "    .dataframe thead th {\n",
              "        text-align: right;\n",
              "    }\n",
              "</style>\n",
              "<table border=\"1\" class=\"dataframe\">\n",
              "  <thead>\n",
              "    <tr style=\"text-align: right;\">\n",
              "      <th></th>\n",
              "      <th>Classifier</th>\n",
              "      <th>Accuracy</th>\n",
              "      <th>Recall</th>\n",
              "      <th>Precision</th>\n",
              "      <th>Runtime</th>\n",
              "    </tr>\n",
              "  </thead>\n",
              "  <tbody>\n",
              "    <tr>\n",
              "      <th>0</th>\n",
              "      <td>SVM</td>\n",
              "      <td>0.793722</td>\n",
              "      <td>0.702381</td>\n",
              "      <td>0.737500</td>\n",
              "      <td>0.023774</td>\n",
              "    </tr>\n",
              "    <tr>\n",
              "      <th>1</th>\n",
              "      <td>DecisionTree</td>\n",
              "      <td>0.816143</td>\n",
              "      <td>0.714286</td>\n",
              "      <td>0.779221</td>\n",
              "      <td>0.001435</td>\n",
              "    </tr>\n",
              "    <tr>\n",
              "      <th>2</th>\n",
              "      <td>KNN</td>\n",
              "      <td>0.829596</td>\n",
              "      <td>0.761905</td>\n",
              "      <td>0.780488</td>\n",
              "      <td>0.001315</td>\n",
              "    </tr>\n",
              "  </tbody>\n",
              "</table>\n",
              "</div>"
            ],
            "text/plain": [
              "     Classifier  Accuracy    Recall  Precision   Runtime\n",
              "0           SVM  0.793722  0.702381   0.737500  0.023774\n",
              "1  DecisionTree  0.816143  0.714286   0.779221  0.001435\n",
              "2           KNN  0.829596  0.761905   0.780488  0.001315"
            ]
          },
          "metadata": {
            "tags": []
          },
          "execution_count": 229
        }
      ]
    },
    {
      "cell_type": "markdown",
      "metadata": {
        "id": "9vBn1pvuGMfg"
      },
      "source": [
        "Question 4: Reuse the previous function"
      ]
    },
    {
      "cell_type": "code",
      "metadata": {
        "colab": {
          "base_uri": "https://localhost:8080/"
        },
        "id": "_CqY637dGLsE",
        "outputId": "08826718-c76d-4775-d603-6ed188675ef1"
      },
      "source": [
        "question4()"
      ],
      "execution_count": null,
      "outputs": [
        {
          "output_type": "execute_result",
          "data": {
            "text/plain": [
              "array([[106,  33],\n",
              "       [ 19,  65]])"
            ]
          },
          "metadata": {
            "tags": []
          },
          "execution_count": 230
        }
      ]
    },
    {
      "cell_type": "code",
      "metadata": {
        "id": "N3yada12GZkH"
      },
      "source": [
        ""
      ],
      "execution_count": null,
      "outputs": []
    }
  ]
}