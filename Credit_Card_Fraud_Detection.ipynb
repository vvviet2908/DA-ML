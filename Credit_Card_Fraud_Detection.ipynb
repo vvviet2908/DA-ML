{
  "nbformat": 4,
  "nbformat_minor": 0,
  "metadata": {
    "colab": {
      "name": "Credit Card Fraud Detection.ipynb",
      "provenance": [],
      "authorship_tag": "ABX9TyOc4wdADJUNjcTey/kpGfGW",
      "include_colab_link": true
    },
    "kernelspec": {
      "name": "python3",
      "display_name": "Python 3"
    },
    "language_info": {
      "name": "python"
    }
  },
  "cells": [
    {
      "cell_type": "markdown",
      "metadata": {
        "id": "view-in-github",
        "colab_type": "text"
      },
      "source": [
        "<a href=\"https://colab.research.google.com/github/vvviet2908/DA-ML/blob/main/Credit_Card_Fraud_Detection.ipynb\" target=\"_parent\"><img src=\"https://colab.research.google.com/assets/colab-badge.svg\" alt=\"Open In Colab\"/></a>"
      ]
    },
    {
      "cell_type": "markdown",
      "metadata": {
        "id": "1rkdkCpmvoTG"
      },
      "source": [
        "### Understanding the data - EDA:\n",
        "\n",
        "Features V1, V2, ... V28 are the principal components obtained with PCA, the only features which have not been transformed with PCA are 'Time' and 'Amount'. \n",
        "\n",
        "**Feature 'Time'** contains the seconds elapsed between each transaction and the first transaction in the dataset. \n",
        "\n",
        "The **Feature 'Amount'** is the transaction Amount, this feature can be used for example-dependant cost-senstive learning. \n",
        "\n",
        "**Feature 'Class'** is the response variable and it takes value 1 in case of fraud and 0 otherwise.\n",
        "\n",
        "**Source:** https://www.kaggle.com/mlg-ulb/creditcardfraud"
      ]
    },
    {
      "cell_type": "code",
      "metadata": {
        "id": "_hpx5B54vbPt"
      },
      "source": [
        "import pandas as pd\n",
        "import numpy as np\n",
        "\n",
        "import seaborn as sns\n",
        "import matplotlib.pyplot as plt\n",
        "%matplotlib inline "
      ],
      "execution_count": null,
      "outputs": []
    },
    {
      "cell_type": "code",
      "metadata": {
        "colab": {
          "base_uri": "https://localhost:8080/",
          "height": 225
        },
        "id": "R43qhUjdDn60",
        "outputId": "23144be0-3c01-4989-db1f-55215e8df7da"
      },
      "source": [
        "#Load the data\n",
        "data = pd.read_csv(\"https://raw.githubusercontent.com/nsethi31/Kaggle-Data-Credit-Card-Fraud-Detection/master/creditcard.csv\")\n",
        "data.head()"
      ],
      "execution_count": null,
      "outputs": [
        {
          "output_type": "execute_result",
          "data": {
            "text/html": [
              "<div>\n",
              "<style scoped>\n",
              "    .dataframe tbody tr th:only-of-type {\n",
              "        vertical-align: middle;\n",
              "    }\n",
              "\n",
              "    .dataframe tbody tr th {\n",
              "        vertical-align: top;\n",
              "    }\n",
              "\n",
              "    .dataframe thead th {\n",
              "        text-align: right;\n",
              "    }\n",
              "</style>\n",
              "<table border=\"1\" class=\"dataframe\">\n",
              "  <thead>\n",
              "    <tr style=\"text-align: right;\">\n",
              "      <th></th>\n",
              "      <th>Time</th>\n",
              "      <th>V1</th>\n",
              "      <th>V2</th>\n",
              "      <th>V3</th>\n",
              "      <th>V4</th>\n",
              "      <th>V5</th>\n",
              "      <th>V6</th>\n",
              "      <th>V7</th>\n",
              "      <th>V8</th>\n",
              "      <th>V9</th>\n",
              "      <th>V10</th>\n",
              "      <th>V11</th>\n",
              "      <th>V12</th>\n",
              "      <th>V13</th>\n",
              "      <th>V14</th>\n",
              "      <th>V15</th>\n",
              "      <th>V16</th>\n",
              "      <th>V17</th>\n",
              "      <th>V18</th>\n",
              "      <th>V19</th>\n",
              "      <th>V20</th>\n",
              "      <th>V21</th>\n",
              "      <th>V22</th>\n",
              "      <th>V23</th>\n",
              "      <th>V24</th>\n",
              "      <th>V25</th>\n",
              "      <th>V26</th>\n",
              "      <th>V27</th>\n",
              "      <th>V28</th>\n",
              "      <th>Amount</th>\n",
              "      <th>Class</th>\n",
              "    </tr>\n",
              "  </thead>\n",
              "  <tbody>\n",
              "    <tr>\n",
              "      <th>0</th>\n",
              "      <td>0.0</td>\n",
              "      <td>-1.359807</td>\n",
              "      <td>-0.072781</td>\n",
              "      <td>2.536347</td>\n",
              "      <td>1.378155</td>\n",
              "      <td>-0.338321</td>\n",
              "      <td>0.462388</td>\n",
              "      <td>0.239599</td>\n",
              "      <td>0.098698</td>\n",
              "      <td>0.363787</td>\n",
              "      <td>0.090794</td>\n",
              "      <td>-0.551600</td>\n",
              "      <td>-0.617801</td>\n",
              "      <td>-0.991390</td>\n",
              "      <td>-0.311169</td>\n",
              "      <td>1.468177</td>\n",
              "      <td>-0.470401</td>\n",
              "      <td>0.207971</td>\n",
              "      <td>0.025791</td>\n",
              "      <td>0.403993</td>\n",
              "      <td>0.251412</td>\n",
              "      <td>-0.018307</td>\n",
              "      <td>0.277838</td>\n",
              "      <td>-0.110474</td>\n",
              "      <td>0.066928</td>\n",
              "      <td>0.128539</td>\n",
              "      <td>-0.189115</td>\n",
              "      <td>0.133558</td>\n",
              "      <td>-0.021053</td>\n",
              "      <td>149.62</td>\n",
              "      <td>0</td>\n",
              "    </tr>\n",
              "    <tr>\n",
              "      <th>1</th>\n",
              "      <td>0.0</td>\n",
              "      <td>1.191857</td>\n",
              "      <td>0.266151</td>\n",
              "      <td>0.166480</td>\n",
              "      <td>0.448154</td>\n",
              "      <td>0.060018</td>\n",
              "      <td>-0.082361</td>\n",
              "      <td>-0.078803</td>\n",
              "      <td>0.085102</td>\n",
              "      <td>-0.255425</td>\n",
              "      <td>-0.166974</td>\n",
              "      <td>1.612727</td>\n",
              "      <td>1.065235</td>\n",
              "      <td>0.489095</td>\n",
              "      <td>-0.143772</td>\n",
              "      <td>0.635558</td>\n",
              "      <td>0.463917</td>\n",
              "      <td>-0.114805</td>\n",
              "      <td>-0.183361</td>\n",
              "      <td>-0.145783</td>\n",
              "      <td>-0.069083</td>\n",
              "      <td>-0.225775</td>\n",
              "      <td>-0.638672</td>\n",
              "      <td>0.101288</td>\n",
              "      <td>-0.339846</td>\n",
              "      <td>0.167170</td>\n",
              "      <td>0.125895</td>\n",
              "      <td>-0.008983</td>\n",
              "      <td>0.014724</td>\n",
              "      <td>2.69</td>\n",
              "      <td>0</td>\n",
              "    </tr>\n",
              "    <tr>\n",
              "      <th>2</th>\n",
              "      <td>1.0</td>\n",
              "      <td>-1.358354</td>\n",
              "      <td>-1.340163</td>\n",
              "      <td>1.773209</td>\n",
              "      <td>0.379780</td>\n",
              "      <td>-0.503198</td>\n",
              "      <td>1.800499</td>\n",
              "      <td>0.791461</td>\n",
              "      <td>0.247676</td>\n",
              "      <td>-1.514654</td>\n",
              "      <td>0.207643</td>\n",
              "      <td>0.624501</td>\n",
              "      <td>0.066084</td>\n",
              "      <td>0.717293</td>\n",
              "      <td>-0.165946</td>\n",
              "      <td>2.345865</td>\n",
              "      <td>-2.890083</td>\n",
              "      <td>1.109969</td>\n",
              "      <td>-0.121359</td>\n",
              "      <td>-2.261857</td>\n",
              "      <td>0.524980</td>\n",
              "      <td>0.247998</td>\n",
              "      <td>0.771679</td>\n",
              "      <td>0.909412</td>\n",
              "      <td>-0.689281</td>\n",
              "      <td>-0.327642</td>\n",
              "      <td>-0.139097</td>\n",
              "      <td>-0.055353</td>\n",
              "      <td>-0.059752</td>\n",
              "      <td>378.66</td>\n",
              "      <td>0</td>\n",
              "    </tr>\n",
              "    <tr>\n",
              "      <th>3</th>\n",
              "      <td>1.0</td>\n",
              "      <td>-0.966272</td>\n",
              "      <td>-0.185226</td>\n",
              "      <td>1.792993</td>\n",
              "      <td>-0.863291</td>\n",
              "      <td>-0.010309</td>\n",
              "      <td>1.247203</td>\n",
              "      <td>0.237609</td>\n",
              "      <td>0.377436</td>\n",
              "      <td>-1.387024</td>\n",
              "      <td>-0.054952</td>\n",
              "      <td>-0.226487</td>\n",
              "      <td>0.178228</td>\n",
              "      <td>0.507757</td>\n",
              "      <td>-0.287924</td>\n",
              "      <td>-0.631418</td>\n",
              "      <td>-1.059647</td>\n",
              "      <td>-0.684093</td>\n",
              "      <td>1.965775</td>\n",
              "      <td>-1.232622</td>\n",
              "      <td>-0.208038</td>\n",
              "      <td>-0.108300</td>\n",
              "      <td>0.005274</td>\n",
              "      <td>-0.190321</td>\n",
              "      <td>-1.175575</td>\n",
              "      <td>0.647376</td>\n",
              "      <td>-0.221929</td>\n",
              "      <td>0.062723</td>\n",
              "      <td>0.061458</td>\n",
              "      <td>123.50</td>\n",
              "      <td>0</td>\n",
              "    </tr>\n",
              "    <tr>\n",
              "      <th>4</th>\n",
              "      <td>2.0</td>\n",
              "      <td>-1.158233</td>\n",
              "      <td>0.877737</td>\n",
              "      <td>1.548718</td>\n",
              "      <td>0.403034</td>\n",
              "      <td>-0.407193</td>\n",
              "      <td>0.095921</td>\n",
              "      <td>0.592941</td>\n",
              "      <td>-0.270533</td>\n",
              "      <td>0.817739</td>\n",
              "      <td>0.753074</td>\n",
              "      <td>-0.822843</td>\n",
              "      <td>0.538196</td>\n",
              "      <td>1.345852</td>\n",
              "      <td>-1.119670</td>\n",
              "      <td>0.175121</td>\n",
              "      <td>-0.451449</td>\n",
              "      <td>-0.237033</td>\n",
              "      <td>-0.038195</td>\n",
              "      <td>0.803487</td>\n",
              "      <td>0.408542</td>\n",
              "      <td>-0.009431</td>\n",
              "      <td>0.798278</td>\n",
              "      <td>-0.137458</td>\n",
              "      <td>0.141267</td>\n",
              "      <td>-0.206010</td>\n",
              "      <td>0.502292</td>\n",
              "      <td>0.219422</td>\n",
              "      <td>0.215153</td>\n",
              "      <td>69.99</td>\n",
              "      <td>0</td>\n",
              "    </tr>\n",
              "  </tbody>\n",
              "</table>\n",
              "</div>"
            ],
            "text/plain": [
              "   Time        V1        V2        V3  ...       V27       V28  Amount  Class\n",
              "0   0.0 -1.359807 -0.072781  2.536347  ...  0.133558 -0.021053  149.62      0\n",
              "1   0.0  1.191857  0.266151  0.166480  ... -0.008983  0.014724    2.69      0\n",
              "2   1.0 -1.358354 -1.340163  1.773209  ... -0.055353 -0.059752  378.66      0\n",
              "3   1.0 -0.966272 -0.185226  1.792993  ...  0.062723  0.061458  123.50      0\n",
              "4   2.0 -1.158233  0.877737  1.548718  ...  0.219422  0.215153   69.99      0\n",
              "\n",
              "[5 rows x 31 columns]"
            ]
          },
          "metadata": {
            "tags": []
          },
          "execution_count": 2
        }
      ]
    },
    {
      "cell_type": "code",
      "metadata": {
        "colab": {
          "base_uri": "https://localhost:8080/"
        },
        "id": "KnV2u2mQHvXd",
        "outputId": "b41f646c-7850-496a-db3f-26c375195ca9"
      },
      "source": [
        "#finding the shape of dataframe (finding no.of observations and features in the given dataframe)\n",
        "data.shape"
      ],
      "execution_count": null,
      "outputs": [
        {
          "output_type": "execute_result",
          "data": {
            "text/plain": [
              "(284807, 31)"
            ]
          },
          "metadata": {
            "tags": []
          },
          "execution_count": 3
        }
      ]
    },
    {
      "cell_type": "markdown",
      "metadata": {
        "id": "dovb6w6XHzPJ"
      },
      "source": [
        "=> There are 284,807 observation in the data"
      ]
    },
    {
      "cell_type": "code",
      "metadata": {
        "colab": {
          "base_uri": "https://localhost:8080/"
        },
        "id": "VWqrSMjVICFh",
        "outputId": "3dbd4a0e-5982-4fb2-c693-55348c59e891"
      },
      "source": [
        "#Checking the null value\n",
        "data.isnull().sum().max()"
      ],
      "execution_count": null,
      "outputs": [
        {
          "output_type": "execute_result",
          "data": {
            "text/plain": [
              "0"
            ]
          },
          "metadata": {
            "tags": []
          },
          "execution_count": 4
        }
      ]
    },
    {
      "cell_type": "code",
      "metadata": {
        "colab": {
          "base_uri": "https://localhost:8080/"
        },
        "id": "dcBS9aCQIWAh",
        "outputId": "06484558-714a-4a1b-8d21-24973692ea74"
      },
      "source": [
        "#finding whether it is balanced data or imbalanced data\n",
        "data['Class'].value_counts()"
      ],
      "execution_count": null,
      "outputs": [
        {
          "output_type": "execute_result",
          "data": {
            "text/plain": [
              "0    284315\n",
              "1       492\n",
              "Name: Class, dtype: int64"
            ]
          },
          "metadata": {
            "tags": []
          },
          "execution_count": 5
        }
      ]
    },
    {
      "cell_type": "markdown",
      "metadata": {
        "id": "j-_Qse5bIngj"
      },
      "source": [
        "=> From the above info it is clear that it is an imbalanced dataset"
      ]
    },
    {
      "cell_type": "code",
      "metadata": {
        "colab": {
          "base_uri": "https://localhost:8080/"
        },
        "id": "wkwKMdr2IiKZ",
        "outputId": "39a6362f-034e-4718-8908-d120d4cee16d"
      },
      "source": [
        "print('No Frauds:', round(data['Class'].value_counts()[0]/len(data) * 100,2), '% of the dataset')\n",
        "print('Frauds:', round(data['Class'].value_counts()[1]/len(data) * 100,2), '% of the dataset')"
      ],
      "execution_count": null,
      "outputs": [
        {
          "output_type": "stream",
          "text": [
            "No Frauds: 99.83 % of the dataset\n",
            "Frauds: 0.17 % of the dataset\n"
          ],
          "name": "stdout"
        }
      ]
    },
    {
      "cell_type": "code",
      "metadata": {
        "colab": {
          "base_uri": "https://localhost:8080/",
          "height": 279
        },
        "id": "Mpk3LivPI5-e",
        "outputId": "1cc82be0-e444-4809-8580-155050a59d57"
      },
      "source": [
        "data['Class'].value_counts().plot(kind='bar')"
      ],
      "execution_count": null,
      "outputs": [
        {
          "output_type": "execute_result",
          "data": {
            "text/plain": [
              "<matplotlib.axes._subplots.AxesSubplot at 0x7f2e02a12bd0>"
            ]
          },
          "metadata": {
            "tags": []
          },
          "execution_count": 7
        },
        {
          "output_type": "display_data",
          "data": {
            "image/png": "[encoded data removed]",
            "text/plain": [
              "<Figure size 432x288 with 1 Axes>"
            ]
          },
          "metadata": {
            "tags": [],
            "needs_background": "light"
          }
        }
      ]
    },
    {
      "cell_type": "markdown",
      "metadata": {
        "id": "D7tdWPXIJwZ-"
      },
      "source": [
        "=> Only 492 (or 0.172%) of transaction are fraud. If we use this dataframe as the base for our predictive models we may get a lot of misclassified errors."
      ]
    },
    {
      "cell_type": "markdown",
      "metadata": {
        "id": "xKE01NQrK0H3"
      },
      "source": [
        "**So the aim of this Fraud Detection is maximize the detection of fraudulent transactions, and also minimize the number of false positives**"
      ]
    },
    {
      "cell_type": "markdown",
      "metadata": {
        "id": "1shRF8Y6GKOS"
      },
      "source": [
        "About the 'Time' and 'Amount' features"
      ]
    },
    {
      "cell_type": "code",
      "metadata": {
        "colab": {
          "base_uri": "https://localhost:8080/",
          "height": 333
        },
        "id": "j2UbZzmbJA4G",
        "outputId": "8250d3d2-4ca1-41d7-fd9e-f9ea1e8d0fa4"
      },
      "source": [
        "amount_val = data['Amount'].values\n",
        "sns.distplot(amount_val, color='r').set_title('Distribution of Transaction Amount', fontsize=10)\n",
        "\n",
        "plt.show()"
      ],
      "execution_count": null,
      "outputs": [
        {
          "output_type": "stream",
          "text": [
            "/usr/local/lib/python3.7/dist-packages/seaborn/distributions.py:2557: FutureWarning: `distplot` is a deprecated function and will be removed in a future version. Please adapt your code to use either `displot` (a figure-level function with similar flexibility) or `histplot` (an axes-level function for histograms).\n",
            "  warnings.warn(msg, FutureWarning)\n"
          ],
          "name": "stderr"
        },
        {
          "output_type": "display_data",
          "data": {
            "image/png": "[encoded data removed]",
            "text/plain": [
              "<Figure size 432x288 with 1 Axes>"
            ]
          },
          "metadata": {
            "tags": [],
            "needs_background": "light"
          }
        }
      ]
    },
    {
      "cell_type": "code",
      "metadata": {
        "colab": {
          "base_uri": "https://localhost:8080/",
          "height": 333
        },
        "id": "tAxSE12TGf4f",
        "outputId": "44d1c167-19c3-4af8-a4de-dfeecab4c738"
      },
      "source": [
        "time_val = data['Time'].values\n",
        "sns.distplot(time_val, color='b').set_title('Distribution of Transaction Time', fontsize=10)\n",
        "plt.show()"
      ],
      "execution_count": null,
      "outputs": [
        {
          "output_type": "stream",
          "text": [
            "/usr/local/lib/python3.7/dist-packages/seaborn/distributions.py:2557: FutureWarning: `distplot` is a deprecated function and will be removed in a future version. Please adapt your code to use either `displot` (a figure-level function with similar flexibility) or `histplot` (an axes-level function for histograms).\n",
            "  warnings.warn(msg, FutureWarning)\n"
          ],
          "name": "stderr"
        },
        {
          "output_type": "display_data",
          "data": {
            "image/png": "[encoded data removed]",
            "text/plain": [
              "<Figure size 432x288 with 1 Axes>"
            ]
          },
          "metadata": {
            "tags": [],
            "needs_background": "light"
          }
        }
      ]
    },
    {
      "cell_type": "markdown",
      "metadata": {
        "id": "mc7frdxeHUqc"
      },
      "source": [
        "Scaling: Keep in mind that in order to implement a PCA transformation features need to be previously scaled. (In this case, all the V features have been scaled or at least that is what we are assuming the people that develop the dataset did.)\n",
        "\n",
        "=> 'Time' and 'Amount' should be scaled as the other columns."
      ]
    },
    {
      "cell_type": "code",
      "metadata": {
        "colab": {
          "base_uri": "https://localhost:8080/",
          "height": 225
        },
        "id": "bl8iBuFSHAO_",
        "outputId": "67ee2984-443c-40ff-c14c-493707c175f7"
      },
      "source": [
        "from sklearn.preprocessing import StandardScaler\n",
        "\n",
        "std_scaler = StandardScaler()\n",
        "\n",
        "data['scaled_amount'] = std_scaler.fit_transform(data['Amount'].values.reshape(-1,1))\n",
        "data['scaled_time'] = std_scaler.fit_transform(data['Time'].values.reshape(-1,1))\n",
        "\n",
        "data.drop(['Time','Amount'], axis=1, inplace=True)\n",
        "\n",
        "\n",
        "scaled_amount = data['scaled_amount']\n",
        "scaled_time = data['scaled_time']\n",
        "\n",
        "data.drop(['scaled_amount', 'scaled_time'], axis=1, inplace=True)\n",
        "data.insert(0, 'scaled_amount', scaled_amount)\n",
        "data.insert(1, 'scaled_time', scaled_time)\n",
        "\n",
        "data.head()"
      ],
      "execution_count": null,
      "outputs": [
        {
          "output_type": "execute_result",
          "data": {
            "text/html": [
              "<div>\n",
              "<style scoped>\n",
              "    .dataframe tbody tr th:only-of-type {\n",
              "        vertical-align: middle;\n",
              "    }\n",
              "\n",
              "    .dataframe tbody tr th {\n",
              "        vertical-align: top;\n",
              "    }\n",
              "\n",
              "    .dataframe thead th {\n",
              "        text-align: right;\n",
              "    }\n",
              "</style>\n",
              "<table border=\"1\" class=\"dataframe\">\n",
              "  <thead>\n",
              "    <tr style=\"text-align: right;\">\n",
              "      <th></th>\n",
              "      <th>scaled_amount</th>\n",
              "      <th>scaled_time</th>\n",
              "      <th>V1</th>\n",
              "      <th>V2</th>\n",
              "      <th>V3</th>\n",
              "      <th>V4</th>\n",
              "      <th>V5</th>\n",
              "      <th>V6</th>\n",
              "      <th>V7</th>\n",
              "      <th>V8</th>\n",
              "      <th>V9</th>\n",
              "      <th>V10</th>\n",
              "      <th>V11</th>\n",
              "      <th>V12</th>\n",
              "      <th>V13</th>\n",
              "      <th>V14</th>\n",
              "      <th>V15</th>\n",
              "      <th>V16</th>\n",
              "      <th>V17</th>\n",
              "      <th>V18</th>\n",
              "      <th>V19</th>\n",
              "      <th>V20</th>\n",
              "      <th>V21</th>\n",
              "      <th>V22</th>\n",
              "      <th>V23</th>\n",
              "      <th>V24</th>\n",
              "      <th>V25</th>\n",
              "      <th>V26</th>\n",
              "      <th>V27</th>\n",
              "      <th>V28</th>\n",
              "      <th>Class</th>\n",
              "    </tr>\n",
              "  </thead>\n",
              "  <tbody>\n",
              "    <tr>\n",
              "      <th>0</th>\n",
              "      <td>0.244964</td>\n",
              "      <td>-1.996583</td>\n",
              "      <td>-1.359807</td>\n",
              "      <td>-0.072781</td>\n",
              "      <td>2.536347</td>\n",
              "      <td>1.378155</td>\n",
              "      <td>-0.338321</td>\n",
              "      <td>0.462388</td>\n",
              "      <td>0.239599</td>\n",
              "      <td>0.098698</td>\n",
              "      <td>0.363787</td>\n",
              "      <td>0.090794</td>\n",
              "      <td>-0.551600</td>\n",
              "      <td>-0.617801</td>\n",
              "      <td>-0.991390</td>\n",
              "      <td>-0.311169</td>\n",
              "      <td>1.468177</td>\n",
              "      <td>-0.470401</td>\n",
              "      <td>0.207971</td>\n",
              "      <td>0.025791</td>\n",
              "      <td>0.403993</td>\n",
              "      <td>0.251412</td>\n",
              "      <td>-0.018307</td>\n",
              "      <td>0.277838</td>\n",
              "      <td>-0.110474</td>\n",
              "      <td>0.066928</td>\n",
              "      <td>0.128539</td>\n",
              "      <td>-0.189115</td>\n",
              "      <td>0.133558</td>\n",
              "      <td>-0.021053</td>\n",
              "      <td>0</td>\n",
              "    </tr>\n",
              "    <tr>\n",
              "      <th>1</th>\n",
              "      <td>-0.342475</td>\n",
              "      <td>-1.996583</td>\n",
              "      <td>1.191857</td>\n",
              "      <td>0.266151</td>\n",
              "      <td>0.166480</td>\n",
              "      <td>0.448154</td>\n",
              "      <td>0.060018</td>\n",
              "      <td>-0.082361</td>\n",
              "      <td>-0.078803</td>\n",
              "      <td>0.085102</td>\n",
              "      <td>-0.255425</td>\n",
              "      <td>-0.166974</td>\n",
              "      <td>1.612727</td>\n",
              "      <td>1.065235</td>\n",
              "      <td>0.489095</td>\n",
              "      <td>-0.143772</td>\n",
              "      <td>0.635558</td>\n",
              "      <td>0.463917</td>\n",
              "      <td>-0.114805</td>\n",
              "      <td>-0.183361</td>\n",
              "      <td>-0.145783</td>\n",
              "      <td>-0.069083</td>\n",
              "      <td>-0.225775</td>\n",
              "      <td>-0.638672</td>\n",
              "      <td>0.101288</td>\n",
              "      <td>-0.339846</td>\n",
              "      <td>0.167170</td>\n",
              "      <td>0.125895</td>\n",
              "      <td>-0.008983</td>\n",
              "      <td>0.014724</td>\n",
              "      <td>0</td>\n",
              "    </tr>\n",
              "    <tr>\n",
              "      <th>2</th>\n",
              "      <td>1.160686</td>\n",
              "      <td>-1.996562</td>\n",
              "      <td>-1.358354</td>\n",
              "      <td>-1.340163</td>\n",
              "      <td>1.773209</td>\n",
              "      <td>0.379780</td>\n",
              "      <td>-0.503198</td>\n",
              "      <td>1.800499</td>\n",
              "      <td>0.791461</td>\n",
              "      <td>0.247676</td>\n",
              "      <td>-1.514654</td>\n",
              "      <td>0.207643</td>\n",
              "      <td>0.624501</td>\n",
              "      <td>0.066084</td>\n",
              "      <td>0.717293</td>\n",
              "      <td>-0.165946</td>\n",
              "      <td>2.345865</td>\n",
              "      <td>-2.890083</td>\n",
              "      <td>1.109969</td>\n",
              "      <td>-0.121359</td>\n",
              "      <td>-2.261857</td>\n",
              "      <td>0.524980</td>\n",
              "      <td>0.247998</td>\n",
              "      <td>0.771679</td>\n",
              "      <td>0.909412</td>\n",
              "      <td>-0.689281</td>\n",
              "      <td>-0.327642</td>\n",
              "      <td>-0.139097</td>\n",
              "      <td>-0.055353</td>\n",
              "      <td>-0.059752</td>\n",
              "      <td>0</td>\n",
              "    </tr>\n",
              "    <tr>\n",
              "      <th>3</th>\n",
              "      <td>0.140534</td>\n",
              "      <td>-1.996562</td>\n",
              "      <td>-0.966272</td>\n",
              "      <td>-0.185226</td>\n",
              "      <td>1.792993</td>\n",
              "      <td>-0.863291</td>\n",
              "      <td>-0.010309</td>\n",
              "      <td>1.247203</td>\n",
              "      <td>0.237609</td>\n",
              "      <td>0.377436</td>\n",
              "      <td>-1.387024</td>\n",
              "      <td>-0.054952</td>\n",
              "      <td>-0.226487</td>\n",
              "      <td>0.178228</td>\n",
              "      <td>0.507757</td>\n",
              "      <td>-0.287924</td>\n",
              "      <td>-0.631418</td>\n",
              "      <td>-1.059647</td>\n",
              "      <td>-0.684093</td>\n",
              "      <td>1.965775</td>\n",
              "      <td>-1.232622</td>\n",
              "      <td>-0.208038</td>\n",
              "      <td>-0.108300</td>\n",
              "      <td>0.005274</td>\n",
              "      <td>-0.190321</td>\n",
              "      <td>-1.175575</td>\n",
              "      <td>0.647376</td>\n",
              "      <td>-0.221929</td>\n",
              "      <td>0.062723</td>\n",
              "      <td>0.061458</td>\n",
              "      <td>0</td>\n",
              "    </tr>\n",
              "    <tr>\n",
              "      <th>4</th>\n",
              "      <td>-0.073403</td>\n",
              "      <td>-1.996541</td>\n",
              "      <td>-1.158233</td>\n",
              "      <td>0.877737</td>\n",
              "      <td>1.548718</td>\n",
              "      <td>0.403034</td>\n",
              "      <td>-0.407193</td>\n",
              "      <td>0.095921</td>\n",
              "      <td>0.592941</td>\n",
              "      <td>-0.270533</td>\n",
              "      <td>0.817739</td>\n",
              "      <td>0.753074</td>\n",
              "      <td>-0.822843</td>\n",
              "      <td>0.538196</td>\n",
              "      <td>1.345852</td>\n",
              "      <td>-1.119670</td>\n",
              "      <td>0.175121</td>\n",
              "      <td>-0.451449</td>\n",
              "      <td>-0.237033</td>\n",
              "      <td>-0.038195</td>\n",
              "      <td>0.803487</td>\n",
              "      <td>0.408542</td>\n",
              "      <td>-0.009431</td>\n",
              "      <td>0.798278</td>\n",
              "      <td>-0.137458</td>\n",
              "      <td>0.141267</td>\n",
              "      <td>-0.206010</td>\n",
              "      <td>0.502292</td>\n",
              "      <td>0.219422</td>\n",
              "      <td>0.215153</td>\n",
              "      <td>0</td>\n",
              "    </tr>\n",
              "  </tbody>\n",
              "</table>\n",
              "</div>"
            ],
            "text/plain": [
              "   scaled_amount  scaled_time        V1  ...       V27       V28  Class\n",
              "0       0.244964    -1.996583 -1.359807  ...  0.133558 -0.021053      0\n",
              "1      -0.342475    -1.996583  1.191857  ... -0.008983  0.014724      0\n",
              "2       1.160686    -1.996562 -1.358354  ... -0.055353 -0.059752      0\n",
              "3       0.140534    -1.996562 -0.966272  ...  0.062723  0.061458      0\n",
              "4      -0.073403    -1.996541 -1.158233  ...  0.219422  0.215153      0\n",
              "\n",
              "[5 rows x 31 columns]"
            ]
          },
          "metadata": {
            "tags": []
          },
          "execution_count": 10
        }
      ]
    },
    {
      "cell_type": "markdown",
      "metadata": {
        "id": "40rnglj8M1f5"
      },
      "source": [
        "## Build Model Using Original Data (Imbalanced Data)"
      ]
    },
    {
      "cell_type": "markdown",
      "metadata": {
        "id": "Uykq5QAvNE7D"
      },
      "source": [
        "For Comparation, we will first use the Imbalanced data to train the model"
      ]
    },
    {
      "cell_type": "markdown",
      "metadata": {
        "id": "EB27_kcBNXCj"
      },
      "source": [
        "Here we use Logistic Regression"
      ]
    },
    {
      "cell_type": "code",
      "metadata": {
        "id": "8bM-7liiND1f"
      },
      "source": [
        "# Import Classifiers\n",
        "from sklearn.linear_model import LogisticRegression\n",
        "from sklearn.svm import SVC\n",
        "from sklearn.ensemble import RandomForestClassifier \n",
        "\n",
        "#Evaluation Metrics\n",
        "from sklearn.metrics import precision_score, recall_score, f1_score, roc_auc_score, accuracy_score, classification_report\n"
      ],
      "execution_count": null,
      "outputs": []
    },
    {
      "cell_type": "code",
      "metadata": {
        "colab": {
          "base_uri": "https://localhost:8080/"
        },
        "id": "qIj0fpRKOPeb",
        "outputId": "a448bc35-629c-45e1-b85e-350ff91aa7a1"
      },
      "source": [
        "#Split the data into train and test sets\n",
        "from sklearn.model_selection import train_test_split\n",
        "\n",
        "X = data.iloc[:,:-1]\n",
        "y = data.iloc[:,-1]\n",
        "\n",
        "X_train, X_test, y_train, y_test = train_test_split(X, y, test_size=0.3,  random_state=42)\n",
        "print(X_train.shape)\n",
        "print(X_test.shape)\n",
        "\n",
        "train_unique_label, train_counts_label = np.unique(y_train, return_counts=True)\n",
        "test_unique_label, test_counts_label = np.unique(y_test, return_counts=True)\n",
        "print('-' * 50)\n",
        "\n",
        "print('Label Distributions: \\n')\n",
        "print(train_counts_label/ len(y_train))\n",
        "print(test_counts_label/ len(y_test))"
      ],
      "execution_count": 111,
      "outputs": [
        {
          "output_type": "stream",
          "text": [
            "(199364, 30)\n",
            "(85443, 30)\n",
            "--------------------------------------------------\n",
            "Label Distributions: \n",
            "\n",
            "[0.9982695 0.0017305]\n",
            "[0.99827955 0.00172045]\n"
          ],
          "name": "stdout"
        }
      ]
    },
    {
      "cell_type": "code",
      "metadata": {
        "colab": {
          "base_uri": "https://localhost:8080/"
        },
        "id": "mDeUFgqSPGbg",
        "outputId": "3e5cf517-a07d-4663-d0c6-2104b55e54c2"
      },
      "source": [
        "clf = LogisticRegression()    \n",
        "clf.fit(X_train, y_train)\n",
        "\n",
        "predictions = clf.predict(X_test)\n",
        "accuracy_score_lr = accuracy_score(y_test, predictions)\n",
        "recall_score_lr = recall_score(y_test, predictions)\n",
        "precision_score_lr = precision_score(y_test, predictions)\n",
        "f1_score_lr = f1_score(y_test, predictions)\n",
        "print('Logistic Regression Result:')\n",
        "print('Accuracy Score: ', accuracy_score_lr)\n",
        "print('Recall: ', recall_score_lr)\n",
        "print('Precision: ', precision_score_lr)\n",
        "print('F1 Score:', f1_score_lr) "
      ],
      "execution_count": 112,
      "outputs": [
        {
          "output_type": "stream",
          "text": [
            "Logistic Regression Result:\n",
            "Accuracy Score:  0.9991924440855307\n",
            "Recall:  0.6054421768707483\n",
            "Precision:  0.89\n",
            "F1 Score: 0.7206477732793523\n"
          ],
          "name": "stdout"
        }
      ]
    },
    {
      "cell_type": "code",
      "metadata": {
        "colab": {
          "base_uri": "https://localhost:8080/",
          "height": 312
        },
        "id": "kaADC7YXSF00",
        "outputId": "16b67ca0-842b-46fc-ea83-fa60e44cdc8e"
      },
      "source": [
        "from sklearn.metrics import confusion_matrix\n",
        "cfn_matrix=confusion_matrix(y_test, predictions)\n",
        "\n",
        "sns.heatmap(cfn_matrix,cmap='coolwarm_r',linewidths=0.5,annot=True)\n",
        "plt.title('Confusion Matrix')\n",
        "plt.ylabel('Real Classes')\n",
        "plt.xlabel('Predicted Classes')"
      ],
      "execution_count": 113,
      "outputs": [
        {
          "output_type": "execute_result",
          "data": {
            "text/plain": [
              "Text(0.5, 15.0, 'Predicted Classes')"
            ]
          },
          "metadata": {
            "tags": []
          },
          "execution_count": 113
        },
        {
          "output_type": "display_data",
          "data": {
            "image/png": "[encoded data removed]",
            "text/plain": [
              "<Figure size 432x288 with 2 Axes>"
            ]
          },
          "metadata": {
            "tags": [],
            "needs_background": "light"
          }
        }
      ]
    },
    {
      "cell_type": "code",
      "metadata": {
        "colab": {
          "base_uri": "https://localhost:8080/"
        },
        "id": "K5vPddDZRiFw",
        "outputId": "bcad5d7a-a6ff-4395-f947-ddc1db1d510f"
      },
      "source": [
        "print(classification_report(y_test, predictions))"
      ],
      "execution_count": 114,
      "outputs": [
        {
          "output_type": "stream",
          "text": [
            "              precision    recall  f1-score   support\n",
            "\n",
            "           0       1.00      1.00      1.00     85296\n",
            "           1       0.89      0.61      0.72       147\n",
            "\n",
            "    accuracy                           1.00     85443\n",
            "   macro avg       0.94      0.80      0.86     85443\n",
            "weighted avg       1.00      1.00      1.00     85443\n",
            "\n"
          ],
          "name": "stdout"
        }
      ]
    },
    {
      "cell_type": "markdown",
      "metadata": {
        "id": "5W_nqYL6Tk73"
      },
      "source": [
        "Trained this Imbalanced Data, although get the high accuracy (up to 99%), but there are bad performance on predict fraudulent\n",
        "\n",
        "**=> The model must do well on the detection of fraudulent transactions**"
      ]
    },
    {
      "cell_type": "markdown",
      "metadata": {
        "id": "_JcKBJHJVjcr"
      },
      "source": [
        "## Deal with Imbalanced data "
      ]
    },
    {
      "cell_type": "markdown",
      "metadata": {
        "id": "wQieAxUHZD8k"
      },
      "source": [
        "There are several ways to approach this classification problem taking into consideration this imbalance:\n",
        "\n",
        "\n",
        "1.   Collect more data? Nice strategy but not applicable in this case\n",
        "2.  Changing the performance metric:\n",
        "*   Calculate Precision, Recall, F1-Score\n",
        "*   ROC curves\n",
        "3. Resampling the dataset:\n",
        "Essentially this is a method that will process the data to have an approximate 50-50 ratio:\n",
        "*   One way to achieve this is by OVER-sampling\n",
        "*   Another is UNDER-sampling, issue with \"Under-Sampling\" is that we run the risk that our classification models will not perform as accurate as we would like to since there is a great deal of information loss (bringing 492 non-fraud transaction from 284,315 non-fraud transaction)"
      ]
    },
    {
      "cell_type": "markdown",
      "metadata": {
        "id": "YHSvM_AhodaY"
      },
      "source": [
        "Here I would use the UNDER-Sampling technique "
      ]
    },
    {
      "cell_type": "code",
      "metadata": {
        "colab": {
          "base_uri": "https://localhost:8080/",
          "height": 225
        },
        "id": "WGn-A9_ATkja",
        "outputId": "1f83ebfd-b2d6-4cb1-cb86-a53be1162ebd"
      },
      "source": [
        "# Lets shuffle the data before creating the subsamples\n",
        "\n",
        "data = data.sample(frac=1)\n",
        "\n",
        "# Amount of fraud classes 492 rows.\n",
        "fraud_df = data.loc[data['Class'] == 1]\n",
        "non_fraud_df = data.loc[data['Class'] == 0][:492]\n",
        "\n",
        "df = pd.concat([fraud_df, non_fraud_df])\n",
        "\n",
        "# Shuffle dataframe rows\n",
        "new_df = df.sample(frac=1, random_state=42)\n",
        "\n",
        "new_df.head()"
      ],
      "execution_count": null,
      "outputs": [
        {
          "output_type": "execute_result",
          "data": {
            "text/html": [
              "<div>\n",
              "<style scoped>\n",
              "    .dataframe tbody tr th:only-of-type {\n",
              "        vertical-align: middle;\n",
              "    }\n",
              "\n",
              "    .dataframe tbody tr th {\n",
              "        vertical-align: top;\n",
              "    }\n",
              "\n",
              "    .dataframe thead th {\n",
              "        text-align: right;\n",
              "    }\n",
              "</style>\n",
              "<table border=\"1\" class=\"dataframe\">\n",
              "  <thead>\n",
              "    <tr style=\"text-align: right;\">\n",
              "      <th></th>\n",
              "      <th>scaled_amount</th>\n",
              "      <th>scaled_time</th>\n",
              "      <th>V1</th>\n",
              "      <th>V2</th>\n",
              "      <th>V3</th>\n",
              "      <th>V4</th>\n",
              "      <th>V5</th>\n",
              "      <th>V6</th>\n",
              "      <th>V7</th>\n",
              "      <th>V8</th>\n",
              "      <th>V9</th>\n",
              "      <th>V10</th>\n",
              "      <th>V11</th>\n",
              "      <th>V12</th>\n",
              "      <th>V13</th>\n",
              "      <th>V14</th>\n",
              "      <th>V15</th>\n",
              "      <th>V16</th>\n",
              "      <th>V17</th>\n",
              "      <th>V18</th>\n",
              "      <th>V19</th>\n",
              "      <th>V20</th>\n",
              "      <th>V21</th>\n",
              "      <th>V22</th>\n",
              "      <th>V23</th>\n",
              "      <th>V24</th>\n",
              "      <th>V25</th>\n",
              "      <th>V26</th>\n",
              "      <th>V27</th>\n",
              "      <th>V28</th>\n",
              "      <th>Class</th>\n",
              "    </tr>\n",
              "  </thead>\n",
              "  <tbody>\n",
              "    <tr>\n",
              "      <th>188428</th>\n",
              "      <td>0.558094</td>\n",
              "      <td>0.698242</td>\n",
              "      <td>1.541961</td>\n",
              "      <td>-1.176481</td>\n",
              "      <td>-2.074532</td>\n",
              "      <td>-1.096220</td>\n",
              "      <td>0.501441</td>\n",
              "      <td>0.552184</td>\n",
              "      <td>0.159939</td>\n",
              "      <td>0.098655</td>\n",
              "      <td>1.183930</td>\n",
              "      <td>-0.750469</td>\n",
              "      <td>1.201729</td>\n",
              "      <td>1.333554</td>\n",
              "      <td>0.010358</td>\n",
              "      <td>0.837242</td>\n",
              "      <td>1.406370</td>\n",
              "      <td>-1.229862</td>\n",
              "      <td>-0.021879</td>\n",
              "      <td>-0.401448</td>\n",
              "      <td>-0.282098</td>\n",
              "      <td>0.146870</td>\n",
              "      <td>0.517162</td>\n",
              "      <td>1.295969</td>\n",
              "      <td>-0.262378</td>\n",
              "      <td>-1.589674</td>\n",
              "      <td>0.194825</td>\n",
              "      <td>-0.672317</td>\n",
              "      <td>0.039656</td>\n",
              "      <td>-0.040273</td>\n",
              "      <td>0</td>\n",
              "    </tr>\n",
              "    <tr>\n",
              "      <th>154587</th>\n",
              "      <td>-0.353229</td>\n",
              "      <td>0.153726</td>\n",
              "      <td>-28.255053</td>\n",
              "      <td>21.467203</td>\n",
              "      <td>-26.871339</td>\n",
              "      <td>11.737436</td>\n",
              "      <td>-17.999630</td>\n",
              "      <td>6.065901</td>\n",
              "      <td>-41.506796</td>\n",
              "      <td>-38.987263</td>\n",
              "      <td>-13.434066</td>\n",
              "      <td>-24.403185</td>\n",
              "      <td>3.409323</td>\n",
              "      <td>-9.608267</td>\n",
              "      <td>-3.076318</td>\n",
              "      <td>0.240060</td>\n",
              "      <td>-2.836677</td>\n",
              "      <td>-6.594757</td>\n",
              "      <td>-12.957531</td>\n",
              "      <td>-5.613522</td>\n",
              "      <td>-0.248828</td>\n",
              "      <td>10.440718</td>\n",
              "      <td>-21.453736</td>\n",
              "      <td>8.361985</td>\n",
              "      <td>4.909111</td>\n",
              "      <td>0.098328</td>\n",
              "      <td>-1.508739</td>\n",
              "      <td>0.008711</td>\n",
              "      <td>-5.407824</td>\n",
              "      <td>-0.183811</td>\n",
              "      <td>1</td>\n",
              "    </tr>\n",
              "    <tr>\n",
              "      <th>244633</th>\n",
              "      <td>-0.345233</td>\n",
              "      <td>1.213234</td>\n",
              "      <td>2.007077</td>\n",
              "      <td>-0.457124</td>\n",
              "      <td>-0.749439</td>\n",
              "      <td>0.052876</td>\n",
              "      <td>-0.161306</td>\n",
              "      <td>0.393460</td>\n",
              "      <td>-0.773592</td>\n",
              "      <td>0.252794</td>\n",
              "      <td>1.172429</td>\n",
              "      <td>0.086343</td>\n",
              "      <td>0.180540</td>\n",
              "      <td>0.334467</td>\n",
              "      <td>-0.724605</td>\n",
              "      <td>0.319034</td>\n",
              "      <td>0.530989</td>\n",
              "      <td>0.677294</td>\n",
              "      <td>-1.072502</td>\n",
              "      <td>1.051435</td>\n",
              "      <td>0.100697</td>\n",
              "      <td>-0.232651</td>\n",
              "      <td>0.210038</td>\n",
              "      <td>0.686770</td>\n",
              "      <td>0.107951</td>\n",
              "      <td>0.018485</td>\n",
              "      <td>-0.111063</td>\n",
              "      <td>-0.248973</td>\n",
              "      <td>0.022557</td>\n",
              "      <td>-0.049348</td>\n",
              "      <td>0</td>\n",
              "    </tr>\n",
              "    <tr>\n",
              "      <th>153885</th>\n",
              "      <td>-0.350191</td>\n",
              "      <td>0.119759</td>\n",
              "      <td>-6.985267</td>\n",
              "      <td>5.151094</td>\n",
              "      <td>-4.599338</td>\n",
              "      <td>4.534479</td>\n",
              "      <td>0.849054</td>\n",
              "      <td>-0.210701</td>\n",
              "      <td>-4.425230</td>\n",
              "      <td>-5.134525</td>\n",
              "      <td>0.069321</td>\n",
              "      <td>-0.870997</td>\n",
              "      <td>5.200815</td>\n",
              "      <td>-7.802228</td>\n",
              "      <td>0.033912</td>\n",
              "      <td>-7.560132</td>\n",
              "      <td>-1.014652</td>\n",
              "      <td>-1.507930</td>\n",
              "      <td>-3.410275</td>\n",
              "      <td>0.107544</td>\n",
              "      <td>-1.375518</td>\n",
              "      <td>-1.246996</td>\n",
              "      <td>5.453672</td>\n",
              "      <td>-2.056177</td>\n",
              "      <td>-0.280334</td>\n",
              "      <td>0.120771</td>\n",
              "      <td>0.569358</td>\n",
              "      <td>0.145971</td>\n",
              "      <td>0.300193</td>\n",
              "      <td>1.779364</td>\n",
              "      <td>1</td>\n",
              "    </tr>\n",
              "    <tr>\n",
              "      <th>223366</th>\n",
              "      <td>-0.349231</td>\n",
              "      <td>1.022155</td>\n",
              "      <td>1.118331</td>\n",
              "      <td>2.074439</td>\n",
              "      <td>-3.837518</td>\n",
              "      <td>5.448060</td>\n",
              "      <td>0.071816</td>\n",
              "      <td>-1.020509</td>\n",
              "      <td>-1.808574</td>\n",
              "      <td>0.521744</td>\n",
              "      <td>-2.032638</td>\n",
              "      <td>-2.732792</td>\n",
              "      <td>3.274075</td>\n",
              "      <td>-3.541687</td>\n",
              "      <td>-0.946820</td>\n",
              "      <td>-7.555729</td>\n",
              "      <td>-1.767005</td>\n",
              "      <td>-0.642333</td>\n",
              "      <td>-2.114429</td>\n",
              "      <td>0.183327</td>\n",
              "      <td>-1.177793</td>\n",
              "      <td>0.163513</td>\n",
              "      <td>0.289861</td>\n",
              "      <td>-0.172718</td>\n",
              "      <td>-0.021910</td>\n",
              "      <td>-0.376560</td>\n",
              "      <td>0.192817</td>\n",
              "      <td>0.114107</td>\n",
              "      <td>0.500996</td>\n",
              "      <td>0.259533</td>\n",
              "      <td>1</td>\n",
              "    </tr>\n",
              "  </tbody>\n",
              "</table>\n",
              "</div>"
            ],
            "text/plain": [
              "        scaled_amount  scaled_time         V1  ...       V27       V28  Class\n",
              "188428       0.558094     0.698242   1.541961  ...  0.039656 -0.040273      0\n",
              "154587      -0.353229     0.153726 -28.255053  ... -5.407824 -0.183811      1\n",
              "244633      -0.345233     1.213234   2.007077  ...  0.022557 -0.049348      0\n",
              "153885      -0.350191     0.119759  -6.985267  ...  0.300193  1.779364      1\n",
              "223366      -0.349231     1.022155   1.118331  ...  0.500996  0.259533      1\n",
              "\n",
              "[5 rows x 31 columns]"
            ]
          },
          "metadata": {
            "tags": []
          },
          "execution_count": 16
        }
      ]
    },
    {
      "cell_type": "code",
      "metadata": {
        "colab": {
          "base_uri": "https://localhost:8080/",
          "height": 420
        },
        "id": "_r05wkd2pu18",
        "outputId": "30565764-2bfb-4ffa-9f09-b4e2c29afc76"
      },
      "source": [
        "print('Distribution of the Classes in the subsample dataset')\n",
        "print(new_df['Class'].value_counts()/len(new_df))\n",
        "sns.countplot('Class', data=new_df)\n",
        "plt.title('Equally Distributed Classes', fontsize=14)\n",
        "plt.show()"
      ],
      "execution_count": null,
      "outputs": [
        {
          "output_type": "stream",
          "text": [
            "Distribution of the Classes in the subsample dataset\n",
            "1    0.5\n",
            "0    0.5\n",
            "Name: Class, dtype: float64\n"
          ],
          "name": "stdout"
        },
        {
          "output_type": "stream",
          "text": [
            "/usr/local/lib/python3.7/dist-packages/seaborn/_decorators.py:43: FutureWarning: Pass the following variable as a keyword arg: x. From version 0.12, the only valid positional argument will be `data`, and passing other arguments without an explicit keyword will result in an error or misinterpretation.\n",
            "  FutureWarning\n"
          ],
          "name": "stderr"
        },
        {
          "output_type": "display_data",
          "data": {
            "image/png": "[encoded data removed]",
            "text/plain": [
              "<Figure size 432x288 with 1 Axes>"
            ]
          },
          "metadata": {
            "tags": [],
            "needs_background": "light"
          }
        }
      ]
    },
    {
      "cell_type": "markdown",
      "metadata": {
        "id": "Jr8ojuitqHG0"
      },
      "source": [
        "Correlation matrix"
      ]
    },
    {
      "cell_type": "code",
      "metadata": {
        "colab": {
          "base_uri": "https://localhost:8080/",
          "height": 374
        },
        "id": "3FL4yr2Tp9lT",
        "outputId": "d1bfe331-8e26-41c7-ff64-4090e94e10f5"
      },
      "source": [
        "sub_sample_corr = new_df.corr()\n",
        "sns.heatmap(sub_sample_corr, cmap='coolwarm_r', annot_kws={'size':20}).set_title('SubSample Correlation Matrix \\n', fontsize=10)\n",
        "plt.figure(figsize=(20,20))\n",
        "plt.show()"
      ],
      "execution_count": null,
      "outputs": [
        {
          "output_type": "display_data",
          "data": {
            "image/png": "[encoded data removed]",
            "text/plain": [
              "<Figure size 432x288 with 2 Axes>"
            ]
          },
          "metadata": {
            "tags": [],
            "needs_background": "light"
          }
        },
        {
          "output_type": "display_data",
          "data": {
            "text/plain": [
              "<Figure size 1440x1440 with 0 Axes>"
            ]
          },
          "metadata": {
            "tags": []
          }
        }
      ]
    },
    {
      "cell_type": "markdown",
      "metadata": {
        "id": "HvR495YDrV6k"
      },
      "source": [
        "Observation: V17, V14, V12 and V10 are negatively correlated. Notice how the lower these values are, the more likely the end result will be a fraud transaction.\n",
        "\n",
        "V2, V4, V11, and V19 are positively correlated. Notice how the higher these values are, the more likely the end result will be a fraud transaction."
      ]
    },
    {
      "cell_type": "markdown",
      "metadata": {
        "id": "ZuUbvdc1spbo"
      },
      "source": [
        "Boxplot"
      ]
    },
    {
      "cell_type": "code",
      "metadata": {
        "colab": {
          "base_uri": "https://localhost:8080/",
          "height": 280
        },
        "id": "L60EEfx7qSrA",
        "outputId": "295572b8-4cf5-497f-f27e-a59e3ce92549"
      },
      "source": [
        "f, axes = plt.subplots(ncols=4, figsize=(20,4))\n",
        "\n",
        "# Negative Correlations with our Class (The lower our feature value the more likely it will be a fraud transaction)\n",
        "sns.boxplot(x=\"Class\", y=\"V17\", data=new_df, ax=axes[0])\n",
        "axes[0].set_title('V17 vs Class')\n",
        "\n",
        "sns.boxplot(x=\"Class\", y=\"V14\", data=new_df, ax=axes[1])\n",
        "axes[1].set_title('V14 vs Class')\n",
        "\n",
        "\n",
        "sns.boxplot(x=\"Class\", y=\"V12\", data=new_df, ax=axes[2])\n",
        "axes[2].set_title('V12 vs Class')\n",
        "\n",
        "\n",
        "sns.boxplot(x=\"Class\", y=\"V10\", data=new_df, ax=axes[3])\n",
        "axes[3].set_title('V10 vs Class')\n",
        "\n",
        "plt.show()"
      ],
      "execution_count": null,
      "outputs": [
        {
          "output_type": "display_data",
          "data": {
            "image/png": "[encoded data removed]",
            "text/plain": [
              "<Figure size 1440x288 with 4 Axes>"
            ]
          },
          "metadata": {
            "tags": [],
            "needs_background": "light"
          }
        }
      ]
    },
    {
      "cell_type": "code",
      "metadata": {
        "colab": {
          "base_uri": "https://localhost:8080/",
          "height": 280
        },
        "id": "7lo7cBVGs8Q6",
        "outputId": "7df14792-04f3-4265-cfaf-ffd5018e7823"
      },
      "source": [
        "f, axes = plt.subplots(ncols=3, figsize=(20,4))\n",
        "\n",
        "# Negative Correlations with our Class (The lower our feature value the more likely it will be a fraud transaction)\n",
        "sns.boxplot(x=\"Class\", y=\"V2\", data=new_df, ax=axes[0])\n",
        "axes[0].set_title('V17 vs Class')\n",
        "\n",
        "sns.boxplot(x=\"Class\", y=\"V4\", data=new_df, ax=axes[1])\n",
        "axes[1].set_title('V14 vs Class')\n",
        "\n",
        "\n",
        "sns.boxplot(x=\"Class\", y=\"V11\", data=new_df, ax=axes[2])\n",
        "axes[2].set_title('V12 vs Class')\n",
        "\n",
        "plt.show()"
      ],
      "execution_count": null,
      "outputs": [
        {
          "output_type": "display_data",
          "data": {
            "image/png": "[encoded data removed]",
            "text/plain": [
              "<Figure size 1440x288 with 3 Axes>"
            ]
          },
          "metadata": {
            "tags": [],
            "needs_background": "light"
          }
        }
      ]
    },
    {
      "cell_type": "markdown",
      "metadata": {
        "id": "puPdEy4Hv-xf"
      },
      "source": [
        "Model Building"
      ]
    },
    {
      "cell_type": "markdown",
      "metadata": {
        "id": "hYoqbOAtwe3A"
      },
      "source": [
        "Here I would using Logistic Regression, SVM, and Random Forest to train under-sample data"
      ]
    },
    {
      "cell_type": "code",
      "metadata": {
        "colab": {
          "base_uri": "https://localhost:8080/"
        },
        "id": "BWHe_16ytHNp",
        "outputId": "50835602-234a-48c7-db2a-731678cf1deb"
      },
      "source": [
        "#Split the data into train and test sets\n",
        "from sklearn.model_selection import train_test_split\n",
        "\n",
        "X_new = new_df.iloc[:,:-1]\n",
        "y_new = new_df.iloc[:,-1]\n",
        "\n",
        "X_train_new, X_test_new, y_train_new, y_test_new = train_test_split(X_new, y_new, test_size=0.3,  random_state=42)\n",
        "print(X_train_new.shape)\n",
        "print(X_test_new.shape)\n",
        "\n",
        "train_unique_label, train_counts_label = np.unique(y_train_new, return_counts=True)\n",
        "test_unique_label, test_counts_label = np.unique(y_test_new, return_counts=True)\n",
        "print('-' * 50)\n",
        "\n",
        "print('Label Distributions: \\n')\n",
        "print(train_counts_label/ len(y_train_new))\n",
        "print(test_counts_label/ len(y_test_new))"
      ],
      "execution_count": 78,
      "outputs": [
        {
          "output_type": "stream",
          "text": [
            "(688, 30)\n",
            "(296, 30)\n",
            "--------------------------------------------------\n",
            "Label Distributions: \n",
            "\n",
            "[0.52034884 0.47965116]\n",
            "[0.4527027 0.5472973]\n"
          ],
          "name": "stdout"
        }
      ]
    },
    {
      "cell_type": "code",
      "metadata": {
        "id": "pz81UNHoyrzB"
      },
      "source": [
        "# Import Classifiers\n",
        "from sklearn.linear_model import LogisticRegression\n",
        "from sklearn.svm import SVC\n",
        "from sklearn.ensemble import RandomForestClassifier \n",
        "\n",
        "#Evaluation Metrics\n",
        "from sklearn.metrics import precision_score, recall_score, f1_score, roc_auc_score, accuracy_score, classification_report\n",
        "\n",
        "# to perform hyperparameter tuning\n",
        "from sklearn.model_selection import GridSearchCV"
      ],
      "execution_count": 79,
      "outputs": []
    },
    {
      "cell_type": "markdown",
      "metadata": {
        "id": "4wr1E3wNJpAo"
      },
      "source": [
        "Logistic Regression"
      ]
    },
    {
      "cell_type": "code",
      "metadata": {
        "id": "AKoH5s5DFWYH",
        "colab": {
          "base_uri": "https://localhost:8080/"
        },
        "outputId": "b0e1ad8e-df46-46a1-baa1-6121c8aeaf36"
      },
      "source": [
        "tuned_params = {'penalty': ['l1','l2'], 'C': [0.001,0.01,0.1,1,10,100,1000]\n",
        "                }\n",
        "model = GridSearchCV(LogisticRegression(), tuned_params, cv=5, n_jobs=-1)\n",
        "model.fit(X_train_new, y_train_new)\n",
        "print(model.best_score_)"
      ],
      "execution_count": 80,
      "outputs": [
        {
          "output_type": "stream",
          "text": [
            "0.9418703057230509\n"
          ],
          "name": "stdout"
        }
      ]
    },
    {
      "cell_type": "code",
      "metadata": {
        "colab": {
          "base_uri": "https://localhost:8080/"
        },
        "id": "RVSVCh8BIOA3",
        "outputId": "81f62460-104e-4355-b0f3-a86fdec8b93a"
      },
      "source": [
        "model.best_estimator_"
      ],
      "execution_count": 81,
      "outputs": [
        {
          "output_type": "execute_result",
          "data": {
            "text/plain": [
              "LogisticRegression(C=1, class_weight=None, dual=False, fit_intercept=True,\n",
              "                   intercept_scaling=1, l1_ratio=None, max_iter=100,\n",
              "                   multi_class='auto', n_jobs=None, penalty='l2',\n",
              "                   random_state=None, solver='lbfgs', tol=0.0001, verbose=0,\n",
              "                   warm_start=False)"
            ]
          },
          "metadata": {
            "tags": []
          },
          "execution_count": 81
        }
      ]
    },
    {
      "cell_type": "code",
      "metadata": {
        "colab": {
          "base_uri": "https://localhost:8080/"
        },
        "id": "nHNPySw9xDZU",
        "outputId": "c11f27a5-f812-4d90-9bb2-dc37a324d143"
      },
      "source": [
        "clf = LogisticRegression(C=1, penalty='l2')   \n",
        "clf.fit(X_train_new, y_train_new)\n",
        "\n",
        "predictions = clf.predict(X_test_new)\n",
        "accuracy_score_lr = accuracy_score(y_test_new, predictions)\n",
        "recall_score_lr = recall_score(y_test_new, predictions)\n",
        "precision_score_lr = precision_score(y_test_new, predictions)\n",
        "f1_score_lr = f1_score(y_test_new, predictions)\n",
        "print('Logistic Regression Result:')\n",
        "print('Accuracy Score: ', accuracy_score_lr)\n",
        "print('Recall: ', recall_score_lr)\n",
        "print('Precision: ', precision_score_lr)\n",
        "print('F1 Score:', f1_score_lr) "
      ],
      "execution_count": 82,
      "outputs": [
        {
          "output_type": "stream",
          "text": [
            "Logistic Regression Result:\n",
            "Accuracy Score:  0.9358108108108109\n",
            "Recall:  0.9197530864197531\n",
            "Precision:  0.9612903225806452\n",
            "F1 Score: 0.9400630914826499\n"
          ],
          "name": "stdout"
        }
      ]
    },
    {
      "cell_type": "code",
      "metadata": {
        "colab": {
          "base_uri": "https://localhost:8080/",
          "height": 312
        },
        "id": "pfUGW-Hsx0li",
        "outputId": "eb8ddb3a-491b-4531-d24f-8e02ade51064"
      },
      "source": [
        "from sklearn.metrics import confusion_matrix\n",
        "cfn_matrix=confusion_matrix(y_test_new, predictions)\n",
        "\n",
        "sns.heatmap(cfn_matrix,cmap='coolwarm_r',linewidths=0.5,annot=True)\n",
        "plt.title('Confusion Matrix')\n",
        "plt.ylabel('Real Classes')\n",
        "plt.xlabel('Predicted Classes')"
      ],
      "execution_count": 83,
      "outputs": [
        {
          "output_type": "execute_result",
          "data": {
            "text/plain": [
              "Text(0.5, 15.0, 'Predicted Classes')"
            ]
          },
          "metadata": {
            "tags": []
          },
          "execution_count": 83
        },
        {
          "output_type": "display_data",
          "data": {
            "image/png": "[encoded data removed]",
            "text/plain": [
              "<Figure size 432x288 with 2 Axes>"
            ]
          },
          "metadata": {
            "tags": [],
            "needs_background": "light"
          }
        }
      ]
    },
    {
      "cell_type": "code",
      "metadata": {
        "colab": {
          "base_uri": "https://localhost:8080/"
        },
        "id": "Vlf8Drz_JsMw",
        "outputId": "5e1bd74d-b2e2-4572-9f24-070ce5a42313"
      },
      "source": [
        "print(classification_report(y_test_new, predictions))"
      ],
      "execution_count": 84,
      "outputs": [
        {
          "output_type": "stream",
          "text": [
            "              precision    recall  f1-score   support\n",
            "\n",
            "           0       0.91      0.96      0.93       134\n",
            "           1       0.96      0.92      0.94       162\n",
            "\n",
            "    accuracy                           0.94       296\n",
            "   macro avg       0.93      0.94      0.94       296\n",
            "weighted avg       0.94      0.94      0.94       296\n",
            "\n"
          ],
          "name": "stdout"
        }
      ]
    },
    {
      "cell_type": "code",
      "metadata": {
        "id": "dasovaWhHH8_"
      },
      "source": [
        "from sklearn.metrics import precision_recall_fscore_support, roc_curve, auc\n",
        "# calculate the fpr and tpr for all thresholds of the classification\n",
        "def plot_roc_curve(y_test, preds):\n",
        "    fpr, tpr, threshold = roc_curve(y_test, preds)\n",
        "    roc_auc = auc(fpr, tpr)\n",
        "    plt.title('Receiver Operating Characteristic')\n",
        "    plt.plot(fpr, tpr, 'b', label = 'AUC = %0.2f' % roc_auc)\n",
        "    plt.legend(loc = 'lower right')\n",
        "    plt.plot([0, 1], [0, 1],'r--')\n",
        "    plt.xlim([-0.01, 1.01])\n",
        "    plt.ylim([-0.01, 1.01])\n",
        "    plt.ylabel('True Positive Rate')\n",
        "    plt.xlabel('False Positive Rate')\n",
        "    plt.show()"
      ],
      "execution_count": 85,
      "outputs": []
    },
    {
      "cell_type": "code",
      "metadata": {
        "id": "WQMNxC6Iyxvn",
        "colab": {
          "base_uri": "https://localhost:8080/",
          "height": 295
        },
        "outputId": "b687393d-fbb1-4b5e-dbc0-4f537e85bc92"
      },
      "source": [
        "plot_roc_curve(y_test_new, predictions)"
      ],
      "execution_count": 86,
      "outputs": [
        {
          "output_type": "display_data",
          "data": {
            "image/png": "[encoded data removed]",
            "text/plain": [
              "<Figure size 432x288 with 1 Axes>"
            ]
          },
          "metadata": {
            "tags": [],
            "needs_background": "light"
          }
        }
      ]
    },
    {
      "cell_type": "markdown",
      "metadata": {
        "id": "HvgpjVFWJ91u"
      },
      "source": [
        "SVM"
      ]
    },
    {
      "cell_type": "code",
      "metadata": {
        "colab": {
          "base_uri": "https://localhost:8080/"
        },
        "id": "P_ZuZd9XJdeP",
        "outputId": "6898dca5-f97b-4a62-8049-5f3f261e40d3"
      },
      "source": [
        "tuned_params = {'C': [0.1, 1, 10, 100, 1000], \n",
        "              'gamma': [1, 0.1, 0.01, 0.001, 0.0001],\n",
        "              'kernel': ['rbf','linear','sigmoid']\n",
        "                }\n",
        "model = GridSearchCV(SVC(), tuned_params, cv=5, n_jobs=-1)\n",
        "model.fit(X_train_new, y_train_new)\n",
        "print(model.best_score_)"
      ],
      "execution_count": 87,
      "outputs": [
        {
          "output_type": "stream",
          "text": [
            "0.9418703057230509\n"
          ],
          "name": "stdout"
        }
      ]
    },
    {
      "cell_type": "code",
      "metadata": {
        "colab": {
          "base_uri": "https://localhost:8080/"
        },
        "id": "s_RyDqwvKnOe",
        "outputId": "63f3f101-6dc3-4d29-a31e-2b334438f0aa"
      },
      "source": [
        "model.best_estimator_"
      ],
      "execution_count": 88,
      "outputs": [
        {
          "output_type": "execute_result",
          "data": {
            "text/plain": [
              "SVC(C=1000, break_ties=False, cache_size=200, class_weight=None, coef0=0.0,\n",
              "    decision_function_shape='ovr', degree=3, gamma=0.0001, kernel='rbf',\n",
              "    max_iter=-1, probability=False, random_state=None, shrinking=True,\n",
              "    tol=0.001, verbose=False)"
            ]
          },
          "metadata": {
            "tags": []
          },
          "execution_count": 88
        }
      ]
    },
    {
      "cell_type": "code",
      "metadata": {
        "colab": {
          "base_uri": "https://localhost:8080/"
        },
        "id": "S9eRYr5mKxP4",
        "outputId": "3ee46989-bef4-4b40-ac01-e70ae6742a2e"
      },
      "source": [
        "clf = SVC(C=1000, break_ties=False, cache_size=200, class_weight=None, coef0=0.0,\n",
        "    decision_function_shape='ovr', degree=3, gamma=0.0001, kernel='linear',\n",
        "    max_iter=-1, probability=False, random_state=None, shrinking=True,\n",
        "    tol=0.001, verbose=False)   \n",
        "clf.fit(X_train_new, y_train_new)\n",
        "\n",
        "predictions = clf.predict(X_test_new)\n",
        "accuracy_score_sv = accuracy_score(y_test_new, predictions)\n",
        "recall_score_sv = recall_score(y_test_new, predictions)\n",
        "precision_score_sv = precision_score(y_test_new, predictions)\n",
        "f1_score_sv = f1_score(y_test_new, predictions)\n",
        "print('Logistic Regression Result:')\n",
        "print('Accuracy Score: ', accuracy_score_sv)\n",
        "print('Recall: ', recall_score_sv)\n",
        "print('Precision: ', precision_score_sv)\n",
        "print('F1 Score:', f1_score_sv) "
      ],
      "execution_count": 90,
      "outputs": [
        {
          "output_type": "stream",
          "text": [
            "Logistic Regression Result:\n",
            "Accuracy Score:  0.9425675675675675\n",
            "Recall:  0.9320987654320988\n",
            "Precision:  0.9617834394904459\n",
            "F1 Score: 0.9467084639498432\n"
          ],
          "name": "stdout"
        }
      ]
    },
    {
      "cell_type": "code",
      "metadata": {
        "colab": {
          "base_uri": "https://localhost:8080/",
          "height": 312
        },
        "id": "58TP3gSHLs0G",
        "outputId": "2bea1163-0177-442c-88f9-860f907f6ae5"
      },
      "source": [
        "from sklearn.metrics import confusion_matrix\n",
        "cfn_matrix=confusion_matrix(y_test_new, predictions)\n",
        "\n",
        "sns.heatmap(cfn_matrix,cmap='coolwarm_r',linewidths=0.5,annot=True)\n",
        "plt.title('Confusion Matrix')\n",
        "plt.ylabel('Real Classes')\n",
        "plt.xlabel('Predicted Classes')"
      ],
      "execution_count": 91,
      "outputs": [
        {
          "output_type": "execute_result",
          "data": {
            "text/plain": [
              "Text(0.5, 15.0, 'Predicted Classes')"
            ]
          },
          "metadata": {
            "tags": []
          },
          "execution_count": 91
        },
        {
          "output_type": "display_data",
          "data": {
            "image/png": "[encoded data removed]",
            "text/plain": [
              "<Figure size 432x288 with 2 Axes>"
            ]
          },
          "metadata": {
            "tags": [],
            "needs_background": "light"
          }
        }
      ]
    },
    {
      "cell_type": "code",
      "metadata": {
        "colab": {
          "base_uri": "https://localhost:8080/"
        },
        "id": "sX6whM0YLCxV",
        "outputId": "24fd2236-8f96-4a4b-fc59-cefc6b23fbe0"
      },
      "source": [
        "print(classification_report(y_test_new, predictions))"
      ],
      "execution_count": 92,
      "outputs": [
        {
          "output_type": "stream",
          "text": [
            "              precision    recall  f1-score   support\n",
            "\n",
            "           0       0.92      0.96      0.94       134\n",
            "           1       0.96      0.93      0.95       162\n",
            "\n",
            "    accuracy                           0.94       296\n",
            "   macro avg       0.94      0.94      0.94       296\n",
            "weighted avg       0.94      0.94      0.94       296\n",
            "\n"
          ],
          "name": "stdout"
        }
      ]
    },
    {
      "cell_type": "code",
      "metadata": {
        "colab": {
          "base_uri": "https://localhost:8080/",
          "height": 295
        },
        "id": "hROwywKQLDaw",
        "outputId": "fb195aa7-c3c9-4f12-ad93-883158ba7393"
      },
      "source": [
        "plot_roc_curve(y_test_new, predictions)"
      ],
      "execution_count": 93,
      "outputs": [
        {
          "output_type": "display_data",
          "data": {
            "image/png": "[encoded data removed]",
            "text/plain": [
              "<Figure size 432x288 with 1 Axes>"
            ]
          },
          "metadata": {
            "tags": [],
            "needs_background": "light"
          }
        }
      ]
    },
    {
      "cell_type": "markdown",
      "metadata": {
        "id": "IR0r5aJ2L0hm"
      },
      "source": [
        "Random Forest"
      ]
    },
    {
      "cell_type": "code",
      "metadata": {
        "colab": {
          "base_uri": "https://localhost:8080/"
        },
        "id": "F-ofEqKILyp0",
        "outputId": "24450d38-fc64-4993-ca15-b4c43d38ff62"
      },
      "source": [
        "tuned_params = {'n_estimators' : [100, 300, 500],\n",
        "                'max_depth' : [5, 8, 15, 25],\n",
        "                'min_samples_leaf' : [1, 2, 5] \n",
        "                }\n",
        "model = GridSearchCV(RandomForestClassifier(), tuned_params, cv=5, n_jobs=-1)\n",
        "model.fit(X_train_new, y_train_new)\n",
        "print(model.best_score_)"
      ],
      "execution_count": 94,
      "outputs": [
        {
          "output_type": "stream",
          "text": [
            "0.9404104517084523\n"
          ],
          "name": "stdout"
        }
      ]
    },
    {
      "cell_type": "code",
      "metadata": {
        "colab": {
          "base_uri": "https://localhost:8080/"
        },
        "id": "JIeWXpllMSIY",
        "outputId": "b3a204c5-845a-4bef-e5d4-280741d02bc9"
      },
      "source": [
        "model.best_estimator_"
      ],
      "execution_count": 95,
      "outputs": [
        {
          "output_type": "execute_result",
          "data": {
            "text/plain": [
              "RandomForestClassifier(bootstrap=True, ccp_alpha=0.0, class_weight=None,\n",
              "                       criterion='gini', max_depth=15, max_features='auto',\n",
              "                       max_leaf_nodes=None, max_samples=None,\n",
              "                       min_impurity_decrease=0.0, min_impurity_split=None,\n",
              "                       min_samples_leaf=2, min_samples_split=2,\n",
              "                       min_weight_fraction_leaf=0.0, n_estimators=100,\n",
              "                       n_jobs=None, oob_score=False, random_state=None,\n",
              "                       verbose=0, warm_start=False)"
            ]
          },
          "metadata": {
            "tags": []
          },
          "execution_count": 95
        }
      ]
    },
    {
      "cell_type": "code",
      "metadata": {
        "colab": {
          "base_uri": "https://localhost:8080/"
        },
        "id": "I2N4MYyhMkgI",
        "outputId": "8233acff-b7be-4e67-c4ec-29d95c2444ec"
      },
      "source": [
        "clf = RandomForestClassifier(criterion='gini', max_depth=15, min_samples_leaf=2, min_samples_split=2,n_estimators=100, random_state=0) \n",
        "clf.fit(X_train_new, y_train_new)\n",
        "\n",
        "predictions = clf.predict(X_test_new)\n",
        "accuracy_score_rf = accuracy_score(y_test_new, predictions)\n",
        "recall_score_rf = recall_score(y_test_new, predictions)\n",
        "precision_score_rf = precision_score(y_test_new, predictions)\n",
        "f1_score_rf = f1_score(y_test_new, predictions)\n",
        "print('Logistic Regression Result:')\n",
        "print('Accuracy Score: ', accuracy_score_rf)\n",
        "print('Recall: ', recall_score_rf)\n",
        "print('Precision: ', precision_score_rf)\n",
        "print('F1 Score:', f1_score_rf) "
      ],
      "execution_count": 104,
      "outputs": [
        {
          "output_type": "stream",
          "text": [
            "Logistic Regression Result:\n",
            "Accuracy Score:  0.9256756756756757\n",
            "Recall:  0.9074074074074074\n",
            "Precision:  0.9545454545454546\n",
            "F1 Score: 0.9303797468354431\n"
          ],
          "name": "stdout"
        }
      ]
    },
    {
      "cell_type": "code",
      "metadata": {
        "colab": {
          "base_uri": "https://localhost:8080/",
          "height": 312
        },
        "id": "v5j9yKehMpQD",
        "outputId": "fee2cde1-5db1-40db-dc0d-61b7c1fd70b6"
      },
      "source": [
        "from sklearn.metrics import confusion_matrix\n",
        "cfn_matrix=confusion_matrix(y_test_new, predictions)\n",
        "\n",
        "sns.heatmap(cfn_matrix,cmap='coolwarm_r',linewidths=0.5,annot=True)\n",
        "plt.title('Confusion Matrix')\n",
        "plt.ylabel('Real Classes')\n",
        "plt.xlabel('Predicted Classes')"
      ],
      "execution_count": 105,
      "outputs": [
        {
          "output_type": "execute_result",
          "data": {
            "text/plain": [
              "Text(0.5, 15.0, 'Predicted Classes')"
            ]
          },
          "metadata": {
            "tags": []
          },
          "execution_count": 105
        },
        {
          "output_type": "display_data",
          "data": {
            "image/png": "[encoded data removed]",
            "text/plain": [
              "<Figure size 432x288 with 2 Axes>"
            ]
          },
          "metadata": {
            "tags": [],
            "needs_background": "light"
          }
        }
      ]
    },
    {
      "cell_type": "code",
      "metadata": {
        "colab": {
          "base_uri": "https://localhost:8080/"
        },
        "id": "cAxmNkVQMr1u",
        "outputId": "6a3e0843-b2b0-4a0c-971b-ebf07cc2e84e"
      },
      "source": [
        "print(classification_report(y_test_new, predictions))"
      ],
      "execution_count": 106,
      "outputs": [
        {
          "output_type": "stream",
          "text": [
            "              precision    recall  f1-score   support\n",
            "\n",
            "           0       0.89      0.95      0.92       134\n",
            "           1       0.95      0.91      0.93       162\n",
            "\n",
            "    accuracy                           0.93       296\n",
            "   macro avg       0.92      0.93      0.93       296\n",
            "weighted avg       0.93      0.93      0.93       296\n",
            "\n"
          ],
          "name": "stdout"
        }
      ]
    },
    {
      "cell_type": "code",
      "metadata": {
        "colab": {
          "base_uri": "https://localhost:8080/",
          "height": 295
        },
        "id": "4fc_diaXMtrm",
        "outputId": "51163dd0-254c-4c39-9993-b960a510fe59"
      },
      "source": [
        "plot_roc_curve(y_test_new, predictions)"
      ],
      "execution_count": 107,
      "outputs": [
        {
          "output_type": "display_data",
          "data": {
            "image/png": "[encoded data removed]",
            "text/plain": [
              "<Figure size 432x288 with 1 Axes>"
            ]
          },
          "metadata": {
            "tags": [],
            "needs_background": "light"
          }
        }
      ]
    },
    {
      "cell_type": "markdown",
      "metadata": {
        "id": "bwO6ub-bdBbe"
      },
      "source": [
        "From these 3 models, we see that SVM is offering the highest recall, precision, f1-score and AUC on the generalised unseen data (UNDER-sample test set). "
      ]
    },
    {
      "cell_type": "markdown",
      "metadata": {
        "id": "_-KlLYXZeNSO"
      },
      "source": [
        "Let's try to apply SVM to the whole data set"
      ]
    },
    {
      "cell_type": "code",
      "metadata": {
        "colab": {
          "base_uri": "https://localhost:8080/"
        },
        "id": "MmhyMKfLWZAq",
        "outputId": "86e914ea-3e85-47ec-d5a8-87c31ebe9ba0"
      },
      "source": [
        "clf = SVC(C=1000, break_ties=False, cache_size=200, class_weight=None, coef0=0.0,\n",
        "    decision_function_shape='ovr', degree=3, gamma=0.0001, kernel='linear',\n",
        "    max_iter=-1, probability=False, random_state=None, shrinking=True,\n",
        "    tol=0.001, verbose=False)   \n",
        "clf.fit(X_train_new, y_train_new)\n",
        "\n",
        "predictions = clf.predict(X_test)\n",
        "accuracy_score_sv_w = accuracy_score(y_test, predictions)\n",
        "recall_score_sv_w = recall_score(y_test, predictions)\n",
        "precision_score_sv_w = precision_score(y_test, predictions)\n",
        "f1_score_sv_w = f1_score(y_test, predictions)\n",
        "print('Logistic Regression Result:')\n",
        "print('Accuracy Score: ', accuracy_score_sv_w)\n",
        "print('Recall: ', recall_score_sv_w)\n",
        "print('Precision: ', precision_score_sv_w)\n",
        "print('F1 Score:', f1_score_sv_w) "
      ],
      "execution_count": 121,
      "outputs": [
        {
          "output_type": "stream",
          "text": [
            "Logistic Regression Result:\n",
            "Accuracy Score:  0.9691256159076811\n",
            "Recall:  0.9455782312925171\n",
            "Precision:  0.050198627663416394\n",
            "F1 Score: 0.0953360768175583\n"
          ],
          "name": "stdout"
        }
      ]
    },
    {
      "cell_type": "code",
      "metadata": {
        "colab": {
          "base_uri": "https://localhost:8080/",
          "height": 312
        },
        "id": "TRkfhEOBex6B",
        "outputId": "fa07fcb2-4ff5-4e8c-f40b-2cd1448c83bc"
      },
      "source": [
        "from sklearn.metrics import confusion_matrix\n",
        "cfn_matrix=confusion_matrix(y_test, predictions)\n",
        "\n",
        "sns.heatmap(cfn_matrix,cmap='coolwarm_r',linewidths=0.5,annot=True)\n",
        "plt.title('Confusion Matrix')\n",
        "plt.ylabel('Real Classes')\n",
        "plt.xlabel('Predicted Classes')"
      ],
      "execution_count": 122,
      "outputs": [
        {
          "output_type": "execute_result",
          "data": {
            "text/plain": [
              "Text(0.5, 15.0, 'Predicted Classes')"
            ]
          },
          "metadata": {
            "tags": []
          },
          "execution_count": 122
        },
        {
          "output_type": "display_data",
          "data": {
            "image/png": "[encoded data removed]",
            "text/plain": [
              "<Figure size 432x288 with 2 Axes>"
            ]
          },
          "metadata": {
            "tags": [],
            "needs_background": "light"
          }
        }
      ]
    },
    {
      "cell_type": "code",
      "metadata": {
        "colab": {
          "base_uri": "https://localhost:8080/",
          "height": 295
        },
        "id": "uD8vlxZ8e7uv",
        "outputId": "d846f0c4-183a-4919-f794-4b35c4cffdb7"
      },
      "source": [
        "plot_roc_curve(y_test, predictions)"
      ],
      "execution_count": 123,
      "outputs": [
        {
          "output_type": "display_data",
          "data": {
            "image/png": "[encoded data removed]",
            "text/plain": [
              "<Figure size 432x288 with 1 Axes>"
            ]
          },
          "metadata": {
            "tags": [],
            "needs_background": "light"
          }
        }
      ]
    },
    {
      "cell_type": "markdown",
      "metadata": {
        "id": "5W4aW47jhfyX"
      },
      "source": [
        "Therefore, with the aim of this Fraud Detection is maximize the detection of fraudulent transactions, and also minimize the number of false positives;\n",
        "\n",
        "Our recall is 94.5% (do not miss a fraud transaction). But the number of false positives has still be high, OVER-Sampling method should be apply in the future. "
      ]
    }
  ]
}