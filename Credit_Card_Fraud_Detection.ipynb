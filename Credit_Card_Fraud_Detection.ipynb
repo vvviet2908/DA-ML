{
  "nbformat": 4,
  "nbformat_minor": 0,
  "metadata": {
    "colab": {
      "name": "Credit Card Fraud Detection.ipynb",
      "provenance": [],
      "authorship_tag": "ABX9TyMdr+rmDb+v1YXZJ2PVFkX3",
      "include_colab_link": true
    },
    "kernelspec": {
      "name": "python3",
      "display_name": "Python 3"
    },
    "language_info": {
      "name": "python"
    }
  },
  "cells": [
    {
      "cell_type": "markdown",
      "metadata": {
        "id": "view-in-github",
        "colab_type": "text"
      },
      "source": [
        "<a href=\"https://colab.research.google.com/github/vvviet2908/DA-ML/blob/main/Credit_Card_Fraud_Detection.ipynb\" target=\"_parent\"><img src=\"https://colab.research.google.com/assets/colab-badge.svg\" alt=\"Open In Colab\"/></a>"
      ]
    },
    {
      "cell_type": "markdown",
      "metadata": {
        "id": "1rkdkCpmvoTG"
      },
      "source": [
        "### Understanding the data - EDA:\n",
        "\n",
        "Features V1, V2, ... V28 are the principal components obtained with PCA, the only features which have not been transformed with PCA are 'Time' and 'Amount'. \n",
        "\n",
        "**Feature 'Time'** contains the seconds elapsed between each transaction and the first transaction in the dataset. \n",
        "\n",
        "The **Feature 'Amount'** is the transaction Amount, this feature can be used for example-dependant cost-senstive learning. \n",
        "\n",
        "**Feature 'Class'** is the response variable and it takes value 1 in case of fraud and 0 otherwise.\n",
        "\n",
        "**Source:** https://www.kaggle.com/mlg-ulb/creditcardfraud"
      ]
    },
    {
      "cell_type": "code",
      "metadata": {
        "id": "_hpx5B54vbPt"
      },
      "source": [
        "import pandas as pd\n",
        "import numpy as np\n",
        "\n",
        "import seaborn as sns\n",
        "import matplotlib.pyplot as plt\n",
        "%matplotlib inline "
      ],
      "execution_count": 1,
      "outputs": []
    },
    {
      "cell_type": "code",
      "metadata": {
        "colab": {
          "base_uri": "https://localhost:8080/",
          "height": 225
        },
        "id": "R43qhUjdDn60",
        "outputId": "ed533fa4-b408-4f53-e38c-53edc0f8dffb"
      },
      "source": [
        "#Load the data\n",
        "data = pd.read_csv(\"https://raw.githubusercontent.com/nsethi31/Kaggle-Data-Credit-Card-Fraud-Detection/master/creditcard.csv\")\n",
        "data.head()"
      ],
      "execution_count": 2,
      "outputs": [
        {
          "output_type": "execute_result",
          "data": {
            "text/html": [
              "<div>\n",
              "<style scoped>\n",
              "    .dataframe tbody tr th:only-of-type {\n",
              "        vertical-align: middle;\n",
              "    }\n",
              "\n",
              "    .dataframe tbody tr th {\n",
              "        vertical-align: top;\n",
              "    }\n",
              "\n",
              "    .dataframe thead th {\n",
              "        text-align: right;\n",
              "    }\n",
              "</style>\n",
              "<table border=\"1\" class=\"dataframe\">\n",
              "  <thead>\n",
              "    <tr style=\"text-align: right;\">\n",
              "      <th></th>\n",
              "      <th>Time</th>\n",
              "      <th>V1</th>\n",
              "      <th>V2</th>\n",
              "      <th>V3</th>\n",
              "      <th>V4</th>\n",
              "      <th>V5</th>\n",
              "      <th>V6</th>\n",
              "      <th>V7</th>\n",
              "      <th>V8</th>\n",
              "      <th>V9</th>\n",
              "      <th>V10</th>\n",
              "      <th>V11</th>\n",
              "      <th>V12</th>\n",
              "      <th>V13</th>\n",
              "      <th>V14</th>\n",
              "      <th>V15</th>\n",
              "      <th>V16</th>\n",
              "      <th>V17</th>\n",
              "      <th>V18</th>\n",
              "      <th>V19</th>\n",
              "      <th>V20</th>\n",
              "      <th>V21</th>\n",
              "      <th>V22</th>\n",
              "      <th>V23</th>\n",
              "      <th>V24</th>\n",
              "      <th>V25</th>\n",
              "      <th>V26</th>\n",
              "      <th>V27</th>\n",
              "      <th>V28</th>\n",
              "      <th>Amount</th>\n",
              "      <th>Class</th>\n",
              "    </tr>\n",
              "  </thead>\n",
              "  <tbody>\n",
              "    <tr>\n",
              "      <th>0</th>\n",
              "      <td>0.0</td>\n",
              "      <td>-1.359807</td>\n",
              "      <td>-0.072781</td>\n",
              "      <td>2.536347</td>\n",
              "      <td>1.378155</td>\n",
              "      <td>-0.338321</td>\n",
              "      <td>0.462388</td>\n",
              "      <td>0.239599</td>\n",
              "      <td>0.098698</td>\n",
              "      <td>0.363787</td>\n",
              "      <td>0.090794</td>\n",
              "      <td>-0.551600</td>\n",
              "      <td>-0.617801</td>\n",
              "      <td>-0.991390</td>\n",
              "      <td>-0.311169</td>\n",
              "      <td>1.468177</td>\n",
              "      <td>-0.470401</td>\n",
              "      <td>0.207971</td>\n",
              "      <td>0.025791</td>\n",
              "      <td>0.403993</td>\n",
              "      <td>0.251412</td>\n",
              "      <td>-0.018307</td>\n",
              "      <td>0.277838</td>\n",
              "      <td>-0.110474</td>\n",
              "      <td>0.066928</td>\n",
              "      <td>0.128539</td>\n",
              "      <td>-0.189115</td>\n",
              "      <td>0.133558</td>\n",
              "      <td>-0.021053</td>\n",
              "      <td>149.62</td>\n",
              "      <td>0</td>\n",
              "    </tr>\n",
              "    <tr>\n",
              "      <th>1</th>\n",
              "      <td>0.0</td>\n",
              "      <td>1.191857</td>\n",
              "      <td>0.266151</td>\n",
              "      <td>0.166480</td>\n",
              "      <td>0.448154</td>\n",
              "      <td>0.060018</td>\n",
              "      <td>-0.082361</td>\n",
              "      <td>-0.078803</td>\n",
              "      <td>0.085102</td>\n",
              "      <td>-0.255425</td>\n",
              "      <td>-0.166974</td>\n",
              "      <td>1.612727</td>\n",
              "      <td>1.065235</td>\n",
              "      <td>0.489095</td>\n",
              "      <td>-0.143772</td>\n",
              "      <td>0.635558</td>\n",
              "      <td>0.463917</td>\n",
              "      <td>-0.114805</td>\n",
              "      <td>-0.183361</td>\n",
              "      <td>-0.145783</td>\n",
              "      <td>-0.069083</td>\n",
              "      <td>-0.225775</td>\n",
              "      <td>-0.638672</td>\n",
              "      <td>0.101288</td>\n",
              "      <td>-0.339846</td>\n",
              "      <td>0.167170</td>\n",
              "      <td>0.125895</td>\n",
              "      <td>-0.008983</td>\n",
              "      <td>0.014724</td>\n",
              "      <td>2.69</td>\n",
              "      <td>0</td>\n",
              "    </tr>\n",
              "    <tr>\n",
              "      <th>2</th>\n",
              "      <td>1.0</td>\n",
              "      <td>-1.358354</td>\n",
              "      <td>-1.340163</td>\n",
              "      <td>1.773209</td>\n",
              "      <td>0.379780</td>\n",
              "      <td>-0.503198</td>\n",
              "      <td>1.800499</td>\n",
              "      <td>0.791461</td>\n",
              "      <td>0.247676</td>\n",
              "      <td>-1.514654</td>\n",
              "      <td>0.207643</td>\n",
              "      <td>0.624501</td>\n",
              "      <td>0.066084</td>\n",
              "      <td>0.717293</td>\n",
              "      <td>-0.165946</td>\n",
              "      <td>2.345865</td>\n",
              "      <td>-2.890083</td>\n",
              "      <td>1.109969</td>\n",
              "      <td>-0.121359</td>\n",
              "      <td>-2.261857</td>\n",
              "      <td>0.524980</td>\n",
              "      <td>0.247998</td>\n",
              "      <td>0.771679</td>\n",
              "      <td>0.909412</td>\n",
              "      <td>-0.689281</td>\n",
              "      <td>-0.327642</td>\n",
              "      <td>-0.139097</td>\n",
              "      <td>-0.055353</td>\n",
              "      <td>-0.059752</td>\n",
              "      <td>378.66</td>\n",
              "      <td>0</td>\n",
              "    </tr>\n",
              "    <tr>\n",
              "      <th>3</th>\n",
              "      <td>1.0</td>\n",
              "      <td>-0.966272</td>\n",
              "      <td>-0.185226</td>\n",
              "      <td>1.792993</td>\n",
              "      <td>-0.863291</td>\n",
              "      <td>-0.010309</td>\n",
              "      <td>1.247203</td>\n",
              "      <td>0.237609</td>\n",
              "      <td>0.377436</td>\n",
              "      <td>-1.387024</td>\n",
              "      <td>-0.054952</td>\n",
              "      <td>-0.226487</td>\n",
              "      <td>0.178228</td>\n",
              "      <td>0.507757</td>\n",
              "      <td>-0.287924</td>\n",
              "      <td>-0.631418</td>\n",
              "      <td>-1.059647</td>\n",
              "      <td>-0.684093</td>\n",
              "      <td>1.965775</td>\n",
              "      <td>-1.232622</td>\n",
              "      <td>-0.208038</td>\n",
              "      <td>-0.108300</td>\n",
              "      <td>0.005274</td>\n",
              "      <td>-0.190321</td>\n",
              "      <td>-1.175575</td>\n",
              "      <td>0.647376</td>\n",
              "      <td>-0.221929</td>\n",
              "      <td>0.062723</td>\n",
              "      <td>0.061458</td>\n",
              "      <td>123.50</td>\n",
              "      <td>0</td>\n",
              "    </tr>\n",
              "    <tr>\n",
              "      <th>4</th>\n",
              "      <td>2.0</td>\n",
              "      <td>-1.158233</td>\n",
              "      <td>0.877737</td>\n",
              "      <td>1.548718</td>\n",
              "      <td>0.403034</td>\n",
              "      <td>-0.407193</td>\n",
              "      <td>0.095921</td>\n",
              "      <td>0.592941</td>\n",
              "      <td>-0.270533</td>\n",
              "      <td>0.817739</td>\n",
              "      <td>0.753074</td>\n",
              "      <td>-0.822843</td>\n",
              "      <td>0.538196</td>\n",
              "      <td>1.345852</td>\n",
              "      <td>-1.119670</td>\n",
              "      <td>0.175121</td>\n",
              "      <td>-0.451449</td>\n",
              "      <td>-0.237033</td>\n",
              "      <td>-0.038195</td>\n",
              "      <td>0.803487</td>\n",
              "      <td>0.408542</td>\n",
              "      <td>-0.009431</td>\n",
              "      <td>0.798278</td>\n",
              "      <td>-0.137458</td>\n",
              "      <td>0.141267</td>\n",
              "      <td>-0.206010</td>\n",
              "      <td>0.502292</td>\n",
              "      <td>0.219422</td>\n",
              "      <td>0.215153</td>\n",
              "      <td>69.99</td>\n",
              "      <td>0</td>\n",
              "    </tr>\n",
              "  </tbody>\n",
              "</table>\n",
              "</div>"
            ],
            "text/plain": [
              "   Time        V1        V2        V3  ...       V27       V28  Amount  Class\n",
              "0   0.0 -1.359807 -0.072781  2.536347  ...  0.133558 -0.021053  149.62      0\n",
              "1   0.0  1.191857  0.266151  0.166480  ... -0.008983  0.014724    2.69      0\n",
              "2   1.0 -1.358354 -1.340163  1.773209  ... -0.055353 -0.059752  378.66      0\n",
              "3   1.0 -0.966272 -0.185226  1.792993  ...  0.062723  0.061458  123.50      0\n",
              "4   2.0 -1.158233  0.877737  1.548718  ...  0.219422  0.215153   69.99      0\n",
              "\n",
              "[5 rows x 31 columns]"
            ]
          },
          "metadata": {
            "tags": []
          },
          "execution_count": 2
        }
      ]
    },
    {
      "cell_type": "code",
      "metadata": {
        "colab": {
          "base_uri": "https://localhost:8080/"
        },
        "id": "KnV2u2mQHvXd",
        "outputId": "6ed4b2a7-1ec4-47b1-fe90-5a44947c98ca"
      },
      "source": [
        "#finding the shape of dataframe (finding no.of observations and features in the given dataframe)\n",
        "data.shape"
      ],
      "execution_count": 3,
      "outputs": [
        {
          "output_type": "execute_result",
          "data": {
            "text/plain": [
              "(284807, 31)"
            ]
          },
          "metadata": {
            "tags": []
          },
          "execution_count": 3
        }
      ]
    },
    {
      "cell_type": "markdown",
      "metadata": {
        "id": "dovb6w6XHzPJ"
      },
      "source": [
        "=> There are 284,807 observation in the data"
      ]
    },
    {
      "cell_type": "code",
      "metadata": {
        "colab": {
          "base_uri": "https://localhost:8080/"
        },
        "id": "VWqrSMjVICFh",
        "outputId": "988da98f-94b6-469f-a6fc-bacea5e249ce"
      },
      "source": [
        "#Checking the null value\n",
        "data.isnull().sum().max()"
      ],
      "execution_count": 4,
      "outputs": [
        {
          "output_type": "execute_result",
          "data": {
            "text/plain": [
              "0"
            ]
          },
          "metadata": {
            "tags": []
          },
          "execution_count": 4
        }
      ]
    },
    {
      "cell_type": "code",
      "metadata": {
        "colab": {
          "base_uri": "https://localhost:8080/"
        },
        "id": "dcBS9aCQIWAh",
        "outputId": "46b3593d-e542-4309-9c90-90db667db240"
      },
      "source": [
        "#finding whether it is balanced data or imbalanced data\n",
        "data['Class'].value_counts()"
      ],
      "execution_count": 5,
      "outputs": [
        {
          "output_type": "execute_result",
          "data": {
            "text/plain": [
              "0    284315\n",
              "1       492\n",
              "Name: Class, dtype: int64"
            ]
          },
          "metadata": {
            "tags": []
          },
          "execution_count": 5
        }
      ]
    },
    {
      "cell_type": "markdown",
      "metadata": {
        "id": "j-_Qse5bIngj"
      },
      "source": [
        "=> From the above info it is clear that it is an imbalanced dataset"
      ]
    },
    {
      "cell_type": "code",
      "metadata": {
        "colab": {
          "base_uri": "https://localhost:8080/"
        },
        "id": "wkwKMdr2IiKZ",
        "outputId": "e47eb019-16a2-4dfb-d60b-185dcfff7299"
      },
      "source": [
        "print('No Frauds:', round(data['Class'].value_counts()[0]/len(data) * 100,2), '% of the dataset')\n",
        "print('Frauds:', round(data['Class'].value_counts()[1]/len(data) * 100,2), '% of the dataset')"
      ],
      "execution_count": 6,
      "outputs": [
        {
          "output_type": "stream",
          "text": [
            "No Frauds: 99.83 % of the dataset\n",
            "Frauds: 0.17 % of the dataset\n"
          ],
          "name": "stdout"
        }
      ]
    },
    {
      "cell_type": "code",
      "metadata": {
        "colab": {
          "base_uri": "https://localhost:8080/",
          "height": 279
        },
        "id": "Mpk3LivPI5-e",
        "outputId": "9740ec9d-98c2-4fe9-ebea-5eab08968a52"
      },
      "source": [
        "data['Class'].value_counts().plot(kind='bar')"
      ],
      "execution_count": 7,
      "outputs": [
        {
          "output_type": "execute_result",
          "data": {
            "text/plain": [
              "<matplotlib.axes._subplots.AxesSubplot at 0x7f25c10cda50>"
            ]
          },
          "metadata": {
            "tags": []
          },
          "execution_count": 7
        },
        {
          "output_type": "display_data",
          "data": {
            "image/png": "[encoded data removed]",
            "text/plain": [
              "<Figure size 432x288 with 1 Axes>"
            ]
          },
          "metadata": {
            "tags": [],
            "needs_background": "light"
          }
        }
      ]
    },
    {
      "cell_type": "markdown",
      "metadata": {
        "id": "D7tdWPXIJwZ-"
      },
      "source": [
        "=> Only 492 (or 0.172%) of transaction are fraud. If we use this dataframe as the base for our predictive models we may get a lot of misclassified errors."
      ]
    },
    {
      "cell_type": "markdown",
      "metadata": {
        "id": "xKE01NQrK0H3"
      },
      "source": [
        "**So the aim of this Fraud Detection is maximize the detection of fraudulent transactions, and also minimize the number of false positives**"
      ]
    },
    {
      "cell_type": "markdown",
      "metadata": {
        "id": "1shRF8Y6GKOS"
      },
      "source": [
        "About the 'Time' and 'Amount' features"
      ]
    },
    {
      "cell_type": "code",
      "metadata": {
        "colab": {
          "base_uri": "https://localhost:8080/",
          "height": 333
        },
        "id": "j2UbZzmbJA4G",
        "outputId": "6bbd3e9e-42f0-4d60-8d9c-6701c9526a8d"
      },
      "source": [
        "amount_val = data['Amount'].values\n",
        "sns.distplot(amount_val, color='r').set_title('Distribution of Transaction Amount', fontsize=10)\n",
        "\n",
        "plt.show()"
      ],
      "execution_count": 8,
      "outputs": [
        {
          "output_type": "stream",
          "text": [
            "/usr/local/lib/python3.7/dist-packages/seaborn/distributions.py:2557: FutureWarning: `distplot` is a deprecated function and will be removed in a future version. Please adapt your code to use either `displot` (a figure-level function with similar flexibility) or `histplot` (an axes-level function for histograms).\n",
            "  warnings.warn(msg, FutureWarning)\n"
          ],
          "name": "stderr"
        },
        {
          "output_type": "display_data",
          "data": {
            "image/png": "[encoded data removed]",
            "text/plain": [
              "<Figure size 432x288 with 1 Axes>"
            ]
          },
          "metadata": {
            "tags": [],
            "needs_background": "light"
          }
        }
      ]
    },
    {
      "cell_type": "code",
      "metadata": {
        "colab": {
          "base_uri": "https://localhost:8080/",
          "height": 333
        },
        "id": "tAxSE12TGf4f",
        "outputId": "b6872b51-f087-471e-e4c4-f78903f7f5b4"
      },
      "source": [
        "time_val = data['Time'].values\n",
        "sns.distplot(time_val, color='b').set_title('Distribution of Transaction Time', fontsize=10)\n",
        "plt.show()"
      ],
      "execution_count": 9,
      "outputs": [
        {
          "output_type": "stream",
          "text": [
            "/usr/local/lib/python3.7/dist-packages/seaborn/distributions.py:2557: FutureWarning: `distplot` is a deprecated function and will be removed in a future version. Please adapt your code to use either `displot` (a figure-level function with similar flexibility) or `histplot` (an axes-level function for histograms).\n",
            "  warnings.warn(msg, FutureWarning)\n"
          ],
          "name": "stderr"
        },
        {
          "output_type": "display_data",
          "data": {
            "image/png": "[encoded data removed]",
            "text/plain": [
              "<Figure size 432x288 with 1 Axes>"
            ]
          },
          "metadata": {
            "tags": [],
            "needs_background": "light"
          }
        }
      ]
    },
    {
      "cell_type": "markdown",
      "metadata": {
        "id": "mc7frdxeHUqc"
      },
      "source": [
        "Scaling: Keep in mind that in order to implement a PCA transformation features need to be previously scaled. (In this case, all the V features have been scaled or at least that is what we are assuming the people that develop the dataset did.)\n",
        "\n",
        "=> 'Time' and 'Amount' should be scaled as the other columns."
      ]
    },
    {
      "cell_type": "code",
      "metadata": {
        "colab": {
          "base_uri": "https://localhost:8080/",
          "height": 225
        },
        "id": "bl8iBuFSHAO_",
        "outputId": "39e09876-a057-4af4-a73b-1ab5f99a2731"
      },
      "source": [
        "from sklearn.preprocessing import StandardScaler\n",
        "\n",
        "std_scaler = StandardScaler()\n",
        "\n",
        "data['scaled_amount'] = std_scaler.fit_transform(data['Amount'].values.reshape(-1,1))\n",
        "data['scaled_time'] = std_scaler.fit_transform(data['Time'].values.reshape(-1,1))\n",
        "\n",
        "data.drop(['Time','Amount'], axis=1, inplace=True)\n",
        "\n",
        "\n",
        "scaled_amount = data['scaled_amount']\n",
        "scaled_time = data['scaled_time']\n",
        "\n",
        "data.drop(['scaled_amount', 'scaled_time'], axis=1, inplace=True)\n",
        "data.insert(0, 'scaled_amount', scaled_amount)\n",
        "data.insert(1, 'scaled_time', scaled_time)\n",
        "\n",
        "data.head()"
      ],
      "execution_count": 10,
      "outputs": [
        {
          "output_type": "execute_result",
          "data": {
            "text/html": [
              "<div>\n",
              "<style scoped>\n",
              "    .dataframe tbody tr th:only-of-type {\n",
              "        vertical-align: middle;\n",
              "    }\n",
              "\n",
              "    .dataframe tbody tr th {\n",
              "        vertical-align: top;\n",
              "    }\n",
              "\n",
              "    .dataframe thead th {\n",
              "        text-align: right;\n",
              "    }\n",
              "</style>\n",
              "<table border=\"1\" class=\"dataframe\">\n",
              "  <thead>\n",
              "    <tr style=\"text-align: right;\">\n",
              "      <th></th>\n",
              "      <th>scaled_amount</th>\n",
              "      <th>scaled_time</th>\n",
              "      <th>V1</th>\n",
              "      <th>V2</th>\n",
              "      <th>V3</th>\n",
              "      <th>V4</th>\n",
              "      <th>V5</th>\n",
              "      <th>V6</th>\n",
              "      <th>V7</th>\n",
              "      <th>V8</th>\n",
              "      <th>V9</th>\n",
              "      <th>V10</th>\n",
              "      <th>V11</th>\n",
              "      <th>V12</th>\n",
              "      <th>V13</th>\n",
              "      <th>V14</th>\n",
              "      <th>V15</th>\n",
              "      <th>V16</th>\n",
              "      <th>V17</th>\n",
              "      <th>V18</th>\n",
              "      <th>V19</th>\n",
              "      <th>V20</th>\n",
              "      <th>V21</th>\n",
              "      <th>V22</th>\n",
              "      <th>V23</th>\n",
              "      <th>V24</th>\n",
              "      <th>V25</th>\n",
              "      <th>V26</th>\n",
              "      <th>V27</th>\n",
              "      <th>V28</th>\n",
              "      <th>Class</th>\n",
              "    </tr>\n",
              "  </thead>\n",
              "  <tbody>\n",
              "    <tr>\n",
              "      <th>0</th>\n",
              "      <td>0.244964</td>\n",
              "      <td>-1.996583</td>\n",
              "      <td>-1.359807</td>\n",
              "      <td>-0.072781</td>\n",
              "      <td>2.536347</td>\n",
              "      <td>1.378155</td>\n",
              "      <td>-0.338321</td>\n",
              "      <td>0.462388</td>\n",
              "      <td>0.239599</td>\n",
              "      <td>0.098698</td>\n",
              "      <td>0.363787</td>\n",
              "      <td>0.090794</td>\n",
              "      <td>-0.551600</td>\n",
              "      <td>-0.617801</td>\n",
              "      <td>-0.991390</td>\n",
              "      <td>-0.311169</td>\n",
              "      <td>1.468177</td>\n",
              "      <td>-0.470401</td>\n",
              "      <td>0.207971</td>\n",
              "      <td>0.025791</td>\n",
              "      <td>0.403993</td>\n",
              "      <td>0.251412</td>\n",
              "      <td>-0.018307</td>\n",
              "      <td>0.277838</td>\n",
              "      <td>-0.110474</td>\n",
              "      <td>0.066928</td>\n",
              "      <td>0.128539</td>\n",
              "      <td>-0.189115</td>\n",
              "      <td>0.133558</td>\n",
              "      <td>-0.021053</td>\n",
              "      <td>0</td>\n",
              "    </tr>\n",
              "    <tr>\n",
              "      <th>1</th>\n",
              "      <td>-0.342475</td>\n",
              "      <td>-1.996583</td>\n",
              "      <td>1.191857</td>\n",
              "      <td>0.266151</td>\n",
              "      <td>0.166480</td>\n",
              "      <td>0.448154</td>\n",
              "      <td>0.060018</td>\n",
              "      <td>-0.082361</td>\n",
              "      <td>-0.078803</td>\n",
              "      <td>0.085102</td>\n",
              "      <td>-0.255425</td>\n",
              "      <td>-0.166974</td>\n",
              "      <td>1.612727</td>\n",
              "      <td>1.065235</td>\n",
              "      <td>0.489095</td>\n",
              "      <td>-0.143772</td>\n",
              "      <td>0.635558</td>\n",
              "      <td>0.463917</td>\n",
              "      <td>-0.114805</td>\n",
              "      <td>-0.183361</td>\n",
              "      <td>-0.145783</td>\n",
              "      <td>-0.069083</td>\n",
              "      <td>-0.225775</td>\n",
              "      <td>-0.638672</td>\n",
              "      <td>0.101288</td>\n",
              "      <td>-0.339846</td>\n",
              "      <td>0.167170</td>\n",
              "      <td>0.125895</td>\n",
              "      <td>-0.008983</td>\n",
              "      <td>0.014724</td>\n",
              "      <td>0</td>\n",
              "    </tr>\n",
              "    <tr>\n",
              "      <th>2</th>\n",
              "      <td>1.160686</td>\n",
              "      <td>-1.996562</td>\n",
              "      <td>-1.358354</td>\n",
              "      <td>-1.340163</td>\n",
              "      <td>1.773209</td>\n",
              "      <td>0.379780</td>\n",
              "      <td>-0.503198</td>\n",
              "      <td>1.800499</td>\n",
              "      <td>0.791461</td>\n",
              "      <td>0.247676</td>\n",
              "      <td>-1.514654</td>\n",
              "      <td>0.207643</td>\n",
              "      <td>0.624501</td>\n",
              "      <td>0.066084</td>\n",
              "      <td>0.717293</td>\n",
              "      <td>-0.165946</td>\n",
              "      <td>2.345865</td>\n",
              "      <td>-2.890083</td>\n",
              "      <td>1.109969</td>\n",
              "      <td>-0.121359</td>\n",
              "      <td>-2.261857</td>\n",
              "      <td>0.524980</td>\n",
              "      <td>0.247998</td>\n",
              "      <td>0.771679</td>\n",
              "      <td>0.909412</td>\n",
              "      <td>-0.689281</td>\n",
              "      <td>-0.327642</td>\n",
              "      <td>-0.139097</td>\n",
              "      <td>-0.055353</td>\n",
              "      <td>-0.059752</td>\n",
              "      <td>0</td>\n",
              "    </tr>\n",
              "    <tr>\n",
              "      <th>3</th>\n",
              "      <td>0.140534</td>\n",
              "      <td>-1.996562</td>\n",
              "      <td>-0.966272</td>\n",
              "      <td>-0.185226</td>\n",
              "      <td>1.792993</td>\n",
              "      <td>-0.863291</td>\n",
              "      <td>-0.010309</td>\n",
              "      <td>1.247203</td>\n",
              "      <td>0.237609</td>\n",
              "      <td>0.377436</td>\n",
              "      <td>-1.387024</td>\n",
              "      <td>-0.054952</td>\n",
              "      <td>-0.226487</td>\n",
              "      <td>0.178228</td>\n",
              "      <td>0.507757</td>\n",
              "      <td>-0.287924</td>\n",
              "      <td>-0.631418</td>\n",
              "      <td>-1.059647</td>\n",
              "      <td>-0.684093</td>\n",
              "      <td>1.965775</td>\n",
              "      <td>-1.232622</td>\n",
              "      <td>-0.208038</td>\n",
              "      <td>-0.108300</td>\n",
              "      <td>0.005274</td>\n",
              "      <td>-0.190321</td>\n",
              "      <td>-1.175575</td>\n",
              "      <td>0.647376</td>\n",
              "      <td>-0.221929</td>\n",
              "      <td>0.062723</td>\n",
              "      <td>0.061458</td>\n",
              "      <td>0</td>\n",
              "    </tr>\n",
              "    <tr>\n",
              "      <th>4</th>\n",
              "      <td>-0.073403</td>\n",
              "      <td>-1.996541</td>\n",
              "      <td>-1.158233</td>\n",
              "      <td>0.877737</td>\n",
              "      <td>1.548718</td>\n",
              "      <td>0.403034</td>\n",
              "      <td>-0.407193</td>\n",
              "      <td>0.095921</td>\n",
              "      <td>0.592941</td>\n",
              "      <td>-0.270533</td>\n",
              "      <td>0.817739</td>\n",
              "      <td>0.753074</td>\n",
              "      <td>-0.822843</td>\n",
              "      <td>0.538196</td>\n",
              "      <td>1.345852</td>\n",
              "      <td>-1.119670</td>\n",
              "      <td>0.175121</td>\n",
              "      <td>-0.451449</td>\n",
              "      <td>-0.237033</td>\n",
              "      <td>-0.038195</td>\n",
              "      <td>0.803487</td>\n",
              "      <td>0.408542</td>\n",
              "      <td>-0.009431</td>\n",
              "      <td>0.798278</td>\n",
              "      <td>-0.137458</td>\n",
              "      <td>0.141267</td>\n",
              "      <td>-0.206010</td>\n",
              "      <td>0.502292</td>\n",
              "      <td>0.219422</td>\n",
              "      <td>0.215153</td>\n",
              "      <td>0</td>\n",
              "    </tr>\n",
              "  </tbody>\n",
              "</table>\n",
              "</div>"
            ],
            "text/plain": [
              "   scaled_amount  scaled_time        V1  ...       V27       V28  Class\n",
              "0       0.244964    -1.996583 -1.359807  ...  0.133558 -0.021053      0\n",
              "1      -0.342475    -1.996583  1.191857  ... -0.008983  0.014724      0\n",
              "2       1.160686    -1.996562 -1.358354  ... -0.055353 -0.059752      0\n",
              "3       0.140534    -1.996562 -0.966272  ...  0.062723  0.061458      0\n",
              "4      -0.073403    -1.996541 -1.158233  ...  0.219422  0.215153      0\n",
              "\n",
              "[5 rows x 31 columns]"
            ]
          },
          "metadata": {
            "tags": []
          },
          "execution_count": 10
        }
      ]
    },
    {
      "cell_type": "markdown",
      "metadata": {
        "id": "40rnglj8M1f5"
      },
      "source": [
        "## Build Model Using Original Data (Imbalanced Data)"
      ]
    },
    {
      "cell_type": "markdown",
      "metadata": {
        "id": "Uykq5QAvNE7D"
      },
      "source": [
        "For Comparation, we will first use the Imbalanced data to train the model"
      ]
    },
    {
      "cell_type": "markdown",
      "metadata": {
        "id": "EB27_kcBNXCj"
      },
      "source": [
        "Here we use Logistic Regression"
      ]
    },
    {
      "cell_type": "code",
      "metadata": {
        "id": "8bM-7liiND1f"
      },
      "source": [
        "# Import Classifiers\n",
        "from sklearn.linear_model import LogisticRegression\n",
        "from sklearn.svm import SVC\n",
        "from sklearn.ensemble import RandomForestClassifier \n",
        "\n",
        "#Evaluation Metrics\n",
        "from sklearn.metrics import precision_score, recall_score, f1_score, roc_auc_score, accuracy_score, classification_report\n"
      ],
      "execution_count": 11,
      "outputs": []
    },
    {
      "cell_type": "code",
      "metadata": {
        "colab": {
          "base_uri": "https://localhost:8080/"
        },
        "id": "qIj0fpRKOPeb",
        "outputId": "7e8ca6a8-d2e2-4a38-9dd4-d78b00e27809"
      },
      "source": [
        "#Split the data into train and test sets\n",
        "from sklearn.model_selection import train_test_split\n",
        "\n",
        "X = data.iloc[:,:-1]\n",
        "y = data.iloc[:,-1]\n",
        "\n",
        "X_train, X_test, y_train, y_test = train_test_split(X, y, test_size=0.3,  random_state=42)\n",
        "print(X_train.shape)\n",
        "print(X_test.shape)\n",
        "\n",
        "train_unique_label, train_counts_label = np.unique(y_train, return_counts=True)\n",
        "test_unique_label, test_counts_label = np.unique(y_test, return_counts=True)\n",
        "print('-' * 50)\n",
        "\n",
        "print('Label Distributions: \\n')\n",
        "print(train_counts_label/ len(y_train))\n",
        "print(test_counts_label/ len(y_test))"
      ],
      "execution_count": 12,
      "outputs": [
        {
          "output_type": "stream",
          "text": [
            "(199364, 30)\n",
            "(85443, 30)\n",
            "--------------------------------------------------\n",
            "Label Distributions: \n",
            "\n",
            "[0.99821432 0.00178568]\n",
            "[0.9984083 0.0015917]\n"
          ],
          "name": "stdout"
        }
      ]
    },
    {
      "cell_type": "code",
      "metadata": {
        "colab": {
          "base_uri": "https://localhost:8080/"
        },
        "id": "mDeUFgqSPGbg",
        "outputId": "98ddc1c4-d8d2-40c2-abb6-3dbc9a164c62"
      },
      "source": [
        "clf = LogisticRegression()    \n",
        "clf.fit(X_train, y_train)\n",
        "\n",
        "predictions = clf.predict(X_test)\n",
        "accuracy_score_lr = accuracy_score(y_test, predictions)\n",
        "recall_score_lr = recall_score(y_test, predictions)\n",
        "precision_score_lr = precision_score(y_test, predictions)\n",
        "f1_score_lr = f1_score(y_test, predictions)\n",
        "print('Logistic Regression Result:')\n",
        "print('Accuracy Score: ', accuracy_score_lr)\n",
        "print('Recall: ', recall_score_lr)\n",
        "print('Precision: ', precision_score_lr)\n",
        "print('F1 Score:', f1_score_lr) "
      ],
      "execution_count": 13,
      "outputs": [
        {
          "output_type": "stream",
          "text": [
            "Logistic Regression Result:\n",
            "Accuracy Score:  0.9992743700478681\n",
            "Recall:  0.6323529411764706\n",
            "Precision:  0.8775510204081632\n",
            "F1 Score: 0.7350427350427351\n"
          ],
          "name": "stdout"
        }
      ]
    },
    {
      "cell_type": "code",
      "metadata": {
        "colab": {
          "base_uri": "https://localhost:8080/",
          "height": 312
        },
        "id": "kaADC7YXSF00",
        "outputId": "746f31c8-aae7-4f6d-c5ef-65cd996cb714"
      },
      "source": [
        "from sklearn.metrics import confusion_matrix\n",
        "cfn_matrix=confusion_matrix(y_test, predictions)\n",
        "\n",
        "sns.heatmap(cfn_matrix,cmap='coolwarm_r',linewidths=0.5,annot=True)\n",
        "plt.title('Confusion Matrix')\n",
        "plt.ylabel('Real Classes')\n",
        "plt.xlabel('Predicted Classes')"
      ],
      "execution_count": 14,
      "outputs": [
        {
          "output_type": "execute_result",
          "data": {
            "text/plain": [
              "Text(0.5, 15.0, 'Predicted Classes')"
            ]
          },
          "metadata": {
            "tags": []
          },
          "execution_count": 14
        },
        {
          "output_type": "display_data",
          "data": {
            "image/png": "[encoded data removed]",
            "text/plain": [
              "<Figure size 432x288 with 2 Axes>"
            ]
          },
          "metadata": {
            "tags": [],
            "needs_background": "light"
          }
        }
      ]
    },
    {
      "cell_type": "code",
      "metadata": {
        "colab": {
          "base_uri": "https://localhost:8080/"
        },
        "id": "K5vPddDZRiFw",
        "outputId": "ac5c6398-c681-46dd-b4cf-74ec20fa2877"
      },
      "source": [
        "print(classification_report(y_test, predictions))"
      ],
      "execution_count": 15,
      "outputs": [
        {
          "output_type": "stream",
          "text": [
            "              precision    recall  f1-score   support\n",
            "\n",
            "           0       1.00      1.00      1.00     85307\n",
            "           1       0.88      0.63      0.74       136\n",
            "\n",
            "    accuracy                           1.00     85443\n",
            "   macro avg       0.94      0.82      0.87     85443\n",
            "weighted avg       1.00      1.00      1.00     85443\n",
            "\n"
          ],
          "name": "stdout"
        }
      ]
    },
    {
      "cell_type": "markdown",
      "metadata": {
        "id": "5W_nqYL6Tk73"
      },
      "source": [
        "Trained this Imbalanced Data, although get the high accuracy (up to 99%), but there are bad performance on predict fraudulent\n",
        "\n",
        "**=> The model must do well on the detection of fraudulent transactions**"
      ]
    },
    {
      "cell_type": "markdown",
      "metadata": {
        "id": "_JcKBJHJVjcr"
      },
      "source": [
        "## Deal with Imbalanced data "
      ]
    },
    {
      "cell_type": "markdown",
      "metadata": {
        "id": "wQieAxUHZD8k"
      },
      "source": [
        "There are several ways to approach this classification problem taking into consideration this imbalance:\n",
        "\n",
        "\n",
        "1.   Collect more data? Nice strategy but not applicable in this case\n",
        "2.  Changing the performance metric:\n",
        "*   Calculate Precision, Recall, F1-Score\n",
        "*   ROC curves\n",
        "3. Resampling the dataset:\n",
        "Essentially this is a method that will process the data to have an approximate 50-50 ratio:\n",
        "*   One way to achieve this is by OVER-sampling\n",
        "*   Another is UNDER-sampling, issue with \"Under-Sampling\" is that we run the risk that our classification models will not perform as accurate as we would like to since there is a great deal of information loss (bringing 492 non-fraud transaction from 284,315 non-fraud transaction)"
      ]
    },
    {
      "cell_type": "markdown",
      "metadata": {
        "id": "YHSvM_AhodaY"
      },
      "source": [
        "Here I would use the UNDER-Sampling technique "
      ]
    },
    {
      "cell_type": "code",
      "metadata": {
        "colab": {
          "base_uri": "https://localhost:8080/",
          "height": 225
        },
        "id": "WGn-A9_ATkja",
        "outputId": "da17f385-037c-4895-f926-925e5db0c0be"
      },
      "source": [
        "# Lets shuffle the data before creating the subsamples\n",
        "\n",
        "data = data.sample(frac=1)\n",
        "\n",
        "# Amount of fraud classes 492 rows.\n",
        "fraud_df = data.loc[data['Class'] == 1]\n",
        "non_fraud_df = data.loc[data['Class'] == 0][:492]\n",
        "\n",
        "df = pd.concat([fraud_df, non_fraud_df])\n",
        "\n",
        "# Shuffle dataframe rows\n",
        "new_df = df.sample(frac=1, random_state=42)\n",
        "\n",
        "new_df.head()"
      ],
      "execution_count": 16,
      "outputs": [
        {
          "output_type": "execute_result",
          "data": {
            "text/html": [
              "<div>\n",
              "<style scoped>\n",
              "    .dataframe tbody tr th:only-of-type {\n",
              "        vertical-align: middle;\n",
              "    }\n",
              "\n",
              "    .dataframe tbody tr th {\n",
              "        vertical-align: top;\n",
              "    }\n",
              "\n",
              "    .dataframe thead th {\n",
              "        text-align: right;\n",
              "    }\n",
              "</style>\n",
              "<table border=\"1\" class=\"dataframe\">\n",
              "  <thead>\n",
              "    <tr style=\"text-align: right;\">\n",
              "      <th></th>\n",
              "      <th>scaled_amount</th>\n",
              "      <th>scaled_time</th>\n",
              "      <th>V1</th>\n",
              "      <th>V2</th>\n",
              "      <th>V3</th>\n",
              "      <th>V4</th>\n",
              "      <th>V5</th>\n",
              "      <th>V6</th>\n",
              "      <th>V7</th>\n",
              "      <th>V8</th>\n",
              "      <th>V9</th>\n",
              "      <th>V10</th>\n",
              "      <th>V11</th>\n",
              "      <th>V12</th>\n",
              "      <th>V13</th>\n",
              "      <th>V14</th>\n",
              "      <th>V15</th>\n",
              "      <th>V16</th>\n",
              "      <th>V17</th>\n",
              "      <th>V18</th>\n",
              "      <th>V19</th>\n",
              "      <th>V20</th>\n",
              "      <th>V21</th>\n",
              "      <th>V22</th>\n",
              "      <th>V23</th>\n",
              "      <th>V24</th>\n",
              "      <th>V25</th>\n",
              "      <th>V26</th>\n",
              "      <th>V27</th>\n",
              "      <th>V28</th>\n",
              "      <th>Class</th>\n",
              "    </tr>\n",
              "  </thead>\n",
              "  <tbody>\n",
              "    <tr>\n",
              "      <th>89762</th>\n",
              "      <td>0.333002</td>\n",
              "      <td>-0.675977</td>\n",
              "      <td>0.873265</td>\n",
              "      <td>-0.359738</td>\n",
              "      <td>0.241868</td>\n",
              "      <td>1.187150</td>\n",
              "      <td>-0.405380</td>\n",
              "      <td>-0.147006</td>\n",
              "      <td>0.149326</td>\n",
              "      <td>0.013360</td>\n",
              "      <td>0.102270</td>\n",
              "      <td>-0.000191</td>\n",
              "      <td>0.742811</td>\n",
              "      <td>0.758834</td>\n",
              "      <td>-0.491500</td>\n",
              "      <td>0.418095</td>\n",
              "      <td>-0.387017</td>\n",
              "      <td>0.177568</td>\n",
              "      <td>-0.535950</td>\n",
              "      <td>0.229635</td>\n",
              "      <td>0.293622</td>\n",
              "      <td>0.179797</td>\n",
              "      <td>-0.084133</td>\n",
              "      <td>-0.552724</td>\n",
              "      <td>-0.175476</td>\n",
              "      <td>-0.015240</td>\n",
              "      <td>0.471346</td>\n",
              "      <td>-0.526568</td>\n",
              "      <td>-0.008965</td>\n",
              "      <td>0.040073</td>\n",
              "      <td>0</td>\n",
              "    </tr>\n",
              "    <tr>\n",
              "      <th>52521</th>\n",
              "      <td>0.070528</td>\n",
              "      <td>-1.038426</td>\n",
              "      <td>1.001992</td>\n",
              "      <td>0.047938</td>\n",
              "      <td>-0.349002</td>\n",
              "      <td>1.493958</td>\n",
              "      <td>0.186939</td>\n",
              "      <td>0.190966</td>\n",
              "      <td>-0.001112</td>\n",
              "      <td>0.147140</td>\n",
              "      <td>0.580415</td>\n",
              "      <td>-0.792938</td>\n",
              "      <td>-0.984172</td>\n",
              "      <td>-0.567380</td>\n",
              "      <td>-1.105592</td>\n",
              "      <td>-1.381214</td>\n",
              "      <td>0.405490</td>\n",
              "      <td>0.279890</td>\n",
              "      <td>1.132160</td>\n",
              "      <td>0.092993</td>\n",
              "      <td>-0.298920</td>\n",
              "      <td>0.016004</td>\n",
              "      <td>-0.334417</td>\n",
              "      <td>-1.014315</td>\n",
              "      <td>-0.128427</td>\n",
              "      <td>-0.946242</td>\n",
              "      <td>0.456090</td>\n",
              "      <td>-0.453206</td>\n",
              "      <td>0.046627</td>\n",
              "      <td>0.064698</td>\n",
              "      <td>1</td>\n",
              "    </tr>\n",
              "    <tr>\n",
              "      <th>236295</th>\n",
              "      <td>0.222495</td>\n",
              "      <td>1.135825</td>\n",
              "      <td>1.788039</td>\n",
              "      <td>-0.370260</td>\n",
              "      <td>-3.430814</td>\n",
              "      <td>0.221214</td>\n",
              "      <td>2.959736</td>\n",
              "      <td>3.080203</td>\n",
              "      <td>0.356240</td>\n",
              "      <td>0.545837</td>\n",
              "      <td>-0.320645</td>\n",
              "      <td>0.327870</td>\n",
              "      <td>0.006648</td>\n",
              "      <td>0.172542</td>\n",
              "      <td>-0.275243</td>\n",
              "      <td>1.044542</td>\n",
              "      <td>0.620192</td>\n",
              "      <td>-0.465990</td>\n",
              "      <td>-0.519509</td>\n",
              "      <td>-0.513290</td>\n",
              "      <td>-0.552896</td>\n",
              "      <td>0.074367</td>\n",
              "      <td>0.203311</td>\n",
              "      <td>0.265828</td>\n",
              "      <td>-0.096829</td>\n",
              "      <td>0.707892</td>\n",
              "      <td>0.458849</td>\n",
              "      <td>-0.478324</td>\n",
              "      <td>-0.039307</td>\n",
              "      <td>-0.045731</td>\n",
              "      <td>0</td>\n",
              "    </tr>\n",
              "    <tr>\n",
              "      <th>237426</th>\n",
              "      <td>-0.349231</td>\n",
              "      <td>1.146017</td>\n",
              "      <td>-1.370976</td>\n",
              "      <td>-0.025465</td>\n",
              "      <td>-2.774907</td>\n",
              "      <td>2.650530</td>\n",
              "      <td>4.511309</td>\n",
              "      <td>-3.289344</td>\n",
              "      <td>-0.118841</td>\n",
              "      <td>-0.014279</td>\n",
              "      <td>-0.932773</td>\n",
              "      <td>-2.637442</td>\n",
              "      <td>2.858777</td>\n",
              "      <td>-0.553180</td>\n",
              "      <td>-0.758492</td>\n",
              "      <td>-6.455029</td>\n",
              "      <td>-0.154021</td>\n",
              "      <td>1.323833</td>\n",
              "      <td>5.580209</td>\n",
              "      <td>3.293688</td>\n",
              "      <td>-0.137694</td>\n",
              "      <td>0.701292</td>\n",
              "      <td>-0.048061</td>\n",
              "      <td>-0.599350</td>\n",
              "      <td>0.072193</td>\n",
              "      <td>-0.600351</td>\n",
              "      <td>0.371331</td>\n",
              "      <td>-0.370951</td>\n",
              "      <td>0.011970</td>\n",
              "      <td>0.145895</td>\n",
              "      <td>1</td>\n",
              "    </tr>\n",
              "    <tr>\n",
              "      <th>64329</th>\n",
              "      <td>0.046539</td>\n",
              "      <td>-0.920270</td>\n",
              "      <td>-9.848776</td>\n",
              "      <td>7.365546</td>\n",
              "      <td>-12.898538</td>\n",
              "      <td>4.273323</td>\n",
              "      <td>-7.611991</td>\n",
              "      <td>-3.427045</td>\n",
              "      <td>-8.350808</td>\n",
              "      <td>6.863604</td>\n",
              "      <td>-2.387567</td>\n",
              "      <td>-6.065782</td>\n",
              "      <td>2.707856</td>\n",
              "      <td>-6.136034</td>\n",
              "      <td>-0.545976</td>\n",
              "      <td>-7.028980</td>\n",
              "      <td>0.916069</td>\n",
              "      <td>-4.092884</td>\n",
              "      <td>-7.014622</td>\n",
              "      <td>-2.530967</td>\n",
              "      <td>0.554027</td>\n",
              "      <td>0.832398</td>\n",
              "      <td>0.931958</td>\n",
              "      <td>-0.874467</td>\n",
              "      <td>-0.192639</td>\n",
              "      <td>-0.035426</td>\n",
              "      <td>0.538665</td>\n",
              "      <td>-0.263934</td>\n",
              "      <td>1.134095</td>\n",
              "      <td>0.225973</td>\n",
              "      <td>1</td>\n",
              "    </tr>\n",
              "  </tbody>\n",
              "</table>\n",
              "</div>"
            ],
            "text/plain": [
              "        scaled_amount  scaled_time        V1  ...       V27       V28  Class\n",
              "89762        0.333002    -0.675977  0.873265  ... -0.008965  0.040073      0\n",
              "52521        0.070528    -1.038426  1.001992  ...  0.046627  0.064698      1\n",
              "236295       0.222495     1.135825  1.788039  ... -0.039307 -0.045731      0\n",
              "237426      -0.349231     1.146017 -1.370976  ...  0.011970  0.145895      1\n",
              "64329        0.046539    -0.920270 -9.848776  ...  1.134095  0.225973      1\n",
              "\n",
              "[5 rows x 31 columns]"
            ]
          },
          "metadata": {
            "tags": []
          },
          "execution_count": 16
        }
      ]
    },
    {
      "cell_type": "code",
      "metadata": {
        "colab": {
          "base_uri": "https://localhost:8080/",
          "height": 420
        },
        "id": "_r05wkd2pu18",
        "outputId": "15385613-9934-48f8-b9f3-a27b96e66703"
      },
      "source": [
        "print('Distribution of the Classes in the subsample dataset')\n",
        "print(new_df['Class'].value_counts()/len(new_df))\n",
        "sns.countplot('Class', data=new_df)\n",
        "plt.title('Equally Distributed Classes', fontsize=14)\n",
        "plt.show()"
      ],
      "execution_count": 17,
      "outputs": [
        {
          "output_type": "stream",
          "text": [
            "Distribution of the Classes in the subsample dataset\n",
            "1    0.5\n",
            "0    0.5\n",
            "Name: Class, dtype: float64\n"
          ],
          "name": "stdout"
        },
        {
          "output_type": "stream",
          "text": [
            "/usr/local/lib/python3.7/dist-packages/seaborn/_decorators.py:43: FutureWarning: Pass the following variable as a keyword arg: x. From version 0.12, the only valid positional argument will be `data`, and passing other arguments without an explicit keyword will result in an error or misinterpretation.\n",
            "  FutureWarning\n"
          ],
          "name": "stderr"
        },
        {
          "output_type": "display_data",
          "data": {
            "image/png": "[encoded data removed]",
            "text/plain": [
              "<Figure size 432x288 with 1 Axes>"
            ]
          },
          "metadata": {
            "tags": [],
            "needs_background": "light"
          }
        }
      ]
    },
    {
      "cell_type": "markdown",
      "metadata": {
        "id": "Jr8ojuitqHG0"
      },
      "source": [
        "Correlation matrix"
      ]
    },
    {
      "cell_type": "code",
      "metadata": {
        "colab": {
          "base_uri": "https://localhost:8080/",
          "height": 374
        },
        "id": "3FL4yr2Tp9lT",
        "outputId": "1549c52d-64d6-413e-b7b4-0ff9d35828c0"
      },
      "source": [
        "sub_sample_corr = new_df.corr()\n",
        "sns.heatmap(sub_sample_corr, cmap='coolwarm_r', annot_kws={'size':20}).set_title('SubSample Correlation Matrix \\n', fontsize=10)\n",
        "plt.figure(figsize=(20,20))\n",
        "plt.show()"
      ],
      "execution_count": 18,
      "outputs": [
        {
          "output_type": "display_data",
          "data": {
            "image/png": "[encoded data removed]",
            "text/plain": [
              "<Figure size 432x288 with 2 Axes>"
            ]
          },
          "metadata": {
            "tags": [],
            "needs_background": "light"
          }
        },
        {
          "output_type": "display_data",
          "data": {
            "text/plain": [
              "<Figure size 1440x1440 with 0 Axes>"
            ]
          },
          "metadata": {
            "tags": []
          }
        }
      ]
    },
    {
      "cell_type": "markdown",
      "metadata": {
        "id": "HvR495YDrV6k"
      },
      "source": [
        "Observation: V17, V14, V12 and V10 are negatively correlated. Notice how the lower these values are, the more likely the end result will be a fraud transaction.\n",
        "\n",
        "V2, V4, V11, and V19 are positively correlated. Notice how the higher these values are, the more likely the end result will be a fraud transaction."
      ]
    },
    {
      "cell_type": "markdown",
      "metadata": {
        "id": "ZuUbvdc1spbo"
      },
      "source": [
        "Boxplot"
      ]
    },
    {
      "cell_type": "code",
      "metadata": {
        "colab": {
          "base_uri": "https://localhost:8080/",
          "height": 280
        },
        "id": "L60EEfx7qSrA",
        "outputId": "a092e3ab-37e4-400f-ef4d-8ef94c2f64ef"
      },
      "source": [
        "f, axes = plt.subplots(ncols=4, figsize=(20,4))\n",
        "\n",
        "# Negative Correlations with our Class (The lower our feature value the more likely it will be a fraud transaction)\n",
        "sns.boxplot(x=\"Class\", y=\"V17\", data=new_df, ax=axes[0])\n",
        "axes[0].set_title('V17 vs Class')\n",
        "\n",
        "sns.boxplot(x=\"Class\", y=\"V14\", data=new_df, ax=axes[1])\n",
        "axes[1].set_title('V14 vs Class')\n",
        "\n",
        "\n",
        "sns.boxplot(x=\"Class\", y=\"V12\", data=new_df, ax=axes[2])\n",
        "axes[2].set_title('V12 vs Class')\n",
        "\n",
        "\n",
        "sns.boxplot(x=\"Class\", y=\"V10\", data=new_df, ax=axes[3])\n",
        "axes[3].set_title('V10 vs Class')\n",
        "\n",
        "plt.show()"
      ],
      "execution_count": 19,
      "outputs": [
        {
          "output_type": "display_data",
          "data": {
            "image/png": "[encoded data removed]",
            "text/plain": [
              "<Figure size 1440x288 with 4 Axes>"
            ]
          },
          "metadata": {
            "tags": [],
            "needs_background": "light"
          }
        }
      ]
    },
    {
      "cell_type": "code",
      "metadata": {
        "colab": {
          "base_uri": "https://localhost:8080/",
          "height": 280
        },
        "id": "7lo7cBVGs8Q6",
        "outputId": "88a62889-ee96-41d6-f24b-e5fa74360af7"
      },
      "source": [
        "f, axes = plt.subplots(ncols=3, figsize=(20,4))\n",
        "\n",
        "# Negative Correlations with our Class (The lower our feature value the more likely it will be a fraud transaction)\n",
        "sns.boxplot(x=\"Class\", y=\"V2\", data=new_df, ax=axes[0])\n",
        "axes[0].set_title('V17 vs Class')\n",
        "\n",
        "sns.boxplot(x=\"Class\", y=\"V4\", data=new_df, ax=axes[1])\n",
        "axes[1].set_title('V14 vs Class')\n",
        "\n",
        "\n",
        "sns.boxplot(x=\"Class\", y=\"V11\", data=new_df, ax=axes[2])\n",
        "axes[2].set_title('V12 vs Class')\n",
        "\n",
        "plt.show()"
      ],
      "execution_count": 20,
      "outputs": [
        {
          "output_type": "display_data",
          "data": {
            "image/png": "[encoded data removed]",
            "text/plain": [
              "<Figure size 1440x288 with 3 Axes>"
            ]
          },
          "metadata": {
            "tags": [],
            "needs_background": "light"
          }
        }
      ]
    },
    {
      "cell_type": "markdown",
      "metadata": {
        "id": "puPdEy4Hv-xf"
      },
      "source": [
        "Model Building"
      ]
    },
    {
      "cell_type": "markdown",
      "metadata": {
        "id": "hYoqbOAtwe3A"
      },
      "source": [
        "Here I would using Logistic Regression, SVM, and Random Forest to train under-sample data"
      ]
    },
    {
      "cell_type": "code",
      "metadata": {
        "colab": {
          "base_uri": "https://localhost:8080/"
        },
        "id": "BWHe_16ytHNp",
        "outputId": "b4e2b56c-8c22-4cf5-9f68-77e352cc4e25"
      },
      "source": [
        "#Split the data into train and test sets\n",
        "from sklearn.model_selection import train_test_split\n",
        "\n",
        "#import Stratified K-fold for imbalanced data\n",
        "from sklearn.model_selection import StratifiedKFold\n",
        "\n",
        "X_new = new_df.iloc[:,:-1]\n",
        "y_new = new_df.iloc[:,-1]\n",
        "\n",
        "skf= StratifiedKFold(n_splits=3, random_state=None, shuffle=False)\n",
        "for train_index, test_index in skf.split(X_new, y_new):\n",
        "     X_train_new, X_test_new = X_new.iloc[train_index], X_new.iloc[test_index]\n",
        "     y_train_new, y_test_new = y_new.iloc[train_index], y_new.iloc[test_index]\n",
        "\n",
        "print(X_train_new.shape)\n",
        "print(X_test_new.shape)\n",
        "\n",
        "train_unique_label, train_counts_label = np.unique(y_train_new, return_counts=True)\n",
        "test_unique_label, test_counts_label = np.unique(y_test_new, return_counts=True)\n",
        "print('-' * 50)\n",
        "\n",
        "print('Label Distributions: \\n')\n",
        "print(train_counts_label/ len(y_train_new))\n",
        "print(test_counts_label/ len(y_test_new))"
      ],
      "execution_count": 90,
      "outputs": [
        {
          "output_type": "stream",
          "text": [
            "(656, 30)\n",
            "(328, 30)\n",
            "--------------------------------------------------\n",
            "Label Distributions: \n",
            "\n",
            "[0.5 0.5]\n",
            "[0.5 0.5]\n"
          ],
          "name": "stdout"
        }
      ]
    },
    {
      "cell_type": "code",
      "metadata": {
        "id": "pz81UNHoyrzB"
      },
      "source": [
        "# Import Classifiers\n",
        "from sklearn.linear_model import LogisticRegression\n",
        "from sklearn.svm import SVC\n",
        "from sklearn.ensemble import RandomForestClassifier \n",
        "\n",
        "#Evaluation Metrics\n",
        "from sklearn.metrics import precision_score, recall_score, f1_score, roc_auc_score, accuracy_score, classification_report\n",
        "\n",
        "# to perform hyperparameter tuning\n",
        "from sklearn.model_selection import GridSearchCV"
      ],
      "execution_count": 91,
      "outputs": []
    },
    {
      "cell_type": "markdown",
      "metadata": {
        "id": "4wr1E3wNJpAo"
      },
      "source": [
        "Logistic Regression"
      ]
    },
    {
      "cell_type": "code",
      "metadata": {
        "id": "AKoH5s5DFWYH",
        "colab": {
          "base_uri": "https://localhost:8080/"
        },
        "outputId": "a2bce7c7-1a9c-4771-f0df-eda889113d00"
      },
      "source": [
        "tuned_params = {'penalty': ['l1','l2'], 'C': [0.001,0.01,0.1,1,10,100,1000]\n",
        "                }\n",
        "model = GridSearchCV(LogisticRegression(), tuned_params, cv=skf, n_jobs=-1)\n",
        "model.fit(X_train_new, y_train_new)\n",
        "print(model.best_score_)"
      ],
      "execution_count": 92,
      "outputs": [
        {
          "output_type": "stream",
          "text": [
            "0.9390194517755157\n"
          ],
          "name": "stdout"
        }
      ]
    },
    {
      "cell_type": "code",
      "metadata": {
        "colab": {
          "base_uri": "https://localhost:8080/"
        },
        "id": "RVSVCh8BIOA3",
        "outputId": "978bc970-504b-43f8-9952-5080c5cf3a22"
      },
      "source": [
        "model.best_estimator_"
      ],
      "execution_count": 93,
      "outputs": [
        {
          "output_type": "execute_result",
          "data": {
            "text/plain": [
              "LogisticRegression(C=0.1, class_weight=None, dual=False, fit_intercept=True,\n",
              "                   intercept_scaling=1, l1_ratio=None, max_iter=100,\n",
              "                   multi_class='auto', n_jobs=None, penalty='l2',\n",
              "                   random_state=None, solver='lbfgs', tol=0.0001, verbose=0,\n",
              "                   warm_start=False)"
            ]
          },
          "metadata": {
            "tags": []
          },
          "execution_count": 93
        }
      ]
    },
    {
      "cell_type": "code",
      "metadata": {
        "colab": {
          "base_uri": "https://localhost:8080/"
        },
        "id": "nHNPySw9xDZU",
        "outputId": "6fac3ac0-bdab-495f-cd64-3276ea418c26"
      },
      "source": [
        "clf = model.best_estimator_\n",
        "clf.fit(X_train_new, y_train_new)\n",
        "\n",
        "predictions = clf.predict(X_test_new)\n",
        "accuracy_score_lr = accuracy_score(y_test_new, predictions)\n",
        "recall_score_lr = recall_score(y_test_new, predictions)\n",
        "precision_score_lr = precision_score(y_test_new, predictions)\n",
        "f1_score_lr = f1_score(y_test_new, predictions)\n",
        "print('Logistic Regression Result:')\n",
        "print('Accuracy Score: ', accuracy_score_lr)\n",
        "print('Recall: ', recall_score_lr)\n",
        "print('Precision: ', precision_score_lr)\n",
        "print('F1 Score:', f1_score_lr) "
      ],
      "execution_count": 94,
      "outputs": [
        {
          "output_type": "stream",
          "text": [
            "Logistic Regression Result:\n",
            "Accuracy Score:  0.9512195121951219\n",
            "Recall:  0.9146341463414634\n",
            "Precision:  0.9868421052631579\n",
            "F1 Score: 0.949367088607595\n"
          ],
          "name": "stdout"
        }
      ]
    },
    {
      "cell_type": "code",
      "metadata": {
        "colab": {
          "base_uri": "https://localhost:8080/",
          "height": 312
        },
        "id": "pfUGW-Hsx0li",
        "outputId": "b7721a6a-abbf-42b3-b0c7-738bf6c3d435"
      },
      "source": [
        "from sklearn.metrics import confusion_matrix\n",
        "cfn_matrix=confusion_matrix(y_test_new, predictions)\n",
        "\n",
        "sns.heatmap(cfn_matrix,cmap='coolwarm_r',linewidths=0.5,annot=True)\n",
        "plt.title('Confusion Matrix')\n",
        "plt.ylabel('Real Classes')\n",
        "plt.xlabel('Predicted Classes')"
      ],
      "execution_count": 95,
      "outputs": [
        {
          "output_type": "execute_result",
          "data": {
            "text/plain": [
              "Text(0.5, 15.0, 'Predicted Classes')"
            ]
          },
          "metadata": {
            "tags": []
          },
          "execution_count": 95
        },
        {
          "output_type": "display_data",
          "data": {
            "image/png": "[encoded data removed]",
            "text/plain": [
              "<Figure size 432x288 with 2 Axes>"
            ]
          },
          "metadata": {
            "tags": [],
            "needs_background": "light"
          }
        }
      ]
    },
    {
      "cell_type": "code",
      "metadata": {
        "colab": {
          "base_uri": "https://localhost:8080/"
        },
        "id": "Vlf8Drz_JsMw",
        "outputId": "2f954ae8-b4df-4f5f-b25b-75388b095509"
      },
      "source": [
        "print(classification_report(y_test_new, predictions))"
      ],
      "execution_count": 96,
      "outputs": [
        {
          "output_type": "stream",
          "text": [
            "              precision    recall  f1-score   support\n",
            "\n",
            "           0       0.92      0.99      0.95       164\n",
            "           1       0.99      0.91      0.95       164\n",
            "\n",
            "    accuracy                           0.95       328\n",
            "   macro avg       0.95      0.95      0.95       328\n",
            "weighted avg       0.95      0.95      0.95       328\n",
            "\n"
          ],
          "name": "stdout"
        }
      ]
    },
    {
      "cell_type": "code",
      "metadata": {
        "id": "dasovaWhHH8_"
      },
      "source": [
        "from sklearn.metrics import precision_recall_fscore_support, roc_curve, auc\n",
        "# calculate the fpr and tpr for all thresholds of the classification\n",
        "def plot_roc_curve(y_test, preds):\n",
        "    fpr, tpr, threshold = roc_curve(y_test, preds)\n",
        "    roc_auc = auc(fpr, tpr)\n",
        "    plt.title('Receiver Operating Characteristic')\n",
        "    plt.plot(fpr, tpr, 'b', label = 'AUC = %0.2f' % roc_auc)\n",
        "    plt.legend(loc = 'lower right')\n",
        "    plt.plot([0, 1], [0, 1],'r--')\n",
        "    plt.xlim([-0.01, 1.01])\n",
        "    plt.ylim([-0.01, 1.01])\n",
        "    plt.ylabel('True Positive Rate')\n",
        "    plt.xlabel('False Positive Rate')\n",
        "    plt.show()"
      ],
      "execution_count": 97,
      "outputs": []
    },
    {
      "cell_type": "code",
      "metadata": {
        "id": "WQMNxC6Iyxvn",
        "colab": {
          "base_uri": "https://localhost:8080/",
          "height": 295
        },
        "outputId": "9400c5fd-f0a6-448d-d4aa-a58836e5b9ee"
      },
      "source": [
        "plot_roc_curve(y_test_new, predictions)"
      ],
      "execution_count": 98,
      "outputs": [
        {
          "output_type": "display_data",
          "data": {
            "image/png": "[encoded data removed]",
            "text/plain": [
              "<Figure size 432x288 with 1 Axes>"
            ]
          },
          "metadata": {
            "tags": [],
            "needs_background": "light"
          }
        }
      ]
    },
    {
      "cell_type": "markdown",
      "metadata": {
        "id": "HvgpjVFWJ91u"
      },
      "source": [
        "SVM"
      ]
    },
    {
      "cell_type": "code",
      "metadata": {
        "colab": {
          "base_uri": "https://localhost:8080/"
        },
        "id": "P_ZuZd9XJdeP",
        "outputId": "3b043db7-1fb5-4ad7-b23a-0fe504add8df"
      },
      "source": [
        "tuned_params = {'C': [0.1, 1, 10, 100, 1000], \n",
        "              'gamma': [1, 0.1, 0.01, 0.001, 0.0001],\n",
        "              'kernel': ['rbf','linear','sigmoid']\n",
        "                }\n",
        "model = GridSearchCV(SVC(), tuned_params, cv=skf, n_jobs=-1)\n",
        "model.fit(X_train_new, y_train_new)\n",
        "print(model.best_score_)"
      ],
      "execution_count": 120,
      "outputs": [
        {
          "output_type": "stream",
          "text": [
            "0.9405345398181894\n"
          ],
          "name": "stdout"
        }
      ]
    },
    {
      "cell_type": "code",
      "metadata": {
        "colab": {
          "base_uri": "https://localhost:8080/"
        },
        "id": "s_RyDqwvKnOe",
        "outputId": "ffe01d69-081f-425f-bc31-71a9055a205e"
      },
      "source": [
        "model.best_estimator_"
      ],
      "execution_count": 121,
      "outputs": [
        {
          "output_type": "execute_result",
          "data": {
            "text/plain": [
              "SVC(C=0.1, break_ties=False, cache_size=200, class_weight=None, coef0=0.0,\n",
              "    decision_function_shape='ovr', degree=3, gamma=1, kernel='linear',\n",
              "    max_iter=-1, probability=False, random_state=None, shrinking=True,\n",
              "    tol=0.001, verbose=False)"
            ]
          },
          "metadata": {
            "tags": []
          },
          "execution_count": 121
        }
      ]
    },
    {
      "cell_type": "code",
      "metadata": {
        "colab": {
          "base_uri": "https://localhost:8080/"
        },
        "id": "S9eRYr5mKxP4",
        "outputId": "831fb21c-1034-483b-8c99-ca493ee1188e"
      },
      "source": [
        "clf = model.best_estimator_\n",
        "clf.fit(X_train_new, y_train_new)\n",
        "\n",
        "predictions = clf.predict(X_test_new)\n",
        "accuracy_score_sv = accuracy_score(y_test_new, predictions)\n",
        "recall_score_sv = recall_score(y_test_new, predictions)\n",
        "precision_score_sv = precision_score(y_test_new, predictions)\n",
        "f1_score_sv = f1_score(y_test_new, predictions)\n",
        "print('SVM Result:')\n",
        "print('Accuracy Score: ', accuracy_score_sv)\n",
        "print('Recall: ', recall_score_sv)\n",
        "print('Precision: ', precision_score_sv)\n",
        "print('F1 Score:', f1_score_sv) "
      ],
      "execution_count": 122,
      "outputs": [
        {
          "output_type": "stream",
          "text": [
            "SVM Result:\n",
            "Accuracy Score:  0.9451219512195121\n",
            "Recall:  0.9085365853658537\n",
            "Precision:  0.9802631578947368\n",
            "F1 Score: 0.9430379746835442\n"
          ],
          "name": "stdout"
        }
      ]
    },
    {
      "cell_type": "code",
      "metadata": {
        "colab": {
          "base_uri": "https://localhost:8080/",
          "height": 312
        },
        "id": "58TP3gSHLs0G",
        "outputId": "ad83d50b-a1b8-4dbc-9efc-b7a1310f8b33"
      },
      "source": [
        "from sklearn.metrics import confusion_matrix\n",
        "cfn_matrix=confusion_matrix(y_test_new, predictions)\n",
        "\n",
        "sns.heatmap(cfn_matrix,cmap='coolwarm_r',linewidths=0.5,annot=True)\n",
        "plt.title('Confusion Matrix')\n",
        "plt.ylabel('Real Classes')\n",
        "plt.xlabel('Predicted Classes')"
      ],
      "execution_count": 123,
      "outputs": [
        {
          "output_type": "execute_result",
          "data": {
            "text/plain": [
              "Text(0.5, 15.0, 'Predicted Classes')"
            ]
          },
          "metadata": {
            "tags": []
          },
          "execution_count": 123
        },
        {
          "output_type": "display_data",
          "data": {
            "image/png": "[encoded data removed]",
            "text/plain": [
              "<Figure size 432x288 with 2 Axes>"
            ]
          },
          "metadata": {
            "tags": [],
            "needs_background": "light"
          }
        }
      ]
    },
    {
      "cell_type": "code",
      "metadata": {
        "colab": {
          "base_uri": "https://localhost:8080/"
        },
        "id": "sX6whM0YLCxV",
        "outputId": "395ab624-d04b-4338-aaee-962b3741cb24"
      },
      "source": [
        "print(classification_report(y_test_new, predictions))"
      ],
      "execution_count": 124,
      "outputs": [
        {
          "output_type": "stream",
          "text": [
            "              precision    recall  f1-score   support\n",
            "\n",
            "           0       0.91      0.98      0.95       164\n",
            "           1       0.98      0.91      0.94       164\n",
            "\n",
            "    accuracy                           0.95       328\n",
            "   macro avg       0.95      0.95      0.95       328\n",
            "weighted avg       0.95      0.95      0.95       328\n",
            "\n"
          ],
          "name": "stdout"
        }
      ]
    },
    {
      "cell_type": "code",
      "metadata": {
        "colab": {
          "base_uri": "https://localhost:8080/",
          "height": 295
        },
        "id": "hROwywKQLDaw",
        "outputId": "5f65810d-8fcf-48ad-c3e5-10b183125712"
      },
      "source": [
        "plot_roc_curve(y_test_new, predictions)"
      ],
      "execution_count": 125,
      "outputs": [
        {
          "output_type": "display_data",
          "data": {
            "image/png": "[encoded data removed]",
            "text/plain": [
              "<Figure size 432x288 with 1 Axes>"
            ]
          },
          "metadata": {
            "tags": [],
            "needs_background": "light"
          }
        }
      ]
    },
    {
      "cell_type": "markdown",
      "metadata": {
        "id": "IR0r5aJ2L0hm"
      },
      "source": [
        "Random Forest"
      ]
    },
    {
      "cell_type": "code",
      "metadata": {
        "colab": {
          "base_uri": "https://localhost:8080/"
        },
        "id": "F-ofEqKILyp0",
        "outputId": "31a757ad-e6e9-4386-fe0e-a02c492af97f"
      },
      "source": [
        "tuned_params = {'n_estimators' : [100, 300, 500],\n",
        "                'max_depth' : [5, 8, 15, 25],\n",
        "                'min_samples_leaf' : [1, 2, 5] \n",
        "                }\n",
        "model = GridSearchCV(RandomForestClassifier(), tuned_params, cv=skf, n_jobs=-1)\n",
        "model.fit(X_train_new, y_train_new)\n",
        "print(model.best_score_)"
      ],
      "execution_count": 126,
      "outputs": [
        {
          "output_type": "stream",
          "text": [
            "0.9390194517755157\n"
          ],
          "name": "stdout"
        }
      ]
    },
    {
      "cell_type": "code",
      "metadata": {
        "colab": {
          "base_uri": "https://localhost:8080/"
        },
        "id": "JIeWXpllMSIY",
        "outputId": "1aeaee26-8577-4968-b7e2-2dcd43365fcc"
      },
      "source": [
        "model.best_estimator_"
      ],
      "execution_count": 127,
      "outputs": [
        {
          "output_type": "execute_result",
          "data": {
            "text/plain": [
              "RandomForestClassifier(bootstrap=True, ccp_alpha=0.0, class_weight=None,\n",
              "                       criterion='gini', max_depth=25, max_features='auto',\n",
              "                       max_leaf_nodes=None, max_samples=None,\n",
              "                       min_impurity_decrease=0.0, min_impurity_split=None,\n",
              "                       min_samples_leaf=1, min_samples_split=2,\n",
              "                       min_weight_fraction_leaf=0.0, n_estimators=300,\n",
              "                       n_jobs=None, oob_score=False, random_state=None,\n",
              "                       verbose=0, warm_start=False)"
            ]
          },
          "metadata": {
            "tags": []
          },
          "execution_count": 127
        }
      ]
    },
    {
      "cell_type": "code",
      "metadata": {
        "colab": {
          "base_uri": "https://localhost:8080/"
        },
        "id": "I2N4MYyhMkgI",
        "outputId": "c941fbcb-4715-4c24-d4df-56349030a571"
      },
      "source": [
        "clf = model.best_estimator_\n",
        "\n",
        "predictions = clf.predict(X_test_new)\n",
        "accuracy_score_rf = accuracy_score(y_test_new, predictions)\n",
        "recall_score_rf = recall_score(y_test_new, predictions)\n",
        "precision_score_rf = precision_score(y_test_new, predictions)\n",
        "f1_score_rf = f1_score(y_test_new, predictions)\n",
        "print('Random Forest Result:')\n",
        "print('Accuracy Score: ', accuracy_score_rf)\n",
        "print('Recall: ', recall_score_rf)\n",
        "print('Precision: ', precision_score_rf)\n",
        "print('F1 Score:', f1_score_rf) "
      ],
      "execution_count": 128,
      "outputs": [
        {
          "output_type": "stream",
          "text": [
            "Random Forest Result:\n",
            "Accuracy Score:  0.948170731707317\n",
            "Recall:  0.9146341463414634\n",
            "Precision:  0.9803921568627451\n",
            "F1 Score: 0.9463722397476341\n"
          ],
          "name": "stdout"
        }
      ]
    },
    {
      "cell_type": "code",
      "metadata": {
        "colab": {
          "base_uri": "https://localhost:8080/",
          "height": 312
        },
        "id": "v5j9yKehMpQD",
        "outputId": "c5b2ccde-9559-4cd8-ac37-7f159c5742dd"
      },
      "source": [
        "from sklearn.metrics import confusion_matrix\n",
        "cfn_matrix=confusion_matrix(y_test_new, predictions)\n",
        "\n",
        "sns.heatmap(cfn_matrix,cmap='coolwarm_r',linewidths=0.5,annot=True)\n",
        "plt.title('Confusion Matrix')\n",
        "plt.ylabel('Real Classes')\n",
        "plt.xlabel('Predicted Classes')"
      ],
      "execution_count": 129,
      "outputs": [
        {
          "output_type": "execute_result",
          "data": {
            "text/plain": [
              "Text(0.5, 15.0, 'Predicted Classes')"
            ]
          },
          "metadata": {
            "tags": []
          },
          "execution_count": 129
        },
        {
          "output_type": "display_data",
          "data": {
            "image/png": "[encoded data removed]",
            "text/plain": [
              "<Figure size 432x288 with 2 Axes>"
            ]
          },
          "metadata": {
            "tags": [],
            "needs_background": "light"
          }
        }
      ]
    },
    {
      "cell_type": "code",
      "metadata": {
        "colab": {
          "base_uri": "https://localhost:8080/"
        },
        "id": "cAxmNkVQMr1u",
        "outputId": "4ced1379-419b-442d-e636-ec85c78f3b11"
      },
      "source": [
        "print(classification_report(y_test_new, predictions))"
      ],
      "execution_count": 130,
      "outputs": [
        {
          "output_type": "stream",
          "text": [
            "              precision    recall  f1-score   support\n",
            "\n",
            "           0       0.92      0.98      0.95       164\n",
            "           1       0.98      0.91      0.95       164\n",
            "\n",
            "    accuracy                           0.95       328\n",
            "   macro avg       0.95      0.95      0.95       328\n",
            "weighted avg       0.95      0.95      0.95       328\n",
            "\n"
          ],
          "name": "stdout"
        }
      ]
    },
    {
      "cell_type": "code",
      "metadata": {
        "colab": {
          "base_uri": "https://localhost:8080/",
          "height": 295
        },
        "id": "4fc_diaXMtrm",
        "outputId": "518b489d-2568-450b-a286-c442dc46123d"
      },
      "source": [
        "plot_roc_curve(y_test_new, predictions)"
      ],
      "execution_count": 131,
      "outputs": [
        {
          "output_type": "display_data",
          "data": {
            "image/png": "[encoded data removed]",
            "text/plain": [
              "<Figure size 432x288 with 1 Axes>"
            ]
          },
          "metadata": {
            "tags": [],
            "needs_background": "light"
          }
        }
      ]
    },
    {
      "cell_type": "markdown",
      "metadata": {
        "id": "bwO6ub-bdBbe"
      },
      "source": [
        "From these 3 models, we see that Logistic Regression is offering the highest recall, precision, f1-score and AUC on the generalised unseen data (UNDER-sample test set). "
      ]
    },
    {
      "cell_type": "markdown",
      "metadata": {
        "id": "_-KlLYXZeNSO"
      },
      "source": [
        "Let's try to apply Logistic to the whole data set (unseen data)"
      ]
    },
    {
      "cell_type": "code",
      "metadata": {
        "colab": {
          "base_uri": "https://localhost:8080/"
        },
        "id": "p-3F_0YqyOt_",
        "outputId": "35279c5f-5c41-4680-93dd-5e88c881b2ec"
      },
      "source": [
        "test=data[~data.isin(X_train_new)].dropna()\n",
        "print('No Frauds:', test['Class'].value_counts()[0])\n",
        "print('Frauds:', test['Class'].value_counts()[1])\n",
        "X_test_whole=test.iloc[:,:-1]\n",
        "Y_test_whole=test.iloc[:,-1]"
      ],
      "execution_count": 115,
      "outputs": [
        {
          "output_type": "stream",
          "text": [
            "No Frauds: 283987\n",
            "Frauds: 164\n"
          ],
          "name": "stdout"
        }
      ]
    },
    {
      "cell_type": "code",
      "metadata": {
        "colab": {
          "base_uri": "https://localhost:8080/"
        },
        "id": "MmhyMKfLWZAq",
        "outputId": "95119a66-edc8-4764-a0ff-6e33e07525c6"
      },
      "source": [
        "clf =LogisticRegression(C=0.1, class_weight=None, dual=False, fit_intercept=True,\n",
        "                   intercept_scaling=1, l1_ratio=None, max_iter=100,\n",
        "                   multi_class='auto', n_jobs=None, penalty='l2',\n",
        "                   random_state=None, solver='lbfgs', tol=0.0001, verbose=0,\n",
        "                   warm_start=False)  \n",
        "clf.fit(X_train_new, y_train_new)\n",
        "\n",
        "predictions = clf.predict(X_test_whole)\n",
        "accuracy_score_lr_w = accuracy_score(Y_test_whole, predictions)\n",
        "recall_score_lr_w = recall_score(Y_test_whole, predictions)\n",
        "precision_score_lr_w = precision_score(Y_test_whole, predictions)\n",
        "f1_score_lr_w = f1_score(Y_test_whole, predictions)\n",
        "print('Logistic Regression Result:')\n",
        "print('Accuracy Score: ', accuracy_score_lr_w)\n",
        "print('Recall: ', recall_score_lr_w)\n",
        "print('Precision: ', precision_score_lr_w)\n",
        "print('F1 Score:', f1_score_lr_w) "
      ],
      "execution_count": 116,
      "outputs": [
        {
          "output_type": "stream",
          "text": [
            "Logistic Regression Result:\n",
            "Accuracy Score:  0.9745241086605361\n",
            "Recall:  0.9146341463414634\n",
            "Precision:  0.020338983050847456\n",
            "F1 Score: 0.03979307600477517\n"
          ],
          "name": "stdout"
        }
      ]
    },
    {
      "cell_type": "code",
      "metadata": {
        "colab": {
          "base_uri": "https://localhost:8080/",
          "height": 312
        },
        "id": "TRkfhEOBex6B",
        "outputId": "227df261-39fa-44ea-dc6f-0cd33ab7ea1a"
      },
      "source": [
        "from sklearn.metrics import confusion_matrix\n",
        "cfn_matrix=confusion_matrix(Y_test_whole, predictions)\n",
        "\n",
        "sns.heatmap(cfn_matrix,cmap='coolwarm_r',linewidths=0.5,annot=True)\n",
        "plt.title('Confusion Matrix')\n",
        "plt.ylabel('Real Classes')\n",
        "plt.xlabel('Predicted Classes')"
      ],
      "execution_count": 117,
      "outputs": [
        {
          "output_type": "execute_result",
          "data": {
            "text/plain": [
              "Text(0.5, 15.0, 'Predicted Classes')"
            ]
          },
          "metadata": {
            "tags": []
          },
          "execution_count": 117
        },
        {
          "output_type": "display_data",
          "data": {
            "image/png": "[encoded data removed]",
            "text/plain": [
              "<Figure size 432x288 with 2 Axes>"
            ]
          },
          "metadata": {
            "tags": [],
            "needs_background": "light"
          }
        }
      ]
    },
    {
      "cell_type": "code",
      "metadata": {
        "colab": {
          "base_uri": "https://localhost:8080/",
          "height": 295
        },
        "id": "uD8vlxZ8e7uv",
        "outputId": "7f164087-430f-4fa8-be20-dbc3ac010ecc"
      },
      "source": [
        "plot_roc_curve(Y_test_whole, predictions)"
      ],
      "execution_count": 118,
      "outputs": [
        {
          "output_type": "display_data",
          "data": {
            "image/png": "[encoded data removed]",
            "text/plain": [
              "<Figure size 432x288 with 1 Axes>"
            ]
          },
          "metadata": {
            "tags": [],
            "needs_background": "light"
          }
        }
      ]
    },
    {
      "cell_type": "markdown",
      "metadata": {
        "id": "5W4aW47jhfyX"
      },
      "source": [
        "Therefore, with the aim of this Fraud Detection is maximize the detection of fraudulent transactions, and also minimize the number of false positives;\n",
        "\n",
        "Our recall is 91.4% (do not miss a fraud transaction). But the number of false positives has still be high, OVER-Sampling method should be apply in the future. "
      ]
    }
  ]
}